{
 "cells": [
  {
   "cell_type": "markdown",
   "metadata": {},
   "source": [
    "# Wage Pressure Model"
   ]
  },
  {
   "cell_type": "markdown",
   "metadata": {},
   "source": [
    "## V2.11\n",
    "\n",
    "    1. Use +/-1, +/-3, +/-5 and 0 to quantify the Score changes\n",
    "    2. Get the mean from latest date for each column, and then scale the score change by different to the mean value.\n",
    "    3. Use ['CurrentStaffingScore', 'TurnoverScore', 'RecruitingScore',\n",
    "         'UnemploymentScore', 'KohlstoCountyCompScore', 'CountyScore',\n",
    "        'AcceptanceRateScore','ApplicantFlowScore']\n",
    "    4. Use K-Means and K-Modes Clustering with 5 Clusters\n",
    "    5. Use hierarchy clustering  with “from sklearn.cluster import AgglomerativeClustering”"
   ]
  },
  {
   "cell_type": "code",
   "execution_count": 1,
   "metadata": {
    "collapsed": true
   },
   "outputs": [],
   "source": [
    "import pandas as pd\n",
    "import numpy as np\n",
    "from matplotlib import pyplot as plt\n",
    "import re\n",
    "import math\n",
    "%matplotlib inline"
   ]
  },
  {
   "cell_type": "markdown",
   "metadata": {},
   "source": [
    "## Read in Dataset"
   ]
  },
  {
   "cell_type": "code",
   "execution_count": 2,
   "metadata": {
    "collapsed": true
   },
   "outputs": [],
   "source": [
    "df = pd.read_csv('2017 Wage Pressure Model_example.csv')\n",
    "location = pd.read_csv('Store_location_m.csv')\n",
    "\n",
    "def getZip(x):\n",
    "    \n",
    "    if len(x) <= 1:\n",
    "        return ''\n",
    "    elif len(x) < 5:\n",
    "        return '0' + str(x)\n",
    "    else:\n",
    "        return str(x[:5])\n",
    "\n",
    "location['zip'] = location['PSTL_CDE'].map(lambda x: getZip(x))\n",
    "location = location.rename(columns={'EI_LOC_ID':'Location'})"
   ]
  },
  {
   "cell_type": "code",
   "execution_count": 3,
   "metadata": {
    "collapsed": true
   },
   "outputs": [],
   "source": [
    "# location.zip.tolist()"
   ]
  },
  {
   "cell_type": "code",
   "execution_count": 4,
   "metadata": {
    "collapsed": true
   },
   "outputs": [],
   "source": [
    "names = df.columns.tolist()\n",
    "new_names = []\n",
    "for i in names:\n",
    "    t = re.findall(r'[a-zA-Z]+', i)\n",
    "    new_names.append(''.join(t))\n",
    "    \n",
    "for i,j in zip(names, new_names):\n",
    "    df.rename(columns={i:j}, inplace=True)"
   ]
  },
  {
   "cell_type": "code",
   "execution_count": 5,
   "metadata": {
    "collapsed": true
   },
   "outputs": [],
   "source": [
    "df_saved = df.copy(deep=True)\n",
    "changecolumns = ['CurrentStaffingScore', 'TurnoverScore', 'RecruitingScore',\n",
    "         'UnemploymentScore', 'KohlstoCountyCompScore', 'CountyScore',\n",
    "        'AcceptanceRateScore','ApplicantFlowScore']\n",
    "df = df[['Location','EFFDT'] + changecolumns]"
   ]
  },
  {
   "cell_type": "code",
   "execution_count": 6,
   "metadata": {},
   "outputs": [
    {
     "data": {
      "text/plain": [
       "Location                    0\n",
       "EFFDT                       0\n",
       "CurrentStaffingScore        1\n",
       "TurnoverScore               2\n",
       "RecruitingScore           103\n",
       "UnemploymentScore          66\n",
       "KohlstoCountyCompScore     68\n",
       "CountyScore                68\n",
       "AcceptanceRateScore       100\n",
       "ApplicantFlowScore        103\n",
       "dtype: int64"
      ]
     },
     "execution_count": 6,
     "metadata": {},
     "output_type": "execute_result"
    }
   ],
   "source": [
    "df.isnull().sum()"
   ]
  },
  {
   "cell_type": "code",
   "execution_count": 7,
   "metadata": {
    "collapsed": true
   },
   "outputs": [],
   "source": [
    "df4_saved = df_saved[df_saved['EFFDT'] == '1/27/18'].copy(deep=True)\n",
    "df = df.dropna()"
   ]
  },
  {
   "cell_type": "code",
   "execution_count": 8,
   "metadata": {},
   "outputs": [
    {
     "data": {
      "text/plain": [
       "Location                  4489\n",
       "EFFDT                     4489\n",
       "CurrentStaffingScore      4489\n",
       "TurnoverScore             4489\n",
       "RecruitingScore           4489\n",
       "UnemploymentScore         4489\n",
       "KohlstoCountyCompScore    4489\n",
       "CountyScore               4489\n",
       "AcceptanceRateScore       4489\n",
       "ApplicantFlowScore        4489\n",
       "dtype: int64"
      ]
     },
     "execution_count": 8,
     "metadata": {},
     "output_type": "execute_result"
    }
   ],
   "source": [
    "df.notnull().sum()"
   ]
  },
  {
   "cell_type": "code",
   "execution_count": 9,
   "metadata": {
    "collapsed": true
   },
   "outputs": [],
   "source": [
    "df1 = df[df['EFFDT'] == '4/1/17'].copy(deep=True)\n",
    "df2 = df[df['EFFDT'] == '7/29/17'].copy(deep=True)\n",
    "df3 = df[df['EFFDT'] == '10/28/17'].copy(deep=True)\n",
    "df4 = df[df['EFFDT'] == '1/27/18'].copy(deep=True)"
   ]
  },
  {
   "cell_type": "code",
   "execution_count": 10,
   "metadata": {
    "collapsed": true
   },
   "outputs": [],
   "source": [
    "for i in changecolumns:\n",
    "    df1.rename(columns={i:i+'1'}, inplace=True)\n",
    "    df2.rename(columns={i:i+'2'}, inplace=True)\n",
    "    df3.rename(columns={i:i+'3'}, inplace=True)\n",
    "    \n",
    "df1 = df1[['Location'] + [i+'1' for i in changecolumns]]\n",
    "df2 = df2[['Location'] + [i+'2' for i in changecolumns]]\n",
    "df3 = df3[['Location'] + [i+'3' for i in changecolumns]]\n",
    "df4 = df4[['Location'] + changecolumns]"
   ]
  },
  {
   "cell_type": "code",
   "execution_count": 11,
   "metadata": {
    "collapsed": true
   },
   "outputs": [],
   "source": [
    "df4 = df4.join(df1.set_index('Location'), on='Location')\n",
    "df4 = df4.join(df2.set_index('Location'), on='Location')\n",
    "df4 = df4.join(df3.set_index('Location'), on='Location')"
   ]
  },
  {
   "cell_type": "code",
   "execution_count": 12,
   "metadata": {
    "collapsed": true
   },
   "outputs": [],
   "source": [
    "df4 = df4.dropna()"
   ]
  },
  {
   "cell_type": "code",
   "execution_count": 13,
   "metadata": {
    "collapsed": true
   },
   "outputs": [],
   "source": [
    "# df4.notnull().sum()"
   ]
  },
  {
   "cell_type": "code",
   "execution_count": 14,
   "metadata": {
    "collapsed": true
   },
   "outputs": [],
   "source": [
    "def measureScore(*x):\n",
    "    \n",
    "    s = 0\n",
    "    \n",
    "    s += 1 if x[2] > x[1] else -1 if x[2] < x[1] else 0\n",
    "    s += 3 if x[3] > x[2] else -3 if x[3] < x[2] else 0 \n",
    "    s += 5 if x[0] > x[3] else -5 if x[0] < x[3] else 0\n",
    "    \n",
    "    return s\n",
    "    \n",
    "for i in changecolumns:\n",
    "    df4[i+'Measure'] = df4[[i, i+'1', i+'2', i+'3']].apply(lambda x: measureScore(*x), axis=1) "
   ]
  },
  {
   "cell_type": "code",
   "execution_count": 15,
   "metadata": {},
   "outputs": [
    {
     "data": {
      "text/html": [
       "<div>\n",
       "<style>\n",
       "    .dataframe thead tr:only-child th {\n",
       "        text-align: right;\n",
       "    }\n",
       "\n",
       "    .dataframe thead th {\n",
       "        text-align: left;\n",
       "    }\n",
       "\n",
       "    .dataframe tbody tr th {\n",
       "        vertical-align: top;\n",
       "    }\n",
       "</style>\n",
       "<table border=\"1\" class=\"dataframe\">\n",
       "  <thead>\n",
       "    <tr style=\"text-align: right;\">\n",
       "      <th></th>\n",
       "      <th>Location</th>\n",
       "      <th>CurrentStaffingScore</th>\n",
       "      <th>TurnoverScore</th>\n",
       "      <th>RecruitingScore</th>\n",
       "      <th>UnemploymentScore</th>\n",
       "      <th>KohlstoCountyCompScore</th>\n",
       "      <th>CountyScore</th>\n",
       "      <th>AcceptanceRateScore</th>\n",
       "      <th>ApplicantFlowScore</th>\n",
       "      <th>CurrentStaffingScore1</th>\n",
       "      <th>...</th>\n",
       "      <th>AcceptanceRateScore3</th>\n",
       "      <th>ApplicantFlowScore3</th>\n",
       "      <th>CurrentStaffingScoreMeasure</th>\n",
       "      <th>TurnoverScoreMeasure</th>\n",
       "      <th>RecruitingScoreMeasure</th>\n",
       "      <th>UnemploymentScoreMeasure</th>\n",
       "      <th>KohlstoCountyCompScoreMeasure</th>\n",
       "      <th>CountyScoreMeasure</th>\n",
       "      <th>AcceptanceRateScoreMeasure</th>\n",
       "      <th>ApplicantFlowScoreMeasure</th>\n",
       "    </tr>\n",
       "  </thead>\n",
       "  <tbody>\n",
       "    <tr>\n",
       "      <th>3445</th>\n",
       "      <td>7</td>\n",
       "      <td>1.0</td>\n",
       "      <td>4.0</td>\n",
       "      <td>2.4</td>\n",
       "      <td>4.0</td>\n",
       "      <td>3.0</td>\n",
       "      <td>3.5</td>\n",
       "      <td>2.0</td>\n",
       "      <td>3.0</td>\n",
       "      <td>1.0</td>\n",
       "      <td>...</td>\n",
       "      <td>1.0</td>\n",
       "      <td>3.0</td>\n",
       "      <td>0</td>\n",
       "      <td>3</td>\n",
       "      <td>2</td>\n",
       "      <td>-2</td>\n",
       "      <td>0</td>\n",
       "      <td>-2</td>\n",
       "      <td>2</td>\n",
       "      <td>3</td>\n",
       "    </tr>\n",
       "    <tr>\n",
       "      <th>3446</th>\n",
       "      <td>8</td>\n",
       "      <td>1.0</td>\n",
       "      <td>3.0</td>\n",
       "      <td>2.0</td>\n",
       "      <td>5.0</td>\n",
       "      <td>5.0</td>\n",
       "      <td>5.0</td>\n",
       "      <td>2.0</td>\n",
       "      <td>2.0</td>\n",
       "      <td>1.0</td>\n",
       "      <td>...</td>\n",
       "      <td>1.0</td>\n",
       "      <td>3.0</td>\n",
       "      <td>-2</td>\n",
       "      <td>-1</td>\n",
       "      <td>9</td>\n",
       "      <td>1</td>\n",
       "      <td>3</td>\n",
       "      <td>4</td>\n",
       "      <td>5</td>\n",
       "      <td>-1</td>\n",
       "    </tr>\n",
       "    <tr>\n",
       "      <th>3447</th>\n",
       "      <td>9</td>\n",
       "      <td>1.0</td>\n",
       "      <td>4.0</td>\n",
       "      <td>2.2</td>\n",
       "      <td>5.0</td>\n",
       "      <td>4.0</td>\n",
       "      <td>4.5</td>\n",
       "      <td>3.0</td>\n",
       "      <td>1.0</td>\n",
       "      <td>1.0</td>\n",
       "      <td>...</td>\n",
       "      <td>1.0</td>\n",
       "      <td>2.0</td>\n",
       "      <td>-2</td>\n",
       "      <td>0</td>\n",
       "      <td>1</td>\n",
       "      <td>1</td>\n",
       "      <td>3</td>\n",
       "      <td>4</td>\n",
       "      <td>1</td>\n",
       "      <td>-4</td>\n",
       "    </tr>\n",
       "    <tr>\n",
       "      <th>3448</th>\n",
       "      <td>10</td>\n",
       "      <td>1.0</td>\n",
       "      <td>2.0</td>\n",
       "      <td>2.6</td>\n",
       "      <td>4.0</td>\n",
       "      <td>3.0</td>\n",
       "      <td>3.5</td>\n",
       "      <td>3.0</td>\n",
       "      <td>2.0</td>\n",
       "      <td>1.0</td>\n",
       "      <td>...</td>\n",
       "      <td>1.0</td>\n",
       "      <td>3.0</td>\n",
       "      <td>-1</td>\n",
       "      <td>1</td>\n",
       "      <td>1</td>\n",
       "      <td>-2</td>\n",
       "      <td>3</td>\n",
       "      <td>1</td>\n",
       "      <td>1</td>\n",
       "      <td>-2</td>\n",
       "    </tr>\n",
       "    <tr>\n",
       "      <th>3449</th>\n",
       "      <td>11</td>\n",
       "      <td>1.0</td>\n",
       "      <td>3.0</td>\n",
       "      <td>2.0</td>\n",
       "      <td>3.0</td>\n",
       "      <td>3.0</td>\n",
       "      <td>3.0</td>\n",
       "      <td>2.0</td>\n",
       "      <td>2.0</td>\n",
       "      <td>2.0</td>\n",
       "      <td>...</td>\n",
       "      <td>1.0</td>\n",
       "      <td>2.0</td>\n",
       "      <td>-2</td>\n",
       "      <td>-1</td>\n",
       "      <td>1</td>\n",
       "      <td>-2</td>\n",
       "      <td>3</td>\n",
       "      <td>1</td>\n",
       "      <td>1</td>\n",
       "      <td>1</td>\n",
       "    </tr>\n",
       "  </tbody>\n",
       "</table>\n",
       "<p>5 rows × 41 columns</p>\n",
       "</div>"
      ],
      "text/plain": [
       "      Location  CurrentStaffingScore  TurnoverScore  RecruitingScore  \\\n",
       "3445         7                   1.0            4.0              2.4   \n",
       "3446         8                   1.0            3.0              2.0   \n",
       "3447         9                   1.0            4.0              2.2   \n",
       "3448        10                   1.0            2.0              2.6   \n",
       "3449        11                   1.0            3.0              2.0   \n",
       "\n",
       "      UnemploymentScore  KohlstoCountyCompScore  CountyScore  \\\n",
       "3445                4.0                     3.0          3.5   \n",
       "3446                5.0                     5.0          5.0   \n",
       "3447                5.0                     4.0          4.5   \n",
       "3448                4.0                     3.0          3.5   \n",
       "3449                3.0                     3.0          3.0   \n",
       "\n",
       "      AcceptanceRateScore  ApplicantFlowScore  CurrentStaffingScore1  \\\n",
       "3445                  2.0                 3.0                    1.0   \n",
       "3446                  2.0                 2.0                    1.0   \n",
       "3447                  3.0                 1.0                    1.0   \n",
       "3448                  3.0                 2.0                    1.0   \n",
       "3449                  2.0                 2.0                    2.0   \n",
       "\n",
       "                ...              AcceptanceRateScore3  ApplicantFlowScore3  \\\n",
       "3445            ...                               1.0                  3.0   \n",
       "3446            ...                               1.0                  3.0   \n",
       "3447            ...                               1.0                  2.0   \n",
       "3448            ...                               1.0                  3.0   \n",
       "3449            ...                               1.0                  2.0   \n",
       "\n",
       "      CurrentStaffingScoreMeasure  TurnoverScoreMeasure  \\\n",
       "3445                            0                     3   \n",
       "3446                           -2                    -1   \n",
       "3447                           -2                     0   \n",
       "3448                           -1                     1   \n",
       "3449                           -2                    -1   \n",
       "\n",
       "      RecruitingScoreMeasure  UnemploymentScoreMeasure  \\\n",
       "3445                       2                        -2   \n",
       "3446                       9                         1   \n",
       "3447                       1                         1   \n",
       "3448                       1                        -2   \n",
       "3449                       1                        -2   \n",
       "\n",
       "      KohlstoCountyCompScoreMeasure  CountyScoreMeasure  \\\n",
       "3445                              0                  -2   \n",
       "3446                              3                   4   \n",
       "3447                              3                   4   \n",
       "3448                              3                   1   \n",
       "3449                              3                   1   \n",
       "\n",
       "      AcceptanceRateScoreMeasure  ApplicantFlowScoreMeasure  \n",
       "3445                           2                          3  \n",
       "3446                           5                         -1  \n",
       "3447                           1                         -4  \n",
       "3448                           1                         -2  \n",
       "3449                           1                          1  \n",
       "\n",
       "[5 rows x 41 columns]"
      ]
     },
     "execution_count": 15,
     "metadata": {},
     "output_type": "execute_result"
    }
   ],
   "source": [
    "df4.head()"
   ]
  },
  {
   "cell_type": "code",
   "execution_count": 16,
   "metadata": {
    "collapsed": true
   },
   "outputs": [],
   "source": [
    "df_mean = {}\n",
    "for i in changecolumns:\n",
    "    df_mean[i] = int(df4[i].mean()*10) / 10"
   ]
  },
  {
   "cell_type": "code",
   "execution_count": 17,
   "metadata": {},
   "outputs": [
    {
     "data": {
      "text/plain": [
       "{'AcceptanceRateScore': 2.5,\n",
       " 'ApplicantFlowScore': 1.9,\n",
       " 'CountyScore': 3.7,\n",
       " 'CurrentStaffingScore': 1.1,\n",
       " 'KohlstoCountyCompScore': 3.4,\n",
       " 'RecruitingScore': 2.3,\n",
       " 'TurnoverScore': 2.7,\n",
       " 'UnemploymentScore': 4.1}"
      ]
     },
     "execution_count": 17,
     "metadata": {},
     "output_type": "execute_result"
    }
   ],
   "source": [
    "df_mean"
   ]
  },
  {
   "cell_type": "code",
   "execution_count": 18,
   "metadata": {
    "collapsed": true
   },
   "outputs": [],
   "source": [
    "def scaleScore(x1, x2, avg):\n",
    "    \n",
    "    diff = x2 - avg\n",
    "    if diff >= 0:\n",
    "        diff += 1\n",
    "    elif diff < 0:\n",
    "        diff -= -1\n",
    "        \n",
    "    return x1 * diff\n",
    "\n",
    "for i in changecolumns:\n",
    "    df4[i+'Scale'] = df4[[i+'Measure', i]].apply(lambda x: scaleScore(x1 = x[0], x2 = x[1], avg = df_mean[i]), axis=1)"
   ]
  },
  {
   "cell_type": "code",
   "execution_count": 19,
   "metadata": {
    "collapsed": true
   },
   "outputs": [],
   "source": [
    "df4 = df4[['Location'] + [i + 'Measure' for i in changecolumns] + [i + 'Scale' for i in changecolumns]]"
   ]
  },
  {
   "cell_type": "code",
   "execution_count": 20,
   "metadata": {},
   "outputs": [
    {
     "data": {
      "text/plain": [
       "Location                           int64\n",
       "CurrentStaffingScoreMeasure        int64\n",
       "TurnoverScoreMeasure               int64\n",
       "RecruitingScoreMeasure             int64\n",
       "UnemploymentScoreMeasure           int64\n",
       "KohlstoCountyCompScoreMeasure      int64\n",
       "CountyScoreMeasure                 int64\n",
       "AcceptanceRateScoreMeasure         int64\n",
       "ApplicantFlowScoreMeasure          int64\n",
       "CurrentStaffingScoreScale        float64\n",
       "TurnoverScoreScale               float64\n",
       "RecruitingScoreScale             float64\n",
       "UnemploymentScoreScale           float64\n",
       "KohlstoCountyCompScoreScale      float64\n",
       "CountyScoreScale                 float64\n",
       "AcceptanceRateScoreScale         float64\n",
       "ApplicantFlowScoreScale          float64\n",
       "dtype: object"
      ]
     },
     "execution_count": 20,
     "metadata": {},
     "output_type": "execute_result"
    }
   ],
   "source": [
    "df4.dtypes"
   ]
  },
  {
   "cell_type": "code",
   "execution_count": 21,
   "metadata": {},
   "outputs": [
    {
     "data": {
      "image/png": "[encoded data removed]",
      "text/plain": [
       "<matplotlib.figure.Figure at 0x11a52e860>"
      ]
     },
     "metadata": {},
     "output_type": "display_data"
    }
   ],
   "source": [
    "ax = plt.subplot(111)\n",
    "ax.scatter(df4['CurrentStaffingScoreScale'],df4['TurnoverScoreScale'])\n",
    "ax.set_xlabel('Staffing Change')\n",
    "ax.set_ylabel('Turnover Change')\n",
    "plt.savefig('StaffingTurnover_v2.11.png')"
   ]
  },
  {
   "cell_type": "code",
   "execution_count": 22,
   "metadata": {},
   "outputs": [
    {
     "data": {
      "text/html": [
       "<div>\n",
       "<style>\n",
       "    .dataframe thead tr:only-child th {\n",
       "        text-align: right;\n",
       "    }\n",
       "\n",
       "    .dataframe thead th {\n",
       "        text-align: left;\n",
       "    }\n",
       "\n",
       "    .dataframe tbody tr th {\n",
       "        vertical-align: top;\n",
       "    }\n",
       "</style>\n",
       "<table border=\"1\" class=\"dataframe\">\n",
       "  <thead>\n",
       "    <tr style=\"text-align: right;\">\n",
       "      <th></th>\n",
       "      <th>Location</th>\n",
       "      <th>LocationName</th>\n",
       "    </tr>\n",
       "  </thead>\n",
       "  <tbody>\n",
       "    <tr>\n",
       "      <th>4052</th>\n",
       "      <td>711</td>\n",
       "      <td>South Burlington</td>\n",
       "    </tr>\n",
       "  </tbody>\n",
       "</table>\n",
       "</div>"
      ],
      "text/plain": [
       "      Location      LocationName\n",
       "4052       711  South Burlington"
      ]
     },
     "execution_count": 22,
     "metadata": {},
     "output_type": "execute_result"
    }
   ],
   "source": [
    "# Print out stores.\n",
    "\n",
    "t_l = df4[df4['CurrentStaffingScoreScale'] < -18]['Location'].tolist()\n",
    "df4_saved[df4_saved['Location'].isin(t_l)][['Location', 'LocationName']]"
   ]
  },
  {
   "cell_type": "code",
   "execution_count": 23,
   "metadata": {},
   "outputs": [
    {
     "name": "stdout",
     "output_type": "stream",
     "text": [
      "The CurrentStaffingScoreScale values are:\n",
      "[-19.5, -13.3, -11.7, -11.6, -8.7, -8.1, -7.8, -7.6, -7.2, -6.2, -5.8, -5.6, -5.3, -4.5, -3.9, -3.8, -3.6, -2.9, -2.6, -1.9, -1.8, -0.9, 0.0, 1.9, 2.9, 3.8, 4.9, 5.6, 5.8, 7.6, 7.8, 8.7, 9.5, 11.6, 11.7, 14.5, 14.7, 15.6, 17.4, 19.5, 23.2, 27.3, 31.2, 34.3, 35.1]\n",
      "The TurnoverScoreScale values are:\n",
      "[-11.5, -9.2, -9.0, -6.9, -6.4, -5.1, -4.6, -3.8, -2.5, -2.3, -2.3, -2.0, -1.7, -1.4, -1.2, -1.1, -0.8, -0.5, -0.2, 0.0, 0.2, 0.5, 0.7, 0.8, 1.1, 1.2, 1.4, 2.1, 2.3, 2.5, 2.8, 3.3, 3.5, 3.8, 4.2, 4.6, 4.9, 5.1, 5.6, 6.3, 6.4, 6.6, 6.9, 9.0, 9.2, 9.8, 11.5, 13.2, 16.0, 16.5, 19.7, 23.0, 26.4]\n",
      "The RecruitingScoreScale values are:\n",
      "[-2.0, -0.9, -0.7, -0.6, -0.4, -0.3, -0.2, -0.1, 0.0, 0.1, 0.2, 0.2, 0.3, 0.4, 0.5, 0.5, 0.5, 0.6, 0.7, 0.8, 0.9, 0.9, 1.0, 1.1, 1.1, 1.2, 1.3, 1.4, 1.5, 1.5, 1.5, 1.7, 1.8, 1.9, 2.0, 2.1, 2.1, 2.1, 2.2, 2.3, 2.4, 2.5, 2.6, 2.7, 2.8, 2.9, 3.0, 3.0, 3.3, 3.4, 3.5, 3.8, 3.9, 4.0, 4.2, 4.2, 4.4, 4.5, 4.5, 4.6, 4.9, 5.1, 5.2, 5.5, 5.6, 5.7, 6.0, 6.3, 6.3, 6.3, 6.5, 6.6, 6.9, 7.5, 7.6, 7.7, 7.8, 8.7, 8.8, 9.1, 9.2, 9.9, 10.2, 10.4, 11.4, 11.9, 13.6, 15.3]\n",
      "The UnemploymentScoreScale values are:\n",
      "[-4.5, -3.6, -3.2, -2.7, -1.8, -1.0, -0.9, -0.3, -0.2, -0.1, 0.0, 0.0, 0.0, 0.1, 0.2, 0.3, 0.4, 0.6, 0.9, 1.0, 1.8, 1.9, 2.0, 2.1, 2.7, 3.6, 3.8, 4.1, 4.3, 4.5, 5.4, 5.7, 6.3, 7.2, 7.6, 7.6, 8.3, 9.5, 13.3, 15.2]\n",
      "The KohlstoCountyCompScoreScale values are:\n",
      "[-4.8, -1.8, -1.1, 0.0, 1.1, 1.8, 4.1, 4.8, 7.8]\n",
      "The CountyScoreScale values are:\n",
      "[-10.3, -9.0, -7.2, -6.4, -6.3, -5.5, -5.3, -5.1, -3.9, -3.8, -3.6, -3.1, -2.5, -2.3, -2.1, -2.0, -1.8, -1.5, -1.4, -1.2, -1.1, -0.8, -0.8, -0.7, -0.6, -0.5, -0.2, -0.2, 0.0, 0.2, 0.2, 0.4, 0.5, 0.7, 0.7, 0.8, 0.8, 1.0, 1.1, 1.2, 1.2, 1.4, 1.4, 1.4, 1.5, 1.8, 2.3, 2.3, 2.4, 2.5, 2.8, 3.1, 3.6, 3.8, 3.9, 4.6, 4.7, 4.8, 4.9, 5.1, 5.3, 6.3, 6.4, 6.9, 7.2, 9.0, 9.2, 10.3, 12.5, 14.4, 18.4]\n",
      "The AcceptanceRateScoreScale values are:\n",
      "[-1.5, -1.0, 0.0, 0.5, 1.0, 1.5, 2.0, 2.5, 3.0, 4.5, 5.0, 6.0, 7.0, 7.5, 10.0, 10.5, 12.5, 17.5]\n",
      "The ApplicantFlowScoreScale values are:\n",
      "[-5.5, -4.4, -3.3, -2.2, -1.1, -0.8, -0.6, -0.5, -0.4, -0.3, -0.2, -0.1, 0.0, 1.1, 2.1, 2.2, 3.3, 4.2, 4.4, 5.5, 6.3, 8.4, 10.5, 12.6, 14.7, 16.8]\n"
     ]
    }
   ],
   "source": [
    "for i in changecolumns:\n",
    "    print(\"The %s values are:\" % (i+'Scale')) \n",
    "    t = df4[i+'Scale'].unique().tolist()\n",
    "    t = [int(i * 10) / 10 for i in t]\n",
    "    print(sorted(t))"
   ]
  },
  {
   "cell_type": "code",
   "execution_count": 24,
   "metadata": {},
   "outputs": [
    {
     "data": {
      "text/plain": [
       "(array([  93.,  185.,  408.,  110.,   76.,   64.,   36.,   13.,   19.,   42.]),\n",
       " array([ -5.5 ,  -3.27,  -1.04,   1.19,   3.42,   5.65,   7.88,  10.11,\n",
       "         12.34,  14.57,  16.8 ]),\n",
       " <a list of 10 Patch objects>)"
      ]
     },
     "execution_count": 24,
     "metadata": {},
     "output_type": "execute_result"
    },
    {
     "data": {
      "image/png": "[encoded data removed]",
      "text/plain": [
       "<matplotlib.figure.Figure at 0x11ae4d550>"
      ]
     },
     "metadata": {},
     "output_type": "display_data"
    }
   ],
   "source": [
    "plt.hist(df4['ApplicantFlowScoreScale'], bins=10)"
   ]
  },
  {
   "cell_type": "code",
   "execution_count": 25,
   "metadata": {},
   "outputs": [
    {
     "data": {
      "text/plain": [
       "(array([   1.,    0.,    6.,   28.,   61.,   67.,    0.,  165.,   80.,\n",
       "         205.,   96.,   46.,    0.,  139.,   45.,   46.,   19.,   13.,   29.]),\n",
       " array([-8.        , -7.15789474, -6.31578947, -5.47368421, -4.63157895,\n",
       "        -3.78947368, -2.94736842, -2.10526316, -1.26315789, -0.42105263,\n",
       "         0.42105263,  1.26315789,  2.10526316,  2.94736842,  3.78947368,\n",
       "         4.63157895,  5.47368421,  6.31578947,  7.15789474,  8.        ]),\n",
       " <a list of 19 Patch objects>)"
      ]
     },
     "execution_count": 25,
     "metadata": {},
     "output_type": "execute_result"
    },
    {
     "data": {
      "image/png": "[encoded data removed]",
      "text/plain": [
       "<matplotlib.figure.Figure at 0x11ae16ac8>"
      ]
     },
     "metadata": {},
     "output_type": "display_data"
    }
   ],
   "source": [
    "plt.hist(df4['ApplicantFlowScoreMeasure'], bins=19)"
   ]
  },
  {
   "cell_type": "code",
   "execution_count": 26,
   "metadata": {
    "collapsed": true
   },
   "outputs": [],
   "source": [
    "# Get the center peak range.\n",
    "\n",
    "df_range = {}\n",
    "for i in changecolumns:\n",
    "    df_range[i+'Scale'] = []\n",
    "    \n",
    "df_range['CurrentStaffingScoreScale'].append(-3.12)\n",
    "df_range['CurrentStaffingScoreScale'].append(2.34)\n",
    "\n",
    "df_range['TurnoverScoreScale'].append(-3.92)\n",
    "df_range['TurnoverScoreScale'].append(3.66)\n",
    "\n",
    "df_range['RecruitingScoreScale'].append(-0.27)\n",
    "df_range['RecruitingScoreScale'].append(3.19)\n",
    "\n",
    "df_range['UnemploymentScoreScale'].append(-0.56)\n",
    "df_range['UnemploymentScoreScale'].append(1.14)\n",
    "\n",
    "df_range['KohlstoCountyCompScoreScale'].append(-1.02)\n",
    "df_range['KohlstoCountyCompScoreScale'].append(0.24)\n",
    "\n",
    "df_range['CountyScoreScale'].append(-1.76)\n",
    "df_range['CountyScoreScale'].append(1.12)\n",
    "\n",
    "df_range['AcceptanceRateScoreScale'].append(0.4)\n",
    "df_range['AcceptanceRateScoreScale'].append(2.3)\n",
    "\n",
    "df_range['ApplicantFlowScoreScale'].append(-1.04)\n",
    "df_range['ApplicantFlowScoreScale'].append(1.19)"
   ]
  },
  {
   "cell_type": "code",
   "execution_count": 27,
   "metadata": {},
   "outputs": [
    {
     "name": "stdout",
     "output_type": "stream",
     "text": [
      "The numbre of leaves for 5 clusters is  1046.00.\n"
     ]
    }
   ],
   "source": [
    "from sklearn.cluster import AgglomerativeClustering\n",
    "\n",
    "X = df4[[i+'Scale' for i in changecolumns]]\n",
    "x_p = []\n",
    "y_p = []\n",
    "for ncenter in [5]:\n",
    "    ward = AgglomerativeClustering(n_clusters=ncenter).fit(X)\n",
    "    predictions = ward.labels_\n",
    "    print('The numbre of leaves for %d clusters is %8.2f.'%(ncenter, ward.n_leaves_))\n",
    "    x_p.append(ncenter)\n",
    "    y_p.append(ward.n_leaves_)\n",
    "    df4 = df4.assign(prediction=list(predictions))\n",
    "    result = df4.join(df4_saved.set_index('Location'), on='Location')\n",
    "    # file = 'Hierarchy_' + str(ncenter) + '_clusters.csv'\n",
    "    # result.to_csv(file)\n",
    "    \n",
    "# plt.plot(x_p, y_p)"
   ]
  },
  {
   "cell_type": "code",
   "execution_count": 28,
   "metadata": {
    "collapsed": true
   },
   "outputs": [],
   "source": [
    "result = result.join(location[['Location','zip']].set_index('Location'), on='Location')\n",
    "result.to_csv('Hierarchy_5_clusters_v2.11.csv')"
   ]
  },
  {
   "cell_type": "code",
   "execution_count": 29,
   "metadata": {
    "collapsed": true
   },
   "outputs": [],
   "source": [
    "t = result[result['prediction'] == 0][['Location','zip']]\n",
    "t.to_csv('Hierarchy_5_clusters_v2.11_0_zip.csv')"
   ]
  },
  {
   "cell_type": "code",
   "execution_count": 30,
   "metadata": {},
   "outputs": [
    {
     "data": {
      "text/plain": [
       "Index(['Location', 'CurrentStaffingScoreMeasure', 'TurnoverScoreMeasure',\n",
       "       'RecruitingScoreMeasure', 'UnemploymentScoreMeasure',\n",
       "       'KohlstoCountyCompScoreMeasure', 'CountyScoreMeasure',\n",
       "       'AcceptanceRateScoreMeasure', 'ApplicantFlowScoreMeasure',\n",
       "       'CurrentStaffingScoreScale', 'TurnoverScoreScale',\n",
       "       'RecruitingScoreScale', 'UnemploymentScoreScale',\n",
       "       'KohlstoCountyCompScoreScale', 'CountyScoreScale',\n",
       "       'AcceptanceRateScoreScale', 'ApplicantFlowScoreScale', 'prediction',\n",
       "       'LocationName', 'DistrictNumber', 'RegionNumber', 'TerrNum', 'EFFDT',\n",
       "       'CurrentStartingRate', 'StaffingLevel', 'CurrentStaffingLevel',\n",
       "       'YTDAverageStaffingLevel', 'CurrentStaffingScore', 'YTDStaffingScore',\n",
       "       'TotalStaffingScore', 'LYTurn', 'YTDTurn', 'YOYTurnVariance',\n",
       "       'TurnoverScore', 'UnemploymentScore', 'KohlstoCountyCompScore',\n",
       "       'CountyScore', 'ApplicantFlow', 'AcceptanceRate', 'AcceptanceRateScore',\n",
       "       'ApplicantFlowScore', 'RecruitingScore', 'CostofLaborZone',\n",
       "       'WagePressueScore', 'WageScoreColor', 'StartingRateBuckets', 'zip'],\n",
       "      dtype='object')"
      ]
     },
     "execution_count": 30,
     "metadata": {},
     "output_type": "execute_result"
    }
   ],
   "source": [
    "result.columns"
   ]
  },
  {
   "cell_type": "code",
   "execution_count": 31,
   "metadata": {
    "collapsed": true
   },
   "outputs": [],
   "source": [
    "if False:\n",
    "    from sklearn.cluster import KMeans\n",
    "\n",
    "    X = df4[[i+'Measure' for i in changecolumns]]\n",
    "    x_p = []\n",
    "    y_p = []\n",
    "    for ncenter in [2,3,4,5]:\n",
    "        kmeans = KMeans(n_clusters=ncenter, random_state=0).fit(X)\n",
    "        predictions = kmeans.labels_\n",
    "        print('The inertia for %d clusters is %8.2f.'%(ncenter, kmeans.inertia_))\n",
    "        x_p.append(ncenter)\n",
    "        y_p.append(kmeans.inertia_)\n",
    "        df4 = df4.assign(prediction=list(predictions))\n",
    "        result = df4.join(df4_saved.set_index('Location'), on='Location')\n",
    "        # file = 'K_means_' + str(ncenter) + '_clusters.csv'\n",
    "        # result.to_csv(file)\n",
    "    \n",
    "    plt.plot(x_p, y_p)"
   ]
  },
  {
   "cell_type": "code",
   "execution_count": 32,
   "metadata": {
    "collapsed": true
   },
   "outputs": [],
   "source": [
    "if False:\n",
    "    from sklearn.cluster import DBSCAN\n",
    "\n",
    "    X = df4[[i+'Measure' for i in changecolumns]]\n",
    "    x_p = []\n",
    "    y_p = []\n",
    "    for x_eps in [0.2, 0.3, 0.4, 0.5, 0.6, 0.7, 0.8, 0.9]:\n",
    "        db = DBSCAN(eps=x_eps, min_samples=10).fit(X)\n",
    "        predictions = db.labels_\n",
    "        x_p.append(x_eps)\n",
    "        y_p.append(len(set(predictions)))\n",
    "        df4 = df4.assign(prediction=list(predictions))\n",
    "        db_result = df4[['Location', 'prediction']].join(df4_saved.set_index('Location'), on='Location')\n",
    "        # file = 'DBSCAN_' + str(x_eps) + '_clustering.csv'\n",
    "        # db_result.to_csv(file)\n",
    "\n",
    "    plt.plot(x_p, y_p)"
   ]
  },
  {
   "cell_type": "markdown",
   "metadata": {},
   "source": [
    "### AgglomerativeClustering Analyze Results"
   ]
  },
  {
   "cell_type": "code",
   "execution_count": 33,
   "metadata": {
    "collapsed": true
   },
   "outputs": [],
   "source": [
    "ddff = pd.read_csv('./V2.11 5 Clusters/Hierarchy_5_clusters_v2.11.csv')"
   ]
  },
  {
   "cell_type": "code",
   "execution_count": 34,
   "metadata": {
    "collapsed": true
   },
   "outputs": [],
   "source": [
    "ddff = ddff[['Location', 'prediction',\n",
    "       'CurrentStaffingScoreMeasure', 'TurnoverScoreMeasure',\n",
    "       'RecruitingScoreMeasure', 'UnemploymentScoreMeasure',\n",
    "       'KohlstoCountyCompScoreMeasure', 'CountyScoreMeasure',\n",
    "       'AcceptanceRateScoreMeasure', 'ApplicantFlowScoreMeasure']]"
   ]
  },
  {
   "cell_type": "code",
   "execution_count": 35,
   "metadata": {
    "collapsed": true
   },
   "outputs": [],
   "source": [
    "names = ['CurrentStaffingScoreMeasure', 'TurnoverScoreMeasure',\n",
    "       'RecruitingScoreMeasure', 'UnemploymentScoreMeasure',\n",
    "       'KohlstoCountyCompScoreMeasure', 'CountyScoreMeasure',\n",
    "       'AcceptanceRateScoreMeasure', 'ApplicantFlowScoreMeasure']\n",
    "d = {}\n",
    "for i_n in names:\n",
    "    d[i_n] = []\n",
    "    for i_v in [0,1,2,3,4]:\n",
    "        d[i_n].append(len(ddff[(ddff['prediction'] == i_v) & (ddff[i_n] > 1)]) / len(ddff[ddff['prediction'] == i_v]))"
   ]
  },
  {
   "cell_type": "code",
   "execution_count": 36,
   "metadata": {
    "collapsed": true
   },
   "outputs": [],
   "source": [
    "cluster_feature = pd.DataFrame(d)"
   ]
  },
  {
   "cell_type": "code",
   "execution_count": 37,
   "metadata": {
    "collapsed": true
   },
   "outputs": [],
   "source": [
    "cluster_feature.to_csv('Hierarchy_clustering_v2.11_feature.csv')"
   ]
  },
  {
   "cell_type": "code",
   "execution_count": 38,
   "metadata": {},
   "outputs": [
    {
     "data": {
      "image/png": "[encoded data removed]",
      "text/plain": [
       "<matplotlib.figure.Figure at 0x120463be0>"
      ]
     },
     "metadata": {},
     "output_type": "display_data"
    }
   ],
   "source": [
    "fig = plt.figure(figsize=(12,8))\n",
    "\n",
    "ax = fig.add_subplot(321)\n",
    "ax.hist(result[result['prediction'] == 0]['CurrentStartingRate'], bins=10)\n",
    "ax.set_title('Cluster 0')\n",
    "ax.xaxis.set_visible(False)\n",
    "ax.yaxis.set_visible(False)\n",
    "\n",
    "ax = fig.add_subplot(322)\n",
    "ax.hist(result[result['prediction'] == 1]['CurrentStartingRate'], bins=10)\n",
    "ax.set_title('Cluster 1')\n",
    "ax.xaxis.set_visible(False)\n",
    "ax.yaxis.set_visible(False)\n",
    "\n",
    "ax = fig.add_subplot(323)\n",
    "ax.hist(result[result['prediction'] == 2]['CurrentStartingRate'], bins=10)\n",
    "ax.set_title('Cluster 2')\n",
    "ax.xaxis.set_visible(False)\n",
    "ax.yaxis.set_visible(False)\n",
    "\n",
    "ax = fig.add_subplot(324)\n",
    "ax.hist(result[result['prediction'] == 3]['CurrentStartingRate'], bins=10)\n",
    "ax.set_title('Cluster 3')\n",
    "ax.set_xlabel('StartingRate')\n",
    "ax.yaxis.set_visible(False)\n",
    "\n",
    "ax = fig.add_subplot(325)\n",
    "ax.hist(result[result['prediction'] == 4]['CurrentStartingRate'], bins=10)\n",
    "ax.set_title('Cluster 4')\n",
    "ax.set_xlabel('StartingRate')\n",
    "ax.yaxis.set_visible(False)\n",
    "\n",
    "plt.savefig('Hieararchy_5_StartingRate.png')"
   ]
  },
  {
   "cell_type": "code",
   "execution_count": 39,
   "metadata": {},
   "outputs": [
    {
     "data": {
      "text/plain": [
       "Index(['Location', 'CurrentStaffingScoreMeasure', 'TurnoverScoreMeasure',\n",
       "       'RecruitingScoreMeasure', 'UnemploymentScoreMeasure',\n",
       "       'KohlstoCountyCompScoreMeasure', 'CountyScoreMeasure',\n",
       "       'AcceptanceRateScoreMeasure', 'ApplicantFlowScoreMeasure',\n",
       "       'CurrentStaffingScoreScale', 'TurnoverScoreScale',\n",
       "       'RecruitingScoreScale', 'UnemploymentScoreScale',\n",
       "       'KohlstoCountyCompScoreScale', 'CountyScoreScale',\n",
       "       'AcceptanceRateScoreScale', 'ApplicantFlowScoreScale', 'prediction',\n",
       "       'LocationName', 'DistrictNumber', 'RegionNumber', 'TerrNum', 'EFFDT',\n",
       "       'CurrentStartingRate', 'StaffingLevel', 'CurrentStaffingLevel',\n",
       "       'YTDAverageStaffingLevel', 'CurrentStaffingScore', 'YTDStaffingScore',\n",
       "       'TotalStaffingScore', 'LYTurn', 'YTDTurn', 'YOYTurnVariance',\n",
       "       'TurnoverScore', 'UnemploymentScore', 'KohlstoCountyCompScore',\n",
       "       'CountyScore', 'ApplicantFlow', 'AcceptanceRate', 'AcceptanceRateScore',\n",
       "       'ApplicantFlowScore', 'RecruitingScore', 'CostofLaborZone',\n",
       "       'WagePressueScore', 'WageScoreColor', 'StartingRateBuckets', 'zip'],\n",
       "      dtype='object')"
      ]
     },
     "execution_count": 39,
     "metadata": {},
     "output_type": "execute_result"
    }
   ],
   "source": [
    "result.columns"
   ]
  },
  {
   "cell_type": "code",
   "execution_count": 43,
   "metadata": {},
   "outputs": [
    {
     "data": {
      "text/plain": [
       "[-19.5,\n",
       " -13.299999999999999,\n",
       " -11.7,\n",
       " -11.6,\n",
       " -8.7,\n",
       " -8.1,\n",
       " -7.8,\n",
       " -7.6,\n",
       " -7.199999999999999,\n",
       " -6.299999999999999,\n",
       " -5.8,\n",
       " -5.699999999999999,\n",
       " -5.3999999999999995,\n",
       " -4.5,\n",
       " -3.9,\n",
       " -3.8,\n",
       " -3.5999999999999996,\n",
       " -2.9,\n",
       " -2.6999999999999997,\n",
       " -1.9,\n",
       " -1.7999999999999998,\n",
       " -0.8999999999999999,\n",
       " 0.0,\n",
       " 1.9,\n",
       " 2.9,\n",
       " 3.8,\n",
       " 4.9,\n",
       " 5.699999999999999,\n",
       " 5.8,\n",
       " 7.6,\n",
       " 7.8,\n",
       " 8.7,\n",
       " 9.5,\n",
       " 11.6,\n",
       " 11.7,\n",
       " 14.5,\n",
       " 14.700000000000001,\n",
       " 15.6,\n",
       " 17.4,\n",
       " 19.5,\n",
       " 23.2,\n",
       " 27.3,\n",
       " 31.2,\n",
       " 34.300000000000004,\n",
       " 35.1]"
      ]
     },
     "execution_count": 43,
     "metadata": {},
     "output_type": "execute_result"
    }
   ],
   "source": [
    "feature = 'CurrentStaffingScoreScale'\n",
    "sorted(result[feature].unique().tolist())"
   ]
  },
  {
   "cell_type": "code",
   "execution_count": 44,
   "metadata": {},
   "outputs": [
    {
     "data": {
      "image/png": "[encoded data removed]",
      "text/plain": [
       "<matplotlib.figure.Figure at 0x121a42780>"
      ]
     },
     "metadata": {},
     "output_type": "display_data"
    }
   ],
   "source": [
    "fig = plt.figure(figsize=(12,8))\n",
    "\n",
    "label = 'CurrentStaffing'\n",
    "# ApplicantFlow\n",
    "# a_bins = [-6,-4,-2,0,2,4,6,8,10,12,14,16]\n",
    "\n",
    "# Recruiting\n",
    "# a_bins= [-3,-1,1,3,5,7,9,11,13,15]\n",
    "\n",
    "# AcceptanceRate\n",
    "# a_bins = [-2,0,2,4,6,8,10,12,14,16,18]\n",
    "\n",
    "# CurrentStaffing\n",
    "a_bins = [-20,-16,-12,-8,-4,0,4,8,12,16,20,24,28,32,36]\n",
    "\n",
    "ax = fig.add_subplot(321)\n",
    "ax.hist(result[result['prediction'] == 0][feature], bins=a_bins)\n",
    "ax.set_title('Cluster 0')\n",
    "ax.xaxis.set_visible(False)\n",
    "ax.yaxis.set_visible(False)\n",
    "ax.axvline(x=0, color='red', linestyle=':')\n",
    "\n",
    "ax = fig.add_subplot(322)\n",
    "ax.hist(result[result['prediction'] == 1][feature], bins=a_bins)\n",
    "ax.set_title('Cluster 1')\n",
    "ax.xaxis.set_visible(False)\n",
    "ax.yaxis.set_visible(False)\n",
    "ax.axvline(x=0, color='red', linestyle=':')\n",
    "\n",
    "ax = fig.add_subplot(323)\n",
    "ax.hist(result[result['prediction'] == 2][feature], bins=a_bins)\n",
    "ax.set_title('Cluster 2')\n",
    "ax.xaxis.set_visible(False)\n",
    "ax.yaxis.set_visible(False)\n",
    "ax.axvline(x=0, color='red', linestyle=':')\n",
    "\n",
    "ax = fig.add_subplot(324)\n",
    "ax.hist(result[result['prediction'] == 3][feature], bins=a_bins)\n",
    "ax.set_title('Cluster 3')\n",
    "ax.set_xlabel(label)\n",
    "ax.yaxis.set_visible(False)\n",
    "ax.axvline(x=0, color='red', linestyle=':')\n",
    "\n",
    "ax = fig.add_subplot(325)\n",
    "ax.hist(result[result['prediction'] == 4]['AcceptanceRateScoreScale'], bins=a_bins)\n",
    "ax.set_title('Cluster 4')\n",
    "ax.set_xlabel(label)\n",
    "ax.yaxis.set_visible(False)\n",
    "ax.axvline(x=0, color='red', linestyle=':')\n",
    "\n",
    "file = 'Hierarchy_5_' + label + '.png'\n",
    "plt.savefig(file)"
   ]
  },
  {
   "cell_type": "code",
   "execution_count": 45,
   "metadata": {},
   "outputs": [
    {
     "data": {
      "text/plain": [
       "3472      62\n",
       "3525     139\n",
       "3562     185\n",
       "3564     187\n",
       "3618     244\n",
       "3620     246\n",
       "3621     247\n",
       "3869     509\n",
       "3928     571\n",
       "3958     607\n",
       "3968     618\n",
       "4036     695\n",
       "4037     696\n",
       "4093     755\n",
       "4131     798\n",
       "4132     799\n",
       "4156     980\n",
       "4171     996\n",
       "4210    1038\n",
       "4229    1058\n",
       "4287    1127\n",
       "4307    1151\n",
       "4325    1171\n",
       "4337    1183\n",
       "4351    1197\n",
       "4363    1212\n",
       "4375    1228\n",
       "4412    1276\n",
       "4415    1280\n",
       "4426    1292\n",
       "4465    1349\n",
       "4477    1362\n",
       "4492    1381\n",
       "4530    1429\n",
       "4537    1437\n",
       "4566    1480\n",
       "4575    1499\n",
       "Name: Location, dtype: int64"
      ]
     },
     "execution_count": 45,
     "metadata": {},
     "output_type": "execute_result"
    }
   ],
   "source": [
    "result[result['prediction'] ==4]['Location']"
   ]
  },
  {
   "cell_type": "code",
   "execution_count": null,
   "metadata": {
    "collapsed": true
   },
   "outputs": [],
   "source": []
  }
 ],
 "metadata": {
  "kernelspec": {
   "display_name": "Python 3",
   "language": "python",
   "name": "python3"
  },
  "language_info": {
   "codemirror_mode": {
    "name": "ipython",
    "version": 3
   },
   "file_extension": ".py",
   "mimetype": "text/x-python",
   "name": "python",
   "nbconvert_exporter": "python",
   "pygments_lexer": "ipython3",
   "version": "3.6.1"
  }
 },
 "nbformat": 4,
 "nbformat_minor": 2
}
