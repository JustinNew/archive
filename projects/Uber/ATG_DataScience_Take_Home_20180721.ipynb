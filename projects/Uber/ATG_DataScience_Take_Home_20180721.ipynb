{
 "cells": [
  {
   "cell_type": "markdown",
   "metadata": {},
   "source": [
    "# ATG Data Scientist Challenge\n",
    "\n",
    "Thank you for your interest in joining the data science team at Uber ATG. The next step is to complete Uber ATG’s take home exercise. This will allow you to get an idea of what it's like to work for us while showcasing your statistics, programming, and data analysis capabilities.\n",
    "\n",
    "While we invite you to fill out the remainder of this notebook for your submission, you may send your results back in any format as long as the work/code/analysis is reproducible. We've had candidates submit RMarkdown HTMLs or LaTeX generated PDFs as well. You may use any language (or Jupyter Kernel) you want but keep in mind that we primarily do deployment, engineering, and analysis work in Python.\n",
    "\n",
    "There is no time limit, but please try to send back the completed assignment within 1 week of receiving it. Please delete any data you have downloaded from us after submitting the assignment.\n",
    "\n",
    "If you have any questions about the assignment, please reach out to your recruiter.\n",
    "\n",
    "Thanks, ATG Data Science"
   ]
  },
  {
   "cell_type": "markdown",
   "metadata": {},
   "source": [
    "# Driver Signup Analysis\n",
    "\n",
    "You can use the csv:\n",
    "\n",
    "* ds_challenge_v2_data.csv\n",
    "\n",
    "included in the zip file included with this notebook.\n",
    "\n",
    "Uber’s Driver team is interested in predicting which driver signups are most likely to start driving. To help explore this question, we have provided a sample dataset of a cohort of driver signups in January 2015. The data was pulled a few months after they signed up to include the result of whether they actually completed their first trip. It also includes several pieces of background information gathered about the driver and their car.\n",
    "\n",
    "See below for a detailed description of the dataset:\n",
    "\n",
    "* **id**: driver_id\n",
    "* **city_id**: city_id this user signed up in\n",
    "* **signup_os**: signup device of the user (“android”, “ios”, “website”, “other”)\n",
    "* **signup_channel**: what channel did the driver sign up from (“offline”, “paid”, “organic”, “referral”)\n",
    "* **signup_timestamp**: timestamp of account creation; local time in the form ‘YYYY-MM-DD’\n",
    "* **bgc_date**: date of background check consent; in the form ‘YYYY-MM-DD’\n",
    "* **vehicle_added_date**: date when driver’s vehicle information was uploaded (by the driver); in the form ‘YYYY-MM-DD’\n",
    "* **first_trip_date**: date of the first trip as a driver; in the form ‘YYYY-MM-DD’\n",
    "* **vehicle_make**: make of vehicle uploaded (i.e. Honda, Toyota)\n",
    "* **vehicle_model**: model of vehicle uploaded (i.e. Accord, Prius, 350z)\n",
    "* **vehicle_year**: year that the car was made; in the form ‘YYYY’\n",
    "\n",
    "Our primary goal is to understand what factors are best at predicting whether a signup will start to drive, and offer suggestions to operationalize those insights to help Uber. This take home consists of answering three main tasks with some discussion questions under them to get you started.\n",
    "\n",
    "Ordering and presentation format is up to you, but we love analyses that are well organized and have a linear flow from data ingestion to final result(s). We especially look for well stated assumptions and an eye for business/product impact of any analysis or model:\n",
    "\n",
    "#### Note: This take home challenge is finished with Anaconda conda 4.5.1 with Python 3.6.3 :: Anaconda custom (64-bit).\n",
    "\n",
    "# Section I\n",
    "\n",
    "## **Conduct an exploratory analysis of the data to give us qualitative and quantitative insights.**\n",
    "  * Does all the data make sense? Did you have to throw anything away? Are there interesting patterns that emerge?"
   ]
  },
  {
   "cell_type": "markdown",
   "metadata": {},
   "source": [
    "### Exploratory analysis\n",
    "\n",
    "  1. There is no duplicated records\n",
    "  2. There is missing data issue.\n",
    "     * signup_os, 6857. We treat this missing type as an important type itself. \n",
    "     * bgc_date, 21938. We assume this missing is becuase they never had their background check done yet.\n",
    "     * vehicle_added_date, 41547. We assume this missing is becuase they never added a vehicle.\n",
    "     * vehicle_make, 41458. We assume this missing is becuase they never added a vehicle.\n",
    "     * vehicle_model, 41458. We assume this missing is becuase they never added a vehicle.\n",
    "     * vehicle_year, 41458. We assume this missing is becuase they never added a vehicle.\n",
    "     * first_completed_date, 48544. We assume this missing is becuase they never completed a ride yet.\n",
    "  3. There are three different cities. **Strark** has 54% signups, **Berton** has 37% signups and **Wrouver** has 9% singups.\n",
    "  4. The overall signups has completed one ride is 11.2%. The three cities are a little bit different from each other.\n",
    "  5. **Paid** signup channel has the lowest rate to complete first drive and **Referral** has the highest rate to complete first drive.\n",
    "  6. For signup_os, **mac** has the highest rate to complete first drive, and **NA** has the lowest rate to complete first drive.\n",
    "  7. We treat signups on different days equally.\n",
    "    * The longest day between signup and completed date is 30 day.\n",
    "      * Assumption: we do not consider these who makes a first drive after 30 days of signup. \n",
    "    * There is no difference between signup_date 1/1/2016 and 1/31/2016.\n",
    "      * Assumption: we treat signups on different days equally.\n",
    "  8. Possibly due to 'cliff' effect in dataset, i.e. the longest days between signup_to_completed is 30 days.\n",
    "    * 2212 records have signup_to_added days larger than 30; 6 have completed first drive among them.\n",
    "    * 1960 records have signup_to_bgc days larger than 30; 5 have completed first drive among them.\n",
    "  9. **vehicle_make** and **vehicle_model** do not have any pattern, so we do not consider them as of now. If we want to consider what kind of drive, such as Uber Pool or Uber X, these information can be very useful.\n",
    "  10. Other data issues:\n",
    "      * There is two records with vehicle_make is 'Bike', 'Bicycle'.\n",
    "  \n",
    "#### Remark:\n",
    "The biggest issue here is that the last first_completed_date is 2/29/2016, however there is bgc_date and vehecle_added_date later than 2/29/2016. This is definitely a **\"cliff\"** effect in the dataset. As a critial step to minimize this **\"cliff\"** effect, we remove the records that have bgc_date - signup_date larger than 30 and vehicle_added_date - signup_date larger than 30."
   ]
  },
  {
   "cell_type": "code",
   "execution_count": 1,
   "metadata": {
    "collapsed": true
   },
   "outputs": [],
   "source": [
    "import pandas as pd\n",
    "import numpy as np\n",
    "from matplotlib import pyplot as plt\n",
    "import re, math\n",
    "%matplotlib inline"
   ]
  },
  {
   "cell_type": "code",
   "execution_count": 2,
   "metadata": {
    "collapsed": true
   },
   "outputs": [],
   "source": [
    "# Read in dataset\n",
    "\n",
    "df = pd.read_csv('ds_challenge_v2_data.csv')\n",
    "for i in ['signup_date', 'bgc_date', 'vehicle_added_date', 'first_completed_date']:\n",
    "    df[i] = pd.to_datetime(df[i], infer_datetime_format=True)"
   ]
  },
  {
   "cell_type": "code",
   "execution_count": 3,
   "metadata": {},
   "outputs": [
    {
     "data": {
      "text/html": [
       "<div>\n",
       "<style>\n",
       "    .dataframe thead tr:only-child th {\n",
       "        text-align: right;\n",
       "    }\n",
       "\n",
       "    .dataframe thead th {\n",
       "        text-align: left;\n",
       "    }\n",
       "\n",
       "    .dataframe tbody tr th {\n",
       "        vertical-align: top;\n",
       "    }\n",
       "</style>\n",
       "<table border=\"1\" class=\"dataframe\">\n",
       "  <thead>\n",
       "    <tr style=\"text-align: right;\">\n",
       "      <th></th>\n",
       "      <th>id</th>\n",
       "      <th>city_name</th>\n",
       "      <th>signup_os</th>\n",
       "      <th>signup_channel</th>\n",
       "      <th>signup_date</th>\n",
       "      <th>bgc_date</th>\n",
       "      <th>vehicle_added_date</th>\n",
       "      <th>vehicle_make</th>\n",
       "      <th>vehicle_model</th>\n",
       "      <th>vehicle_year</th>\n",
       "      <th>first_completed_date</th>\n",
       "    </tr>\n",
       "  </thead>\n",
       "  <tbody>\n",
       "    <tr>\n",
       "      <th>0</th>\n",
       "      <td>1</td>\n",
       "      <td>Strark</td>\n",
       "      <td>ios web</td>\n",
       "      <td>Paid</td>\n",
       "      <td>2016-01-02</td>\n",
       "      <td>NaT</td>\n",
       "      <td>NaT</td>\n",
       "      <td>NaN</td>\n",
       "      <td>NaN</td>\n",
       "      <td>NaN</td>\n",
       "      <td>NaT</td>\n",
       "    </tr>\n",
       "    <tr>\n",
       "      <th>1</th>\n",
       "      <td>2</td>\n",
       "      <td>Strark</td>\n",
       "      <td>windows</td>\n",
       "      <td>Paid</td>\n",
       "      <td>2016-01-21</td>\n",
       "      <td>NaT</td>\n",
       "      <td>NaT</td>\n",
       "      <td>NaN</td>\n",
       "      <td>NaN</td>\n",
       "      <td>NaN</td>\n",
       "      <td>NaT</td>\n",
       "    </tr>\n",
       "    <tr>\n",
       "      <th>2</th>\n",
       "      <td>3</td>\n",
       "      <td>Wrouver</td>\n",
       "      <td>windows</td>\n",
       "      <td>Organic</td>\n",
       "      <td>2016-01-11</td>\n",
       "      <td>2016-01-11</td>\n",
       "      <td>NaT</td>\n",
       "      <td>NaN</td>\n",
       "      <td>NaN</td>\n",
       "      <td>NaN</td>\n",
       "      <td>NaT</td>\n",
       "    </tr>\n",
       "    <tr>\n",
       "      <th>3</th>\n",
       "      <td>4</td>\n",
       "      <td>Berton</td>\n",
       "      <td>android web</td>\n",
       "      <td>Referral</td>\n",
       "      <td>2016-01-29</td>\n",
       "      <td>2016-02-03</td>\n",
       "      <td>2016-02-03</td>\n",
       "      <td>Toyota</td>\n",
       "      <td>Corolla</td>\n",
       "      <td>2016.0</td>\n",
       "      <td>2016-02-03</td>\n",
       "    </tr>\n",
       "    <tr>\n",
       "      <th>4</th>\n",
       "      <td>5</td>\n",
       "      <td>Strark</td>\n",
       "      <td>android web</td>\n",
       "      <td>Referral</td>\n",
       "      <td>2016-01-10</td>\n",
       "      <td>2016-01-25</td>\n",
       "      <td>2016-01-26</td>\n",
       "      <td>Hyundai</td>\n",
       "      <td>Sonata</td>\n",
       "      <td>2016.0</td>\n",
       "      <td>NaT</td>\n",
       "    </tr>\n",
       "  </tbody>\n",
       "</table>\n",
       "</div>"
      ],
      "text/plain": [
       "   id city_name    signup_os signup_channel signup_date   bgc_date  \\\n",
       "0   1    Strark      ios web           Paid  2016-01-02        NaT   \n",
       "1   2    Strark      windows           Paid  2016-01-21        NaT   \n",
       "2   3   Wrouver      windows        Organic  2016-01-11 2016-01-11   \n",
       "3   4    Berton  android web       Referral  2016-01-29 2016-02-03   \n",
       "4   5    Strark  android web       Referral  2016-01-10 2016-01-25   \n",
       "\n",
       "  vehicle_added_date vehicle_make vehicle_model  vehicle_year  \\\n",
       "0                NaT          NaN           NaN           NaN   \n",
       "1                NaT          NaN           NaN           NaN   \n",
       "2                NaT          NaN           NaN           NaN   \n",
       "3         2016-02-03       Toyota       Corolla        2016.0   \n",
       "4         2016-01-26      Hyundai        Sonata        2016.0   \n",
       "\n",
       "  first_completed_date  \n",
       "0                  NaT  \n",
       "1                  NaT  \n",
       "2                  NaT  \n",
       "3           2016-02-03  \n",
       "4                  NaT  "
      ]
     },
     "execution_count": 3,
     "metadata": {},
     "output_type": "execute_result"
    }
   ],
   "source": [
    "df.head()"
   ]
  },
  {
   "cell_type": "code",
   "execution_count": 4,
   "metadata": {},
   "outputs": [
    {
     "name": "stdout",
     "output_type": "stream",
     "text": [
      "Total number of records: 54681.\n",
      "Unique id: 54681.\n"
     ]
    }
   ],
   "source": [
    "# Check total record number\n",
    "\n",
    "total_records = len(df)\n",
    "print('Total number of records: %d.'%len(df))\n",
    "print('Unique id: %d.'%(len(df.id.unique().tolist())))"
   ]
  },
  {
   "cell_type": "code",
   "execution_count": 5,
   "metadata": {},
   "outputs": [
    {
     "data": {
      "text/plain": [
       "0"
      ]
     },
     "execution_count": 5,
     "metadata": {},
     "output_type": "execute_result"
    }
   ],
   "source": [
    "# Check duplicated data\n",
    "\n",
    "df.duplicated().sum()"
   ]
  },
  {
   "cell_type": "code",
   "execution_count": 6,
   "metadata": {},
   "outputs": [
    {
     "data": {
      "text/plain": [
       "id                          0\n",
       "city_name                   0\n",
       "signup_os                6857\n",
       "signup_channel              0\n",
       "signup_date                 0\n",
       "bgc_date                21938\n",
       "vehicle_added_date      41547\n",
       "vehicle_make            41458\n",
       "vehicle_model           41458\n",
       "vehicle_year            41458\n",
       "first_completed_date    48544\n",
       "dtype: int64"
      ]
     },
     "execution_count": 6,
     "metadata": {},
     "output_type": "execute_result"
    }
   ],
   "source": [
    "# Check missing data\n",
    "\n",
    "df.isnull().sum()"
   ]
  },
  {
   "cell_type": "code",
   "execution_count": 7,
   "metadata": {},
   "outputs": [
    {
     "data": {
      "text/plain": [
       "id                               int64\n",
       "city_name                       object\n",
       "signup_os                       object\n",
       "signup_channel                  object\n",
       "signup_date             datetime64[ns]\n",
       "bgc_date                datetime64[ns]\n",
       "vehicle_added_date      datetime64[ns]\n",
       "vehicle_make                    object\n",
       "vehicle_model                   object\n",
       "vehicle_year                   float64\n",
       "first_completed_date    datetime64[ns]\n",
       "dtype: object"
      ]
     },
     "execution_count": 7,
     "metadata": {},
     "output_type": "execute_result"
    }
   ],
   "source": [
    "df.dtypes"
   ]
  },
  {
   "cell_type": "code",
   "execution_count": 8,
   "metadata": {},
   "outputs": [
    {
     "name": "stdout",
     "output_type": "stream",
     "text": [
      "City names:\n",
      "['Strark', 'Wrouver', 'Berton']\n",
      "Signup OS :\n",
      "['ios web', 'windows', 'android web', nan, 'mac', 'other']\n",
      "Signup Channel:\n",
      "['Paid', 'Organic', 'Referral']\n"
     ]
    }
   ],
   "source": [
    "# Check some features\n",
    "\n",
    "print('City names:')\n",
    "print(df.city_name.unique().tolist())\n",
    "print('Signup OS :')\n",
    "print(df.signup_os.unique().tolist())\n",
    "print('Signup Channel:')\n",
    "print(df.signup_channel.unique().tolist())\n",
    "# print('Vehicle Make:') \n",
    "# print(df.vehicle_make.unique().tolist())\n",
    "# print('Vehicle Model:')\n",
    "# print(df.vehicle_model.unique().tolist())\n",
    "# print('Vehicle Year:')\n",
    "# print(df.vehicle_year.unique().tolist())"
   ]
  },
  {
   "cell_type": "code",
   "execution_count": 9,
   "metadata": {},
   "outputs": [
    {
     "name": "stdout",
     "output_type": "stream",
     "text": [
      "Total number with first completed date: 0.112\n"
     ]
    }
   ],
   "source": [
    "# Finished first drive percent.\n",
    "\n",
    "print('Total number with first completed date: %.3f'%(df.first_completed_date.notnull().sum() / len(df)))"
   ]
  },
  {
   "cell_type": "code",
   "execution_count": 10,
   "metadata": {},
   "outputs": [
    {
     "name": "stdout",
     "output_type": "stream",
     "text": [
      "For Strark signup is 29557 and finished percent 0.5405.\n",
      "Completed first is 3239 and percent 0.1096.\n",
      "For Wrouver signup is 5007 and finished percent 0.0916.\n",
      "Completed first is 461 and percent 0.0921.\n",
      "For Berton signup is 20117 and finished percent 0.3679.\n",
      "Completed first is 2437 and percent 0.1211.\n"
     ]
    }
   ],
   "source": [
    "# Signup per city\n",
    "\n",
    "cities = df.city_name.unique().tolist()\n",
    "\n",
    "for i in cities:\n",
    "    print('For %s signup is %d and finished percent %.4f.'%\n",
    "          (i, len(df[df.city_name == i]), len(df[df.city_name == i]) / len(df)))\n",
    "    print('Completed first is %d and percent %.4f.'%(df[df.city_name == i].first_completed_date.notnull().sum(), \n",
    "                        df[df.city_name == i].first_completed_date.notnull().sum() / len(df[df.city_name == i])))"
   ]
  },
  {
   "cell_type": "code",
   "execution_count": 11,
   "metadata": {},
   "outputs": [
    {
     "name": "stdout",
     "output_type": "stream",
     "text": [
      "13134 added vehicle\n",
      "6137 completed first drive.\n",
      "5872 Added vehicle and completed first is 0.957 of total completed.\n",
      "7262 Added vehicle and not completed first number.\n"
     ]
    }
   ],
   "source": [
    "# For those with vehicle added and finished first drive.\n",
    "\n",
    "added_completed = len(df[(df.vehicle_added_date.notnull()) & (df.first_completed_date.notnull())])\n",
    "added_not_completed = len(df[(df.vehicle_added_date.notnull()) & (df.first_completed_date.isnull())])\n",
    "completed = len(df[df.first_completed_date.notnull()])\n",
    "\n",
    "print('%d added vehicle'%(added_completed + added_not_completed))\n",
    "print('%d completed first drive.'%(completed))\n",
    "print('%d Added vehicle and completed first is %.3f of total completed.'%\n",
    "      (added_completed, added_completed / completed))\n",
    "print('%d Added vehicle and not completed first number.'%(added_not_completed))"
   ]
  },
  {
   "cell_type": "code",
   "execution_count": 12,
   "metadata": {},
   "outputs": [
    {
     "name": "stdout",
     "output_type": "stream",
     "text": [
      "For      ios web,  16632 signups and    0.132 completed first drive.\n",
      "For      windows,   6776 signups and    0.133 completed first drive.\n",
      "For  android web,  14944 signups and    0.097 completed first drive.\n",
      "For          mac,   5824 signups and    0.163 completed first drive.\n",
      "For        other,   3648 signups and    0.137 completed first drive.\n",
      "For           NA,   6857 signups and    0.022 completed first drive.\n"
     ]
    }
   ],
   "source": [
    "# To see whether there is any difference between signup_os.\n",
    "\n",
    "signup_OSs = ['ios web', 'windows', 'android web', 'mac', 'other']\n",
    "for i in signup_OSs:\n",
    "    t_tot = len(df[df.signup_os == i])\n",
    "    t_num = len(df[(df.signup_os == i) & (df.first_completed_date.notnull())])\n",
    "    print('For %12s, %6d signups and %8.3f completed first drive.'\n",
    "          %(i, t_tot, t_num / t_tot))\n",
    "\n",
    "t_tot = len(df[df.signup_os.isnull()])\n",
    "t_num = len(df[(df.signup_os.isnull()) & (df.first_completed_date.notnull())])\n",
    "print('For           NA, %6d signups and %8.3f completed first drive.'\n",
    "          %(t_tot, t_num / t_tot))"
   ]
  },
  {
   "cell_type": "code",
   "execution_count": 13,
   "metadata": {},
   "outputs": [
    {
     "name": "stdout",
     "output_type": "stream",
     "text": [
      "For Paid signup channel, there are 23938 signups and 0.062 completed first drive.\n",
      "For Organic signup channel, there are 13427 signups and 0.090 completed first drive.\n",
      "For Referral signup channel, there are 17316 signups and 0.199 completed first drive.\n"
     ]
    }
   ],
   "source": [
    "# To see whether there is any difference between signup_channel.\n",
    "\n",
    "signup_channels = ['Paid', 'Organic', 'Referral']\n",
    "for i in signup_channels:\n",
    "    t_tot = len(df[df.signup_channel == i])\n",
    "    t_num = len(df[(df.signup_channel == i) & (df.first_completed_date.notnull())])\n",
    "    print('For %s signup channel, there are %d signups and %.3f completed first drive.'\n",
    "          %(i, t_tot, t_num / t_tot))"
   ]
  },
  {
   "cell_type": "markdown",
   "metadata": {},
   "source": [
    "### Visualization and Exploration"
   ]
  },
  {
   "cell_type": "code",
   "execution_count": 14,
   "metadata": {},
   "outputs": [
    {
     "data": {
      "image/png": "[encoded data removed]",
      "text/plain": [
       "<Figure size 1152x360 with 2 Axes>"
      ]
     },
     "metadata": {},
     "output_type": "display_data"
    },
    {
     "data": {
      "image/png": "[encoded data removed]",
      "text/plain": [
       "<Figure size 1152x360 with 2 Axes>"
      ]
     },
     "metadata": {},
     "output_type": "display_data"
    },
    {
     "data": {
      "image/png": "[encoded data removed]",
      "text/plain": [
       "<Figure size 1152x360 with 2 Axes>"
      ]
     },
     "metadata": {},
     "output_type": "display_data"
    }
   ],
   "source": [
    "# Date Distribution of Signup and first_completed_date by cities.\n",
    "\n",
    "for i in cities:\n",
    "    fig = plt.figure(figsize=(16, 5))\n",
    "    ax1 = fig.add_subplot(121)\n",
    "    ax1.hist(df[df.city_name == i].signup_date)\n",
    "    ax1.set_title(i)\n",
    "    \n",
    "    ax2 = fig.add_subplot(122)\n",
    "    ax2.hist(df[(df.city_name == i) & (df.first_completed_date.notnull())].first_completed_date)\n",
    "    ax2.set_title('Completed distribution')\n",
    "    \n",
    "    plt.show()"
   ]
  },
  {
   "cell_type": "code",
   "execution_count": 15,
   "metadata": {},
   "outputs": [
    {
     "data": {
      "image/png": "[encoded data removed]",
      "text/plain": [
       "<Figure size 1296x288 with 3 Axes>"
      ]
     },
     "metadata": {},
     "output_type": "display_data"
    }
   ],
   "source": [
    "# Check whether there is any \"cliff\" effect in the dataset.\n",
    "# The first signup_date in dataset is 1/1/2016.\n",
    "# The last first_completed_date is 2/29/2016.\n",
    "# The maxium time between signup and first_completed_date is 30 days.\n",
    "# There is no obvious difference between signup cohort 1/1/2016, 1/11/2016 and 1/31/2016.\n",
    "\n",
    "fig = plt.figure(figsize=(18, 4))\n",
    "ax1 = fig.add_subplot(131)\n",
    "ax1.hist(df[(df.signup_date == '2016-01-01T00:00:00.000000000') \n",
    "            & (df.first_completed_date.notnull())].first_completed_date)\n",
    "ax1.set_title('For 1/1/2016')\n",
    "\n",
    "ax2 = fig.add_subplot(132)\n",
    "ax2.hist(df[(df.signup_date == '2016-01-02T00:00:00.000000000') \n",
    "            & (df.first_completed_date.notnull())].first_completed_date)\n",
    "ax2.set_title('For 1/11/2016')\n",
    "\n",
    "ax3 = fig.add_subplot(133)\n",
    "ax3.hist(df[(df.signup_date == '2016-01-30T00:00:00.000000000') \n",
    "            & (df.first_completed_date.notnull())].first_completed_date)\n",
    "ax3.set_title('For 1/31/2016')\n",
    "\n",
    "plt.show()"
   ]
  },
  {
   "cell_type": "code",
   "execution_count": 16,
   "metadata": {},
   "outputs": [
    {
     "data": {
      "image/png": "[encoded data removed]",
      "text/plain": [
       "<Figure size 432x288 with 1 Axes>"
      ]
     },
     "metadata": {},
     "output_type": "display_data"
    }
   ],
   "source": [
    "# Treat signups on one day as one group\n",
    "# View the first drive complete by these groups.\n",
    "# There is some different between signups during weekend and weekday.\n",
    "\n",
    "dates = df.signup_date.unique()\n",
    "completed_by_date = []\n",
    "for i in dates:\n",
    "    t_num = len(df[(df.signup_date == i) & (df.first_completed_date.notnull())])\n",
    "    t_total = len(df[df.signup_date == i])\n",
    "    completed_by_date.append({'date':i, 'percent':t_num / t_total})\n",
    "df_completed_by_date = pd.DataFrame(completed_by_date)\n",
    "df_completed_by_date['day'] = df_completed_by_date.date.dt.day\n",
    "df_completed_by_date.sort_values(by=['day'], ascending=True, inplace=True)\n",
    "plt.plot(df_completed_by_date.day, df_completed_by_date.percent)\n",
    "plt.show()"
   ]
  },
  {
   "cell_type": "markdown",
   "metadata": {},
   "source": [
    "### Feature Engineering"
   ]
  },
  {
   "cell_type": "code",
   "execution_count": 17,
   "metadata": {
    "collapsed": true
   },
   "outputs": [],
   "source": [
    "# Create dependent variable\n",
    "\n",
    "df = df.assign(label=df['first_completed_date'].notnull())\n",
    "df['label'] = df['label'].map(lambda x: 1 if x else 0)"
   ]
  },
  {
   "cell_type": "code",
   "execution_count": 18,
   "metadata": {
    "collapsed": true
   },
   "outputs": [],
   "source": [
    "# Create dummy variables.\n",
    "\n",
    "df = df.join(pd.get_dummies(df.signup_os))\n",
    "df = df.join(pd.get_dummies(df.signup_channel))\n",
    "df.rename(columns={'android web':'android', 'ios web':'ios'}, inplace=True)"
   ]
  },
  {
   "cell_type": "code",
   "execution_count": 19,
   "metadata": {
    "collapsed": true
   },
   "outputs": [],
   "source": [
    "# We see some pattern for signup_date by date and completed first drive.\n",
    "# Create a variable to indicate whether it is a weekend.\n",
    "\n",
    "def is_weekend(x):\n",
    "    if x in [5,6,0]:\n",
    "        return 1\n",
    "    else:\n",
    "        return 0\n",
    "    \n",
    "df['is_weekend'] = df.signup_date.dt.weekday.map(lambda x: is_weekend(x))"
   ]
  },
  {
   "cell_type": "code",
   "execution_count": 20,
   "metadata": {
    "collapsed": true
   },
   "outputs": [],
   "source": [
    "# Create dummy variable to indicate whether the drive has bgc_date or vehicle_added_date\n",
    "\n",
    "df = df.assign(has_bgc=df['bgc_date'].notnull())\n",
    "df = df.assign(has_vehicle=df['vehicle_added_date'].notnull())"
   ]
  },
  {
   "cell_type": "code",
   "execution_count": 21,
   "metadata": {
    "collapsed": true
   },
   "outputs": [],
   "source": [
    "# Create a variable to describe how old the vehicle is\n",
    "\n",
    "df['vehicle'] = df['vehicle_year'].map(lambda x: 2017 - x)"
   ]
  },
  {
   "cell_type": "code",
   "execution_count": 22,
   "metadata": {
    "collapsed": true
   },
   "outputs": [],
   "source": [
    "# Feature engineering to add variables to measure the day differences.\n",
    "\n",
    "df['signup_to_completed'] = df['first_completed_date'] - df['signup_date']\n",
    "df['signup_to_completed'] = df['signup_to_completed'].dt.days\n",
    "\n",
    "df['added_to_completed'] = df['first_completed_date'] - df['vehicle_added_date']\n",
    "df['added_to_completed'] = df['added_to_completed'].dt.days\n",
    "\n",
    "df['signup_to_bgc'] = df['bgc_date'] - df['signup_date']\n",
    "df['signup_to_bgc'] = df['signup_to_bgc'].dt.days\n",
    "\n",
    "df['signup_to_added'] = df['vehicle_added_date'] - df['signup_date']\n",
    "df['signup_to_added'] = df['signup_to_added'].dt.days\n",
    "\n",
    "df['bgc_to_added'] = df['vehicle_added_date'] - df['bgc_date']\n",
    "df['bgc_to_added'] = df['bgc_to_added'].dt.days"
   ]
  },
  {
   "cell_type": "code",
   "execution_count": 23,
   "metadata": {
    "collapsed": true
   },
   "outputs": [],
   "source": [
    "# Variables to be included in the model\n",
    "\n",
    "features_base = ['android', 'ios', 'mac', 'other', 'windows', 'Organic', \n",
    "            'Paid', 'Referral', 'has_bgc', 'has_vehicle']\n",
    "\n",
    "features = ['android', 'ios', 'mac', 'other', 'windows', 'Organic',\n",
    "            'Paid', 'Referral', 'vehicle', 'signup_to_bgc', 'signup_to_added', \n",
    "            'bgc_to_added', 'has_bgc', 'has_vehicle', 'is_weekend']\n",
    "\n",
    "features_less = ['android', 'ios', 'mac', 'other', 'windows', \n",
    "            'Paid', 'Referral', 'vehicle', 'signup_to_bgc', 'signup_to_added', \n",
    "            'bgc_to_added', 'has_bgc', 'has_vehicle', 'is_weekend']"
   ]
  },
  {
   "cell_type": "code",
   "execution_count": 24,
   "metadata": {
    "collapsed": true
   },
   "outputs": [],
   "source": [
    "# Get dataset for modeling\n",
    "\n",
    "df_model = df[['label', 'city_name'] + features]"
   ]
  },
  {
   "cell_type": "code",
   "execution_count": 25,
   "metadata": {},
   "outputs": [
    {
     "name": "stdout",
     "output_type": "stream",
     "text": [
      " 2212 have signup_to_added days larger than 30.\n",
      "    6 have completed first drive among them.\n",
      " 1960 have signup_to_bgc days larger than 30.\n",
      "    5 have completed first drive among them.\n"
     ]
    }
   ],
   "source": [
    "# \"Cliff\" effect.\n",
    "\n",
    "print('%5d have signup_to_added days larger than 30.'%df[df['signup_to_added'] > 30]['label'].count())\n",
    "print('%5d have completed first drive among them.'%df[df['signup_to_added'] > 30]['label'].sum())\n",
    "print('%5d have signup_to_bgc days larger than 30.'%df[df['signup_to_bgc'] > 30]['label'].count())\n",
    "print('%5d have completed first drive among them.'%df[df['signup_to_bgc'] > 30]['label'].sum())"
   ]
  },
  {
   "cell_type": "code",
   "execution_count": 26,
   "metadata": {},
   "outputs": [
    {
     "name": "stdout",
     "output_type": "stream",
     "text": [
      "Added to complete first drive median days: 4\n"
     ]
    },
    {
     "data": {
      "image/png": "[encoded data removed]",
      "text/plain": [
       "<Figure size 432x288 with 1 Axes>"
      ]
     },
     "metadata": {},
     "output_type": "display_data"
    }
   ],
   "source": [
    "print('Added to complete first drive median days: %d'%\n",
    "      df[df['added_to_completed'].notnull()]['added_to_completed'].median())\n",
    "counts, bins, fig = plt.hist(df[df['added_to_completed'].notnull()]['added_to_completed'])\n",
    "plt.show()"
   ]
  },
  {
   "cell_type": "code",
   "execution_count": 27,
   "metadata": {},
   "outputs": [
    {
     "name": "stdout",
     "output_type": "stream",
     "text": [
      "Signup to added vehicle median days: 11\n"
     ]
    },
    {
     "data": {
      "image/png": "[encoded data removed]",
      "text/plain": [
       "<Figure size 432x288 with 1 Axes>"
      ]
     },
     "metadata": {},
     "output_type": "display_data"
    }
   ],
   "source": [
    "print('Signup to added vehicle median days: %d'%\n",
    "      df[df['signup_to_added'].notnull()]['signup_to_added'].median())\n",
    "counts, bins, fig = plt.hist(df[df['signup_to_added'].notnull()]['signup_to_added'])\n",
    "plt.show()"
   ]
  },
  {
   "cell_type": "code",
   "execution_count": 28,
   "metadata": {
    "collapsed": true
   },
   "outputs": [],
   "source": [
    "# Remove records with signup_to_added and signup_to_bgc larger than 30 days\n",
    "\n",
    "df_model = df_model[~((df_model['signup_to_added'] > 30) | (df_model['signup_to_bgc'] > 30))]"
   ]
  },
  {
   "cell_type": "code",
   "execution_count": 29,
   "metadata": {},
   "outputs": [
    {
     "data": {
      "text/html": [
       "<div>\n",
       "<style>\n",
       "    .dataframe thead tr:only-child th {\n",
       "        text-align: right;\n",
       "    }\n",
       "\n",
       "    .dataframe thead th {\n",
       "        text-align: left;\n",
       "    }\n",
       "\n",
       "    .dataframe tbody tr th {\n",
       "        vertical-align: top;\n",
       "    }\n",
       "</style>\n",
       "<table border=\"1\" class=\"dataframe\">\n",
       "  <thead>\n",
       "    <tr style=\"text-align: right;\">\n",
       "      <th></th>\n",
       "      <th>label</th>\n",
       "      <th>android</th>\n",
       "      <th>ios</th>\n",
       "      <th>mac</th>\n",
       "      <th>other</th>\n",
       "      <th>windows</th>\n",
       "      <th>Organic</th>\n",
       "      <th>Paid</th>\n",
       "      <th>Referral</th>\n",
       "      <th>vehicle</th>\n",
       "      <th>signup_to_bgc</th>\n",
       "      <th>signup_to_added</th>\n",
       "      <th>bgc_to_added</th>\n",
       "      <th>is_weekend</th>\n",
       "    </tr>\n",
       "  </thead>\n",
       "  <tbody>\n",
       "    <tr>\n",
       "      <th>count</th>\n",
       "      <td>51030.000000</td>\n",
       "      <td>51030.000000</td>\n",
       "      <td>51030.000000</td>\n",
       "      <td>51030.000000</td>\n",
       "      <td>51030.000000</td>\n",
       "      <td>51030.000000</td>\n",
       "      <td>51030.000000</td>\n",
       "      <td>51030.000000</td>\n",
       "      <td>51030.000000</td>\n",
       "      <td>10981.000000</td>\n",
       "      <td>29179.000000</td>\n",
       "      <td>10894.000000</td>\n",
       "      <td>10641.000000</td>\n",
       "      <td>51030.000000</td>\n",
       "    </tr>\n",
       "    <tr>\n",
       "      <th>mean</th>\n",
       "      <td>0.120047</td>\n",
       "      <td>0.272800</td>\n",
       "      <td>0.301450</td>\n",
       "      <td>0.105546</td>\n",
       "      <td>0.067098</td>\n",
       "      <td>0.123574</td>\n",
       "      <td>0.244621</td>\n",
       "      <td>0.444621</td>\n",
       "      <td>0.310758</td>\n",
       "      <td>6.323832</td>\n",
       "      <td>7.897221</td>\n",
       "      <td>10.107674</td>\n",
       "      <td>4.822855</td>\n",
       "      <td>0.407623</td>\n",
       "    </tr>\n",
       "    <tr>\n",
       "      <th>std</th>\n",
       "      <td>0.325020</td>\n",
       "      <td>0.445403</td>\n",
       "      <td>0.458892</td>\n",
       "      <td>0.307258</td>\n",
       "      <td>0.250194</td>\n",
       "      <td>0.329099</td>\n",
       "      <td>0.429866</td>\n",
       "      <td>0.496929</td>\n",
       "      <td>0.462809</td>\n",
       "      <td>33.491910</td>\n",
       "      <td>7.778861</td>\n",
       "      <td>8.648149</td>\n",
       "      <td>6.057502</td>\n",
       "      <td>0.491397</td>\n",
       "    </tr>\n",
       "    <tr>\n",
       "      <th>min</th>\n",
       "      <td>0.000000</td>\n",
       "      <td>0.000000</td>\n",
       "      <td>0.000000</td>\n",
       "      <td>0.000000</td>\n",
       "      <td>0.000000</td>\n",
       "      <td>0.000000</td>\n",
       "      <td>0.000000</td>\n",
       "      <td>0.000000</td>\n",
       "      <td>0.000000</td>\n",
       "      <td>0.000000</td>\n",
       "      <td>0.000000</td>\n",
       "      <td>-5.000000</td>\n",
       "      <td>-29.000000</td>\n",
       "      <td>0.000000</td>\n",
       "    </tr>\n",
       "    <tr>\n",
       "      <th>25%</th>\n",
       "      <td>0.000000</td>\n",
       "      <td>0.000000</td>\n",
       "      <td>0.000000</td>\n",
       "      <td>0.000000</td>\n",
       "      <td>0.000000</td>\n",
       "      <td>0.000000</td>\n",
       "      <td>0.000000</td>\n",
       "      <td>0.000000</td>\n",
       "      <td>0.000000</td>\n",
       "      <td>2.000000</td>\n",
       "      <td>1.000000</td>\n",
       "      <td>3.000000</td>\n",
       "      <td>1.000000</td>\n",
       "      <td>0.000000</td>\n",
       "    </tr>\n",
       "    <tr>\n",
       "      <th>50%</th>\n",
       "      <td>0.000000</td>\n",
       "      <td>0.000000</td>\n",
       "      <td>0.000000</td>\n",
       "      <td>0.000000</td>\n",
       "      <td>0.000000</td>\n",
       "      <td>0.000000</td>\n",
       "      <td>0.000000</td>\n",
       "      <td>0.000000</td>\n",
       "      <td>0.000000</td>\n",
       "      <td>4.000000</td>\n",
       "      <td>5.000000</td>\n",
       "      <td>8.000000</td>\n",
       "      <td>3.000000</td>\n",
       "      <td>0.000000</td>\n",
       "    </tr>\n",
       "    <tr>\n",
       "      <th>75%</th>\n",
       "      <td>0.000000</td>\n",
       "      <td>1.000000</td>\n",
       "      <td>1.000000</td>\n",
       "      <td>0.000000</td>\n",
       "      <td>0.000000</td>\n",
       "      <td>0.000000</td>\n",
       "      <td>0.000000</td>\n",
       "      <td>1.000000</td>\n",
       "      <td>1.000000</td>\n",
       "      <td>9.000000</td>\n",
       "      <td>12.000000</td>\n",
       "      <td>16.000000</td>\n",
       "      <td>7.000000</td>\n",
       "      <td>1.000000</td>\n",
       "    </tr>\n",
       "    <tr>\n",
       "      <th>max</th>\n",
       "      <td>1.000000</td>\n",
       "      <td>1.000000</td>\n",
       "      <td>1.000000</td>\n",
       "      <td>1.000000</td>\n",
       "      <td>1.000000</td>\n",
       "      <td>1.000000</td>\n",
       "      <td>1.000000</td>\n",
       "      <td>1.000000</td>\n",
       "      <td>1.000000</td>\n",
       "      <td>2017.000000</td>\n",
       "      <td>30.000000</td>\n",
       "      <td>30.000000</td>\n",
       "      <td>30.000000</td>\n",
       "      <td>1.000000</td>\n",
       "    </tr>\n",
       "  </tbody>\n",
       "</table>\n",
       "</div>"
      ],
      "text/plain": [
       "              label       android           ios           mac         other  \\\n",
       "count  51030.000000  51030.000000  51030.000000  51030.000000  51030.000000   \n",
       "mean       0.120047      0.272800      0.301450      0.105546      0.067098   \n",
       "std        0.325020      0.445403      0.458892      0.307258      0.250194   \n",
       "min        0.000000      0.000000      0.000000      0.000000      0.000000   \n",
       "25%        0.000000      0.000000      0.000000      0.000000      0.000000   \n",
       "50%        0.000000      0.000000      0.000000      0.000000      0.000000   \n",
       "75%        0.000000      1.000000      1.000000      0.000000      0.000000   \n",
       "max        1.000000      1.000000      1.000000      1.000000      1.000000   \n",
       "\n",
       "            windows       Organic          Paid      Referral       vehicle  \\\n",
       "count  51030.000000  51030.000000  51030.000000  51030.000000  10981.000000   \n",
       "mean       0.123574      0.244621      0.444621      0.310758      6.323832   \n",
       "std        0.329099      0.429866      0.496929      0.462809     33.491910   \n",
       "min        0.000000      0.000000      0.000000      0.000000      0.000000   \n",
       "25%        0.000000      0.000000      0.000000      0.000000      2.000000   \n",
       "50%        0.000000      0.000000      0.000000      0.000000      4.000000   \n",
       "75%        0.000000      0.000000      1.000000      1.000000      9.000000   \n",
       "max        1.000000      1.000000      1.000000      1.000000   2017.000000   \n",
       "\n",
       "       signup_to_bgc  signup_to_added  bgc_to_added    is_weekend  \n",
       "count   29179.000000     10894.000000  10641.000000  51030.000000  \n",
       "mean        7.897221        10.107674      4.822855      0.407623  \n",
       "std         7.778861         8.648149      6.057502      0.491397  \n",
       "min         0.000000        -5.000000    -29.000000      0.000000  \n",
       "25%         1.000000         3.000000      1.000000      0.000000  \n",
       "50%         5.000000         8.000000      3.000000      0.000000  \n",
       "75%        12.000000        16.000000      7.000000      1.000000  \n",
       "max        30.000000        30.000000     30.000000      1.000000  "
      ]
     },
     "execution_count": 29,
     "metadata": {},
     "output_type": "execute_result"
    }
   ],
   "source": [
    "df_model.describe()"
   ]
  },
  {
   "cell_type": "markdown",
   "metadata": {},
   "source": [
    "### Missing value imputation"
   ]
  },
  {
   "cell_type": "code",
   "execution_count": 30,
   "metadata": {
    "collapsed": true
   },
   "outputs": [],
   "source": [
    "# Missing value imputation\n",
    "# Assign the maximum value + 1 to the corresponding missing values\n",
    "\n",
    "df_model.loc[df_model['vehicle']== 2017, ['vehicle']] = 23\n",
    "df_model = df_model.fillna({'signup_to_bgc':31,'signup_to_added':31,'bgc_to_added':31, 'vehicle': 23}, inplace=True)"
   ]
  },
  {
   "cell_type": "code",
   "execution_count": 31,
   "metadata": {},
   "outputs": [
    {
     "data": {
      "text/plain": [
       "label              0\n",
       "city_name          0\n",
       "android            0\n",
       "ios                0\n",
       "mac                0\n",
       "other              0\n",
       "windows            0\n",
       "Organic            0\n",
       "Paid               0\n",
       "Referral           0\n",
       "vehicle            0\n",
       "signup_to_bgc      0\n",
       "signup_to_added    0\n",
       "bgc_to_added       0\n",
       "has_bgc            0\n",
       "has_vehicle        0\n",
       "is_weekend         0\n",
       "dtype: int64"
      ]
     },
     "execution_count": 31,
     "metadata": {},
     "output_type": "execute_result"
    }
   ],
   "source": [
    "df_model.isnull().sum()"
   ]
  },
  {
   "cell_type": "markdown",
   "metadata": {},
   "source": [
    "### Analyze the time interval between signup_date and first_completed_date\n",
    "\n",
    "1. Days it take for people between signup and take first drive\n",
    "2. Compare among different cities\n",
    "\n",
    "#### Remark\n",
    "\n",
    "All three cities have very similar pattern. We did not build separate model for each of the cities, instead we treated them all in one model."
   ]
  },
  {
   "cell_type": "code",
   "execution_count": 32,
   "metadata": {},
   "outputs": [
    {
     "data": {
      "image/png": "[encoded data removed]",
      "text/plain": [
       "<Figure size 1296x360 with 3 Axes>"
      ]
     },
     "metadata": {},
     "output_type": "display_data"
    }
   ],
   "source": [
    "# Create a feature to tell the date difference between signup and first_completed.\n",
    "\n",
    "fig = plt.figure(figsize=(18,5))\n",
    "ax1 = fig.add_subplot(131)\n",
    "ax1.hist(df[(df.city_name == 'Strark') & (df.first_completed_date.notnull())]['signup_to_completed'])\n",
    "ax1.set_title('Strark')\n",
    "\n",
    "ax2 = fig.add_subplot(132)\n",
    "ax2.hist(df[(df.city_name == 'Wrouver') & (df.first_completed_date.notnull())]['signup_to_completed'])\n",
    "ax2.set_title('Wrouver')\n",
    "\n",
    "ax3 = fig.add_subplot(133)\n",
    "ax3.hist(df[(df.city_name == 'Berton') & (df.first_completed_date.notnull())]['signup_to_completed'])\n",
    "ax3.set_title('Berton')\n",
    "\n",
    "plt.show()"
   ]
  },
  {
   "cell_type": "markdown",
   "metadata": {},
   "source": [
    "# Section II\n",
    "\n",
    "## **Build a statistical model to predict whether a driver that signed up will begin driving for Uber.**\n",
    "  * How did the model perform? Are there any caveats? How can Uber use your model to improve our product?"
   ]
  },
  {
   "cell_type": "markdown",
   "metadata": {},
   "source": [
    "### Model building\n",
    "\n",
    "We built a model to predict whether a driver who signed up will finish his first drive within 30 days. There is a big assumption or caveat here as we did not care about whether the drive finish his first drive after 30 days of signup. We did not treat differently between drivers who make their first drive in the first week of signup or in the fourth week of their signup. \n",
    "\n",
    "Both LogisticRegression and RandomForestClassifier are tried. Choose LogisticRegression as our model here, as it outputs probabilities directly and easy to see how each of the features affects whether the driver will finish a first drive or not. \n",
    "\n",
    "First we tried a base model with features in **features_base** to get a baseline. Then we tried to improve the model by adding features like **is_weekend**, **signup_to_bgc**, **bgc_to_added** and subtracting features like **'Organic'** to improve model. \n",
    "\n",
    "Cross validation and hyperparameters tuning are used during the model building process. We choose F1-score as our metric to improve our model prediction as we do not care about True Negative but we care about False Positive and False Negative predictions. After model building, we can also fine tune the threshold to improve F1-score. For the best model, we have F1 score 0.801 at threshold of 0.433 with precision 0.765 and recall 0.841.\n",
    "\n",
    "From the model output, we noticed **has_vehicle**, and **Referral** are the top three factors to affect probabilities to finish a first drive positively, while **signup_to_added**, **bgc_to_added**, and **signup_to_added** are the top three factors that affect probabilities to finish a first drive negatively. In other words, the drivers who signed up via Referral are more likely to finish a first drive. Drivers who had **bgc** are more likely to have finished first drive and who had added vehicle are more likely to finish first drive. On the other hand, the longer the drivers take to finish **bgc** after signup, the least likely the drivers will finish a first drive. The longer the drivers take to add vehicle after signup, the least likely the drivers will finish a first drive. The longer the drivers take to add vehicle after having **bgc**, the least likely the drivers will finish a first drive.\n",
    "\n",
    "#### Remark:\n",
    "\n",
    "  * Uber can focus more on Referral driver signup and promote it through Marketing and Campaign. \n",
    "  * Uber can remind drivers who signed up to have their **bgc** and add their vehicle.\n",
    "  * Uber can target more on Mac users when doing their marketing and campaign."
   ]
  },
  {
   "cell_type": "markdown",
   "metadata": {},
   "source": [
    "### Logistic Regression"
   ]
  },
  {
   "cell_type": "code",
   "execution_count": 33,
   "metadata": {
    "collapsed": true
   },
   "outputs": [],
   "source": [
    "df_model_saved = df_model.copy(deep=True)"
   ]
  },
  {
   "cell_type": "code",
   "execution_count": 34,
   "metadata": {},
   "outputs": [
    {
     "name": "stdout",
     "output_type": "stream",
     "text": [
      "For all market, accuracy 0.939\n",
      "Maximum F1 score is 0.763 at 0.400 with precision 0.702 and recall 0.836.\n"
     ]
    }
   ],
   "source": [
    "from sklearn.ensemble import RandomForestClassifier\n",
    "from sklearn.linear_model import LogisticRegressionCV\n",
    "from sklearn.model_selection import train_test_split\n",
    "from sklearn import metrics\n",
    "from sklearn import preprocessing\n",
    "\n",
    "features_base = features_less\n",
    "\n",
    "df_model = df_model_saved[['label'] + features_base]\n",
    "min_max_scaler = preprocessing.MinMaxScaler()\n",
    "np_scaled = min_max_scaler.fit_transform(df_model)\n",
    "df_model_norm = pd.DataFrame(np_scaled, columns=['label'] + features_base)\n",
    "\n",
    "df_model_norm['label'] = df_model_norm['label'].map(lambda x: 1 if x else -1)\n",
    "train, validation = train_test_split(df_model_norm, test_size=0.2)\n",
    "validation.reset_index(inplace=True)\n",
    "\n",
    "model = LogisticRegressionCV(\n",
    "    Cs=list(np.power(10.0, np.arange(-10, 10))), \n",
    "    penalty='l2', # 'l1', 'l2' \n",
    "    scoring='roc_auc',  # 'accuracy', 'roc_auc', 'neg_log_loss'\n",
    "    cv=5, \n",
    "    random_state=777, \n",
    "    max_iter=10000, \n",
    "    fit_intercept=True, \n",
    "    solver='newton-cg',  # 'newton-cg', ‘lbfgs’, ‘sag’; ‘liblinear’\n",
    "    tol=10\n",
    ")\n",
    "model_fit = model.fit(train[features_base], train['label'])\n",
    "feature_importance = np.std(train[features_base], 0) * model_fit.coef_[0]\n",
    "\n",
    "# The first column is the probability that the entry has the -1 label \n",
    "# and the second column is the probability that the entry has the +1 label.\n",
    "prediction = pd.DataFrame(model_fit.predict_proba(validation[features_base]), columns=['NotCompleted', 'Completed'])\n",
    "print('For all market, accuracy %.3f'%(model_fit.score(validation[features_base], validation['label'])))\n",
    "\n",
    "df_check = validation[['label']].join(prediction)\n",
    "\n",
    "i_m, F1 = 0, 0\n",
    "precision, recall = 0, 0\n",
    "for i in [j / 30 for j in range(1,21)]:\n",
    "    Y_true = df_check['label']\n",
    "    Y_predict = df_check['Completed'].map(lambda x: 1 if x > i else -1)\n",
    "    f = metrics.f1_score(Y_true, Y_predict)\n",
    "    p = metrics.precision_score(Y_true, Y_predict)\n",
    "    r = metrics.recall_score(Y_true, Y_predict)\n",
    "    if f > F1:\n",
    "        i_m, F1 = i, f\n",
    "        precision, recall = p, r\n",
    "print('Maximum F1 score is %.3f at %.3f with precision %.3f and recall %.3f.'%(F1, i_m, precision, recall))"
   ]
  },
  {
   "cell_type": "markdown",
   "metadata": {},
   "source": [
    "### Feature coefficients"
   ]
  },
  {
   "cell_type": "code",
   "execution_count": 35,
   "metadata": {},
   "outputs": [
    {
     "name": "stdout",
     "output_type": "stream",
     "text": [
      "           features      coef\n",
      "12      has_vehicle  1.368974\n",
      "2               mac  0.950531\n",
      "4           windows  0.865934\n",
      "3             other  0.727426\n",
      "6          Referral  0.537435\n",
      "1               ios  0.486457\n",
      "0           android  0.395368\n",
      "13       is_weekend  0.057139\n",
      "5              Paid -0.108220\n",
      "11          has_bgc -0.376318\n",
      "7           vehicle -0.506796\n",
      "10     bgc_to_added -0.892023\n",
      "8     signup_to_bgc -1.480252\n",
      "9   signup_to_added -4.205572\n"
     ]
    }
   ],
   "source": [
    "df_coef = {}\n",
    "df_coef['features'] = features_base\n",
    "df_coef['coef'] = model_fit.coef_[0]\n",
    "df_tt = pd.DataFrame(df_coef)\n",
    "df_tt.sort_values(by=['coef'], ascending=False, inplace=True)\n",
    "print(df_tt[['features', 'coef']])"
   ]
  },
  {
   "cell_type": "markdown",
   "metadata": {},
   "source": [
    "### Feature importance"
   ]
  },
  {
   "cell_type": "code",
   "execution_count": 36,
   "metadata": {},
   "outputs": [
    {
     "name": "stdout",
     "output_type": "stream",
     "text": [
      "            Feature  Importance\n",
      "12      has_vehicle    0.562029\n",
      "2               mac    0.292480\n",
      "4           windows    0.285028\n",
      "6          Referral    0.248493\n",
      "1               ios    0.223119\n",
      "3             other    0.182359\n",
      "0           android    0.176132\n",
      "13       is_weekend    0.028087\n",
      "5              Paid   -0.053811\n",
      "7           vehicle   -0.161942\n",
      "10     bgc_to_added   -0.163713\n",
      "11          has_bgc   -0.186141\n",
      "8     signup_to_bgc   -0.614092\n",
      "9   signup_to_added   -1.105200\n"
     ]
    }
   ],
   "source": [
    "df_t = pd.DataFrame(feature_importance, columns=['Importance'])\n",
    "df_t = df_t.reset_index().rename(columns={'index':'Feature'})\n",
    "df_t.sort_values(by=['Importance'], ascending=False, inplace=True)\n",
    "print(df_t)"
   ]
  },
  {
   "cell_type": "markdown",
   "metadata": {},
   "source": [
    "### Try RandomForestClassifier"
   ]
  },
  {
   "cell_type": "code",
   "execution_count": 37,
   "metadata": {
    "collapsed": true
   },
   "outputs": [],
   "source": [
    "# Try RandomForestClassifier\n",
    "if False:\n",
    "    from sklearn.model_selection import GridSearchCV\n",
    "\n",
    "    df_model_saved = df_model.copy(deep=True)\n",
    "    features_base = features\n",
    "\n",
    "    df_model = df_model_saved[['label'] + features_base]\n",
    "    min_max_scaler = preprocessing.MinMaxScaler()\n",
    "    np_scaled = min_max_scaler.fit_transform(df_model)\n",
    "    df_model_norm = pd.DataFrame(np_scaled, columns=['label'] + features_base)\n",
    "\n",
    "    df_model_norm['label'] = df_model_norm['label'].map(lambda x: 1 if x else -1)\n",
    "    train, validation = train_test_split(df_model_norm, test_size=0.2)\n",
    "    validation.reset_index(inplace=True)\n",
    "\n",
    "    model = RandomForestClassifier(n_jobs=-1)\n",
    "    parameters = {\n",
    "        \"n_estimators\" : [20, 50, 100, 200, 300],\n",
    "        \"max_depth\" : [4, 8, 16, 24, 32],\n",
    "        \"min_samples_leaf\" : [1, 2, 4, 8, 16],\n",
    "        \"max_features\":['sqrt', 'auto'],\n",
    "        \"criterion\":['gini', 'entropy'],\n",
    "        \"bootstrap\": [True, False]\n",
    "         }\n",
    "    model_cv = GridSearchCV(estimator=model, param_grid=parameters, cv= 8)\n",
    "    model_cv.fit(train[features_base], train['label'])\n",
    "    print(model_cv.best_params_)"
   ]
  },
  {
   "cell_type": "code",
   "execution_count": 38,
   "metadata": {
    "collapsed": true
   },
   "outputs": [],
   "source": [
    "if False: \n",
    "    model = RandomForestClassifier(n_jobs=-1, max_features='sqrt', \n",
    "                                   max_depth=16, min_samples_leaf=8, n_estimators=50)\n",
    "    model.fit(train[features_base], train['label'])\n",
    "\n",
    "    df_coef['features'] = features_base\n",
    "    df_coef['importance'] = model.feature_importances_.tolist()\n",
    "    df_rf = pd.DataFrame(df_coef)\n",
    "    df_rf.sort_values(by=['importance'], ascending=False, inplace=True)\n",
    "    print(df_rf[['features', 'importance']])"
   ]
  },
  {
   "cell_type": "markdown",
   "metadata": {},
   "source": [
    "# Section III\n",
    "\n",
    "## **Build a model to forecast the number of new drivers we expect to start every week.**\n",
    "  * How would you validate a model like this? What other information would you use if you had access to all of Uber's data?"
   ]
  },
  {
   "cell_type": "markdown",
   "metadata": {},
   "source": [
    "### Forecast number of new drivers to start every week\n",
    "\n",
    "In **Section II**, we have built a model to predict whether a new signup will start driving in the next 30 days. If we want to predict new drivers to start every week, we can build five similar models for drivers who signed up in different weeks and predict whether the driver will finish his first drive in the first week, in the second week, in the third week, in the fourth weekend and in the fifth week. \n",
    "\n",
    "If we want to predict new drivers to start in week 7/22/2018 - 7/28/2018, we can use the five models to predict total new drivers to start in week 7/22/2018 - 7/28/2018 and then add them up to get the expected number of new drivers to start this week.\n",
    "  * model 1 predicts whether drivers who signed up during 7/15/2018 - 7/21/2018 will finish first drive in 7/22/2018 - 7/28/2018.\n",
    "  * model 2 predicts whether drivers who signed up during 7/8/2018 - 7/14/2018 will finish first drive in 7/22/2018 - 7/28/2018.\n",
    "  * model 3 predicts whether drivers who signed up during 7/1/2018 - 7/7/2018 will finish first drive in 7/22/2018 - 7/28/2018.\n",
    "  * model 4 predicts whether drivers who signed up during 6/24/2018 - 6/30/2018 will finish first drive in 7/22/2018 - 7/28/2018.\n",
    "  * model 5 predicts whether drivers who signed up during 6/17/2018 - 6/23/2018 will finish first drive in 7/22/2018 - 7/28/2018.\n",
    "  * TotalNewDrivers = NumberModel1 + NumberModel2 + NumberModel3 + NumberModel4 + NumberModel5\n",
    "  \n",
    "For validation of such a model, we can use historical data and split them as training data, validation data and test data. Test data is the pretended 'future unseen data', which is after training data and validation data. Training data and validation data are the dataset for cross validation during model building. Training data and validation data are dataset from the same time period with a random splitting.   \n",
    "   \n",
    "Some other data will be useful for building a better model and making a better prediction. \n",
    "\n",
    "  * The first will be driver demographic data. Including these data will improve our model performance. \n",
    "  * The second will be marketing and campaign data. Marketing and campaign will affect new drivers to start every week. \n",
    "  * The third will be competitor data which will also affect new drivers. \n",
    "  \n",
    "I would like to explore the influence of these factors/data to new drivers. "
   ]
  },
  {
   "cell_type": "code",
   "execution_count": 39,
   "metadata": {},
   "outputs": [
    {
     "data": {
      "image/png": "[encoded data removed]",
      "text/plain": [
       "<Figure size 1008x720 with 4 Axes>"
      ]
     },
     "metadata": {},
     "output_type": "display_data"
    }
   ],
   "source": [
    "# Group drivers signed in one week as a cohort group\n",
    "# View the distribution of their first ride by date\n",
    "# All these different cohort groups follow very similar pattern \n",
    "# in the sense how much percent finish first drive in the first week, or in the second week, ...\n",
    "# This justifies our approach to build models to predict whether drivers signup will \n",
    "# finish their first drive in first week, or in second week, ... \n",
    "\n",
    "fig = plt.figure(figsize=(14, 10))\n",
    "ax1 = fig.add_subplot(221)\n",
    "ax1.hist(df[(df.signup_date >= '2016-01-03T00:00:00.000000000') \n",
    "            & (df.first_completed_date.notnull())\n",
    "           & (df.signup_date < '2016-01-10T00:00:00.000000000')].first_completed_date)\n",
    "ax1.set_title('For Week 1/3/2016')\n",
    "\n",
    "ax2 = fig.add_subplot(222)\n",
    "ax2.hist(df[(df.signup_date >= '2016-01-10T00:00:00.000000000') \n",
    "            & (df.first_completed_date.notnull())\n",
    "           & (df.signup_date < '2016-01-17T00:00:00.000000000')].first_completed_date)\n",
    "ax2.set_title('For Week 1/10/2016')\n",
    "\n",
    "ax3 = fig.add_subplot(223)\n",
    "ax3.hist(df[(df.signup_date >= '2016-01-17T00:00:00.000000000') \n",
    "            & (df.first_completed_date.notnull())\n",
    "           & (df.signup_date < '2016-01-24T00:00:00.000000000')].first_completed_date)\n",
    "ax3.set_title('For Week 1/17/2016')\n",
    "\n",
    "ax4 = fig.add_subplot(224)\n",
    "ax4.hist(df[(df.signup_date >= '2016-01-24T00:00:00.000000000') \n",
    "            & (df.first_completed_date.notnull())\n",
    "           & (df.signup_date < '2016-01-31T00:00:00.000000000')].first_completed_date)\n",
    "ax4.set_title('For Week 1/24/2016')\n",
    "\n",
    "plt.show()"
   ]
  },
  {
   "cell_type": "markdown",
   "metadata": {
    "collapsed": true
   },
   "source": [
    "### Thank you very much and have a great day!"
   ]
  }
 ],
 "metadata": {
  "kernelspec": {
   "display_name": "Python 3",
   "language": "python",
   "name": "python3"
  },
  "language_info": {
   "codemirror_mode": {
    "name": "ipython",
    "version": 3
   },
   "file_extension": ".py",
   "mimetype": "text/x-python",
   "name": "python",
   "nbconvert_exporter": "python",
   "pygments_lexer": "ipython3",
   "version": "3.6.3"
  }
 },
 "nbformat": 4,
 "nbformat_minor": 2
}
