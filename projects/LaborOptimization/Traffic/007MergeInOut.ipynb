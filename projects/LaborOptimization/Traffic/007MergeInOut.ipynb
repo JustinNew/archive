{
 "cells": [
  {
   "cell_type": "markdown",
   "metadata": {},
   "source": [
    "Merge IN and OUT prediction together\n",
    "--"
   ]
  },
  {
   "cell_type": "code",
   "execution_count": 1,
   "metadata": {
    "collapsed": true
   },
   "outputs": [],
   "source": [
    "import pandas as pd\n",
    "import numpy as np\n",
    "from xgboost import XGBRegressor\n",
    "from xgboost import plot_importance\n",
    "from sklearn.ensemble import RandomForestRegressor\n",
    "from sklearn.model_selection import GridSearchCV, RandomizedSearchCV\n",
    "from sklearn.model_selection import train_test_split\n",
    "import math, sys\n",
    "from matplotlib import pyplot as plt\n",
    "%matplotlib inline"
   ]
  },
  {
   "cell_type": "markdown",
   "metadata": {},
   "source": [
    "### Hourly"
   ]
  },
  {
   "cell_type": "code",
   "execution_count": 2,
   "metadata": {
    "collapsed": true
   },
   "outputs": [],
   "source": [
    "df_out = pd.read_csv('./000Deliverables/20181106_XGB_9_70_3_03_OUT/Clean_Daily2Hourly_V311_APE_XGB_9_70_3_03_OUT.csv')\n",
    "\n",
    "df_out['TRFFC_DTE'] = pd.to_datetime(df_out['Date'], infer_datetime_format=True)\n",
    "df_out['Date'] = df_out['TRFFC_DTE'].dt.strftime('%Y-%m-%d')\n",
    "\n",
    "df_out = df_out[['STR_ID', 'Date', 'SALEHOUR','IN_Clean', 'pred_hourly']]\n",
    "\n",
    "df_out.rename(columns={'pred_hourly':'out_pred', 'IN_Clean':'OUT_true'}, inplace=True)"
   ]
  },
  {
   "cell_type": "code",
   "execution_count": 3,
   "metadata": {
    "collapsed": true
   },
   "outputs": [],
   "source": [
    "df_in = pd.read_csv('./000Deliverables/20181106_XGB_9_70_3_03_IN/Clean_Daily2Hourly_V311_APE_XGB_9_70_3_03_IN.csv')\n",
    "\n",
    "df_in['TRFFC_DTE'] = pd.to_datetime(df_in['Date'], infer_datetime_format=True)\n",
    "df_in['Date'] = df_in['TRFFC_DTE'].dt.strftime('%Y-%m-%d')\n",
    "\n",
    "df_in = df_in[['STR_ID', 'Date', 'SALEHOUR','IN_Clean', 'pred_hourly']]\n",
    "\n",
    "df_in.rename(columns={'pred_hourly':'in_pred', 'IN_Clean':'IN_true'}, inplace=True)"
   ]
  },
  {
   "cell_type": "code",
   "execution_count": 4,
   "metadata": {},
   "outputs": [
    {
     "data": {
      "text/html": [
       "<div>\n",
       "<style>\n",
       "    .dataframe thead tr:only-child th {\n",
       "        text-align: right;\n",
       "    }\n",
       "\n",
       "    .dataframe thead th {\n",
       "        text-align: left;\n",
       "    }\n",
       "\n",
       "    .dataframe tbody tr th {\n",
       "        vertical-align: top;\n",
       "    }\n",
       "</style>\n",
       "<table border=\"1\" class=\"dataframe\">\n",
       "  <thead>\n",
       "    <tr style=\"text-align: right;\">\n",
       "      <th></th>\n",
       "      <th>STR_ID</th>\n",
       "      <th>Date</th>\n",
       "      <th>SALEHOUR</th>\n",
       "      <th>IN_true</th>\n",
       "      <th>in_pred</th>\n",
       "    </tr>\n",
       "  </thead>\n",
       "  <tbody>\n",
       "    <tr>\n",
       "      <th>0</th>\n",
       "      <td>7</td>\n",
       "      <td>2018-06-03</td>\n",
       "      <td>0</td>\n",
       "      <td>0.0</td>\n",
       "      <td>0.0</td>\n",
       "    </tr>\n",
       "    <tr>\n",
       "      <th>1</th>\n",
       "      <td>7</td>\n",
       "      <td>2018-06-03</td>\n",
       "      <td>1</td>\n",
       "      <td>0.0</td>\n",
       "      <td>0.0</td>\n",
       "    </tr>\n",
       "    <tr>\n",
       "      <th>2</th>\n",
       "      <td>7</td>\n",
       "      <td>2018-06-03</td>\n",
       "      <td>2</td>\n",
       "      <td>0.0</td>\n",
       "      <td>0.0</td>\n",
       "    </tr>\n",
       "  </tbody>\n",
       "</table>\n",
       "</div>"
      ],
      "text/plain": [
       "   STR_ID        Date  SALEHOUR  IN_true  in_pred\n",
       "0       7  2018-06-03         0      0.0      0.0\n",
       "1       7  2018-06-03         1      0.0      0.0\n",
       "2       7  2018-06-03         2      0.0      0.0"
      ]
     },
     "execution_count": 4,
     "metadata": {},
     "output_type": "execute_result"
    }
   ],
   "source": [
    "df_in.head(3)"
   ]
  },
  {
   "cell_type": "code",
   "execution_count": 5,
   "metadata": {},
   "outputs": [
    {
     "data": {
      "text/html": [
       "<div>\n",
       "<style>\n",
       "    .dataframe thead tr:only-child th {\n",
       "        text-align: right;\n",
       "    }\n",
       "\n",
       "    .dataframe thead th {\n",
       "        text-align: left;\n",
       "    }\n",
       "\n",
       "    .dataframe tbody tr th {\n",
       "        vertical-align: top;\n",
       "    }\n",
       "</style>\n",
       "<table border=\"1\" class=\"dataframe\">\n",
       "  <thead>\n",
       "    <tr style=\"text-align: right;\">\n",
       "      <th></th>\n",
       "      <th>STR_ID</th>\n",
       "      <th>Date</th>\n",
       "      <th>SALEHOUR</th>\n",
       "      <th>OUT_true</th>\n",
       "      <th>out_pred</th>\n",
       "    </tr>\n",
       "  </thead>\n",
       "  <tbody>\n",
       "    <tr>\n",
       "      <th>0</th>\n",
       "      <td>7</td>\n",
       "      <td>2018-06-03</td>\n",
       "      <td>0</td>\n",
       "      <td>0.0</td>\n",
       "      <td>0.0</td>\n",
       "    </tr>\n",
       "    <tr>\n",
       "      <th>1</th>\n",
       "      <td>7</td>\n",
       "      <td>2018-06-03</td>\n",
       "      <td>1</td>\n",
       "      <td>0.0</td>\n",
       "      <td>0.0</td>\n",
       "    </tr>\n",
       "    <tr>\n",
       "      <th>2</th>\n",
       "      <td>7</td>\n",
       "      <td>2018-06-03</td>\n",
       "      <td>2</td>\n",
       "      <td>0.0</td>\n",
       "      <td>0.0</td>\n",
       "    </tr>\n",
       "  </tbody>\n",
       "</table>\n",
       "</div>"
      ],
      "text/plain": [
       "   STR_ID        Date  SALEHOUR  OUT_true  out_pred\n",
       "0       7  2018-06-03         0       0.0       0.0\n",
       "1       7  2018-06-03         1       0.0       0.0\n",
       "2       7  2018-06-03         2       0.0       0.0"
      ]
     },
     "execution_count": 5,
     "metadata": {},
     "output_type": "execute_result"
    }
   ],
   "source": [
    "df_out.head(3)"
   ]
  },
  {
   "cell_type": "code",
   "execution_count": 6,
   "metadata": {
    "collapsed": true
   },
   "outputs": [],
   "source": [
    "df_all = df_in.merge(df_out, on=['STR_ID', 'Date', 'SALEHOUR'])"
   ]
  },
  {
   "cell_type": "code",
   "execution_count": 7,
   "metadata": {
    "collapsed": true
   },
   "outputs": [],
   "source": [
    "df_all['TRFFC_DTE'] = pd.to_datetime(df_all.Date + ' ' + df_all['SALEHOUR'].astype('str') + ':00:00',\n",
    "                                    infer_datetime_format=True)"
   ]
  },
  {
   "cell_type": "code",
   "execution_count": 8,
   "metadata": {
    "collapsed": true
   },
   "outputs": [],
   "source": [
    "df_all = df_all[['STR_ID', 'TRFFC_DTE', 'IN_true', 'in_pred', 'OUT_true', 'out_pred']]"
   ]
  },
  {
   "cell_type": "code",
   "execution_count": 9,
   "metadata": {
    "collapsed": true
   },
   "outputs": [],
   "source": [
    "df_all = df_all.assign(model_date=['2018-11-06' for i in range(len(df_all))])"
   ]
  },
  {
   "cell_type": "code",
   "execution_count": 10,
   "metadata": {
    "collapsed": true
   },
   "outputs": [],
   "source": [
    "df_all.to_csv('./000Deliverables/20181106_XGB_9_70_3_03_hourly_All.csv', index=False)"
   ]
  },
  {
   "cell_type": "code",
   "execution_count": 11,
   "metadata": {},
   "outputs": [
    {
     "data": {
      "text/html": [
       "<div>\n",
       "<style>\n",
       "    .dataframe thead tr:only-child th {\n",
       "        text-align: right;\n",
       "    }\n",
       "\n",
       "    .dataframe thead th {\n",
       "        text-align: left;\n",
       "    }\n",
       "\n",
       "    .dataframe tbody tr th {\n",
       "        vertical-align: top;\n",
       "    }\n",
       "</style>\n",
       "<table border=\"1\" class=\"dataframe\">\n",
       "  <thead>\n",
       "    <tr style=\"text-align: right;\">\n",
       "      <th></th>\n",
       "      <th>STR_ID</th>\n",
       "      <th>TRFFC_DTE</th>\n",
       "      <th>IN_true</th>\n",
       "      <th>in_pred</th>\n",
       "      <th>OUT_true</th>\n",
       "      <th>out_pred</th>\n",
       "      <th>model_date</th>\n",
       "    </tr>\n",
       "  </thead>\n",
       "  <tbody>\n",
       "    <tr>\n",
       "      <th>0</th>\n",
       "      <td>7</td>\n",
       "      <td>2018-06-03 00:00:00</td>\n",
       "      <td>0.0</td>\n",
       "      <td>0.0</td>\n",
       "      <td>0.0</td>\n",
       "      <td>0.0</td>\n",
       "      <td>2018-11-06</td>\n",
       "    </tr>\n",
       "    <tr>\n",
       "      <th>1</th>\n",
       "      <td>7</td>\n",
       "      <td>2018-06-03 01:00:00</td>\n",
       "      <td>0.0</td>\n",
       "      <td>0.0</td>\n",
       "      <td>0.0</td>\n",
       "      <td>0.0</td>\n",
       "      <td>2018-11-06</td>\n",
       "    </tr>\n",
       "    <tr>\n",
       "      <th>2</th>\n",
       "      <td>7</td>\n",
       "      <td>2018-06-03 02:00:00</td>\n",
       "      <td>0.0</td>\n",
       "      <td>0.0</td>\n",
       "      <td>0.0</td>\n",
       "      <td>0.0</td>\n",
       "      <td>2018-11-06</td>\n",
       "    </tr>\n",
       "  </tbody>\n",
       "</table>\n",
       "</div>"
      ],
      "text/plain": [
       "   STR_ID           TRFFC_DTE  IN_true  in_pred  OUT_true  out_pred  \\\n",
       "0       7 2018-06-03 00:00:00      0.0      0.0       0.0       0.0   \n",
       "1       7 2018-06-03 01:00:00      0.0      0.0       0.0       0.0   \n",
       "2       7 2018-06-03 02:00:00      0.0      0.0       0.0       0.0   \n",
       "\n",
       "   model_date  \n",
       "0  2018-11-06  \n",
       "1  2018-11-06  \n",
       "2  2018-11-06  "
      ]
     },
     "execution_count": 11,
     "metadata": {},
     "output_type": "execute_result"
    }
   ],
   "source": [
    "df_all.head(3)"
   ]
  },
  {
   "cell_type": "markdown",
   "metadata": {
    "collapsed": true
   },
   "source": [
    "### Daily"
   ]
  },
  {
   "cell_type": "code",
   "execution_count": 12,
   "metadata": {
    "collapsed": true
   },
   "outputs": [],
   "source": [
    "df_out = pd.read_csv('./000Deliverables/20181106_XGB_9_70_3_03_OUT/Clean_Daily_V311_APE_XGB_9_70_3_03_OUT.csv')\n",
    "\n",
    "df_out['TRFFC_DTE'] = pd.to_datetime(df_out['Date'], infer_datetime_format=True)\n",
    "df_out['Date'] = df_out['TRFFC_DTE'].dt.strftime('%Y-%m-%d')\n",
    "\n",
    "df_out = df_out[['STR_ID', 'Date', 'VSTR_IN_CNT', 'VSTR_IN_CNT_pred']]\n",
    "\n",
    "df_out.rename(columns={'VSTR_IN_CNT_pred':'out_pred', 'VSTR_IN_CNT':'OUT_true'}, inplace=True)"
   ]
  },
  {
   "cell_type": "code",
   "execution_count": 13,
   "metadata": {
    "collapsed": true
   },
   "outputs": [],
   "source": [
    "df_in = pd.read_csv('./000Deliverables/20181106_XGB_9_70_3_03_IN/Clean_Daily_V311_APE_XGB_9_70_3_03_IN.csv')\n",
    "\n",
    "df_in['TRFFC_DTE'] = pd.to_datetime(df_in['Date'], infer_datetime_format=True)\n",
    "df_in['Date'] = df_in['TRFFC_DTE'].dt.strftime('%Y-%m-%d')\n",
    "\n",
    "df_in = df_in[['STR_ID', 'Date', 'VSTR_IN_CNT', 'VSTR_IN_CNT_pred']]\n",
    "\n",
    "df_in.rename(columns={'VSTR_IN_CNT_pred':'in_pred', 'VSTR_IN_CNT':'IN_true'}, inplace=True)"
   ]
  },
  {
   "cell_type": "code",
   "execution_count": 14,
   "metadata": {},
   "outputs": [
    {
     "data": {
      "text/html": [
       "<div>\n",
       "<style>\n",
       "    .dataframe thead tr:only-child th {\n",
       "        text-align: right;\n",
       "    }\n",
       "\n",
       "    .dataframe thead th {\n",
       "        text-align: left;\n",
       "    }\n",
       "\n",
       "    .dataframe tbody tr th {\n",
       "        vertical-align: top;\n",
       "    }\n",
       "</style>\n",
       "<table border=\"1\" class=\"dataframe\">\n",
       "  <thead>\n",
       "    <tr style=\"text-align: right;\">\n",
       "      <th></th>\n",
       "      <th>STR_ID</th>\n",
       "      <th>Date</th>\n",
       "      <th>IN_true</th>\n",
       "      <th>in_pred</th>\n",
       "    </tr>\n",
       "  </thead>\n",
       "  <tbody>\n",
       "    <tr>\n",
       "      <th>0</th>\n",
       "      <td>7</td>\n",
       "      <td>2018-06-03</td>\n",
       "      <td>3881.0</td>\n",
       "      <td>3261.275391</td>\n",
       "    </tr>\n",
       "    <tr>\n",
       "      <th>1</th>\n",
       "      <td>7</td>\n",
       "      <td>2018-06-04</td>\n",
       "      <td>2426.0</td>\n",
       "      <td>2267.406738</td>\n",
       "    </tr>\n",
       "    <tr>\n",
       "      <th>2</th>\n",
       "      <td>7</td>\n",
       "      <td>2018-06-05</td>\n",
       "      <td>2390.0</td>\n",
       "      <td>2147.245117</td>\n",
       "    </tr>\n",
       "  </tbody>\n",
       "</table>\n",
       "</div>"
      ],
      "text/plain": [
       "   STR_ID        Date  IN_true      in_pred\n",
       "0       7  2018-06-03   3881.0  3261.275391\n",
       "1       7  2018-06-04   2426.0  2267.406738\n",
       "2       7  2018-06-05   2390.0  2147.245117"
      ]
     },
     "execution_count": 14,
     "metadata": {},
     "output_type": "execute_result"
    }
   ],
   "source": [
    "df_in.head(3)"
   ]
  },
  {
   "cell_type": "code",
   "execution_count": 15,
   "metadata": {},
   "outputs": [
    {
     "data": {
      "text/html": [
       "<div>\n",
       "<style>\n",
       "    .dataframe thead tr:only-child th {\n",
       "        text-align: right;\n",
       "    }\n",
       "\n",
       "    .dataframe thead th {\n",
       "        text-align: left;\n",
       "    }\n",
       "\n",
       "    .dataframe tbody tr th {\n",
       "        vertical-align: top;\n",
       "    }\n",
       "</style>\n",
       "<table border=\"1\" class=\"dataframe\">\n",
       "  <thead>\n",
       "    <tr style=\"text-align: right;\">\n",
       "      <th></th>\n",
       "      <th>STR_ID</th>\n",
       "      <th>Date</th>\n",
       "      <th>OUT_true</th>\n",
       "      <th>out_pred</th>\n",
       "    </tr>\n",
       "  </thead>\n",
       "  <tbody>\n",
       "    <tr>\n",
       "      <th>0</th>\n",
       "      <td>7</td>\n",
       "      <td>2018-06-03</td>\n",
       "      <td>3508.0</td>\n",
       "      <td>3149.876709</td>\n",
       "    </tr>\n",
       "    <tr>\n",
       "      <th>1</th>\n",
       "      <td>7</td>\n",
       "      <td>2018-06-04</td>\n",
       "      <td>2236.0</td>\n",
       "      <td>2134.440674</td>\n",
       "    </tr>\n",
       "    <tr>\n",
       "      <th>2</th>\n",
       "      <td>7</td>\n",
       "      <td>2018-06-05</td>\n",
       "      <td>2201.0</td>\n",
       "      <td>2040.486206</td>\n",
       "    </tr>\n",
       "  </tbody>\n",
       "</table>\n",
       "</div>"
      ],
      "text/plain": [
       "   STR_ID        Date  OUT_true     out_pred\n",
       "0       7  2018-06-03    3508.0  3149.876709\n",
       "1       7  2018-06-04    2236.0  2134.440674\n",
       "2       7  2018-06-05    2201.0  2040.486206"
      ]
     },
     "execution_count": 15,
     "metadata": {},
     "output_type": "execute_result"
    }
   ],
   "source": [
    "df_out.head(3)"
   ]
  },
  {
   "cell_type": "code",
   "execution_count": 16,
   "metadata": {
    "collapsed": true
   },
   "outputs": [],
   "source": [
    "df_all = df_in.merge(df_out, on=['STR_ID', 'Date'])"
   ]
  },
  {
   "cell_type": "code",
   "execution_count": 17,
   "metadata": {
    "collapsed": true
   },
   "outputs": [],
   "source": [
    "df_all = df_all[['STR_ID', 'Date', 'IN_true', 'in_pred', 'OUT_true', 'out_pred']]"
   ]
  },
  {
   "cell_type": "code",
   "execution_count": 18,
   "metadata": {
    "collapsed": true
   },
   "outputs": [],
   "source": [
    "df_all = df_all.assign(model_date=['2018-11-06' for i in range(len(df_all))])"
   ]
  },
  {
   "cell_type": "code",
   "execution_count": 19,
   "metadata": {
    "collapsed": true
   },
   "outputs": [],
   "source": [
    "df_all.to_csv('./000Deliverables/20181106_XGB_9_70_3_03_daily_All.csv', index=False)"
   ]
  },
  {
   "cell_type": "code",
   "execution_count": 20,
   "metadata": {},
   "outputs": [
    {
     "data": {
      "text/html": [
       "<div>\n",
       "<style>\n",
       "    .dataframe thead tr:only-child th {\n",
       "        text-align: right;\n",
       "    }\n",
       "\n",
       "    .dataframe thead th {\n",
       "        text-align: left;\n",
       "    }\n",
       "\n",
       "    .dataframe tbody tr th {\n",
       "        vertical-align: top;\n",
       "    }\n",
       "</style>\n",
       "<table border=\"1\" class=\"dataframe\">\n",
       "  <thead>\n",
       "    <tr style=\"text-align: right;\">\n",
       "      <th></th>\n",
       "      <th>STR_ID</th>\n",
       "      <th>Date</th>\n",
       "      <th>IN_true</th>\n",
       "      <th>in_pred</th>\n",
       "      <th>OUT_true</th>\n",
       "      <th>out_pred</th>\n",
       "      <th>model_date</th>\n",
       "    </tr>\n",
       "  </thead>\n",
       "  <tbody>\n",
       "    <tr>\n",
       "      <th>0</th>\n",
       "      <td>7</td>\n",
       "      <td>2018-06-03</td>\n",
       "      <td>3881.0</td>\n",
       "      <td>3261.275391</td>\n",
       "      <td>3508.0</td>\n",
       "      <td>3149.876709</td>\n",
       "      <td>2018-11-06</td>\n",
       "    </tr>\n",
       "    <tr>\n",
       "      <th>1</th>\n",
       "      <td>7</td>\n",
       "      <td>2018-06-04</td>\n",
       "      <td>2426.0</td>\n",
       "      <td>2267.406738</td>\n",
       "      <td>2236.0</td>\n",
       "      <td>2134.440674</td>\n",
       "      <td>2018-11-06</td>\n",
       "    </tr>\n",
       "    <tr>\n",
       "      <th>2</th>\n",
       "      <td>7</td>\n",
       "      <td>2018-06-05</td>\n",
       "      <td>2390.0</td>\n",
       "      <td>2147.245117</td>\n",
       "      <td>2201.0</td>\n",
       "      <td>2040.486206</td>\n",
       "      <td>2018-11-06</td>\n",
       "    </tr>\n",
       "  </tbody>\n",
       "</table>\n",
       "</div>"
      ],
      "text/plain": [
       "   STR_ID        Date  IN_true      in_pred  OUT_true     out_pred  model_date\n",
       "0       7  2018-06-03   3881.0  3261.275391    3508.0  3149.876709  2018-11-06\n",
       "1       7  2018-06-04   2426.0  2267.406738    2236.0  2134.440674  2018-11-06\n",
       "2       7  2018-06-05   2390.0  2147.245117    2201.0  2040.486206  2018-11-06"
      ]
     },
     "execution_count": 20,
     "metadata": {},
     "output_type": "execute_result"
    }
   ],
   "source": [
    "df_all.head(3)"
   ]
  },
  {
   "cell_type": "code",
   "execution_count": null,
   "metadata": {
    "collapsed": true
   },
   "outputs": [],
   "source": []
  }
 ],
 "metadata": {
  "kernelspec": {
   "display_name": "Python 3",
   "language": "python",
   "name": "python3"
  },
  "language_info": {
   "codemirror_mode": {
    "name": "ipython",
    "version": 3
   },
   "file_extension": ".py",
   "mimetype": "text/x-python",
   "name": "python",
   "nbconvert_exporter": "python",
   "pygments_lexer": "ipython3",
   "version": "3.6.3"
  }
 },
 "nbformat": 4,
 "nbformat_minor": 2
}
