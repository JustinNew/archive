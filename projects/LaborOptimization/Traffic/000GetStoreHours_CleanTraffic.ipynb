{
 "cells": [
  {
   "cell_type": "markdown",
   "metadata": {},
   "source": [
    "Traffic Analysis and Prediction\n",
    "----------"
   ]
  },
  {
   "cell_type": "code",
   "execution_count": 2,
   "metadata": {
    "collapsed": true
   },
   "outputs": [],
   "source": [
    "import pandas as pd\n",
    "import numpy as np\n",
    "import datetime, re, os\n",
    "from matplotlib import pyplot as plt\n",
    "%matplotlib inline"
   ]
  },
  {
   "cell_type": "markdown",
   "metadata": {},
   "source": [
    "## Store Hours"
   ]
  },
  {
   "cell_type": "markdown",
   "metadata": {},
   "source": [
    "### Read in store hours file"
   ]
  },
  {
   "cell_type": "code",
   "execution_count": 3,
   "metadata": {
    "collapsed": true
   },
   "outputs": [],
   "source": [
    "# Read the necessary sheets in the xlsx file for 2017.\n",
    "\n",
    "xlsx1 = pd.ExcelFile('celect_store_hours_2015-2017.xlsx')\n",
    "spring17_open = xlsx1.parse(8, skiprows=[i for i in range(19)])\n",
    "spring17_close = xlsx1.parse(9, skiprows=[i for i in range(19)])\n",
    "fall17_open = xlsx1.parse(10, skiprows=[i for i in range(19)])\n",
    "fall17_close = xlsx1.parse(11, skiprows=[i for i in range(19)])"
   ]
  },
  {
   "cell_type": "code",
   "execution_count": 4,
   "metadata": {
    "collapsed": true
   },
   "outputs": [],
   "source": [
    "# Read in necessary sheet in the xlsx file for 2018.\n",
    "\n",
    "xlsx2 = pd.ExcelFile('celect_store_hours_2018.xlsx')\n",
    "quarter1 = xlsx2.parse(0, skiprows=[i for i in range(19)])\n",
    "quarter2 = xlsx2.parse(1, skiprows=[i for i in range(19)])\n",
    "quarter3 = xlsx2.parse(2, skiprows=[i for i in range(19)])"
   ]
  },
  {
   "cell_type": "markdown",
   "metadata": {},
   "source": [
    "### Process close and open hours for 2017"
   ]
  },
  {
   "cell_type": "code",
   "execution_count": 5,
   "metadata": {
    "collapsed": true
   },
   "outputs": [],
   "source": [
    "# Select only store_id and date columns\n",
    "\n",
    "# For spring17_open\n",
    "col_spring2017_o = ['STR #']+ [i for i in spring17_open.columns.tolist() if type(i) == datetime.datetime]\n",
    "spring17_open = spring17_open[col_spring2017_o]\n",
    "map_spring2017_o = {i:i.strftime('%Y-%m-%d') for i in col_spring2017_o if i != 'STR #'}\n",
    "spring17_open.rename(columns=map_spring2017_o, inplace=True)\n",
    "\n",
    "# For spring17_close\n",
    "col_spring2017_c = ['STR #']+ [i for i in spring17_close.columns.tolist() if type(i) == datetime.datetime]\n",
    "spring17_close = spring17_close[col_spring2017_c]\n",
    "map_spring2017_c = {i:i.strftime('%Y-%m-%d') for i in col_spring2017_c if i != 'STR #'}\n",
    "spring17_close.rename(columns=map_spring2017_c, inplace=True)\n",
    "\n",
    "# For fall17_open\n",
    "col_fall2017_o = ['STR #']+ [i for i in fall17_open.columns.tolist() if type(i) == datetime.datetime]\n",
    "fall17_open = fall17_open[col_fall2017_o]\n",
    "map_fall2017_o = {i:i.strftime('%Y-%m-%d') for i in col_fall2017_o if i != 'STR #'}\n",
    "fall17_open.rename(columns=map_fall2017_o, inplace=True)\n",
    "\n",
    "# For fall17_close\n",
    "col_fall2017_c = ['STR #']+ [i for i in fall17_close.columns.tolist() if type(i) == datetime.datetime]\n",
    "fall17_close = fall17_close[col_fall2017_c]\n",
    "map_fall2017_c = {i:i.strftime('%Y-%m-%d') for i in col_fall2017_c if i != 'STR #'}\n",
    "fall17_close.rename(columns=map_fall2017_c, inplace=True)"
   ]
  },
  {
   "cell_type": "code",
   "execution_count": 6,
   "metadata": {
    "collapsed": true
   },
   "outputs": [],
   "source": [
    "# Do join to get open and close for 2017.\n",
    "\n",
    "open_2017 = spring17_open[spring17_open['STR #'].notnull()].merge(fall17_open[fall17_open['STR #'].notnull()], on='STR #')\n",
    "close_2017 = spring17_close[spring17_close['STR #'].notnull()].merge(fall17_close[fall17_close['STR #'].notnull()], on='STR #')"
   ]
  },
  {
   "cell_type": "code",
   "execution_count": 7,
   "metadata": {},
   "outputs": [
    {
     "data": {
      "text/html": [
       "<div>\n",
       "<style>\n",
       "    .dataframe thead tr:only-child th {\n",
       "        text-align: right;\n",
       "    }\n",
       "\n",
       "    .dataframe thead th {\n",
       "        text-align: left;\n",
       "    }\n",
       "\n",
       "    .dataframe tbody tr th {\n",
       "        vertical-align: top;\n",
       "    }\n",
       "</style>\n",
       "<table border=\"1\" class=\"dataframe\">\n",
       "  <thead>\n",
       "    <tr style=\"text-align: right;\">\n",
       "      <th></th>\n",
       "      <th>STR #</th>\n",
       "      <th>2017-07-30</th>\n",
       "      <th>2017-07-31</th>\n",
       "      <th>2017-08-01</th>\n",
       "      <th>2017-08-02</th>\n",
       "      <th>2017-08-03</th>\n",
       "      <th>2017-08-04</th>\n",
       "      <th>2017-08-05</th>\n",
       "      <th>2017-08-06</th>\n",
       "      <th>2017-08-07</th>\n",
       "      <th>...</th>\n",
       "      <th>2018-01-25</th>\n",
       "      <th>2018-01-26</th>\n",
       "      <th>2018-01-27</th>\n",
       "      <th>2018-01-28</th>\n",
       "      <th>2018-01-29</th>\n",
       "      <th>2018-01-30</th>\n",
       "      <th>2018-01-31</th>\n",
       "      <th>2018-02-01</th>\n",
       "      <th>2018-02-02</th>\n",
       "      <th>2018-02-03</th>\n",
       "    </tr>\n",
       "  </thead>\n",
       "  <tbody>\n",
       "    <tr>\n",
       "      <th>0</th>\n",
       "      <td>7.0</td>\n",
       "      <td>9.0</td>\n",
       "      <td>9.0</td>\n",
       "      <td>9.0</td>\n",
       "      <td>9.0</td>\n",
       "      <td>9.0</td>\n",
       "      <td>9.0</td>\n",
       "      <td>8.0</td>\n",
       "      <td>9.0</td>\n",
       "      <td>9.0</td>\n",
       "      <td>...</td>\n",
       "      <td>9.0</td>\n",
       "      <td>9.0</td>\n",
       "      <td>8.0</td>\n",
       "      <td>9.0</td>\n",
       "      <td>9.0</td>\n",
       "      <td>9.0</td>\n",
       "      <td>9.0</td>\n",
       "      <td>9.0</td>\n",
       "      <td>9.0</td>\n",
       "      <td>8.0</td>\n",
       "    </tr>\n",
       "    <tr>\n",
       "      <th>1</th>\n",
       "      <td>8.0</td>\n",
       "      <td>9.0</td>\n",
       "      <td>9.0</td>\n",
       "      <td>9.0</td>\n",
       "      <td>9.0</td>\n",
       "      <td>9.0</td>\n",
       "      <td>9.0</td>\n",
       "      <td>8.0</td>\n",
       "      <td>9.0</td>\n",
       "      <td>9.0</td>\n",
       "      <td>...</td>\n",
       "      <td>9.0</td>\n",
       "      <td>9.0</td>\n",
       "      <td>8.0</td>\n",
       "      <td>9.0</td>\n",
       "      <td>9.0</td>\n",
       "      <td>9.0</td>\n",
       "      <td>9.0</td>\n",
       "      <td>9.0</td>\n",
       "      <td>9.0</td>\n",
       "      <td>8.0</td>\n",
       "    </tr>\n",
       "    <tr>\n",
       "      <th>2</th>\n",
       "      <td>9.0</td>\n",
       "      <td>9.0</td>\n",
       "      <td>9.0</td>\n",
       "      <td>9.0</td>\n",
       "      <td>9.0</td>\n",
       "      <td>9.0</td>\n",
       "      <td>9.0</td>\n",
       "      <td>8.0</td>\n",
       "      <td>9.0</td>\n",
       "      <td>9.0</td>\n",
       "      <td>...</td>\n",
       "      <td>9.0</td>\n",
       "      <td>9.0</td>\n",
       "      <td>8.0</td>\n",
       "      <td>9.0</td>\n",
       "      <td>9.0</td>\n",
       "      <td>9.0</td>\n",
       "      <td>9.0</td>\n",
       "      <td>9.0</td>\n",
       "      <td>9.0</td>\n",
       "      <td>8.0</td>\n",
       "    </tr>\n",
       "  </tbody>\n",
       "</table>\n",
       "<p>3 rows × 190 columns</p>\n",
       "</div>"
      ],
      "text/plain": [
       "   STR #  2017-07-30  2017-07-31  2017-08-01  2017-08-02  2017-08-03  \\\n",
       "0    7.0         9.0         9.0         9.0         9.0         9.0   \n",
       "1    8.0         9.0         9.0         9.0         9.0         9.0   \n",
       "2    9.0         9.0         9.0         9.0         9.0         9.0   \n",
       "\n",
       "   2017-08-04  2017-08-05  2017-08-06  2017-08-07     ...      2018-01-25  \\\n",
       "0         9.0         8.0         9.0         9.0     ...             9.0   \n",
       "1         9.0         8.0         9.0         9.0     ...             9.0   \n",
       "2         9.0         8.0         9.0         9.0     ...             9.0   \n",
       "\n",
       "   2018-01-26  2018-01-27  2018-01-28  2018-01-29  2018-01-30  2018-01-31  \\\n",
       "0         9.0         8.0         9.0         9.0         9.0         9.0   \n",
       "1         9.0         8.0         9.0         9.0         9.0         9.0   \n",
       "2         9.0         8.0         9.0         9.0         9.0         9.0   \n",
       "\n",
       "   2018-02-01  2018-02-02  2018-02-03  \n",
       "0         9.0         9.0         8.0  \n",
       "1         9.0         9.0         8.0  \n",
       "2         9.0         9.0         8.0  \n",
       "\n",
       "[3 rows x 190 columns]"
      ]
     },
     "execution_count": 7,
     "metadata": {},
     "output_type": "execute_result"
    }
   ],
   "source": [
    "fall17_open.head(3)"
   ]
  },
  {
   "cell_type": "markdown",
   "metadata": {},
   "source": [
    "### Processing close and open hours for 2018"
   ]
  },
  {
   "cell_type": "code",
   "execution_count": 8,
   "metadata": {
    "collapsed": true
   },
   "outputs": [],
   "source": [
    "# Select only store_id and date columns\n",
    "\n",
    "# For Quarter1 2018\n",
    "col_quarter1 = ['STR #']+ [i for i in quarter1.columns.tolist() if type(i) == datetime.datetime]\n",
    "quarter1 = quarter1[col_quarter1]\n",
    "map_quarter1 = {i:i.strftime('%Y-%m-%d') for i in col_quarter1 if i != 'STR #'}\n",
    "quarter1.rename(columns=map_quarter1, inplace=True)\n",
    "\n",
    "# For Quarter2 2018\n",
    "col_quarter2 = ['STR #']+ [i for i in quarter2.columns.tolist() if type(i) == datetime.datetime]\n",
    "quarter2 = quarter2[col_quarter2]\n",
    "map_quarter2 = {i:i.strftime('%Y-%m-%d') for i in col_quarter2 if i != 'STR #'}\n",
    "quarter2.rename(columns=map_quarter2, inplace=True)\n",
    "\n",
    "# For Quarter3 2018\n",
    "col_quarter3 = ['STR #']+ [i for i in quarter3.columns.tolist() if type(i) == datetime.datetime]\n",
    "quarter3 = quarter3[col_quarter3]\n",
    "map_quarter3 = {i:i.strftime('%Y-%m-%d') for i in col_quarter3 if i != 'STR #'}\n",
    "quarter3.rename(columns=map_quarter3, inplace=True)"
   ]
  },
  {
   "cell_type": "code",
   "execution_count": 9,
   "metadata": {
    "collapsed": true
   },
   "outputs": [],
   "source": [
    "# Join to get hours for 2018.\n",
    "\n",
    "hours_2018 = quarter1[quarter1['STR #'].notnull()].merge(quarter2[quarter2['STR #'].notnull()], on='STR #')\n",
    "hours_2018 = hours_2018.merge(quarter3[quarter3['STR #'].notnull()], on='STR #')"
   ]
  },
  {
   "cell_type": "code",
   "execution_count": 10,
   "metadata": {},
   "outputs": [
    {
     "data": {
      "text/html": [
       "<div>\n",
       "<style>\n",
       "    .dataframe thead tr:only-child th {\n",
       "        text-align: right;\n",
       "    }\n",
       "\n",
       "    .dataframe thead th {\n",
       "        text-align: left;\n",
       "    }\n",
       "\n",
       "    .dataframe tbody tr th {\n",
       "        vertical-align: top;\n",
       "    }\n",
       "</style>\n",
       "<table border=\"1\" class=\"dataframe\">\n",
       "  <thead>\n",
       "    <tr style=\"text-align: right;\">\n",
       "      <th></th>\n",
       "      <th>STR #</th>\n",
       "      <th>2018-02-04</th>\n",
       "      <th>2018-02-05</th>\n",
       "      <th>2018-02-06</th>\n",
       "      <th>2018-02-07</th>\n",
       "      <th>2018-02-08</th>\n",
       "      <th>2018-02-09</th>\n",
       "      <th>2018-02-10</th>\n",
       "      <th>2018-02-11</th>\n",
       "      <th>2018-02-12</th>\n",
       "      <th>...</th>\n",
       "      <th>2018-10-25</th>\n",
       "      <th>2018-10-26</th>\n",
       "      <th>2018-10-27</th>\n",
       "      <th>2018-10-28</th>\n",
       "      <th>2018-10-29</th>\n",
       "      <th>2018-10-30</th>\n",
       "      <th>2018-10-31</th>\n",
       "      <th>2018-11-01</th>\n",
       "      <th>2018-11-02</th>\n",
       "      <th>2018-11-03</th>\n",
       "    </tr>\n",
       "  </thead>\n",
       "  <tbody>\n",
       "    <tr>\n",
       "      <th>0</th>\n",
       "      <td>7</td>\n",
       "      <td>9a - 9p</td>\n",
       "      <td>9a - 10p</td>\n",
       "      <td>9a - 10p</td>\n",
       "      <td>9a - 10p</td>\n",
       "      <td>9a - 10p</td>\n",
       "      <td>9a - 11p</td>\n",
       "      <td>8a - 11p</td>\n",
       "      <td>9a - 9p</td>\n",
       "      <td>9a - 10p</td>\n",
       "      <td>...</td>\n",
       "      <td>9a - 10p</td>\n",
       "      <td>9a - 11p</td>\n",
       "      <td>8a - 11p</td>\n",
       "      <td>9a - 9p</td>\n",
       "      <td>9a - 10p</td>\n",
       "      <td>9a - 10p</td>\n",
       "      <td>9a - 10p</td>\n",
       "      <td>9a - 10p</td>\n",
       "      <td>9a - 11p</td>\n",
       "      <td>8a - 11p</td>\n",
       "    </tr>\n",
       "    <tr>\n",
       "      <th>1</th>\n",
       "      <td>8</td>\n",
       "      <td>9a - 9p</td>\n",
       "      <td>9a - 10p</td>\n",
       "      <td>9a - 10p</td>\n",
       "      <td>9a - 10p</td>\n",
       "      <td>9a - 10p</td>\n",
       "      <td>9a - 11p</td>\n",
       "      <td>8a - 11p</td>\n",
       "      <td>9a - 9p</td>\n",
       "      <td>9a - 10p</td>\n",
       "      <td>...</td>\n",
       "      <td>9a - 10p</td>\n",
       "      <td>9a - 11p</td>\n",
       "      <td>8a - 11p</td>\n",
       "      <td>9a - 9p</td>\n",
       "      <td>9a - 10p</td>\n",
       "      <td>9a - 10p</td>\n",
       "      <td>9a - 10p</td>\n",
       "      <td>9a - 10p</td>\n",
       "      <td>9a - 11p</td>\n",
       "      <td>8a - 11p</td>\n",
       "    </tr>\n",
       "    <tr>\n",
       "      <th>2</th>\n",
       "      <td>9</td>\n",
       "      <td>9a - 9p</td>\n",
       "      <td>9a - 10p</td>\n",
       "      <td>9a - 10p</td>\n",
       "      <td>9a - 10p</td>\n",
       "      <td>9a - 10p</td>\n",
       "      <td>9a - 11p</td>\n",
       "      <td>8a - 11p</td>\n",
       "      <td>9a - 9p</td>\n",
       "      <td>9a - 10p</td>\n",
       "      <td>...</td>\n",
       "      <td>9a - 10p</td>\n",
       "      <td>9a - 11p</td>\n",
       "      <td>8a - 11p</td>\n",
       "      <td>9a - 9p</td>\n",
       "      <td>9a - 10p</td>\n",
       "      <td>9a - 10p</td>\n",
       "      <td>9a - 10p</td>\n",
       "      <td>9a - 10p</td>\n",
       "      <td>9a - 11p</td>\n",
       "      <td>8a - 11p</td>\n",
       "    </tr>\n",
       "  </tbody>\n",
       "</table>\n",
       "<p>3 rows × 274 columns</p>\n",
       "</div>"
      ],
      "text/plain": [
       "   STR # 2018-02-04 2018-02-05 2018-02-06 2018-02-07 2018-02-08 2018-02-09  \\\n",
       "0      7    9a - 9p   9a - 10p   9a - 10p   9a - 10p   9a - 10p   9a - 11p   \n",
       "1      8    9a - 9p   9a - 10p   9a - 10p   9a - 10p   9a - 10p   9a - 11p   \n",
       "2      9    9a - 9p   9a - 10p   9a - 10p   9a - 10p   9a - 10p   9a - 11p   \n",
       "\n",
       "  2018-02-10 2018-02-11 2018-02-12    ...     2018-10-25 2018-10-26  \\\n",
       "0   8a - 11p    9a - 9p   9a - 10p    ...       9a - 10p   9a - 11p   \n",
       "1   8a - 11p    9a - 9p   9a - 10p    ...       9a - 10p   9a - 11p   \n",
       "2   8a - 11p    9a - 9p   9a - 10p    ...       9a - 10p   9a - 11p   \n",
       "\n",
       "  2018-10-27 2018-10-28 2018-10-29 2018-10-30 2018-10-31 2018-11-01  \\\n",
       "0   8a - 11p    9a - 9p   9a - 10p   9a - 10p   9a - 10p   9a - 10p   \n",
       "1   8a - 11p    9a - 9p   9a - 10p   9a - 10p   9a - 10p   9a - 10p   \n",
       "2   8a - 11p    9a - 9p   9a - 10p   9a - 10p   9a - 10p   9a - 10p   \n",
       "\n",
       "  2018-11-02 2018-11-03  \n",
       "0   9a - 11p   8a - 11p  \n",
       "1   9a - 11p   8a - 11p  \n",
       "2   9a - 11p   8a - 11p  \n",
       "\n",
       "[3 rows x 274 columns]"
      ]
     },
     "execution_count": 10,
     "metadata": {},
     "output_type": "execute_result"
    }
   ],
   "source": [
    "hours_2018.head(3)"
   ]
  },
  {
   "cell_type": "markdown",
   "metadata": {},
   "source": [
    "### Join 2017 and 2018 store hours for each store"
   ]
  },
  {
   "cell_type": "code",
   "execution_count": 11,
   "metadata": {
    "collapsed": true
   },
   "outputs": [],
   "source": [
    "# Define functions to be used.\n",
    "\n",
    "def getOpenHour(x):\n",
    "    \n",
    "    m = re.search(r'(\\d+)a -', x)\n",
    "    if m:\n",
    "        return int(m[1])\n",
    "    else:\n",
    "        return None\n",
    "    \n",
    "def getCloseHour(x):\n",
    "    \n",
    "    m = re.search(r'- (\\d+)p', x)\n",
    "    if m:\n",
    "        return int(m[1]) + 12\n",
    "    else:\n",
    "        return None\n"
   ]
  },
  {
   "cell_type": "code",
   "execution_count": 12,
   "metadata": {
    "collapsed": true
   },
   "outputs": [],
   "source": [
    "# Get store_lsit.\n",
    "\n",
    "t1 = hours_2018['STR #'].unique().tolist()\n",
    "t2 = open_2017['STR #'].unique().tolist()\n",
    "store_list = [i for i in t1 if i in t2]"
   ]
  },
  {
   "cell_type": "code",
   "execution_count": 13,
   "metadata": {
    "collapsed": true
   },
   "outputs": [],
   "source": [
    "# Get open hours for all stores and write into file.\n",
    "\n",
    "for store_id in store_list:\n",
    "    \n",
    "    # For 2018 store hours.\n",
    "    store_hour_18 = hours_2018[hours_2018['STR #'] == store_id].T\n",
    "    \n",
    "    # First row is 'STR #, 7', drop first row\n",
    "    store_hour_18 = store_hour_18[1:]\n",
    "\n",
    "    # Rename the column name, this is not hard coded.\n",
    "    col_old = store_hour_18.columns.tolist()[0]\n",
    "    store_hour_18.rename(columns={col_old:'Range'}, inplace=True)\n",
    "\n",
    "    # Reset_index (date) to be a column \n",
    "    store_hour_18.reset_index(inplace=True)\n",
    "    store_hour_18.rename(columns={'index':'Date'}, inplace=True)\n",
    "    \n",
    "    store_hour_18['open'] = store_hour_18['Range'].map(lambda x: getOpenHour(x))\n",
    "    store_hour_18['close'] = store_hour_18['Range'].map(lambda x: getCloseHour(x))\n",
    "    store_hour_18 = store_hour_18[['Date', 'open', 'close']]\n",
    "    \n",
    "    ###################################################################################################################\n",
    "    # For 2017 Store open hours.\n",
    "    store_hour_17_o = open_2017[open_2017['STR #'] == store_id].T\n",
    "\n",
    "    # First row is 'STR #, 7', drop first row\n",
    "    store_hour_17_o = store_hour_17_o[1:]\n",
    "\n",
    "    # Rename the column name, this is not hard coded.\n",
    "    col_old2 = store_hour_17_o.columns.tolist()[0]\n",
    "    store_hour_17_o.rename(columns={col_old2:'open'}, inplace=True)\n",
    "\n",
    "    # Reset_index (date) to be a column \n",
    "    store_hour_17_o.reset_index(inplace=True)\n",
    "    store_hour_17_o.rename(columns={'index':'Date'}, inplace=True)\n",
    "    \n",
    "    ###################################################################################################################\n",
    "    # For 2017 Store close hours.\n",
    "\n",
    "    store_hour_17_c = close_2017[close_2017['STR #'] == store_id].T\n",
    "\n",
    "    # First row is 'STR #, 7', drop first row\n",
    "    store_hour_17_c = store_hour_17_c[1:]\n",
    "\n",
    "    # Rename the column name, this is not hard coded.\n",
    "    col_old3 = store_hour_17_c.columns.tolist()[0]\n",
    "    store_hour_17_c.rename(columns={col_old3:'close'}, inplace=True)\n",
    "\n",
    "    # Reset_index (date) to be a column \n",
    "    store_hour_17_c.reset_index(inplace=True)\n",
    "    store_hour_17_c.rename(columns={'index':'Date'}, inplace=True)\n",
    "    \n",
    "    ###################################################################################################################\n",
    "    # Join 2017 open hour and close hour together.\n",
    "\n",
    "    store_hour_17 = store_hour_17_o.merge(store_hour_17_c, on='Date')\n",
    "    \n",
    "    ###################################################################################################################\n",
    "    store_hour = pd.concat([store_hour_17, store_hour_18])\n",
    "    \n",
    "    if not os.path.exists('./StoreOpenHours'):\n",
    "        os.mkdir('./StoreOpenHours')\n",
    "        \n",
    "    store_hour.to_csv('./StoreOpenHours/StoreHour_' + str(store_id) + '.csv', index=False)"
   ]
  },
  {
   "cell_type": "markdown",
   "metadata": {},
   "source": [
    "## Read in Traffic"
   ]
  },
  {
   "cell_type": "code",
   "execution_count": 14,
   "metadata": {
    "collapsed": true
   },
   "outputs": [],
   "source": [
    "# Read in Traffic data and po_date.\n",
    "\n",
    "traffic = pd.read_csv('./Data/Hourly_Traffic Beg 17 - Aug 18.txt')\n",
    "po_date = pd.read_csv('./Data/po_date_heuristic_v1.csv')"
   ]
  },
  {
   "cell_type": "code",
   "execution_count": 15,
   "metadata": {
    "collapsed": true
   },
   "outputs": [],
   "source": [
    "po_date = po_date[['CAL_EVNT_DTE', 'computed_po_date']]\n",
    "po_date.rename(columns={'CAL_EVNT_DTE':'Date', 'computed_po_date':'po_date'}, inplace=True)"
   ]
  },
  {
   "cell_type": "code",
   "execution_count": 16,
   "metadata": {
    "collapsed": true
   },
   "outputs": [],
   "source": [
    "# Convert String to Datetime and back to string \"2017-01-01\"\n",
    "\n",
    "traffic['TRFFC_DTE'] = pd.to_datetime(traffic.TRFFC_DTE, infer_datetime_format=True)\n",
    "traffic['Date'] = traffic['TRFFC_DTE'].dt.strftime('%Y-%m-%d')"
   ]
  },
  {
   "cell_type": "code",
   "execution_count": 17,
   "metadata": {},
   "outputs": [
    {
     "data": {
      "text/html": [
       "<div>\n",
       "<style>\n",
       "    .dataframe thead tr:only-child th {\n",
       "        text-align: right;\n",
       "    }\n",
       "\n",
       "    .dataframe thead th {\n",
       "        text-align: left;\n",
       "    }\n",
       "\n",
       "    .dataframe tbody tr th {\n",
       "        vertical-align: top;\n",
       "    }\n",
       "</style>\n",
       "<table border=\"1\" class=\"dataframe\">\n",
       "  <thead>\n",
       "    <tr style=\"text-align: right;\">\n",
       "      <th></th>\n",
       "      <th>STR_ID</th>\n",
       "      <th>TRFFC_DTE</th>\n",
       "      <th>SALEHOUR</th>\n",
       "      <th>VSTR_IN_CNT</th>\n",
       "      <th>VSTR_OUT_CNT</th>\n",
       "      <th>CONVERSION_RATE</th>\n",
       "      <th>Date</th>\n",
       "    </tr>\n",
       "  </thead>\n",
       "  <tbody>\n",
       "    <tr>\n",
       "      <th>0</th>\n",
       "      <td>772</td>\n",
       "      <td>2017-03-02</td>\n",
       "      <td>0</td>\n",
       "      <td>0</td>\n",
       "      <td>0</td>\n",
       "      <td>0.0</td>\n",
       "      <td>2017-03-02</td>\n",
       "    </tr>\n",
       "    <tr>\n",
       "      <th>1</th>\n",
       "      <td>552</td>\n",
       "      <td>2017-03-14</td>\n",
       "      <td>0</td>\n",
       "      <td>0</td>\n",
       "      <td>0</td>\n",
       "      <td>0.0</td>\n",
       "      <td>2017-03-14</td>\n",
       "    </tr>\n",
       "    <tr>\n",
       "      <th>2</th>\n",
       "      <td>303</td>\n",
       "      <td>2018-05-10</td>\n",
       "      <td>5</td>\n",
       "      <td>0</td>\n",
       "      <td>0</td>\n",
       "      <td>0.0</td>\n",
       "      <td>2018-05-10</td>\n",
       "    </tr>\n",
       "  </tbody>\n",
       "</table>\n",
       "</div>"
      ],
      "text/plain": [
       "   STR_ID  TRFFC_DTE  SALEHOUR  VSTR_IN_CNT  VSTR_OUT_CNT  CONVERSION_RATE  \\\n",
       "0     772 2017-03-02         0            0             0              0.0   \n",
       "1     552 2017-03-14         0            0             0              0.0   \n",
       "2     303 2018-05-10         5            0             0              0.0   \n",
       "\n",
       "         Date  \n",
       "0  2017-03-02  \n",
       "1  2017-03-14  \n",
       "2  2018-05-10  "
      ]
     },
     "execution_count": 17,
     "metadata": {},
     "output_type": "execute_result"
    }
   ],
   "source": [
    "traffic.head(3)"
   ]
  },
  {
   "cell_type": "code",
   "execution_count": 18,
   "metadata": {},
   "outputs": [
    {
     "name": "stdout",
     "output_type": "stream",
     "text": [
      "Total Store Number:  1171\n"
     ]
    }
   ],
   "source": [
    "print('Total Store Number: ', len(traffic.STR_ID.unique()))"
   ]
  },
  {
   "cell_type": "code",
   "execution_count": 19,
   "metadata": {},
   "outputs": [
    {
     "name": "stdout",
     "output_type": "stream",
     "text": [
      "First Date:  2016-09-27 Last Date:  2018-08-11\n"
     ]
    }
   ],
   "source": [
    "print('First Date: ', traffic.Date.unique().min(), 'Last Date: ', traffic.Date.unique().max())"
   ]
  },
  {
   "cell_type": "code",
   "execution_count": 20,
   "metadata": {},
   "outputs": [
    {
     "data": {
      "text/plain": [
       "Index(['STR_ID', 'TRFFC_DTE', 'SALEHOUR', 'VSTR_IN_CNT', 'VSTR_OUT_CNT',\n",
       "       'CONVERSION_RATE', 'Date'],\n",
       "      dtype='object')"
      ]
     },
     "execution_count": 20,
     "metadata": {},
     "output_type": "execute_result"
    }
   ],
   "source": [
    "traffic.columns"
   ]
  },
  {
   "cell_type": "code",
   "execution_count": 21,
   "metadata": {
    "collapsed": true
   },
   "outputs": [],
   "source": [
    "# Sort by store, by date and by hour.\n",
    "\n",
    "traffic.sort_values(by=['STR_ID', 'Date', 'SALEHOUR'], inplace=True)"
   ]
  },
  {
   "cell_type": "markdown",
   "metadata": {},
   "source": [
    "### Clean traffic data for each store by store hour and Get PO Traffic"
   ]
  },
  {
   "cell_type": "code",
   "execution_count": 22,
   "metadata": {
    "collapsed": true
   },
   "outputs": [],
   "source": [
    "# Define function to use.\n",
    "\n",
    "def cleanCount(x0, x1, x2, x3):\n",
    "    \n",
    "    if x1 >= x2 and x1 < x3:\n",
    "        return x0\n",
    "    else:\n",
    "        return 0"
   ]
  },
  {
   "cell_type": "code",
   "execution_count": 23,
   "metadata": {
    "collapsed": true
   },
   "outputs": [],
   "source": [
    "# Get store list.\n",
    "t1 = traffic['STR_ID'].unique().tolist()\n",
    "\n",
    "# store_list is from store hours data.\n",
    "store_list2 = [i for i in store_list if i in t1]"
   ]
  },
  {
   "cell_type": "code",
   "execution_count": 24,
   "metadata": {
    "collapsed": true
   },
   "outputs": [],
   "source": [
    "for store_id in store_list2:\n",
    "    \n",
    "    temp = traffic[traffic['STR_ID'] == store_id]\n",
    "    temp = temp[temp['Date'] >= '2017-01-29']\n",
    "    \n",
    "    # Read in store hours.\n",
    "    hours = pd.read_csv('./StoreOpenHours/StoreHour_' + str(store_id) + '.csv')\n",
    "    \n",
    "    # Merge Traffic and Hour together.\n",
    "    temp = temp.merge(hours, on='Date', how='left')\n",
    "    \n",
    "    temp['IN_Clean'] = temp[['VSTR_IN_CNT', 'SALEHOUR', \n",
    "                         'open', 'close']].apply(lambda x: cleanCount(x[0], x[1], x[2], x[3]), axis = 1)\n",
    "\n",
    "    temp['OUT_Clean'] = temp[['VSTR_OUT_CNT', 'SALEHOUR',  \n",
    "                         'open', 'close']].apply(lambda x: cleanCount(x[0], x[1], x[2], x[3]), axis = 1)\n",
    "    \n",
    "    # Merge to get PO date.\n",
    "    temp = temp.merge(po_date, on='Date', how='left')\n",
    "    \n",
    "    if not os.path.exists('./StoreHourlyTrafficClean'):\n",
    "        os.mkdir('./StoreHourlyTrafficClean')\n",
    "        \n",
    "    temp.to_csv('./StoreHourlyTrafficClean/HourlyTrafficClean_' + str(store_id) + '.csv', index=False)"
   ]
  },
  {
   "cell_type": "markdown",
   "metadata": {},
   "source": [
    "### Get PO Percent of Hourly Traffic"
   ]
  },
  {
   "cell_type": "code",
   "execution_count": 10,
   "metadata": {
    "collapsed": true
   },
   "outputs": [],
   "source": [
    "# Merge with PO_Date dataset\n",
    "# Get the po_date traffic\n",
    "\n",
    "traffic = traffic.merge(po_date, on='Date', how='left')\n",
    "traffic_saved = traffic.copy()\n",
    "traffic = traffic.merge(traffic[['STR_ID', 'Date', 'SALEHOUR', 'VSTR_IN_CNT']], \n",
    "                        left_on=['STR_ID', 'po_date', 'SALEHOUR'], \n",
    "                        right_on=['STR_ID', 'Date', 'SALEHOUR'], suffixes=('_0', '_po'),\n",
    "                       how='left')\n",
    "traffic.rename(columns={'Date_0':'Date', 'VSTR_IN_CNT_0': 'VSTR_IN_CNT'}, inplace=True)\n",
    "traffic = traffic[['STR_ID', 'TRFFC_DTE', 'SALEHOUR', 'VSTR_IN_CNT', 'VSTR_OUT_CNT',\n",
    "       'CONVERSION_RATE', 'Date', 'po_date', 'Date_po', 'VSTR_IN_CNT_po']]"
   ]
  },
  {
   "cell_type": "code",
   "execution_count": 11,
   "metadata": {
    "collapsed": true
   },
   "outputs": [],
   "source": [
    "# Get Daily Traffic\n",
    "\n",
    "traffic_daily = traffic[['Date', 'STR_ID', 'VSTR_IN_CNT', 'VSTR_OUT_CNT']].groupby(['STR_ID', \n",
    "                        'Date']).agg({'VSTR_IN_CNT': np.sum, 'VSTR_OUT_CNT': np.sum}).reset_index()"
   ]
  },
  {
   "cell_type": "code",
   "execution_count": 12,
   "metadata": {
    "collapsed": true
   },
   "outputs": [],
   "source": [
    "# Get po_date Hourly traffic percent.\n",
    "\n",
    "traffic = traffic.merge(traffic_daily[['STR_ID', 'Date', 'VSTR_IN_CNT']], \n",
    "                       left_on=['STR_ID', 'po_date'], right_on=['STR_ID', 'Date'],\n",
    "                       suffixes=('_0', '_total'), how='left')\n",
    "traffic.rename(columns={'Date_0':'Date', 'VSTR_IN_CNT_0': 'VSTR_IN_CNT'}, inplace=True)\n",
    "\n",
    "def HourlyPercent(x0, x1):\n",
    "    if x1 == 0:\n",
    "        return 0\n",
    "    else:\n",
    "        return round(x0 / x1, 4)\n",
    "    \n",
    "traffic['hour_percent'] = traffic[['VSTR_IN_CNT_po', 'VSTR_IN_CNT_total']].apply(lambda x: HourlyPercent(x[0], x[1]), \n",
    "                                                                              axis=1)\n",
    "\n",
    "traffic[['STR_ID', 'TRFFC_DTE', 'SALEHOUR', 'VSTR_IN_CNT', 'VSTR_OUT_CNT',\n",
    "       'CONVERSION_RATE', 'Date', 'po_date', 'VSTR_IN_CNT_po',\n",
    "       'VSTR_IN_CNT_total', 'hour_percent']].to_csv('Traffic_Hourly_WithPO_WithPercent.csv', index=False)"
   ]
  },
  {
   "cell_type": "code",
   "execution_count": 19,
   "metadata": {
    "collapsed": true
   },
   "outputs": [],
   "source": [
    "if False:\n",
    "    store_list = traffic.STR_ID.unique().tolist()\n",
    "    \n",
    "    for store_id in store_list:\n",
    "        temp = traffic[traffic['STR_ID'] == store_id].copy()\n",
    "        temp['DTE_HR'] = pd.to_datetime(temp.Date + ' ' + temp['SALEHOUR'].astype('str') + ':00:00', infer_datetime_format=True)\n",
    "        temp.to_csv('./StoreHourlyTraffic/HourlyTraffic_' + str(store_id) + '.csv', index=False)"
   ]
  },
  {
   "cell_type": "code",
   "execution_count": 14,
   "metadata": {
    "collapsed": true
   },
   "outputs": [],
   "source": [
    "temp_daily = traffic_daily[traffic_daily['STR_ID'] == 8].copy()\n",
    "temp_daily['TRFFC_DTE'] = pd.to_datetime(temp_daily.Date, infer_datetime_format=True)\n",
    "\n",
    "temp = traffic[traffic['STR_ID'] == 8].copy()\n",
    "temp['TRFFC_DTE'] = pd.to_datetime(temp.Date + ' ' + temp['SALEHOUR'].astype('str') + ':00:00', infer_datetime_format=True)"
   ]
  },
  {
   "cell_type": "code",
   "execution_count": 18,
   "metadata": {},
   "outputs": [
    {
     "data": {
      "text/html": [
       "<iframe id=\"igraph\" scrolling=\"no\" style=\"border:none;\" seamless=\"seamless\" src=\"https://plot.ly/~justinnew/202.embed\" height=\"576px\" width=\"864px\"></iframe>"
      ],
      "text/plain": [
       "<plotly.tools.PlotlyDisplay object>"
      ]
     },
     "execution_count": 18,
     "metadata": {},
     "output_type": "execute_result"
    }
   ],
   "source": [
    "import plotly.plotly as py\n",
    "py.sign_in('justinnew','YqtA9aVcQqaZeCHN1YrG')\n",
    "\n",
    "fig = plt.figure(figsize=(12,8))\n",
    "ax = fig.add_subplot(211)\n",
    "condition = (temp['Date'] >= '2017-06-12') & (temp['Date'] < '2017-06-19')\n",
    "ax.plot(temp[condition].TRFFC_DTE, temp[condition].VSTR_IN_CNT, color='blue')\n",
    "\n",
    "ax2 = fig.add_subplot(212)\n",
    "condition2 = (temp['Date'] >= '2018-06-01') & (temp['Date'] < '2018-07-01')\n",
    "ax2.plot(temp[condition2].TRFFC_DTE, temp[condition2].VSTR_IN_CNT, color='blue')\n",
    "ax2.plot(temp[condition2].TRFFC_DTE, temp[condition2].VSTR_IN_CNT_po, color='red')\n",
    "py.iplot_mpl(fig)"
   ]
  },
  {
   "cell_type": "code",
   "execution_count": 1,
   "metadata": {},
   "outputs": [],
   "source": [
    "if False:\n",
    "    import plotly.plotly as py\n",
    "    py.sign_in('justinnew','YqtA9aVcQqaZeCHN1YrG')\n",
    "\n",
    "    fig = plt.figure(figsize=(12,8))\n",
    "    ax = fig.add_subplot(211)\n",
    "    condition = (temp['Date'] >= '2017-03-20') & (temp['Date'] < '2017-03-27')\n",
    "    ax.plot(temp[condition].TRFFC_DTE, temp[condition].VSTR_IN_CNT, color='blue')\n",
    "\n",
    "    ax2 = fig.add_subplot(212)\n",
    "    condition2 = (temp['Date'] >= '2018-03-19') & (temp['Date'] < '2018-03-26')\n",
    "    ax2.plot(temp[condition2].TRFFC_DTE, temp[condition2].VSTR_IN_CNT, color='blue')\n",
    "    py.iplot_mpl(fig)"
   ]
  },
  {
   "cell_type": "code",
   "execution_count": 17,
   "metadata": {},
   "outputs": [
    {
     "data": {
      "text/html": [
       "<iframe id=\"igraph\" scrolling=\"no\" style=\"border:none;\" seamless=\"seamless\" src=\"https://plot.ly/~justinnew/190.embed\" height=\"432px\" width=\"1008px\"></iframe>"
      ],
      "text/plain": [
       "<plotly.tools.PlotlyDisplay object>"
      ]
     },
     "execution_count": 17,
     "metadata": {},
     "output_type": "execute_result"
    }
   ],
   "source": [
    "temp = traffic_daily[traffic_daily['STR_ID'] == 63].copy()\n",
    "temp['TRFFC_DTE'] = pd.to_datetime(temp.Date, infer_datetime_format=True)\n",
    "\n",
    "if False:\n",
    "    import plotly.plotly as py\n",
    "    py.sign_in('justinnew','YqtA9aVcQqaZeCHN1YrG')\n",
    "    fig = plt.figure(figsize=(14, 6))\n",
    "    ax1 = fig.add_subplot(111)\n",
    "    ax1.plot(temp.TRFFC_DTE, temp.VSTR_IN_CNT, color='red')\n",
    "    ax1.plot(temp.TRFFC_DTE, temp.VSTR_OUT_CNT, color='blue')\n",
    "    py.iplot_mpl(fig)"
   ]
  },
  {
   "cell_type": "code",
   "execution_count": 18,
   "metadata": {
    "collapsed": true
   },
   "outputs": [],
   "source": [
    "store_list = traffic_daily.STR_ID.unique().tolist()\n",
    "\n",
    "store_days = {}\n",
    "for store_id in store_list:\n",
    "    temp = traffic_daily[(traffic_daily['STR_ID'] == store_id) & (traffic_daily['Date'] >= '2017-01-29')].copy()\n",
    "    # temp.to_csv('./StoreDailyTraffic/DailyTraffic_' + str(store_id) + '.csv')\n",
    "    store_days[store_id] = len(temp)"
   ]
  },
  {
   "cell_type": "code",
   "execution_count": 19,
   "metadata": {},
   "outputs": [
    {
     "name": "stdout",
     "output_type": "stream",
     "text": [
      "[   0.    3.    1.    1.    3.    8.    7.   28.   65.   44.   83.  606.\n",
      "  322.    0.]\n"
     ]
    },
    {
     "data": {
      "image/png": "[encoded data removed]",
      "text/plain": [
       "<Figure size 432x288 with 1 Axes>"
      ]
     },
     "metadata": {},
     "output_type": "display_data"
    }
   ],
   "source": [
    "bin_list = [0, 100, 200, 250, 300, 350, 400, 430, 460, 490, 510, 530, 550, 570, 590]\n",
    "counts, bins, fig = plt.hist(store_days.values(), bins=bin_list)\n",
    "print(counts)"
   ]
  },
  {
   "cell_type": "code",
   "execution_count": 20,
   "metadata": {},
   "outputs": [
    {
     "name": "stdout",
     "output_type": "stream",
     "text": [
      "[7, 8, 9, 10, 14, 17, 18, 19, 25, 31, 32, 34, 35, 37, 41, 43, 48, 49, 54, 55, 57, 60, 62, 63, 64, 70, 71, 72, 73, 75, 77, 79, 84, 86, 89, 91, 95, 96, 97, 101, 103, 104, 105, 106, 107, 108, 109, 111, 112, 113, 114, 115, 117, 118, 119, 121, 123, 125, 126, 127, 129, 130, 132, 134, 136, 138, 139, 140, 141, 143, 147, 148, 149, 153, 154, 155, 156, 158, 159, 160, 162, 163, 165, 166, 167, 168, 169, 170, 171, 172, 173, 174, 175, 176, 177, 178, 179, 182, 183, 184, 185, 186, 187, 188, 189, 191, 193, 195, 196, 197, 198, 202, 204, 205, 206, 209, 210, 211, 212, 213, 214, 215, 216, 217, 218, 219, 220, 221, 222, 224, 225, 226, 227, 228, 229, 230, 231, 232, 233, 234, 235, 236, 237, 239, 240, 241, 242, 244, 247, 248, 249, 251, 252, 253, 254, 255, 256, 257, 258, 259, 260, 262, 263, 264, 265, 266, 268, 269, 270, 271, 272, 273, 274, 275, 276, 277, 278, 280, 282, 283, 284, 285, 286, 287, 288, 289, 290, 292, 293, 296, 297, 298, 299, 301, 302, 303, 304, 305, 306, 307, 308, 310, 311, 312, 313, 314, 315, 316, 317, 318, 319, 320, 321, 323, 324, 325, 326, 329, 330, 331, 332, 333, 334, 335, 336, 337, 338, 339, 340, 341, 342, 343, 344, 345, 346, 348, 349, 350, 351, 352, 353, 354, 355, 356, 357, 358, 359, 360, 361, 362, 363, 364, 365, 367, 368, 369, 370, 371, 372, 373, 377, 379, 380, 381, 382, 383, 384, 385, 386, 388, 389, 394, 395, 397, 398, 399, 401, 403, 405, 406, 407, 408, 409, 411, 413, 414, 415, 416, 417, 418, 419, 420, 421, 422, 423, 425, 426, 427, 428, 429, 430, 431, 432, 433, 435, 436, 437, 438, 439, 440, 441, 442, 444, 445, 446, 447, 449, 450, 451, 453, 454, 455, 456, 457, 458, 460, 461, 462, 463, 464, 465, 466, 468, 469, 470, 471, 472, 473, 474, 475, 477, 478, 479, 480, 481, 482, 483, 484, 485, 486, 487, 488, 489, 490, 491, 493, 494, 495, 496, 500, 501, 502, 503, 504, 505, 506, 507, 508, 509, 510, 511, 513, 514, 515, 516, 517, 518, 519, 520, 521, 522, 523, 524, 525, 526, 527, 528, 529, 530, 531, 532, 533, 534, 535, 537, 538, 539, 540, 542, 544, 545, 547, 548, 549, 550, 551, 552, 553, 555, 557, 559, 560, 562, 563, 564, 565, 567, 568, 569, 570, 571, 574, 575, 576, 577, 579, 581, 584, 585, 586, 587, 588, 589, 590, 591, 593, 595, 596, 598, 601, 602, 605, 608, 609, 611, 612, 613, 614, 615, 616, 618, 619, 620, 621, 622, 623, 624, 625, 626, 627, 630, 631, 633, 634, 636, 638, 639, 640, 642, 643, 644, 645, 646, 652, 653, 654, 656, 657, 658, 659, 662, 663, 664, 667, 668, 669, 673, 674, 675, 677, 678, 679, 680, 681, 682, 685, 686, 687, 689, 690, 691, 692, 693, 694, 695, 696, 697, 698, 699, 701, 702, 703, 704, 705, 708, 709, 710, 711, 712, 713, 714, 715, 716, 717, 720, 721, 722, 723, 724, 725, 726, 728, 729, 730, 731, 732, 733, 734, 735, 736, 737, 738, 739, 740, 741, 742, 743, 745, 746, 747, 748, 749, 752, 753, 755, 756, 757, 758, 759, 760, 761, 762, 763, 765, 766, 767, 768, 769, 770, 771, 773, 774, 776, 777, 778, 779, 780, 782, 783, 784, 785, 786, 787, 788, 790, 795, 796, 797, 798, 799, 951, 952, 953, 954, 955, 956, 957, 958, 960, 962, 963, 964, 967, 968, 969, 971, 973, 975, 976, 977, 980, 981, 982, 983, 985, 986, 987, 988, 990, 991, 992, 994, 995, 997, 998, 1002, 1003, 1004, 1006, 1007, 1008, 1009, 1010, 1011, 1013, 1014, 1015, 1016, 1017, 1018, 1019, 1020, 1021, 1022, 1023, 1024, 1025, 1027, 1028, 1030, 1032, 1033, 1034, 1035, 1036, 1037, 1038, 1040, 1041, 1042, 1043, 1045, 1047, 1048, 1049, 1050, 1051, 1052, 1053, 1055, 1056, 1057, 1058, 1059, 1060, 1062, 1063, 1064, 1065, 1066, 1067, 1068, 1069, 1070, 1071, 1072, 1075, 1076, 1077, 1078, 1079, 1081, 1082, 1083, 1084, 1085, 1086, 1087, 1089, 1091, 1092, 1093, 1094, 1095, 1096, 1097, 1098, 1103, 1104, 1105, 1106, 1107, 1108, 1109, 1110, 1111, 1112, 1113, 1115, 1117, 1118, 1119, 1121, 1122, 1123, 1124, 1125, 1126, 1127, 1128, 1132, 1133, 1134, 1135, 1136, 1137, 1138, 1139, 1140, 1141, 1142, 1143, 1145, 1147, 1149, 1151, 1153, 1155, 1156, 1157, 1158, 1159, 1160, 1161, 1162, 1163, 1165, 1166, 1167, 1169, 1171, 1172, 1173, 1174, 1175, 1176, 1177, 1178, 1179, 1181, 1182, 1183, 1184, 1185, 1186, 1187, 1188, 1189, 1190, 1191, 1192, 1194, 1195, 1196, 1197, 1198, 1199, 1200, 1202, 1203, 1204, 1205, 1207, 1209, 1211, 1212, 1215, 1216, 1217, 1219, 1221, 1223, 1224, 1225, 1227, 1228, 1230, 1232, 1233, 1236, 1237, 1238, 1240, 1241, 1242, 1243, 1245, 1249, 1250, 1253, 1255, 1256, 1257, 1261, 1262, 1264, 1265, 1266, 1267, 1268, 1269, 1272, 1275, 1277, 1279, 1281, 1282, 1283, 1284, 1285, 1286, 1288, 1290, 1291, 1292, 1293, 1294, 1295, 1300, 1302, 1303, 1304, 1305, 1306, 1307, 1308, 1309, 1310, 1312, 1313, 1314, 1315, 1316, 1317, 1318, 1319, 1320, 1324, 1326, 1327, 1328, 1329, 1330, 1332, 1334, 1340, 1342, 1343, 1347, 1349, 1350, 1352, 1353, 1354, 1355, 1356, 1357, 1359, 1361, 1362, 1363, 1365, 1370, 1372, 1373, 1374, 1377, 1378, 1381, 1382, 1383, 1385, 1386, 1388, 1389, 1390, 1391, 1393, 1394, 1395, 1396, 1397, 1399, 1400, 1401, 1403, 1404, 1405, 1407, 1408, 1409, 1410, 1411, 1413, 1415, 1416, 1418, 1419, 1420, 1421, 1422, 1424, 1425, 1426, 1428, 1429, 1430, 1431, 1432, 1434, 1435, 1436, 1437, 1438, 1439, 1440, 1441, 1442, 1443, 1445, 1447, 1453, 1454, 1455, 1456, 1458, 1462, 1463, 1466, 1467, 1468, 1469, 1470, 1474, 1476, 1480, 1481, 1482, 1483, 1484, 1487, 1492, 1493, 1494, 1498, 1499, 1500, 1501, 1502, 1503, 1504, 1506, 1507, 1508, 1510, 1515, 1516, 1517, 1518, 1519, 1520, 1522, 1529, 1530, 1534, 1535, 1536, 1537, 1538, 1539, 1540, 1542, 1543, 1544, 1545]\n"
     ]
    }
   ],
   "source": [
    "print([k for k, v in store_days.items() if v > 510])"
   ]
  },
  {
   "cell_type": "code",
   "execution_count": 21,
   "metadata": {},
   "outputs": [
    {
     "name": "stdout",
     "output_type": "stream",
     "text": [
      "[190, 291, 378, 556, 558, 603, 989, 1367, 1549, 1554, 1555]\n"
     ]
    }
   ],
   "source": [
    "print([k for k, v in store_days.items() if v < 400 and v > 300])"
   ]
  },
  {
   "cell_type": "code",
   "execution_count": null,
   "metadata": {
    "collapsed": true
   },
   "outputs": [],
   "source": []
  }
 ],
 "metadata": {
  "kernelspec": {
   "display_name": "Python 3",
   "language": "python",
   "name": "python3"
  },
  "language_info": {
   "codemirror_mode": {
    "name": "ipython",
    "version": 3
   },
   "file_extension": ".py",
   "mimetype": "text/x-python",
   "name": "python",
   "nbconvert_exporter": "python",
   "pygments_lexer": "ipython3",
   "version": "3.6.3"
  }
 },
 "nbformat": 4,
 "nbformat_minor": 2
}
