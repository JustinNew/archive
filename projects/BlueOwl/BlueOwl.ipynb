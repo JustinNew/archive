{
 "cells": [
  {
   "cell_type": "markdown",
   "metadata": {},
   "source": [
    "Tian - 20180925\n",
    "--"
   ]
  },
  {
   "cell_type": "code",
   "execution_count": 1,
   "metadata": {},
   "outputs": [
    {
     "name": "stderr",
     "output_type": "stream",
     "text": [
      "/Users/tkg8w58/anaconda/lib/python3.6/site-packages/statsmodels/compat/pandas.py:56: FutureWarning: The pandas.core.datetools module is deprecated and will be removed in a future version. Please use the pandas.tseries module instead.\n",
      "  from pandas.core import datetools\n"
     ]
    }
   ],
   "source": [
    "import pandas as pd\n",
    "from matplotlib import pyplot as plt\n",
    "import statsmodels.api as sm\n",
    "%matplotlib inline"
   ]
  },
  {
   "cell_type": "code",
   "execution_count": 2,
   "metadata": {
    "collapsed": true
   },
   "outputs": [],
   "source": [
    "# Read in train and test data\n",
    "train = pd.read_csv('./data/train.csv')\n",
    "test = pd.read_csv('./data/test.csv')"
   ]
  },
  {
   "cell_type": "code",
   "execution_count": 3,
   "metadata": {},
   "outputs": [
    {
     "data": {
      "text/html": [
       "<div>\n",
       "<style>\n",
       "    .dataframe thead tr:only-child th {\n",
       "        text-align: right;\n",
       "    }\n",
       "\n",
       "    .dataframe thead th {\n",
       "        text-align: left;\n",
       "    }\n",
       "\n",
       "    .dataframe tbody tr th {\n",
       "        vertical-align: top;\n",
       "    }\n",
       "</style>\n",
       "<table border=\"1\" class=\"dataframe\">\n",
       "  <thead>\n",
       "    <tr style=\"text-align: right;\">\n",
       "      <th></th>\n",
       "      <th>outcome</th>\n",
       "      <th>categorical</th>\n",
       "      <th>numeric</th>\n",
       "    </tr>\n",
       "  </thead>\n",
       "  <tbody>\n",
       "    <tr>\n",
       "      <th>count</th>\n",
       "      <td>195.000000</td>\n",
       "      <td>190.000000</td>\n",
       "      <td>191.000000</td>\n",
       "    </tr>\n",
       "    <tr>\n",
       "      <th>mean</th>\n",
       "      <td>0.605128</td>\n",
       "      <td>2.000000</td>\n",
       "      <td>52.178010</td>\n",
       "    </tr>\n",
       "    <tr>\n",
       "      <th>std</th>\n",
       "      <td>1.041893</td>\n",
       "      <td>0.690066</td>\n",
       "      <td>8.921868</td>\n",
       "    </tr>\n",
       "    <tr>\n",
       "      <th>min</th>\n",
       "      <td>0.000000</td>\n",
       "      <td>1.000000</td>\n",
       "      <td>33.000000</td>\n",
       "    </tr>\n",
       "    <tr>\n",
       "      <th>25%</th>\n",
       "      <td>0.000000</td>\n",
       "      <td>2.000000</td>\n",
       "      <td>45.000000</td>\n",
       "    </tr>\n",
       "    <tr>\n",
       "      <th>50%</th>\n",
       "      <td>0.000000</td>\n",
       "      <td>2.000000</td>\n",
       "      <td>52.000000</td>\n",
       "    </tr>\n",
       "    <tr>\n",
       "      <th>75%</th>\n",
       "      <td>1.000000</td>\n",
       "      <td>2.000000</td>\n",
       "      <td>58.000000</td>\n",
       "    </tr>\n",
       "    <tr>\n",
       "      <th>max</th>\n",
       "      <td>6.000000</td>\n",
       "      <td>3.000000</td>\n",
       "      <td>75.000000</td>\n",
       "    </tr>\n",
       "  </tbody>\n",
       "</table>\n",
       "</div>"
      ],
      "text/plain": [
       "          outcome  categorical     numeric\n",
       "count  195.000000   190.000000  191.000000\n",
       "mean     0.605128     2.000000   52.178010\n",
       "std      1.041893     0.690066    8.921868\n",
       "min      0.000000     1.000000   33.000000\n",
       "25%      0.000000     2.000000   45.000000\n",
       "50%      0.000000     2.000000   52.000000\n",
       "75%      1.000000     2.000000   58.000000\n",
       "max      6.000000     3.000000   75.000000"
      ]
     },
     "execution_count": 3,
     "metadata": {},
     "output_type": "execute_result"
    }
   ],
   "source": [
    "# Get statistics of train data\n",
    "train.describe()"
   ]
  },
  {
   "cell_type": "code",
   "execution_count": 4,
   "metadata": {},
   "outputs": [
    {
     "data": {
      "text/plain": [
       "array([0, 1, 3, 2, 5, 4, 6])"
      ]
     },
     "execution_count": 4,
     "metadata": {},
     "output_type": "execute_result"
    }
   ],
   "source": [
    "# Get the unique values of outcome\n",
    "\n",
    "train.outcome.unique()"
   ]
  },
  {
   "cell_type": "code",
   "execution_count": 5,
   "metadata": {},
   "outputs": [
    {
     "data": {
      "text/plain": [
       "array([  3.,   1.,  nan,   2.])"
      ]
     },
     "execution_count": 5,
     "metadata": {},
     "output_type": "execute_result"
    }
   ],
   "source": [
    "# Get the unique values of categorical\n",
    "\n",
    "train.categorical.unique()"
   ]
  },
  {
   "cell_type": "code",
   "execution_count": 6,
   "metadata": {},
   "outputs": [
    {
     "data": {
      "text/plain": [
       "array([ 41.,  44.,  nan,  40.,  42.,  46.,  33.,  38.,  37.,  39.,  43.,\n",
       "        45.,  49.,  47.,  57.,  50.,  52.,  48.,  54.,  53.,  51.,  55.,\n",
       "        61.,  56.,  35.,  59.,  66.,  58.,  60.,  63.,  64.,  62.,  67.,\n",
       "        65.,  72.,  69.,  70.,  68.,  75.,  71.])"
      ]
     },
     "execution_count": 6,
     "metadata": {},
     "output_type": "execute_result"
    }
   ],
   "source": [
    "# Get the unique values of numeric\n",
    "\n",
    "train.numeric.unique()"
   ]
  },
  {
   "cell_type": "code",
   "execution_count": 7,
   "metadata": {},
   "outputs": [
    {
     "data": {
      "text/plain": [
       "outcome        0\n",
       "categorical    5\n",
       "numeric        4\n",
       "dtype: int64"
      ]
     },
     "execution_count": 7,
     "metadata": {},
     "output_type": "execute_result"
    }
   ],
   "source": [
    "# Get the number of null values\n",
    "\n",
    "train.isnull().sum()"
   ]
  },
  {
   "cell_type": "code",
   "execution_count": 8,
   "metadata": {},
   "outputs": [
    {
     "data": {
      "image/png": "[encoded data removed]",
      "text/plain": [
       "<Figure size 432x288 with 1 Axes>"
      ]
     },
     "metadata": {},
     "output_type": "display_data"
    }
   ],
   "source": [
    "# Explore relationship between numeric and outcome\n",
    "fig = plt.scatter(train.numeric, train.outcome)\n",
    "plt.show()"
   ]
  },
  {
   "cell_type": "code",
   "execution_count": 9,
   "metadata": {},
   "outputs": [
    {
     "data": {
      "image/png": "[encoded data removed]",
      "text/plain": [
       "<Figure size 432x288 with 1 Axes>"
      ]
     },
     "metadata": {},
     "output_type": "display_data"
    }
   ],
   "source": [
    "# Explore relationship between categorical and outcome\n",
    "\n",
    "fig = plt.scatter(train.categorical, train.outcome)\n",
    "plt.show()"
   ]
  },
  {
   "cell_type": "code",
   "execution_count": 10,
   "metadata": {},
   "outputs": [
    {
     "data": {
      "image/png": "[encoded data removed]",
      "text/plain": [
       "<Figure size 432x288 with 1 Axes>"
      ]
     },
     "metadata": {},
     "output_type": "display_data"
    }
   ],
   "source": [
    "# Explore relationship between categorical and outcome\n",
    "\n",
    "counts, bins, fig = plt.hist(train.outcome)\n",
    "plt.show()"
   ]
  },
  {
   "cell_type": "code",
   "execution_count": 11,
   "metadata": {
    "collapsed": true
   },
   "outputs": [],
   "source": [
    "# Missing value imputation and feature engineering\n",
    "\n",
    "train = train.join(pd.get_dummies(train.categorical))\n",
    "test = test.join(pd.get_dummies(test.categorical))\n",
    "train.rename(columns={1.0:'X1', 2.0:'X2', 3.0:'X3'}, inplace=True)\n",
    "test.rename(columns={1.0:'X1', 2.0:'X2', 3.0:'X3'}, inplace=True)\n",
    "\n",
    "m = train.numeric.median()\n",
    "train = train.fillna({'numeric':m})\n",
    "\n",
    "m = test.numeric.median()\n",
    "test = test.fillna({'numeric':m})"
   ]
  },
  {
   "cell_type": "code",
   "execution_count": 12,
   "metadata": {},
   "outputs": [
    {
     "name": "stdout",
     "output_type": "stream",
     "text": [
      "Optimization terminated successfully.\n",
      "         Current function value: 0.893186\n",
      "         Iterations 7\n",
      "                          Poisson Regression Results                          \n",
      "==============================================================================\n",
      "Dep. Variable:                      y   No. Observations:                  195\n",
      "Model:                        Poisson   Df Residuals:                      190\n",
      "Method:                           MLE   Df Model:                            4\n",
      "Date:                Tue, 25 Sep 2018   Pseudo R-squ.:                  0.2145\n",
      "Time:                        14:55:40   Log-Likelihood:                -174.17\n",
      "converged:                       True   LL-Null:                       -221.74\n",
      "                                        LLR p-value:                 1.063e-19\n",
      "==============================================================================\n",
      "                 coef    std err          z      P>|z|      [0.025      0.975]\n",
      "------------------------------------------------------------------------------\n",
      "x1             0.0758      0.012      6.502      0.000       0.053       0.099\n",
      "x2            -1.4829      0.601     -2.467      0.014      -2.661      -0.305\n",
      "x3            -0.4133      0.515     -0.803      0.422      -1.423       0.596\n",
      "x4            -1.2039      0.604     -1.995      0.046      -2.387      -0.021\n",
      "const         -4.0675      0.815     -4.993      0.000      -5.664      -2.471\n",
      "==============================================================================\n"
     ]
    }
   ],
   "source": [
    "# Model and training\n",
    "\n",
    "cols = ['numeric', 'X1', 'X2', 'X3']\n",
    "X = [nums for nums in train[cols].values]\n",
    "X_test = [nums for nums in test[cols].values]\n",
    "\n",
    "# Adding constant to adding bias\n",
    "X = sm.add_constant(X, prepend=False)\n",
    "X_test = sm.add_constant(X_test, prepend=False)\n",
    "Y = [nums for nums in train['outcome'].values]\n",
    "\n",
    "# building the model\n",
    "model = sm.Poisson(Y, X)\n",
    "result = model.fit(method=\"newton\")\n",
    "\n",
    "print(result.summary())"
   ]
  },
  {
   "cell_type": "code",
   "execution_count": 13,
   "metadata": {},
   "outputs": [
    {
     "data": {
      "text/plain": [
       "array([ 3.72238257,  1.51242595,  3.72238257,  0.91139782,  2.8652503 ])"
      ]
     },
     "execution_count": 13,
     "metadata": {},
     "output_type": "execute_result"
    }
   ],
   "source": [
    "# Predictions\n",
    "\n",
    "result.predict(X_test)"
   ]
  }
 ],
 "metadata": {
  "kernelspec": {
   "display_name": "Python 3",
   "language": "python",
   "name": "python3"
  },
  "language_info": {
   "codemirror_mode": {
    "name": "ipython",
    "version": 3
   },
   "file_extension": ".py",
   "mimetype": "text/x-python",
   "name": "python",
   "nbconvert_exporter": "python",
   "pygments_lexer": "ipython3",
   "version": "3.6.3"
  }
 },
 "nbformat": 4,
 "nbformat_minor": 2
}
