{
 "cells": [
  {
   "cell_type": "markdown",
   "metadata": {},
   "source": [
    "# Wage Pressure Model"
   ]
  },
  {
   "cell_type": "markdown",
   "metadata": {},
   "source": [
    "## V2.12\n",
    "    1. For ChangeMeasure and DifferenceMeasure, deal with four cases separately and carefully.\n",
    "    2. Use hieararchy clustering with 7 clusters.\n",
    "\n",
    "### V2.11\n",
    "    1. Use +/-1, +/-3, +/-5 and 0 to quantify the Score changes\n",
    "    2. Get the mean from latest date for each column, and then scale the score change by different to the mean value.\n",
    "    3. Use ['CurrentStaffingScore', 'TurnoverScore', 'RecruitingScore',\n",
    "         'UnemploymentScore', 'KohlstoCountyCompScore', 'CountyScore',\n",
    "        'AcceptanceRateScore','ApplicantFlowScore']\n",
    "    4. Use hierarchy clustering  with “from sklearn.cluster import AgglomerativeClustering”"
   ]
  },
  {
   "cell_type": "code",
   "execution_count": 1,
   "metadata": {
    "collapsed": true
   },
   "outputs": [],
   "source": [
    "import pandas as pd\n",
    "import numpy as np\n",
    "from matplotlib import pyplot as plt\n",
    "import re\n",
    "import math\n",
    "%matplotlib inline"
   ]
  },
  {
   "cell_type": "markdown",
   "metadata": {},
   "source": [
    "## Read in Dataset"
   ]
  },
  {
   "cell_type": "code",
   "execution_count": 2,
   "metadata": {
    "collapsed": true
   },
   "outputs": [],
   "source": [
    "df = pd.read_csv('2017 Wage Pressure Model_example.csv')\n",
    "location = pd.read_csv('Store_location_m.csv')\n",
    "\n",
    "def getZip(x):\n",
    "    \n",
    "    if len(x) <= 1:\n",
    "        return ''\n",
    "    elif len(x) < 5:\n",
    "        return '0' + str(x)\n",
    "    else:\n",
    "        return str(x[:5])\n",
    "\n",
    "location['zip'] = location['PSTL_CDE'].map(lambda x: getZip(x))\n",
    "location = location.rename(columns={'EI_LOC_ID':'Location'})"
   ]
  },
  {
   "cell_type": "code",
   "execution_count": 3,
   "metadata": {
    "collapsed": true
   },
   "outputs": [],
   "source": [
    "# location.zip.tolist()"
   ]
  },
  {
   "cell_type": "markdown",
   "metadata": {},
   "source": [
    "### Rename column names to just include [a-zA-Z]."
   ]
  },
  {
   "cell_type": "code",
   "execution_count": 4,
   "metadata": {
    "collapsed": true
   },
   "outputs": [],
   "source": [
    "names = df.columns.tolist()\n",
    "new_names = []\n",
    "for i in names:\n",
    "    t = re.findall(r'[a-zA-Z]+', i)\n",
    "    new_names.append(''.join(t))\n",
    "    \n",
    "for i,j in zip(names, new_names):\n",
    "    df.rename(columns={i:j}, inplace=True)"
   ]
  },
  {
   "cell_type": "code",
   "execution_count": 5,
   "metadata": {
    "collapsed": true
   },
   "outputs": [],
   "source": [
    "df_saved = df.copy(deep=True)\n",
    "changecolumns = ['CurrentStaffingScore', 'TurnoverScore', 'RecruitingScore',\n",
    "         'UnemploymentScore', 'KohlstoCountyCompScore', 'CountyScore',\n",
    "        'AcceptanceRateScore','ApplicantFlowScore']\n",
    "df = df[['Location','EFFDT'] + changecolumns]"
   ]
  },
  {
   "cell_type": "code",
   "execution_count": 6,
   "metadata": {},
   "outputs": [
    {
     "data": {
      "text/plain": [
       "Location                    0\n",
       "EFFDT                       0\n",
       "CurrentStaffingScore        1\n",
       "TurnoverScore               2\n",
       "RecruitingScore           103\n",
       "UnemploymentScore          66\n",
       "KohlstoCountyCompScore     68\n",
       "CountyScore                68\n",
       "AcceptanceRateScore       100\n",
       "ApplicantFlowScore        103\n",
       "dtype: int64"
      ]
     },
     "execution_count": 6,
     "metadata": {},
     "output_type": "execute_result"
    }
   ],
   "source": [
    "df.isnull().sum()"
   ]
  },
  {
   "cell_type": "code",
   "execution_count": 7,
   "metadata": {
    "collapsed": true
   },
   "outputs": [],
   "source": [
    "df4_saved = df_saved[df_saved['EFFDT'] == '1/27/18'].copy(deep=True)\n",
    "df = df.dropna()"
   ]
  },
  {
   "cell_type": "code",
   "execution_count": 8,
   "metadata": {},
   "outputs": [
    {
     "data": {
      "text/plain": [
       "Location                  4489\n",
       "EFFDT                     4489\n",
       "CurrentStaffingScore      4489\n",
       "TurnoverScore             4489\n",
       "RecruitingScore           4489\n",
       "UnemploymentScore         4489\n",
       "KohlstoCountyCompScore    4489\n",
       "CountyScore               4489\n",
       "AcceptanceRateScore       4489\n",
       "ApplicantFlowScore        4489\n",
       "dtype: int64"
      ]
     },
     "execution_count": 8,
     "metadata": {},
     "output_type": "execute_result"
    }
   ],
   "source": [
    "df.notnull().sum()"
   ]
  },
  {
   "cell_type": "markdown",
   "metadata": {},
   "source": [
    "### Separate into four DataFrames according to EFFDT and join them back together. "
   ]
  },
  {
   "cell_type": "code",
   "execution_count": 9,
   "metadata": {
    "collapsed": true
   },
   "outputs": [],
   "source": [
    "df1 = df[df['EFFDT'] == '4/1/17'].copy(deep=True)\n",
    "df2 = df[df['EFFDT'] == '7/29/17'].copy(deep=True)\n",
    "df3 = df[df['EFFDT'] == '10/28/17'].copy(deep=True)\n",
    "df4 = df[df['EFFDT'] == '1/27/18'].copy(deep=True)"
   ]
  },
  {
   "cell_type": "code",
   "execution_count": 10,
   "metadata": {
    "collapsed": true
   },
   "outputs": [],
   "source": [
    "for i in changecolumns:\n",
    "    df1.rename(columns={i:i+'1'}, inplace=True)\n",
    "    df2.rename(columns={i:i+'2'}, inplace=True)\n",
    "    df3.rename(columns={i:i+'3'}, inplace=True)\n",
    "    \n",
    "df1 = df1[['Location'] + [i+'1' for i in changecolumns]]\n",
    "df2 = df2[['Location'] + [i+'2' for i in changecolumns]]\n",
    "df3 = df3[['Location'] + [i+'3' for i in changecolumns]]\n",
    "df4 = df4[['Location'] + changecolumns]"
   ]
  },
  {
   "cell_type": "code",
   "execution_count": 11,
   "metadata": {
    "collapsed": true
   },
   "outputs": [],
   "source": [
    "df4 = df4.join(df1.set_index('Location'), on='Location')\n",
    "df4 = df4.join(df2.set_index('Location'), on='Location')\n",
    "df4 = df4.join(df3.set_index('Location'), on='Location')"
   ]
  },
  {
   "cell_type": "code",
   "execution_count": 12,
   "metadata": {
    "collapsed": true
   },
   "outputs": [],
   "source": [
    "df4 = df4.dropna()"
   ]
  },
  {
   "cell_type": "code",
   "execution_count": 13,
   "metadata": {
    "collapsed": true
   },
   "outputs": [],
   "source": [
    "# df4.notnull().sum()"
   ]
  },
  {
   "cell_type": "markdown",
   "metadata": {},
   "source": [
    "### Get ChangeMeasure and DifferenceMeasure. "
   ]
  },
  {
   "cell_type": "code",
   "execution_count": 14,
   "metadata": {
    "collapsed": true
   },
   "outputs": [],
   "source": [
    "def measureScore(*x):\n",
    "    \n",
    "    s = 0\n",
    "    \n",
    "    s += 1 if x[2] > x[1] else -1 if x[2] < x[1] else 0\n",
    "    s += 3 if x[3] > x[2] else -3 if x[3] < x[2] else 0 \n",
    "    s += 5 if x[0] > x[3] else -5 if x[0] < x[3] else 0\n",
    "    \n",
    "    return s\n",
    "    \n",
    "for i in changecolumns:\n",
    "    df4[i+'Measure'] = df4[[i, i+'1', i+'2', i+'3']].apply(lambda x: measureScore(*x), axis=1) "
   ]
  },
  {
   "cell_type": "code",
   "execution_count": 15,
   "metadata": {},
   "outputs": [],
   "source": [
    "# df4.head()"
   ]
  },
  {
   "cell_type": "code",
   "execution_count": 16,
   "metadata": {
    "collapsed": true
   },
   "outputs": [],
   "source": [
    "df_mean = {}\n",
    "for i in changecolumns:\n",
    "    df_mean[i] = int(df4[i].mean()*10) / 10"
   ]
  },
  {
   "cell_type": "code",
   "execution_count": 17,
   "metadata": {},
   "outputs": [
    {
     "data": {
      "text/plain": [
       "{'AcceptanceRateScore': 2.5,\n",
       " 'ApplicantFlowScore': 1.9,\n",
       " 'CountyScore': 3.7,\n",
       " 'CurrentStaffingScore': 1.1,\n",
       " 'KohlstoCountyCompScore': 3.4,\n",
       " 'RecruitingScore': 2.3,\n",
       " 'TurnoverScore': 2.7,\n",
       " 'UnemploymentScore': 4.1}"
      ]
     },
     "execution_count": 17,
     "metadata": {},
     "output_type": "execute_result"
    }
   ],
   "source": [
    "df_mean"
   ]
  },
  {
   "cell_type": "code",
   "execution_count": 18,
   "metadata": {
    "collapsed": true
   },
   "outputs": [],
   "source": [
    "def scaleScore(x1, x2, avg):\n",
    "    \n",
    "    diff = x2 - avg\n",
    "    # Get worse and Worse than Avg.\n",
    "    if x1 >= 0 and diff >= 0:\n",
    "        return x1 * (diff + 1)\n",
    "    \n",
    "    # Get worse and Better than Avg.\n",
    "    elif x1 >= 0 and diff < 0:\n",
    "        diff = -1 * diff \n",
    "        return x1 * diff\n",
    "    \n",
    "    # Get better and Worse than Avg.\n",
    "    elif x1 < 0 and diff >= 0:\n",
    "        return x1 * diff\n",
    "    \n",
    "    # Get better and Better than Avg.\n",
    "    elif x1 < 0 and diff < 0:\n",
    "        diff = -1 * diff\n",
    "        return x1 * (diff + 1)\n",
    "\n",
    "for i in changecolumns:\n",
    "    df4[i+'Scale'] = df4[[i+'Measure', i]].apply(lambda x: scaleScore(x1 = x[0], x2 = x[1], avg = df_mean[i]), axis=1)"
   ]
  },
  {
   "cell_type": "code",
   "execution_count": 19,
   "metadata": {
    "collapsed": true
   },
   "outputs": [],
   "source": [
    "df4 = df4[['Location'] + [i + 'Measure' for i in changecolumns] + [i + 'Scale' for i in changecolumns]]"
   ]
  },
  {
   "cell_type": "code",
   "execution_count": 20,
   "metadata": {},
   "outputs": [],
   "source": [
    "# df4.dtypes"
   ]
  },
  {
   "cell_type": "code",
   "execution_count": 21,
   "metadata": {},
   "outputs": [
    {
     "name": "stdout",
     "output_type": "stream",
     "text": [
      "CurrentStaffingScoreScale range is [-14.50, 35.10].\n",
      "TurnoverScoreScale min range is [-24.30, 26.40].\n"
     ]
    }
   ],
   "source": [
    "print('CurrentStaffingScoreScale range is [%5.2f, %5.2f].'%\n",
    "      (min(df4['CurrentStaffingScoreScale'].unique()), max(df4['CurrentStaffingScoreScale'].unique())))\n",
    "print('TurnoverScoreScale min range is [%5.2f, %5.2f].'%\n",
    "      (min(df4['TurnoverScoreScale'].unique()), max(df4['TurnoverScoreScale'].unique())))"
   ]
  },
  {
   "cell_type": "code",
   "execution_count": 22,
   "metadata": {},
   "outputs": [
    {
     "name": "stdout",
     "output_type": "stream",
     "text": [
      "The numbre of leaves for 8 clusters is  1046.00.\n"
     ]
    }
   ],
   "source": [
    "from sklearn.cluster import AgglomerativeClustering\n",
    "\n",
    "X = df4[[i+'Scale' for i in ['CurrentStaffingScore','TurnoverScore']]]\n",
    "x_p = []\n",
    "y_p = []\n",
    "for ncenter in [8]:\n",
    "    ward = AgglomerativeClustering(n_clusters=ncenter).fit(X)\n",
    "    predictions = ward.labels_\n",
    "    print('The numbre of leaves for %d clusters is %8.2f.'%(ncenter, ward.n_leaves_))\n",
    "    x_p.append(ncenter)\n",
    "    y_p.append(ward.n_leaves_)\n",
    "    df4 = df4.assign(prediction=list(predictions))\n",
    "    cluster_2d = df4.join(df4_saved.set_index('Location'), on='Location')"
   ]
  },
  {
   "cell_type": "code",
   "execution_count": 23,
   "metadata": {},
   "outputs": [
    {
     "data": {
      "image/png": "[encoded data removed]",
      "text/plain": [
       "<matplotlib.figure.Figure at 0x117e57128>"
      ]
     },
     "metadata": {},
     "output_type": "display_data"
    }
   ],
   "source": [
    "fig = plt.figure(figsize=(12,8))\n",
    "\n",
    "ax = plt.subplot(111)\n",
    "n_c = 1\n",
    "n_list = [0,1,2,3,4,5,6,7]\n",
    "c_list = ['red','blue','green','fuchsia','purple','black','grey','coral']\n",
    "\n",
    "# n_list = [3]\n",
    "# c_list = ['fuchsia']\n",
    "\n",
    "for n_n, n_c in zip(n_list, c_list):\n",
    "    ax.scatter(df4[df4['prediction']==n_n]['CurrentStaffingScoreScale'],\n",
    "               df4[df4['prediction']==n_n]['TurnoverScoreScale'], color=n_c)\n",
    "\n",
    "ax.set_xlabel('Staffing Change')\n",
    "ax.set_ylabel('Turnover Change')\n",
    "ax.set_xlim((-16, 37))\n",
    "ax.set_ylim((-26,28))\n",
    "plt.savefig('./V2.12 5 Clusters/Hierarchy_cluster_V2.12_2D.png')"
   ]
  },
  {
   "cell_type": "code",
   "execution_count": 24,
   "metadata": {
    "collapsed": true
   },
   "outputs": [],
   "source": [
    "cluster_2d[cluster_2d['prediction'].isin([3])].to_csv('./V2.12 5 Clusters/Hierarch_cluster_V2.12_2D_Cluster3.csv')"
   ]
  },
  {
   "cell_type": "code",
   "execution_count": 25,
   "metadata": {},
   "outputs": [
    {
     "data": {
      "text/html": [
       "<div>\n",
       "<style>\n",
       "    .dataframe thead tr:only-child th {\n",
       "        text-align: right;\n",
       "    }\n",
       "\n",
       "    .dataframe thead th {\n",
       "        text-align: left;\n",
       "    }\n",
       "\n",
       "    .dataframe tbody tr th {\n",
       "        vertical-align: top;\n",
       "    }\n",
       "</style>\n",
       "<table border=\"1\" class=\"dataframe\">\n",
       "  <thead>\n",
       "    <tr style=\"text-align: right;\">\n",
       "      <th></th>\n",
       "      <th>Location</th>\n",
       "      <th>LocationName</th>\n",
       "    </tr>\n",
       "  </thead>\n",
       "  <tbody>\n",
       "    <tr>\n",
       "      <th>4052</th>\n",
       "      <td>711</td>\n",
       "      <td>South Burlington</td>\n",
       "    </tr>\n",
       "  </tbody>\n",
       "</table>\n",
       "</div>"
      ],
      "text/plain": [
       "      Location      LocationName\n",
       "4052       711  South Burlington"
      ]
     },
     "execution_count": 25,
     "metadata": {},
     "output_type": "execute_result"
    }
   ],
   "source": [
    "# Print out stores.\n",
    "\n",
    "t_l = df4[df4['CurrentStaffingScoreScale'] < -14]['Location'].tolist()\n",
    "df4_saved[df4_saved['Location'].isin(t_l)][['Location', 'LocationName']]"
   ]
  },
  {
   "cell_type": "code",
   "execution_count": 26,
   "metadata": {},
   "outputs": [
    {
     "data": {
      "text/plain": [
       "(array([   1.,    0.,    6.,   16.,   28.,   19.,    0.,   40.,   20.,\n",
       "         483.,  108.,   75.,   76.,   64.,   36.,    0.,   13.,   19.,\n",
       "          13.,   29.]),\n",
       " array([-15.2, -13.6, -12. , -10.4,  -8.8,  -7.2,  -5.6,  -4. ,  -2.4,\n",
       "         -0.8,   0.8,   2.4,   4. ,   5.6,   7.2,   8.8,  10.4,  12. ,\n",
       "         13.6,  15.2,  16.8]),\n",
       " <a list of 20 Patch objects>)"
      ]
     },
     "execution_count": 26,
     "metadata": {},
     "output_type": "execute_result"
    },
    {
     "data": {
      "image/png": "[encoded data removed]",
      "text/plain": [
       "<matplotlib.figure.Figure at 0x1150616d8>"
      ]
     },
     "metadata": {},
     "output_type": "display_data"
    }
   ],
   "source": [
    "plt.hist(df4['ApplicantFlowScoreScale'], bins=20)"
   ]
  },
  {
   "cell_type": "code",
   "execution_count": 27,
   "metadata": {},
   "outputs": [
    {
     "data": {
      "text/plain": [
       "(array([   1.,    0.,    6.,   28.,    0.,   61.,   67.,  165.,   80.,\n",
       "           0.,  205.,   96.,   46.,  139.,    0.,   45.,   46.,   19.,\n",
       "          13.,   29.]),\n",
       " array([-8. , -7.2, -6.4, -5.6, -4.8, -4. , -3.2, -2.4, -1.6, -0.8,  0. ,\n",
       "         0.8,  1.6,  2.4,  3.2,  4. ,  4.8,  5.6,  6.4,  7.2,  8. ]),\n",
       " <a list of 20 Patch objects>)"
      ]
     },
     "execution_count": 27,
     "metadata": {},
     "output_type": "execute_result"
    },
    {
     "data": {
      "image/png": "[encoded data removed]",
      "text/plain": [
       "<matplotlib.figure.Figure at 0x115112940>"
      ]
     },
     "metadata": {},
     "output_type": "display_data"
    }
   ],
   "source": [
    "plt.hist(df4['ApplicantFlowScoreMeasure'], bins=20)"
   ]
  },
  {
   "cell_type": "code",
   "execution_count": 28,
   "metadata": {},
   "outputs": [
    {
     "name": "stdout",
     "output_type": "stream",
     "text": [
      "CurrentStaffingScore range is [-14.50, 35.10].\n",
      "TurnoverScore range is [-24.30, 26.40].\n",
      "RecruitingScore range is [-17.10, 15.30].\n",
      "UnemploymentScore range is [-21.70, 15.20].\n",
      "KohlstoCountyCompScore range is [-10.20,  7.80].\n",
      "CountyScore range is [-18.90, 18.40].\n",
      "AcceptanceRateScore range is [-10.00, 17.50].\n",
      "ApplicantFlowScore range is [-15.20, 16.80].\n"
     ]
    }
   ],
   "source": [
    "for i in changecolumns:\n",
    "    print('%s range is [%5.2f, %5.2f].'%\n",
    "      (i, min(df4[i + 'Scale'].unique()), max(df4[i + 'Scale'].unique())))"
   ]
  },
  {
   "cell_type": "code",
   "execution_count": 29,
   "metadata": {},
   "outputs": [
    {
     "name": "stdout",
     "output_type": "stream",
     "text": [
      "The numbre of leaves for 7 clusters is  1046.00.\n"
     ]
    }
   ],
   "source": [
    "from sklearn.cluster import AgglomerativeClustering\n",
    "\n",
    "X = df4[[i+'Scale' for i in changecolumns]]\n",
    "x_p = []\n",
    "y_p = []\n",
    "for ncenter in [7]:\n",
    "    ward = AgglomerativeClustering(n_clusters=ncenter).fit(X)\n",
    "    predictions = ward.labels_\n",
    "    print('The numbre of leaves for %d clusters is %8.2f.'%(ncenter, ward.n_leaves_))\n",
    "    x_p.append(ncenter)\n",
    "    y_p.append(ward.n_leaves_)\n",
    "    df4 = df4.assign(prediction=list(predictions))\n",
    "    result = df4.join(df4_saved.set_index('Location'), on='Location')\n",
    "    # file = 'Hierarchy_' + str(ncenter) + '_clusters.csv'\n",
    "    # result.to_csv(file)\n",
    "    \n",
    "# plt.plot(x_p, y_p)"
   ]
  },
  {
   "cell_type": "code",
   "execution_count": 30,
   "metadata": {
    "collapsed": true
   },
   "outputs": [],
   "source": [
    "result = result.join(location[['Location','zip']].set_index('Location'), on='Location')\n",
    "result.to_csv('./V2.12 5 Clusters/Hierarchy_7_clusters_v2.12.csv')"
   ]
  },
  {
   "cell_type": "code",
   "execution_count": 31,
   "metadata": {
    "collapsed": true
   },
   "outputs": [],
   "source": [
    "t = result[result['prediction'] == 0][['Location','zip']]\n",
    "t.to_csv('./V2.12 5 Clusters/Hierarchy_7_clusters_v2.12_0_zip.csv')"
   ]
  },
  {
   "cell_type": "code",
   "execution_count": 32,
   "metadata": {},
   "outputs": [],
   "source": [
    "# result.columns"
   ]
  },
  {
   "cell_type": "code",
   "execution_count": 33,
   "metadata": {
    "collapsed": true
   },
   "outputs": [],
   "source": [
    "if False:\n",
    "    from sklearn.cluster import KMeans\n",
    "\n",
    "    X = df4[[i+'Measure' for i in changecolumns]]\n",
    "    x_p = []\n",
    "    y_p = []\n",
    "    for ncenter in [2,3,4,5]:\n",
    "        kmeans = KMeans(n_clusters=ncenter, random_state=0).fit(X)\n",
    "        predictions = kmeans.labels_\n",
    "        print('The inertia for %d clusters is %8.2f.'%(ncenter, kmeans.inertia_))\n",
    "        x_p.append(ncenter)\n",
    "        y_p.append(kmeans.inertia_)\n",
    "        df4 = df4.assign(prediction=list(predictions))\n",
    "        result = df4.join(df4_saved.set_index('Location'), on='Location')\n",
    "        # file = 'K_means_' + str(ncenter) + '_clusters.csv'\n",
    "        # result.to_csv(file)\n",
    "    \n",
    "    plt.plot(x_p, y_p)"
   ]
  },
  {
   "cell_type": "code",
   "execution_count": 34,
   "metadata": {
    "collapsed": true
   },
   "outputs": [],
   "source": [
    "if False:\n",
    "    from sklearn.cluster import DBSCAN\n",
    "\n",
    "    X = df4[[i+'Measure' for i in changecolumns]]\n",
    "    x_p = []\n",
    "    y_p = []\n",
    "    for x_eps in [0.2, 0.3, 0.4, 0.5, 0.6, 0.7, 0.8, 0.9]:\n",
    "        db = DBSCAN(eps=x_eps, min_samples=10).fit(X)\n",
    "        predictions = db.labels_\n",
    "        x_p.append(x_eps)\n",
    "        y_p.append(len(set(predictions)))\n",
    "        df4 = df4.assign(prediction=list(predictions))\n",
    "        db_result = df4[['Location', 'prediction']].join(df4_saved.set_index('Location'), on='Location')\n",
    "        # file = 'DBSCAN_' + str(x_eps) + '_clustering.csv'\n",
    "        # db_result.to_csv(file)\n",
    "\n",
    "    plt.plot(x_p, y_p)"
   ]
  },
  {
   "cell_type": "markdown",
   "metadata": {},
   "source": [
    "### AgglomerativeClustering Analyze Results"
   ]
  },
  {
   "cell_type": "code",
   "execution_count": 35,
   "metadata": {
    "collapsed": true
   },
   "outputs": [],
   "source": [
    "ddff = pd.read_csv('./V2.12 5 Clusters/Hierarchy_7_clusters_v2.12.csv')"
   ]
  },
  {
   "cell_type": "code",
   "execution_count": 36,
   "metadata": {
    "collapsed": true
   },
   "outputs": [],
   "source": [
    "ddff = ddff[['Location', 'prediction',\n",
    "       'CurrentStaffingScoreMeasure', 'TurnoverScoreMeasure',\n",
    "       'RecruitingScoreMeasure', 'UnemploymentScoreMeasure',\n",
    "       'KohlstoCountyCompScoreMeasure', 'CountyScoreMeasure',\n",
    "       'AcceptanceRateScoreMeasure', 'ApplicantFlowScoreMeasure']]"
   ]
  },
  {
   "cell_type": "code",
   "execution_count": 37,
   "metadata": {
    "collapsed": true
   },
   "outputs": [],
   "source": [
    "names = ['CurrentStaffingScoreMeasure', 'TurnoverScoreMeasure',\n",
    "       'RecruitingScoreMeasure', 'UnemploymentScoreMeasure',\n",
    "       'KohlstoCountyCompScoreMeasure', 'CountyScoreMeasure',\n",
    "       'AcceptanceRateScoreMeasure', 'ApplicantFlowScoreMeasure']\n",
    "d = {}\n",
    "for i_n in names:\n",
    "    d[i_n] = []\n",
    "    for i_v in [0,1,2,3,4,5,6]:\n",
    "        d[i_n].append(len(ddff[(ddff['prediction'] == i_v) & (ddff[i_n] > 1)]) / len(ddff[ddff['prediction'] == i_v]))"
   ]
  },
  {
   "cell_type": "code",
   "execution_count": 38,
   "metadata": {
    "collapsed": true
   },
   "outputs": [],
   "source": [
    "cluster_feature = pd.DataFrame(d)"
   ]
  },
  {
   "cell_type": "code",
   "execution_count": 39,
   "metadata": {
    "collapsed": true
   },
   "outputs": [],
   "source": [
    "cluster_feature.to_csv('./V2.12 5 Clusters/Hierarchy_clustering_v2.12_feature.csv')"
   ]
  },
  {
   "cell_type": "code",
   "execution_count": 40,
   "metadata": {},
   "outputs": [
    {
     "data": {
      "text/plain": [
       "Index(['Location', 'CurrentStaffingScoreMeasure', 'TurnoverScoreMeasure',\n",
       "       'RecruitingScoreMeasure', 'UnemploymentScoreMeasure',\n",
       "       'KohlstoCountyCompScoreMeasure', 'CountyScoreMeasure',\n",
       "       'AcceptanceRateScoreMeasure', 'ApplicantFlowScoreMeasure',\n",
       "       'CurrentStaffingScoreScale', 'TurnoverScoreScale',\n",
       "       'RecruitingScoreScale', 'UnemploymentScoreScale',\n",
       "       'KohlstoCountyCompScoreScale', 'CountyScoreScale',\n",
       "       'AcceptanceRateScoreScale', 'ApplicantFlowScoreScale', 'prediction',\n",
       "       'LocationName', 'DistrictNumber', 'RegionNumber', 'TerrNum', 'EFFDT',\n",
       "       'CurrentStartingRate', 'StaffingLevel', 'CurrentStaffingLevel',\n",
       "       'YTDAverageStaffingLevel', 'CurrentStaffingScore', 'YTDStaffingScore',\n",
       "       'TotalStaffingScore', 'LYTurn', 'YTDTurn', 'YOYTurnVariance',\n",
       "       'TurnoverScore', 'UnemploymentScore', 'KohlstoCountyCompScore',\n",
       "       'CountyScore', 'ApplicantFlow', 'AcceptanceRate', 'AcceptanceRateScore',\n",
       "       'ApplicantFlowScore', 'RecruitingScore', 'CostofLaborZone',\n",
       "       'WagePressueScore', 'WageScoreColor', 'StartingRateBuckets', 'zip'],\n",
       "      dtype='object')"
      ]
     },
     "execution_count": 40,
     "metadata": {},
     "output_type": "execute_result"
    }
   ],
   "source": [
    "result.columns"
   ]
  },
  {
   "cell_type": "code",
   "execution_count": 41,
   "metadata": {},
   "outputs": [
    {
     "name": "stdout",
     "output_type": "stream",
     "text": [
      "CurrentStaffingScoreScale range is [-14.50, 35.10].\n"
     ]
    }
   ],
   "source": [
    "feature = 'CurrentStaffingScoreScale'\n",
    "print(\"%s range is [%5.2f, %5.2f].\"%(feature, \n",
    "                                     min(result[feature].unique().tolist()), max(result[feature].unique().tolist())))"
   ]
  },
  {
   "cell_type": "code",
   "execution_count": 42,
   "metadata": {},
   "outputs": [
    {
     "data": {
      "image/png": "[encoded data removed]",
      "text/plain": [
       "<matplotlib.figure.Figure at 0x11bf46cf8>"
      ]
     },
     "metadata": {},
     "output_type": "display_data"
    }
   ],
   "source": [
    "fig = plt.figure(figsize=(12,8))\n",
    "\n",
    "label = 'CurrentStaffing'\n",
    "# ApplicantFlow\n",
    "# a_bins = [-6,-4,-2,0,2,4,6,8,10,12,14,16]\n",
    "\n",
    "# Recruiting\n",
    "# a_bins= [-3,-1,1,3,5,7,9,11,13,15]\n",
    "\n",
    "# AcceptanceRate\n",
    "# a_bins = [-2,0,2,4,6,8,10,12,14,16,18]\n",
    "\n",
    "# CurrentStaffing\n",
    "a_bins = [-16,-12,-8,-4,0,4,8,12,16,20,24,28,32,36]\n",
    "\n",
    "ax = fig.add_subplot(321)\n",
    "ax.hist(result[result['prediction'] == 0][feature], bins=a_bins)\n",
    "ax.set_title('Cluster 0')\n",
    "ax.xaxis.set_visible(False)\n",
    "ax.yaxis.set_visible(False)\n",
    "ax.axvline(x=0, color='red', linestyle=':')\n",
    "\n",
    "ax = fig.add_subplot(322)\n",
    "ax.hist(result[result['prediction'] == 1][feature], bins=a_bins)\n",
    "ax.set_title('Cluster 1')\n",
    "ax.xaxis.set_visible(False)\n",
    "ax.yaxis.set_visible(False)\n",
    "ax.axvline(x=0, color='red', linestyle=':')\n",
    "\n",
    "ax = fig.add_subplot(323)\n",
    "ax.hist(result[result['prediction'] == 2][feature], bins=a_bins)\n",
    "ax.set_title('Cluster 2')\n",
    "ax.xaxis.set_visible(False)\n",
    "ax.yaxis.set_visible(False)\n",
    "ax.axvline(x=0, color='red', linestyle=':')\n",
    "\n",
    "ax = fig.add_subplot(324)\n",
    "ax.hist(result[result['prediction'] == 3][feature], bins=a_bins)\n",
    "ax.set_title('Cluster 3')\n",
    "ax.set_xlabel(label)\n",
    "ax.yaxis.set_visible(False)\n",
    "ax.axvline(x=0, color='red', linestyle=':')\n",
    "\n",
    "ax = fig.add_subplot(325)\n",
    "ax.hist(result[result['prediction'] == 4]['AcceptanceRateScoreScale'], bins=a_bins)\n",
    "ax.set_title('Cluster 4')\n",
    "ax.set_xlabel(label)\n",
    "ax.yaxis.set_visible(False)\n",
    "ax.axvline(x=0, color='red', linestyle=':')\n",
    "\n",
    "file = 'Hierarchy_5_' + label + '.png'\n",
    "plt.savefig(file)"
   ]
  },
  {
   "cell_type": "code",
   "execution_count": 43,
   "metadata": {
    "collapsed": true
   },
   "outputs": [],
   "source": [
    "result[result['prediction'] ==4].to_csv('Hierarch_cluster_V2.12_4.csv')"
   ]
  },
  {
   "cell_type": "code",
   "execution_count": 44,
   "metadata": {},
   "outputs": [
    {
     "data": {
      "text/plain": [
       "3525     139\n",
       "3562     185\n",
       "3564     187\n",
       "3620     246\n",
       "3621     247\n",
       "3958     607\n",
       "3968     618\n",
       "4037     696\n",
       "4093     755\n",
       "4132     799\n",
       "4156     980\n",
       "4171     996\n",
       "4229    1058\n",
       "4287    1127\n",
       "4337    1183\n",
       "4351    1197\n",
       "4363    1212\n",
       "4367    1219\n",
       "4412    1276\n",
       "4415    1280\n",
       "4465    1349\n",
       "4538    1438\n",
       "4575    1499\n",
       "Name: Location, dtype: int64"
      ]
     },
     "execution_count": 44,
     "metadata": {},
     "output_type": "execute_result"
    }
   ],
   "source": [
    "result[result['prediction']==6]['Location']"
   ]
  },
  {
   "cell_type": "code",
   "execution_count": null,
   "metadata": {
    "collapsed": true
   },
   "outputs": [],
   "source": []
  }
 ],
 "metadata": {
  "kernelspec": {
   "display_name": "Python 3",
   "language": "python",
   "name": "python3"
  },
  "language_info": {
   "codemirror_mode": {
    "name": "ipython",
    "version": 3
   },
   "file_extension": ".py",
   "mimetype": "text/x-python",
   "name": "python",
   "nbconvert_exporter": "python",
   "pygments_lexer": "ipython3",
   "version": "3.6.1"
  }
 },
 "nbformat": 4,
 "nbformat_minor": 2
}
