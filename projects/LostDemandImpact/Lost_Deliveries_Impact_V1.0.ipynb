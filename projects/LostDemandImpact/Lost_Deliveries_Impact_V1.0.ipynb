{
 "cells": [
  {
   "cell_type": "markdown",
   "metadata": {},
   "source": [
    "Lost Deliveries Impact Model \n",
    "--\n",
    "\n",
    "1. Use first 28 days to get features, label should be from the next 28 days.\n",
    "2. 28 days should not use the same start and end day for different users, the first day of the 28 days is the first time we observe a session from the user, then 28 days from this day.\n",
    "3. When using Lasso, the features need to be normalized.\n",
    "4. A classifiction model first, churned vs active."
   ]
  },
  {
   "cell_type": "code",
   "execution_count": 1,
   "metadata": {},
   "outputs": [],
   "source": [
    "import pandas as pd\n",
    "import numpy as np\n",
    "import re\n",
    "import datetime\n",
    "from matplotlib import pyplot as plt\n",
    "from xgboost import XGBRegressor\n",
    "from xgboost import plot_importance\n",
    "from sklearn.grid_search import GridSearchCV\n",
    "from sklearn import linear_model\n",
    "from sklearn.cross_validation import train_test_split, StratifiedShuffleSplit\n",
    "import statsmodels.api as sm\n",
    "from datetime import datetime, timedelta\n",
    "import pickle\n",
    "\n",
    "%matplotlib inline"
   ]
  },
  {
   "cell_type": "code",
   "execution_count": 2,
   "metadata": {},
   "outputs": [],
   "source": [
    "# Read in 28 days LDs and Orders\n",
    "df_lds_orders_201809 = pd.read_pickle(\\\n",
    "    '/Users/jianhuitian/carrot/logistics/logistics-data-science/conversion_model_v1/lost_deliveries_v4/data/lds_orders_20180903_20180930.pkl')\n",
    "\n",
    "df_lds_orders_201810 = pd.read_pickle(\\\n",
    "    '/Users/jianhuitian/carrot/logistics/logistics-data-science/conversion_model_v1/lost_deliveries_v4/data/lds_orders_20181001_20181028.pkl')\n",
    "\n",
    "df_lds_orders_201811 = pd.read_pickle(\\\n",
    "    '/Users/jianhuitian/carrot/logistics/logistics-data-science/conversion_model_v1/lost_deliveries_v4/data/lds_orders_20181029_20181125.pkl')\n",
    "\n",
    "# Read in user infos for users in this 28 days\n",
    "user_infos = pd.read_pickle(\\\n",
    "'/Users/jianhuitian/carrot/logistics/logistics-data-science/conversion_model_v1/lost_deliveries_v4/data/user_info_20180903_20180930.pkl')\n"
   ]
  },
  {
   "cell_type": "markdown",
   "metadata": {},
   "source": [
    "## Functions, Variables, etc."
   ]
  },
  {
   "cell_type": "code",
   "execution_count": 3,
   "metadata": {},
   "outputs": [],
   "source": [
    "user_type_map = {'new': 1, 'non_express': 2, 'free_express': 3, 'discount_express': 4, 'paid_express': 5}\n",
    "user_type_map_reverse = {v:k for k,v in user_type_map.items()}\n",
    "\n",
    "def get_orders(df):\n",
    "    # df[['user_id', 'date', 'converted']]\n",
    "    \n",
    "    orders_per_day = df[['user_id', 'date', 'converted']]\\\n",
    "        .groupby(['user_id', 'date']).sum().reset_index()\n",
    "\n",
    "    orders = orders_per_day[orders_per_day['converted'] != 0][['user_id', 'date']]\\\n",
    "        .groupby(['user_id']).count().reset_index().rename(columns={'date': 'order'})\n",
    "    \n",
    "    return orders \n",
    "\n",
    "def get_visits(df):\n",
    "    # df[['user_id', 'date']]\n",
    "    \n",
    "    unique_visits = df[['user_id', 'date']]\\\n",
    "        .drop_duplicates()\n",
    "\n",
    "    visits = unique_visits.groupby(['user_id']).count().reset_index()\\\n",
    "        .rename(columns={'date':'visit'})\n",
    "    \n",
    "    return visits\n",
    "\n",
    "def get_num_warehouse(df):\n",
    "    # df[['user_id', 'warehouse_id']]\n",
    "    \n",
    "    num_warehouse = df[['user_id', 'warehouse_id']]\\\n",
    "        .drop_duplicates()\n",
    "    \n",
    "    num_warehouse = num_warehouse.groupby(['user_id']).count().reset_index()\\\n",
    "        .rename(columns={'warehouse_id':'num_warehouse'})\n",
    "    \n",
    "    return num_warehouse"
   ]
  },
  {
   "cell_type": "markdown",
   "metadata": {},
   "source": [
    "## Get user ids for study."
   ]
  },
  {
   "cell_type": "code",
   "execution_count": 4,
   "metadata": {},
   "outputs": [],
   "source": [
    "# Get all the user_ids during 20180903-20180930.\n",
    "# Get the corresponding first_date and last_date.\n",
    "# The 28 days period is based on this first_date and last_date for each of the users.\n",
    "\n",
    "user_ids = df_lds_orders_201809[['user_id', 'date']]\\\n",
    "    .groupby(['user_id']).min().reset_index()\\\n",
    "    .rename(columns={'date':'first_date'})\n",
    "user_ids['last_date'] = user_ids['first_date'].map(lambda x: x + timedelta(days=28)) \n",
    "user_ids['label_date'] = user_ids['last_date'].map(lambda x: x + timedelta(days=28)) "
   ]
  },
  {
   "cell_type": "code",
   "execution_count": 5,
   "metadata": {},
   "outputs": [
    {
     "data": {
      "text/html": [
       "<div>\n",
       "<style scoped>\n",
       "    .dataframe tbody tr th:only-of-type {\n",
       "        vertical-align: middle;\n",
       "    }\n",
       "\n",
       "    .dataframe tbody tr th {\n",
       "        vertical-align: top;\n",
       "    }\n",
       "\n",
       "    .dataframe thead th {\n",
       "        text-align: right;\n",
       "    }\n",
       "</style>\n",
       "<table border=\"1\" class=\"dataframe\">\n",
       "  <thead>\n",
       "    <tr style=\"text-align: right;\">\n",
       "      <th></th>\n",
       "      <th>user_id</th>\n",
       "      <th>first_date</th>\n",
       "      <th>last_date</th>\n",
       "      <th>label_date</th>\n",
       "    </tr>\n",
       "  </thead>\n",
       "  <tbody>\n",
       "    <tr>\n",
       "      <th>0</th>\n",
       "      <td>11</td>\n",
       "      <td>2018-09-03</td>\n",
       "      <td>2018-10-01</td>\n",
       "      <td>2018-10-29</td>\n",
       "    </tr>\n",
       "    <tr>\n",
       "      <th>1</th>\n",
       "      <td>22</td>\n",
       "      <td>2018-09-07</td>\n",
       "      <td>2018-10-05</td>\n",
       "      <td>2018-11-02</td>\n",
       "    </tr>\n",
       "    <tr>\n",
       "      <th>2</th>\n",
       "      <td>52</td>\n",
       "      <td>2018-09-10</td>\n",
       "      <td>2018-10-08</td>\n",
       "      <td>2018-11-05</td>\n",
       "    </tr>\n",
       "    <tr>\n",
       "      <th>3</th>\n",
       "      <td>59</td>\n",
       "      <td>2018-09-14</td>\n",
       "      <td>2018-10-12</td>\n",
       "      <td>2018-11-09</td>\n",
       "    </tr>\n",
       "    <tr>\n",
       "      <th>4</th>\n",
       "      <td>60</td>\n",
       "      <td>2018-09-04</td>\n",
       "      <td>2018-10-02</td>\n",
       "      <td>2018-10-30</td>\n",
       "    </tr>\n",
       "  </tbody>\n",
       "</table>\n",
       "</div>"
      ],
      "text/plain": [
       "   user_id first_date  last_date label_date\n",
       "0       11 2018-09-03 2018-10-01 2018-10-29\n",
       "1       22 2018-09-07 2018-10-05 2018-11-02\n",
       "2       52 2018-09-10 2018-10-08 2018-11-05\n",
       "3       59 2018-09-14 2018-10-12 2018-11-09\n",
       "4       60 2018-09-04 2018-10-02 2018-10-30"
      ]
     },
     "execution_count": 5,
     "metadata": {},
     "output_type": "execute_result"
    }
   ],
   "source": [
    "user_ids.head(5)"
   ]
  },
  {
   "cell_type": "markdown",
   "metadata": {},
   "source": [
    "## Get DataFrame For The First 28 Days."
   ]
  },
  {
   "cell_type": "code",
   "execution_count": 6,
   "metadata": {},
   "outputs": [],
   "source": [
    "df_lds_orders = pd.concat([df_lds_orders_201809, df_lds_orders_201810])\n",
    "df_lds_orders = user_ids.merge(df_lds_orders, on=['user_id'], how='left')\n",
    "df_lds_orders = df_lds_orders[df_lds_orders['date'] < df_lds_orders['last_date']]"
   ]
  },
  {
   "cell_type": "markdown",
   "metadata": {},
   "source": [
    "### Check Data"
   ]
  },
  {
   "cell_type": "code",
   "execution_count": 7,
   "metadata": {},
   "outputs": [
    {
     "data": {
      "text/html": [
       "<div>\n",
       "<style scoped>\n",
       "    .dataframe tbody tr th:only-of-type {\n",
       "        vertical-align: middle;\n",
       "    }\n",
       "\n",
       "    .dataframe tbody tr th {\n",
       "        vertical-align: top;\n",
       "    }\n",
       "\n",
       "    .dataframe thead th {\n",
       "        text-align: right;\n",
       "    }\n",
       "</style>\n",
       "<table border=\"1\" class=\"dataframe\">\n",
       "  <thead>\n",
       "    <tr style=\"text-align: right;\">\n",
       "      <th></th>\n",
       "      <th>user_id</th>\n",
       "      <th>date</th>\n",
       "      <th>last_date</th>\n",
       "      <th>hour</th>\n",
       "      <th>user_type</th>\n",
       "      <th>warehouse_id</th>\n",
       "      <th>metric_name</th>\n",
       "      <th>lost_estimate</th>\n",
       "      <th>converted</th>\n",
       "    </tr>\n",
       "  </thead>\n",
       "  <tbody>\n",
       "    <tr>\n",
       "      <th>56</th>\n",
       "      <td>77</td>\n",
       "      <td>2018-09-12</td>\n",
       "      <td>2018-10-10</td>\n",
       "      <td>16</td>\n",
       "      <td>paid_express</td>\n",
       "      <td>3</td>\n",
       "      <td>lost_demand_precheckout</td>\n",
       "      <td>0.000000</td>\n",
       "      <td>False</td>\n",
       "    </tr>\n",
       "    <tr>\n",
       "      <th>57</th>\n",
       "      <td>77</td>\n",
       "      <td>2018-09-18</td>\n",
       "      <td>2018-10-10</td>\n",
       "      <td>5</td>\n",
       "      <td>paid_express</td>\n",
       "      <td>3</td>\n",
       "      <td>lost_demand_checkout</td>\n",
       "      <td>0.001170</td>\n",
       "      <td>True</td>\n",
       "    </tr>\n",
       "    <tr>\n",
       "      <th>58</th>\n",
       "      <td>77</td>\n",
       "      <td>2018-09-18</td>\n",
       "      <td>2018-10-10</td>\n",
       "      <td>5</td>\n",
       "      <td>paid_express</td>\n",
       "      <td>3</td>\n",
       "      <td>lost_demand_precheckout</td>\n",
       "      <td>0.065679</td>\n",
       "      <td>True</td>\n",
       "    </tr>\n",
       "    <tr>\n",
       "      <th>59</th>\n",
       "      <td>77</td>\n",
       "      <td>2018-09-22</td>\n",
       "      <td>2018-10-10</td>\n",
       "      <td>8</td>\n",
       "      <td>paid_express</td>\n",
       "      <td>53</td>\n",
       "      <td>lost_demand_checkout</td>\n",
       "      <td>0.009232</td>\n",
       "      <td>True</td>\n",
       "    </tr>\n",
       "    <tr>\n",
       "      <th>60</th>\n",
       "      <td>77</td>\n",
       "      <td>2018-09-22</td>\n",
       "      <td>2018-10-10</td>\n",
       "      <td>8</td>\n",
       "      <td>paid_express</td>\n",
       "      <td>3</td>\n",
       "      <td>lost_demand_precheckout</td>\n",
       "      <td>0.000000</td>\n",
       "      <td>True</td>\n",
       "    </tr>\n",
       "    <tr>\n",
       "      <th>61</th>\n",
       "      <td>77</td>\n",
       "      <td>2018-09-22</td>\n",
       "      <td>2018-10-10</td>\n",
       "      <td>8</td>\n",
       "      <td>paid_express</td>\n",
       "      <td>53</td>\n",
       "      <td>lost_demand_precheckout</td>\n",
       "      <td>0.000000</td>\n",
       "      <td>True</td>\n",
       "    </tr>\n",
       "    <tr>\n",
       "      <th>62</th>\n",
       "      <td>77</td>\n",
       "      <td>2018-09-27</td>\n",
       "      <td>2018-10-10</td>\n",
       "      <td>7</td>\n",
       "      <td>paid_express</td>\n",
       "      <td>53</td>\n",
       "      <td>lost_demand_precheckout</td>\n",
       "      <td>0.109320</td>\n",
       "      <td>False</td>\n",
       "    </tr>\n",
       "    <tr>\n",
       "      <th>63</th>\n",
       "      <td>77</td>\n",
       "      <td>2018-10-07</td>\n",
       "      <td>2018-10-10</td>\n",
       "      <td>15</td>\n",
       "      <td>paid_express</td>\n",
       "      <td>53</td>\n",
       "      <td>lost_demand_precheckout</td>\n",
       "      <td>0.000000</td>\n",
       "      <td>False</td>\n",
       "    </tr>\n",
       "    <tr>\n",
       "      <th>64</th>\n",
       "      <td>77</td>\n",
       "      <td>2018-10-08</td>\n",
       "      <td>2018-10-10</td>\n",
       "      <td>11</td>\n",
       "      <td>paid_express</td>\n",
       "      <td>53</td>\n",
       "      <td>lost_demand_precheckout</td>\n",
       "      <td>0.066558</td>\n",
       "      <td>False</td>\n",
       "    </tr>\n",
       "    <tr>\n",
       "      <th>65</th>\n",
       "      <td>77</td>\n",
       "      <td>2018-10-09</td>\n",
       "      <td>2018-10-10</td>\n",
       "      <td>11</td>\n",
       "      <td>paid_express</td>\n",
       "      <td>53</td>\n",
       "      <td>lost_demand_precheckout</td>\n",
       "      <td>0.000000</td>\n",
       "      <td>False</td>\n",
       "    </tr>\n",
       "  </tbody>\n",
       "</table>\n",
       "</div>"
      ],
      "text/plain": [
       "    user_id       date  last_date  hour     user_type  warehouse_id  \\\n",
       "56       77 2018-09-12 2018-10-10    16  paid_express             3   \n",
       "57       77 2018-09-18 2018-10-10     5  paid_express             3   \n",
       "58       77 2018-09-18 2018-10-10     5  paid_express             3   \n",
       "59       77 2018-09-22 2018-10-10     8  paid_express            53   \n",
       "60       77 2018-09-22 2018-10-10     8  paid_express             3   \n",
       "61       77 2018-09-22 2018-10-10     8  paid_express            53   \n",
       "62       77 2018-09-27 2018-10-10     7  paid_express            53   \n",
       "63       77 2018-10-07 2018-10-10    15  paid_express            53   \n",
       "64       77 2018-10-08 2018-10-10    11  paid_express            53   \n",
       "65       77 2018-10-09 2018-10-10    11  paid_express            53   \n",
       "\n",
       "                metric_name  lost_estimate  converted  \n",
       "56  lost_demand_precheckout       0.000000      False  \n",
       "57     lost_demand_checkout       0.001170       True  \n",
       "58  lost_demand_precheckout       0.065679       True  \n",
       "59     lost_demand_checkout       0.009232       True  \n",
       "60  lost_demand_precheckout       0.000000       True  \n",
       "61  lost_demand_precheckout       0.000000       True  \n",
       "62  lost_demand_precheckout       0.109320      False  \n",
       "63  lost_demand_precheckout       0.000000      False  \n",
       "64  lost_demand_precheckout       0.066558      False  \n",
       "65  lost_demand_precheckout       0.000000      False  "
      ]
     },
     "execution_count": 7,
     "metadata": {},
     "output_type": "execute_result"
    }
   ],
   "source": [
    "df_lds_orders[df_lds_orders['user_id'] == 77][['user_id', 'date', 'last_date',\\\n",
    "              'hour', 'user_type', 'warehouse_id', 'metric_name', \n",
    "               'lost_estimate', 'converted']]"
   ]
  },
  {
   "cell_type": "markdown",
   "metadata": {},
   "source": [
    "## Feature Engineering For LDs and Orders"
   ]
  },
  {
   "cell_type": "code",
   "execution_count": 8,
   "metadata": {},
   "outputs": [],
   "source": [
    "# Get lost deliveries for this period.\n",
    "user_lost_deliveries = df_lds_orders[['user_id', 'lost_estimate']]\\\n",
    "    .groupby('user_id').sum().reset_index()\n",
    "\n",
    "# Get orders for this period.\n",
    "user_orders = get_orders(df_lds_orders[['user_id', 'date', 'converted']])\n",
    "\n",
    "# Get visits for the period.\n",
    "user_visits = get_visits(df_lds_orders[['user_id', 'date']])\n",
    "\n",
    "# Warehouse_id is unique and universal.\n",
    "user_warehouse_daily_count = df_lds_orders[['user_id', 'date', 'warehouse_id']]\\\n",
    "    .drop_duplicates().groupby(['user_id', 'date']).count().reset_index()\n",
    "\n",
    "user_warehouse_daily_average = user_warehouse_daily_count[['user_id', 'warehouse_id']]\\\n",
    "    .groupby('user_id').mean().reset_index().rename(columns={'warehouse_id':'warehouse_daily_avg'})\n",
    "\n",
    "# Get the average visit interval days.\n",
    "user_visit_feature = df_lds_orders[['user_id', 'date', 'last_date']]\\\n",
    "    .drop_duplicates().sort_values(by=['user_id', 'date'])\n",
    "user_visit_feature['lag1'] = user_visit_feature.groupby('user_id')['date'].shift(-1)\n",
    "\n",
    "def get_visit_interval(x0, x1, x2):\n",
    "    if not x1:\n",
    "        return (x2 - x0).days\n",
    "    else:\n",
    "        return (x1 - x0).days\n",
    "\n",
    "user_visit_feature['visit_interval'] = user_visit_feature[['date', 'lag1', 'last_date']]\\\n",
    "    .apply(lambda x: get_visit_interval(x[0], x[1], x[2]), axis=1)\n",
    "user_visit_feature.fillna(value={'visit_interval': 28}, inplace=True)\n",
    "\n",
    "user_avg_visit_feature = user_visit_feature[['user_id', 'visit_interval']]\\\n",
    "    .groupby('user_id').mean().reset_index()\n",
    "\n",
    "# About 7% of users have two user_types.\n",
    "# User type at the beginning of the period\n",
    "user_first_date = df_lds_orders[['user_id', 'date']].groupby(['user_id']).min().reset_index()\n",
    "user_type_first = user_first_date.merge(df_lds_orders[['user_id', 'date', 'user_type']].drop_duplicates(),\\\n",
    "    on=['user_id', 'date'], how='left')\\\n",
    "    .drop(columns=['date'], axis=1)\n",
    "user_type_first['user_type'] = user_type_first['user_type'].map(lambda x: user_type_map[x])\n",
    "user_type_first = user_type_first.groupby('user_id').max().reset_index()\n",
    "\n",
    "user_type_first_count = user_type_first.groupby('user_type')\\\n",
    "    .count().rename(columns={'user_id': 'count_first'}).reset_index()\n",
    "user_type_first_count['user_type'] = user_type_first_count['user_type'].map(lambda x: user_type_map_reverse[x])\n",
    "\n",
    "# User type at the end of the period\n",
    "user_last_date = df_lds_orders[['user_id', 'date']].groupby(['user_id']).max().reset_index()\n",
    "user_type_last = user_last_date.merge(df_lds_orders[['user_id', 'date', 'user_type']].drop_duplicates(),\\\n",
    "    on=['user_id', 'date'], how='left')\\\n",
    "    .drop(columns=['date'], axis=1)\n",
    "user_type_last['user_type'] = user_type_last['user_type'].map(lambda x: user_type_map[x])\n",
    "user_type_last = user_type_last.groupby('user_id').max().reset_index()\n",
    "\n",
    "user_type_last_count = user_type_last.groupby('user_type')\\\n",
    "    .count().rename(columns={'user_id': 'count_last'}).reset_index()\n",
    "user_type_last_count['user_type'] = user_type_last_count['user_type'].map(lambda x: user_type_map_reverse[x])\n",
    "\n",
    "user_type_count = user_type_first_count\\\n",
    "    .merge(user_type_last_count, on=['user_type'])\n",
    "\n",
    "# Get the number of warehouse during the period.\n",
    "user_num_warehouse = get_num_warehouse(df_lds_orders[['user_id', 'warehouse_id']])\n",
    "\n",
    "# Merge all the DataFrame after feature engineering.\n",
    "user_df = user_lost_deliveries.merge(user_orders, on=['user_id'], how='left')\n",
    "user_df = user_df.merge(user_visits, on=['user_id'])\n",
    "user_df = user_df.merge(user_warehouse_daily_average, on=['user_id'], how='left')\n",
    "user_df = user_df.merge(user_avg_visit_feature, on='user_id', how='left')\n",
    "user_df = user_df.merge(user_num_warehouse, on=['user_id'], how='left')\n",
    "user_df = user_df.merge(user_type_last, on='user_id', how='left')\\\n",
    "    .fillna(value={'order': 0})"
   ]
  },
  {
   "cell_type": "markdown",
   "metadata": {},
   "source": [
    "## Get DataFrame For The Second 28 Days."
   ]
  },
  {
   "cell_type": "code",
   "execution_count": 9,
   "metadata": {},
   "outputs": [],
   "source": [
    "df_labels = pd.concat([df_lds_orders_201810, df_lds_orders_201811])\n",
    "df_labels = user_ids.merge(df_labels, on=['user_id'], how='left')\n",
    "df_labels = df_labels[(df_labels['date'] >= df_labels['last_date'])\\\n",
    "                      & (df_labels['date'] < df_labels['label_date'])]"
   ]
  },
  {
   "cell_type": "markdown",
   "metadata": {},
   "source": [
    "## Feature Engineers For Labels"
   ]
  },
  {
   "cell_type": "code",
   "execution_count": 10,
   "metadata": {},
   "outputs": [],
   "source": [
    "# Get orders for this period.\n",
    "label_orders = get_orders(df_labels[['user_id', 'date', 'converted']])\n",
    "\n",
    "# Get visits for the period, visit per day is 0 or 1.\n",
    "label_visits = get_visits(df_labels[['user_id', 'date']])\n",
    "\n",
    "label_df = user_ids.merge(label_visits, on=['user_id'], how='left')\n",
    "label_df = label_df.merge(label_orders, on=['user_id'], how='left')\n",
    "\n",
    "label_df = label_df.rename(columns={'visit':'label_visit', 'order':'label_order'})\\\n",
    "    .drop(columns=['first_date', 'last_date', 'label_date'], axis=1)\n",
    "label_df.fillna(value={'label_visit': 0, 'label_order':0}, inplace=True)"
   ]
  },
  {
   "cell_type": "code",
   "execution_count": 11,
   "metadata": {},
   "outputs": [
    {
     "data": {
      "text/html": [
       "<div>\n",
       "<style scoped>\n",
       "    .dataframe tbody tr th:only-of-type {\n",
       "        vertical-align: middle;\n",
       "    }\n",
       "\n",
       "    .dataframe tbody tr th {\n",
       "        vertical-align: top;\n",
       "    }\n",
       "\n",
       "    .dataframe thead th {\n",
       "        text-align: right;\n",
       "    }\n",
       "</style>\n",
       "<table border=\"1\" class=\"dataframe\">\n",
       "  <thead>\n",
       "    <tr style=\"text-align: right;\">\n",
       "      <th></th>\n",
       "      <th>user_id</th>\n",
       "      <th>label_visit</th>\n",
       "      <th>label_order</th>\n",
       "    </tr>\n",
       "  </thead>\n",
       "  <tbody>\n",
       "    <tr>\n",
       "      <th>0</th>\n",
       "      <td>11</td>\n",
       "      <td>0.0</td>\n",
       "      <td>0.0</td>\n",
       "    </tr>\n",
       "    <tr>\n",
       "      <th>1</th>\n",
       "      <td>22</td>\n",
       "      <td>5.0</td>\n",
       "      <td>0.0</td>\n",
       "    </tr>\n",
       "    <tr>\n",
       "      <th>2</th>\n",
       "      <td>52</td>\n",
       "      <td>2.0</td>\n",
       "      <td>0.0</td>\n",
       "    </tr>\n",
       "    <tr>\n",
       "      <th>3</th>\n",
       "      <td>59</td>\n",
       "      <td>0.0</td>\n",
       "      <td>0.0</td>\n",
       "    </tr>\n",
       "    <tr>\n",
       "      <th>4</th>\n",
       "      <td>60</td>\n",
       "      <td>2.0</td>\n",
       "      <td>1.0</td>\n",
       "    </tr>\n",
       "  </tbody>\n",
       "</table>\n",
       "</div>"
      ],
      "text/plain": [
       "   user_id  label_visit  label_order\n",
       "0       11          0.0          0.0\n",
       "1       22          5.0          0.0\n",
       "2       52          2.0          0.0\n",
       "3       59          0.0          0.0\n",
       "4       60          2.0          1.0"
      ]
     },
     "execution_count": 11,
     "metadata": {},
     "output_type": "execute_result"
    }
   ],
   "source": [
    "label_df.head(5)"
   ]
  },
  {
   "cell_type": "markdown",
   "metadata": {},
   "source": [
    "## User Statistics"
   ]
  },
  {
   "cell_type": "code",
   "execution_count": 12,
   "metadata": {},
   "outputs": [
    {
     "data": {
      "text/html": [
       "<div>\n",
       "<style scoped>\n",
       "    .dataframe tbody tr th:only-of-type {\n",
       "        vertical-align: middle;\n",
       "    }\n",
       "\n",
       "    .dataframe tbody tr th {\n",
       "        vertical-align: top;\n",
       "    }\n",
       "\n",
       "    .dataframe thead th {\n",
       "        text-align: right;\n",
       "    }\n",
       "</style>\n",
       "<table border=\"1\" class=\"dataframe\">\n",
       "  <thead>\n",
       "    <tr style=\"text-align: right;\">\n",
       "      <th></th>\n",
       "      <th>user_type</th>\n",
       "      <th>count_first</th>\n",
       "      <th>count_last</th>\n",
       "    </tr>\n",
       "  </thead>\n",
       "  <tbody>\n",
       "    <tr>\n",
       "      <th>0</th>\n",
       "      <td>new</td>\n",
       "      <td>848838</td>\n",
       "      <td>756752</td>\n",
       "    </tr>\n",
       "    <tr>\n",
       "      <th>1</th>\n",
       "      <td>non_express</td>\n",
       "      <td>694258</td>\n",
       "      <td>777617</td>\n",
       "    </tr>\n",
       "    <tr>\n",
       "      <th>2</th>\n",
       "      <td>free_express</td>\n",
       "      <td>173283</td>\n",
       "      <td>166535</td>\n",
       "    </tr>\n",
       "    <tr>\n",
       "      <th>3</th>\n",
       "      <td>discount_express</td>\n",
       "      <td>1192</td>\n",
       "      <td>1166</td>\n",
       "    </tr>\n",
       "    <tr>\n",
       "      <th>4</th>\n",
       "      <td>paid_express</td>\n",
       "      <td>328515</td>\n",
       "      <td>344016</td>\n",
       "    </tr>\n",
       "  </tbody>\n",
       "</table>\n",
       "</div>"
      ],
      "text/plain": [
       "          user_type  count_first  count_last\n",
       "0               new       848838      756752\n",
       "1       non_express       694258      777617\n",
       "2      free_express       173283      166535\n",
       "3  discount_express         1192        1166\n",
       "4      paid_express       328515      344016"
      ]
     },
     "execution_count": 12,
     "metadata": {},
     "output_type": "execute_result"
    }
   ],
   "source": [
    "user_type_count"
   ]
  },
  {
   "cell_type": "code",
   "execution_count": 13,
   "metadata": {},
   "outputs": [
    {
     "data": {
      "image/png": "[encoded data removed]",
      "text/plain": [
       "<Figure size 576x432 with 1 Axes>"
      ]
     },
     "metadata": {
      "needs_background": "light"
     },
     "output_type": "display_data"
    }
   ],
   "source": [
    "x = [1,2,3,4,5]\n",
    "x1 = [a - 0.2 for a in x]\n",
    "x2 = [a + 0.2 for a in x]\n",
    "y1 = user_type_count.count_first.tolist()\n",
    "y2 = user_type_count.count_last.tolist()\n",
    "ind_width = 0.4\n",
    "\n",
    "fig, ax = plt.subplots(figsize=(8,6))\n",
    "ax.bar(x1, y1, align='center', color='#539caf',label='Beginning', width=ind_width)\n",
    "ax.bar(x2, y2, align='center', color='#7663b0', label='End', width=ind_width)\n",
    "ax.set_xlabel('User Type',fontsize=12)\n",
    "ax.set_ylabel('Count',fontsize=12)\n",
    "ax.set_title('User Type Change')\n",
    "ax.legend(loc = 'upper right',fontsize=10)\n",
    "ax.set_xticklabels(('', 'new','non_express','free_express','discount_express','paid_express'))\n",
    "plt.savefig('20180903-20180930 User Type Changes.png')\n",
    "plt.show()"
   ]
  },
  {
   "cell_type": "code",
   "execution_count": 14,
   "metadata": {},
   "outputs": [
    {
     "data": {
      "image/png": "[encoded data removed]",
      "text/plain": [
       "<Figure size 576x432 with 1 Axes>"
      ]
     },
     "metadata": {
      "needs_background": "light"
     },
     "output_type": "display_data"
    }
   ],
   "source": [
    "x = [1,2,3,4,5]\n",
    "y1 = user_type_count.count_last.tolist()\n",
    "t = label_df.merge(user_type_last, on=['user_id'], how='left')\n",
    "y2 = t[t['label_visit'] != 0][['user_type',\\\n",
    "        'label_visit']].groupby('user_type').count().label_visit.tolist()\n",
    "\n",
    "fig, ax = plt.subplots(figsize=(8,6))\n",
    "ax.bar(x, [1 - i / float(j) for i, j in zip(y2, y1)], align='center',\\\n",
    "       color='#7663b0', width=0.5)\n",
    "ax.set_xlabel('User Type',fontsize=12)\n",
    "ax.set_ylabel('Percent',fontsize=12)\n",
    "ax.set_ylim([0,1])\n",
    "ax.set_title('User Churned')\n",
    "ax.set_xticklabels(('', 'new','non_express','free_express','discount_express','paid_express'))\n",
    "plt.grid(True, color='grey', linestyle=':', linewidth=2, alpha=0.3)\n",
    "plt.savefig('20180903-20180930 User Churned.png')\n",
    "plt.show()"
   ]
  },
  {
   "cell_type": "markdown",
   "metadata": {},
   "source": [
    "## User Orders Per Type"
   ]
  },
  {
   "cell_type": "code",
   "execution_count": 15,
   "metadata": {},
   "outputs": [
    {
     "data": {
      "image/png": "[encoded data removed]",
      "text/plain": [
       "<Figure size 1152x432 with 2 Axes>"
      ]
     },
     "metadata": {
      "needs_background": "light"
     },
     "output_type": "display_data"
    }
   ],
   "source": [
    "user_order_per_type = user_df[['user_type', 'order']].groupby(['user_type']).sum().reset_index()\n",
    "user_order_per_type['user_type'] = user_order_per_type['user_type'].map(lambda x: user_type_map_reverse[x])\n",
    "\n",
    "x = [1,2,3,4,5]\n",
    "y1 = user_order_per_type.order.tolist()\n",
    "ind_width = 0.4\n",
    "\n",
    "fig = plt.figure(figsize=(16, 6))\n",
    "ax = fig.add_subplot(121)\n",
    "ax.bar(x, y1, align='center', color='#539caf',label='Total Order', width=ind_width)\n",
    "ax.set_xlabel('User Type',fontsize=12)\n",
    "ax.set_ylabel('Order',fontsize=12)\n",
    "ax.set_title('Total Order For All Users')\n",
    "ax.legend(loc = 'upper left',fontsize=10)\n",
    "ax.set_xticklabels(('', 'new','non_express','free_express','discount_express','paid_express'))\n",
    "\n",
    "y2 = [i/j for i, j in zip(user_order_per_type.order.tolist(), user_type_count.count_last.tolist())]\n",
    "ax2 = fig.add_subplot(122)\n",
    "ax2.bar(x, y2, align='center', color='#539caf',label='Average Order', width=ind_width)\n",
    "ax2.set_xlabel('User Type',fontsize=12)\n",
    "ax2.set_ylabel('Order',fontsize=12)\n",
    "ax2.set_title('Average Order Per User For All Users')\n",
    "ax2.legend(loc = 'upper left',fontsize=10)\n",
    "ax2.set_xticklabels(('', 'new','non_express','free_express','discount_express','paid_express'))\n",
    "plt.savefig('20180903-20180930 User Orders Per Type.png')\n",
    "plt.show()"
   ]
  },
  {
   "cell_type": "code",
   "execution_count": 16,
   "metadata": {},
   "outputs": [
    {
     "data": {
      "image/png": "[encoded data removed]",
      "text/plain": [
       "<Figure size 1152x432 with 2 Axes>"
      ]
     },
     "metadata": {
      "needs_background": "light"
     },
     "output_type": "display_data"
    }
   ],
   "source": [
    "# Get the average number of orders for user type excluding the users who did not order during the period.\n",
    "\n",
    "user_order_per_type_exclude = user_df[user_df['order'] > 0]\\\n",
    "    [['user_type', 'order']].groupby(['user_type']).sum().reset_index()\n",
    "user_count_per_type_exclude = user_df[user_df['order'] > 0]\\\n",
    "    [['user_type', 'order']].groupby(['user_type']).count()\\\n",
    "    .reset_index().rename(columns={'order':'UserNum'})\n",
    "user_per_type_exclude = user_order_per_type_exclude.merge(user_count_per_type_exclude, on='user_type')\n",
    "user_per_type_exclude['AvgOrder'] = user_per_type_exclude['order'] / user_per_type_exclude['UserNum']\n",
    "\n",
    "x = [1,2,3,4,5]\n",
    "y1 = user_per_type_exclude['AvgOrder'].tolist()\n",
    "ind_width = 0.4\n",
    "\n",
    "fig = plt.figure(figsize=(16, 6))\n",
    "ax = fig.add_subplot(121)\n",
    "ax.bar(x, y1, align='center', color='#539caf',label='AvgOrder Per User For User Ordered', width=ind_width)\n",
    "ax.set_xlabel('User Type',fontsize=12)\n",
    "ax.set_ylabel('Order',fontsize=12)\n",
    "ax.set_title('Average Order For Users Made Order')\n",
    "ax.legend(loc = 'upper left',fontsize=10)\n",
    "ax.set_xticklabels(('', 'new','non_express','free_express','discount_express','paid_express'))\n",
    "\n",
    "y2 = [i/j for i, j in zip(user_order_per_type.order.tolist(), user_type_count.count_last.tolist())]\n",
    "ax2 = fig.add_subplot(122)\n",
    "ax2.bar(x, y2, align='center', color='#539caf',label='AvgOrder For All', width=ind_width)\n",
    "ax2.set_xlabel('User Type',fontsize=12)\n",
    "ax2.set_ylabel('Order',fontsize=12)\n",
    "ax2.set_title('Average Order Per User For All')\n",
    "ax2.legend(loc = 'upper left',fontsize=10)\n",
    "ax2.set_xticklabels(('', 'new','non_express','free_express','discount_express','paid_express'))\n",
    "plt.savefig('20180903-20180930 Average Orders For UserOrdered Per Type.png')\n",
    "plt.show()"
   ]
  },
  {
   "cell_type": "markdown",
   "metadata": {},
   "source": [
    "## User Lost Deliveries Per Type"
   ]
  },
  {
   "cell_type": "code",
   "execution_count": 17,
   "metadata": {},
   "outputs": [
    {
     "data": {
      "image/png": "[encoded data removed]",
      "text/plain": [
       "<Figure size 1152x432 with 2 Axes>"
      ]
     },
     "metadata": {
      "needs_background": "light"
     },
     "output_type": "display_data"
    }
   ],
   "source": [
    "user_lost_per_type = user_df[['user_type', 'lost_estimate']].groupby(['user_type']).sum().reset_index()\n",
    "user_lost_per_type['user_type'] = user_lost_per_type['user_type'].map(lambda x: user_type_map_reverse[x])\n",
    "\n",
    "x = [1,2,3,4,5]\n",
    "y1 = user_lost_per_type.lost_estimate.tolist()\n",
    "ind_width = 0.4\n",
    "\n",
    "fig = plt.figure(figsize=(16, 6))\n",
    "ax = fig.add_subplot(121)\n",
    "ax.bar(x, y1, align='center', color='#539caf',label='Total Lost Delivery', width=ind_width)\n",
    "ax.set_xlabel('User Type',fontsize=12)\n",
    "ax.set_ylabel('Count',fontsize=12)\n",
    "ax.set_title('Total Lost Delivery For All')\n",
    "ax.legend(loc = 'upper right',fontsize=10)\n",
    "ax.set_xticklabels(('', 'new','non_express','free_express','discount_express','paid_express'))\n",
    "\n",
    "y2 = [i/j for i, j in zip(user_lost_per_type.lost_estimate.tolist(), user_type_count.count_last.tolist())]\n",
    "ax2 = fig.add_subplot(122)\n",
    "ax2.bar(x, y2, align='center', color='#539caf',label='Average Lost Delivery', width=ind_width)\n",
    "ax2.set_xlabel('User Type',fontsize=12)\n",
    "ax2.set_ylabel('Count',fontsize=12)\n",
    "ax2.set_title('Average Lost Delivery Per User For All')\n",
    "ax2.legend(loc = 'upper left',fontsize=10)\n",
    "ax2.set_xticklabels(('', 'new','non_express','free_express','discount_express','paid_express'))\n",
    "plt.savefig('20180903-20180930 User Lost Deliveries Per Type.png')\n",
    "plt.show()"
   ]
  },
  {
   "cell_type": "code",
   "execution_count": 18,
   "metadata": {},
   "outputs": [
    {
     "data": {
      "image/png": "[encoded data removed]",
      "text/plain": [
       "<Figure size 1152x432 with 2 Axes>"
      ]
     },
     "metadata": {
      "needs_background": "light"
     },
     "output_type": "display_data"
    }
   ],
   "source": [
    "# Exclude users who did not make an order.\n",
    "# Calculate the average lost deliveries per user for users who made order.\n",
    "user_lost_per_type_exclude = user_df[user_df['order'] > 0]\\\n",
    "    [['user_type', 'lost_estimate']].groupby(['user_type']).sum().reset_index()\n",
    "user_count_per_type_exclude = user_df[user_df['order'] > 0]\\\n",
    "    [['user_type', 'lost_estimate']].groupby(['user_type']).count()\\\n",
    "    .reset_index().rename(columns={'lost_estimate':'UserNum'})\n",
    "user_per_type_exclude = user_lost_per_type_exclude.merge(user_count_per_type_exclude, on='user_type')\n",
    "user_per_type_exclude['AvgLost'] = user_per_type_exclude['lost_estimate'] / user_per_type_exclude['UserNum']\n",
    "\n",
    "x = [1,2,3,4,5]\n",
    "y1 = user_per_type_exclude['AvgLost'].tolist()\n",
    "y2 = [i/j for i,j in zip(user_lost_per_type.lost_estimate.tolist(), user_order_per_type.order.tolist())]\n",
    "ind_width = 0.4\n",
    "\n",
    "fig = plt.figure(figsize=(16, 6))\n",
    "ax = fig.add_subplot(121)\n",
    "ax.bar(x, y1, align='center', color='#539caf',label='AvgLost Per User For Users Ordered', width=ind_width)\n",
    "ax.set_xlabel('User Type',fontsize=12)\n",
    "ax.set_ylabel('Lost Deliveries',fontsize=12)\n",
    "ax.set_title('Avg Lost Delivery Per User For Users Made Order')\n",
    "ax.legend(loc = 'upper left',fontsize=10)\n",
    "ax.set_xticklabels(('', 'new','non_express','free_express','discount_express','paid_express'))\n",
    "\n",
    "ax2 = fig.add_subplot(122)\n",
    "ax2.bar(x, y2, align='center', color='#539caf',label='AvgLost Per Order', width=ind_width)\n",
    "ax2.set_xlabel('User Type',fontsize=12)\n",
    "ax2.set_ylabel('Count',fontsize=12)\n",
    "ax2.set_title('Lost Delivery Per Order')\n",
    "ax2.legend(loc = 'upper right',fontsize=10)\n",
    "ax2.set_xticklabels(('', 'new','non_express','free_express','discount_express','paid_express'))\n",
    "\n",
    "plt.savefig('20180903-20180930 Lost Deliveries Per Order Per Type.png')\n",
    "plt.show()"
   ]
  },
  {
   "cell_type": "markdown",
   "metadata": {},
   "source": [
    "## User Visit Per Type"
   ]
  },
  {
   "cell_type": "code",
   "execution_count": 19,
   "metadata": {},
   "outputs": [
    {
     "data": {
      "image/png": "[encoded data removed]",
      "text/plain": [
       "<Figure size 1152x432 with 2 Axes>"
      ]
     },
     "metadata": {
      "needs_background": "light"
     },
     "output_type": "display_data"
    }
   ],
   "source": [
    "user_visit_per_type = user_df[['user_type', 'visit']].groupby(['user_type']).sum().reset_index()\n",
    "user_visit_per_type['user_type'] = user_visit_per_type['user_type'].map(lambda x: user_type_map_reverse[x])\n",
    "\n",
    "x = [1,2,3,4,5]\n",
    "y1 = user_visit_per_type.visit.tolist()\n",
    "ind_width = 0.4\n",
    "\n",
    "fig = plt.figure(figsize=(16, 6))\n",
    "ax = fig.add_subplot(121)\n",
    "ax.bar(x, y1, align='center', color='#539caf',label='Total Visit', width=ind_width)\n",
    "ax.set_xlabel('User Type',fontsize=12)\n",
    "ax.set_ylabel('Order',fontsize=12)\n",
    "ax.set_title('Total Visit For All Users')\n",
    "#ax.set_ylim([0, 2850000])\n",
    "ax.legend(loc = 'upper right',fontsize=10)\n",
    "ax.set_xticklabels(('', 'new','non_express','free_express','discount_express','paid_express'))\n",
    "\n",
    "y2 = [i/j for i, j in zip(user_visit_per_type.visit.tolist(), user_type_count.count_last.tolist())]\n",
    "ax2 = fig.add_subplot(122)\n",
    "ax2.bar(x, y2, align='center', color='#539caf',label='Average Visit', width=ind_width)\n",
    "ax2.set_xlabel('User Type',fontsize=12)\n",
    "ax2.set_ylabel('Order',fontsize=12)\n",
    "ax2.set_title('Average Visit Per User For All Users')\n",
    "ax2.legend(loc = 'upper left',fontsize=10)\n",
    "ax2.set_xticklabels(('', 'new','non_express','free_express','discount_express','paid_express'))\n",
    "plt.savefig('20180903-20180930 User Visits Per Type.png')\n",
    "plt.show()"
   ]
  },
  {
   "cell_type": "markdown",
   "metadata": {},
   "source": [
    "## About User Statistics Of Orders, Visits, Warehouse and Lost Deliveries\n",
    "\n",
    "We don't need to consider new users in our model since new users almost all have one visit and 0 orders."
   ]
  },
  {
   "cell_type": "code",
   "execution_count": 20,
   "metadata": {},
   "outputs": [
    {
     "data": {
      "text/plain": [
       "99.80000000000004"
      ]
     },
     "execution_count": 20,
     "metadata": {},
     "output_type": "execute_result"
    }
   ],
   "source": [
    "# What threshold to use to get good histogram.\n",
    "\n",
    "k = 1\n",
    "label = 'visit'\n",
    "t_tot = float(len(user_df[user_df['user_type'] == k]))\n",
    "t2 = user_df[(user_df['user_type'] == k) & (user_df[label] <= 11)][label]\n",
    "count2, division2 = np.histogram(t2)\n",
    "count2 = [round(i / t_tot, 3) * 100 for i in count2]\n",
    "sum(count2)"
   ]
  },
  {
   "cell_type": "code",
   "execution_count": 21,
   "metadata": {},
   "outputs": [
    {
     "name": "stdout",
     "output_type": "stream",
     "text": [
      "\n",
      "For new:\n",
      "   Order  OPct  Visit  VPct      Lost  LPct  Label_Visit  LVPct\n",
      "0    0.0  90.5    1.0  73.7  0.000000  89.9          0.0   84.8\n",
      "1    1.0   8.9    2.0  15.4  0.049993   3.6          1.0    8.8\n",
      "2    2.0   0.4    3.0   5.4  0.099986   2.4          2.0    3.0\n",
      "3    3.0   0.1    4.0   2.4  0.149979   2.0          3.0    1.4\n",
      "4    4.0   0.0    5.0   1.2  0.199972   1.1          4.0    0.7\n",
      "5    5.0   0.0    6.0   0.7  0.249965   0.4          5.0    0.4\n",
      "6    6.0   0.0    7.0   0.4  0.299958   0.2          6.0    0.3\n",
      "7    7.0   0.0    8.0   0.2  0.349950   0.1          7.0    0.2\n",
      "8    8.0   0.0    9.0   0.2  0.399943   0.1          8.0    0.1\n",
      "9    9.0   0.0   10.0   0.2  0.449936   0.1          9.0    0.1\n",
      "\n",
      "For non_express:\n",
      "   Order  OPct  Visit  VPct      Lost  LPct  Label_Visit  LVPct\n",
      "0    0.0  37.4    1.0  31.6  0.000000  51.9          0.0   45.2\n",
      "1    1.0  33.3    2.0  22.6  0.050000  13.9          1.0   18.4\n",
      "2    2.0  15.4    3.0  14.7  0.099999   8.1          2.0   11.7\n",
      "3    3.0   7.2    4.0   9.9  0.149999   6.1          3.0    7.6\n",
      "4    4.0   3.5    5.0   6.5  0.199999   4.7          4.0    5.2\n",
      "5    5.0   1.6    6.0   4.4  0.249999   3.7          5.0    3.5\n",
      "6    6.0   0.7    7.0   2.9  0.299998   2.8          6.0    2.4\n",
      "7    7.0   0.4    8.0   2.0  0.349998   1.9          7.0    1.7\n",
      "8    8.0   0.2    9.0   1.4  0.399998   1.4          8.0    1.2\n",
      "9    9.0   0.2   10.0   1.7  0.449997   1.1          9.0    1.4\n",
      "\n",
      "For free_express:\n",
      "   Order  OPct  Visit  VPct      Lost  LPct  Label_Visit  LVPct\n",
      "0    0.0  43.1    1.0  37.9  0.000000  57.6          0.0   72.8\n",
      "1    1.0  38.4    2.0  25.0  0.049998  11.6          1.0   10.3\n",
      "2    2.0  11.4    3.0  14.1  0.099995   8.9          2.0    5.3\n",
      "3    3.0   4.1    4.0   8.4  0.149993   7.1          3.0    3.4\n",
      "4    4.0   1.7    5.0   5.1  0.199990   5.1          4.0    2.3\n",
      "5    5.0   0.7    6.0   3.3  0.249988   2.8          5.0    1.6\n",
      "6    6.0   0.3    7.0   2.1  0.299986   1.8          6.0    1.1\n",
      "7    7.0   0.2    8.0   1.3  0.349983   1.2          7.0    0.8\n",
      "8    8.0   0.1    9.0   0.8  0.399981   0.9          8.0    0.6\n",
      "9    9.0   0.1   10.0   1.0  0.449978   0.7          9.0    0.8\n",
      "\n",
      "For discount_express:\n",
      "   Order  OPct  Visit  VPct      Lost  LPct  Label_Visit  LVPct\n",
      "0    0.0  14.7    1.0  11.2  0.000000  29.9          0.0   13.0\n",
      "1    1.0  20.1    2.0  11.1  0.049956  14.0          1.0   12.8\n",
      "2    2.0  18.2    3.0  14.2  0.099911  10.3          2.0   11.8\n",
      "3    3.0  16.0    4.0  11.1  0.149867   7.4          3.0   10.5\n",
      "4    4.0  10.8    5.0  10.3  0.199823   7.7          4.0    9.3\n",
      "5    5.0   6.9    6.0   9.6  0.249778   5.8          5.0    8.6\n",
      "6    6.0   4.1    7.0   6.4  0.299734   4.2          6.0    6.6\n",
      "7    7.0   3.2    8.0   4.9  0.349690   3.2          7.0    6.9\n",
      "8    8.0   2.4    9.0   5.6  0.399645   2.8          8.0    4.6\n",
      "9    9.0   1.5   10.0   6.4  0.449601   2.3          9.0    6.1\n",
      "\n",
      "For paid_express:\n",
      "   Order  OPct  Visit  VPct      Lost  LPct  Label_Visit  LVPct\n",
      "0    0.0  12.3    1.0  12.2  0.000000  37.8          0.0   16.0\n",
      "1    1.0  19.5    2.0  12.2  0.050000  14.4          1.0   11.6\n",
      "2    2.0  18.7    3.0  12.0  0.100000   9.6          2.0   11.0\n",
      "3    3.0  15.6    4.0  11.2  0.150000   7.0          3.0   10.2\n",
      "4    4.0  12.2    5.0   9.8  0.200000   5.7          4.0    9.2\n",
      "5    5.0   8.0    6.0   8.3  0.250000   4.7          5.0    7.9\n",
      "6    6.0   4.8    7.0   6.8  0.300000   3.8          6.0    6.6\n",
      "7    7.0   3.0    8.0   5.5  0.349999   2.9          7.0    5.4\n",
      "8    8.0   1.9    9.0   4.5  0.399999   2.3          8.0    4.4\n",
      "9    9.0   2.1   10.0   6.5  0.449999   1.8          9.0    6.4\n"
     ]
    }
   ],
   "source": [
    "user_stats = {}\n",
    "\n",
    "for k in [1, 2, 3, 4, 5]:\n",
    "    \n",
    "    t_tot = float(len(user_df[user_df['user_type'] == k]))\n",
    "    \n",
    "    t1 = user_df[(user_df['user_type'] == k) & (user_df['lost_estimate'] <= 0.5)]['lost_estimate']\n",
    "    count1, division1 = np.histogram(t1)\n",
    "    count1 = [round(i / t_tot, 3) * 100 for i in count1]\n",
    "\n",
    "    t2 = user_df[(user_df['user_type'] == k) & (user_df['order'] <= 10)]['order']\n",
    "    count2, division2 = np.histogram(t2)\n",
    "    count2 = [round(i / t_tot, 3) * 100 for i in count2]\n",
    "\n",
    "    t3 = user_df[(user_df['user_type'] == k) & (user_df['visit'] <= 11)]['visit']\n",
    "    count3, division3 = np.histogram(t3)\n",
    "    count3 = [round(i / t_tot, 3) * 100 for i in count3]\n",
    "\n",
    "    t4 = user_df[(user_df['user_type'] == k) & (user_df['warehouse_daily_avg'] <= 6)]['warehouse_daily_avg']\n",
    "    count4, division4 = np.histogram(t4)\n",
    "    count4 = [round(i / t_tot, 3) * 100 for i in count4]\n",
    "    \n",
    "    label_df_t = label_df.merge(user_type_last, on=['user_id'], how='left')\n",
    "    t5 = label_df_t[(label_df_t['user_type'] == k) & (label_df_t['label_visit'] <= 10)]['label_visit']\n",
    "    count5, division5 = np.histogram(t5)\n",
    "    count5 = [round(i / t_tot, 3) * 100 for i in count5]\n",
    "\n",
    "    user_stats[user_type_map_reverse[k]] =pd.DataFrame({'Order': division2[:-1],\n",
    "                                                        'OPct': count2,\n",
    "                                                        'Visit': division3[:-1],\n",
    "                                                        'VPct': count3,\n",
    "                                                        'Lost': division1[:-1],\n",
    "                                                        'LPct': count1,\n",
    "                                                        'Warehouse': division4[:-1],\n",
    "                                                        'WPct': count4,\n",
    "                                                         'Label_Visit': division5[:-1],\n",
    "                                                        'LVPct': count5})\n",
    "    user_stats[k] = user_stats[user_type_map_reverse[k]][['Order',\\\n",
    "                                           'OPct', 'Visit', 'VPct',\\\n",
    "                                           'Lost', 'LPct', \\\n",
    "                                            'Label_Visit', 'LVPct']]\n",
    "    \n",
    "    print('\\nFor %s:'%(user_type_map_reverse[k]))\n",
    "    print(user_stats[k])"
   ]
  },
  {
   "cell_type": "code",
   "execution_count": 22,
   "metadata": {},
   "outputs": [
    {
     "data": {
      "image/png": "[encoded data removed]",
      "text/plain": [
       "<Figure size 1152x576 with 5 Axes>"
      ]
     },
     "metadata": {
      "needs_background": "light"
     },
     "output_type": "display_data"
    }
   ],
   "source": [
    "png_name = 'Customer Order Number'\n",
    "label = 'Order'\n",
    "label_pct = 'OPct'\n",
    "\n",
    "fig = plt.figure(figsize=(16, 8))\n",
    "ax1 = fig.add_subplot(231)\n",
    "ax1.bar(user_stats[1][label], user_stats[1][label_pct], align='center', color='#539caf', width=ind_width)\n",
    "ax1.set_ylabel('Customers Pct',fontsize=12)\n",
    "ax1.text(5, 92, '90.5% No Order', fontsize=12, color='black')\n",
    "ax1.set_title('new: ' + label)\n",
    "ax1.set_ylim([0, 105])\n",
    "#ax1.legend(loc = 'upper right',fontsize=10)\n",
    "\n",
    "ax2 = fig.add_subplot(232)\n",
    "ax2.bar(user_stats[2][label], user_stats[2][label_pct], align='center', color='#539caf', width=ind_width)\n",
    "ax2.set_title('non_express:' + label)\n",
    "ax2.text(5, 92, '37.4% No Order', fontsize=12, color='black')\n",
    "ax2.set_ylim([0, 105])\n",
    "#ax2.legend(loc = 'upper right',fontsize=10)\n",
    "\n",
    "ax3 = fig.add_subplot(233)\n",
    "ax3.bar(user_stats[3][label], user_stats[3][label_pct], align='center', color='#539caf', width=ind_width)\n",
    "ax3.set_title('free_express: ' + label)\n",
    "ax3.set_xlabel('Number',fontsize=12)\n",
    "ax3.text(5, 92, '43.1% No Order', fontsize=12, color='black')\n",
    "ax3.set_ylim([0, 105])\n",
    "#ax3.legend(loc = 'upper right',fontsize=10)\n",
    "\n",
    "ax4 = fig.add_subplot(234)\n",
    "ax4.bar(user_stats[4][label], user_stats[4][label_pct], align='center', color='#539caf', width=ind_width)\n",
    "ax4.set_xlabel('Number',fontsize=12)\n",
    "ax4.set_ylabel('Customers Pct',fontsize=12)\n",
    "ax4.text(5, 92, '14.7% No Order', fontsize=12, color='black')\n",
    "ax4.set_title('discount_express: ' + label)\n",
    "ax4.set_ylim([0, 105])\n",
    "#ax4.legend(loc = 'upper right',fontsize=10)\n",
    "\n",
    "ax5 = fig.add_subplot(235)\n",
    "ax5.bar(user_stats[5][label], user_stats[5][label_pct], align='center', color='#539caf', width=ind_width)\n",
    "ax5.set_xlabel('Number',fontsize=12)\n",
    "ax5.set_title('paid_express: ' + label)\n",
    "ax5.text(5, 92, '12.3% No Order', fontsize=12, color='black')\n",
    "ax5.set_ylim([0, 105])\n",
    "#ax5.legend(loc = 'upper right',fontsize=10)\n",
    "\n",
    "plt.savefig('20180903-20180930 ' + png_name + ' Distribution.png')\n",
    "plt.show()"
   ]
  },
  {
   "cell_type": "code",
   "execution_count": 23,
   "metadata": {},
   "outputs": [
    {
     "data": {
      "image/png": "[encoded data removed]",
      "text/plain": [
       "<Figure size 1152x576 with 5 Axes>"
      ]
     },
     "metadata": {
      "needs_background": "light"
     },
     "output_type": "display_data"
    }
   ],
   "source": [
    "# For Lost\n",
    "label = 'Lost'\n",
    "label_pct = 'LPct'\n",
    "png_name = 'Customer Lost Delivery Number'\n",
    "\n",
    "fig = plt.figure(figsize=(16, 8))\n",
    "ax1 = fig.add_subplot(231)\n",
    "ax1.bar(user_stats[1][label], user_stats[1][label_pct], align='center', color='#539caf', width=0.02)\n",
    "ax1.set_ylabel('Customers Pct',fontsize=12)\n",
    "ax1.text(0.25, 92, '89.9% 0 Lost', fontsize=12, color='black')\n",
    "ax1.set_title('new: ' + label)\n",
    "#ax1.set_xlim([0,0.5])\n",
    "ax1.set_ylim([0, 105])\n",
    "#ax1.legend(loc = 'upper right',fontsize=10)\n",
    "\n",
    "ax2 = fig.add_subplot(232)\n",
    "ax2.bar(user_stats[2][label], user_stats[2][label_pct], align='center', color='#539caf', width=0.02)\n",
    "ax2.set_title('non_express:' + label)\n",
    "ax2.text(0.25, 92, '51.9% 0 Lost', fontsize=12, color='black')\n",
    "#ax2.set_xlim([0,0.5])\n",
    "ax2.set_ylim([0, 105])\n",
    "#ax2.legend(loc = 'upper right',fontsize=10)\n",
    "\n",
    "ax3 = fig.add_subplot(233)\n",
    "ax3.bar(user_stats[3][label], user_stats[3][label_pct], align='center', color='#539caf', width=0.02)\n",
    "ax3.set_title('free_express: ' + label)\n",
    "ax3.set_xlabel('Number',fontsize=12)\n",
    "ax3.text(0.25, 92, '57.6% 0 Lost', fontsize=12, color='black')\n",
    "#ax3.set_xlim([0,0.5])\n",
    "ax3.set_ylim([0, 105])\n",
    "#ax3.legend(loc = 'upper right',fontsize=10)\n",
    "\n",
    "ax4 = fig.add_subplot(234)\n",
    "ax4.bar(user_stats[4][label], user_stats[4][label_pct], align='center', color='#539caf', width=0.02)\n",
    "ax4.set_xlabel('Number',fontsize=12)\n",
    "ax4.set_ylabel('Customers Pct',fontsize=12)\n",
    "ax4.set_title('discount_express: ' + label)\n",
    "ax4.text(0.25, 92, '29.9% 0 Lost', fontsize=12, color='black')\n",
    "#ax4.set_xlim([0,0.5])\n",
    "ax4.set_ylim([0, 105])\n",
    "#ax4.legend(loc = 'upper right',fontsize=10)\n",
    "\n",
    "ax5 = fig.add_subplot(235)\n",
    "ax5.bar(user_stats[5][label], user_stats[5][label_pct], align='center', color='#539caf', width=0.02)\n",
    "ax5.set_xlabel('Number',fontsize=12)\n",
    "ax5.set_title('paid_express: ' + label)\n",
    "ax5.text(0.25, 92, '37.8% 0 Lost', fontsize=12, color='black')\n",
    "#ax5.set_xlim([0,0.5])\n",
    "ax5.set_ylim([0, 105])\n",
    "#ax5.legend(loc = 'upper right',fontsize=10)\n",
    "\n",
    "plt.savefig('20180903-20180930 ' + png_name + ' Distribution.png')\n",
    "plt.show()"
   ]
  },
  {
   "cell_type": "code",
   "execution_count": 24,
   "metadata": {},
   "outputs": [
    {
     "data": {
      "image/png": "[encoded data removed]",
      "text/plain": [
       "<Figure size 1152x576 with 5 Axes>"
      ]
     },
     "metadata": {
      "needs_background": "light"
     },
     "output_type": "display_data"
    }
   ],
   "source": [
    "# For Visit\n",
    "label = 'Visit'\n",
    "label_pct = 'VPct'\n",
    "png_name = 'Customer Visit'\n",
    "\n",
    "fig = plt.figure(figsize=(16, 8))\n",
    "ax1 = fig.add_subplot(231)\n",
    "ax1.bar(user_stats[1][label], user_stats[1][label_pct], align='center', color='#539caf', width=0.4)\n",
    "ax1.set_ylabel('Customers Pct',fontsize=12)\n",
    "ax1.text(5, 92, '62.7% 1 Visit', fontsize=12, color='black')\n",
    "ax1.set_title('new: ' + label)\n",
    "ax1.set_xlim([0,11])\n",
    "ax1.set_ylim([0, 105])\n",
    "#ax1.legend(loc = 'upper right',fontsize=10)\n",
    "\n",
    "ax2 = fig.add_subplot(232)\n",
    "ax2.bar(user_stats[2][label], user_stats[2][label_pct], align='center', color='#539caf', width=0.4)\n",
    "ax2.set_title('non_express:' + label)\n",
    "ax2.text(5, 92, '24.7% 1 Visit', fontsize=12, color='black')\n",
    "ax2.set_xlim([0,11])\n",
    "ax2.set_ylim([0, 105])\n",
    "#ax2.legend(loc = 'upper right',fontsize=10)\n",
    "\n",
    "ax3 = fig.add_subplot(233)\n",
    "ax3.bar(user_stats[3][label], user_stats[3][label_pct], align='center', color='#539caf', width=0.4)\n",
    "ax3.set_title('free_express: ' + label)\n",
    "ax3.set_xlabel('Number',fontsize=12)\n",
    "ax3.text(5, 92, '30.6% 1 Visit', fontsize=12, color='black')\n",
    "ax3.set_xlim([0,11])\n",
    "ax3.set_ylim([0, 105])\n",
    "#ax3.legend(loc = 'upper right',fontsize=10)\n",
    "\n",
    "ax4 = fig.add_subplot(234)\n",
    "ax4.bar(user_stats[4][label], user_stats[4][label_pct], align='center', color='#539caf', width=0.4)\n",
    "ax4.set_xlabel('Number',fontsize=12)\n",
    "ax4.set_ylabel('Customers Pct',fontsize=12)\n",
    "ax4.set_title('discount_express: ' + label)\n",
    "ax4.text(5, 92, '7.6% 1 Visit', fontsize=12, color='black')\n",
    "ax4.set_xlim([0,11])\n",
    "ax4.set_ylim([0, 105])\n",
    "#ax4.legend(loc = 'upper right',fontsize=10)\n",
    "\n",
    "ax5 = fig.add_subplot(235)\n",
    "ax5.bar(user_stats[5][label], user_stats[5][label_pct], align='center', color='#539caf', width=0.4)\n",
    "ax5.set_xlabel('Number',fontsize=12)\n",
    "ax5.set_title('paid_express: ' + label)\n",
    "ax5.text(5, 92, '9.6% 1 Visit', fontsize=12, color='black')\n",
    "ax5.set_xlim([0,11])\n",
    "ax5.set_ylim([0, 105])\n",
    "#ax5.legend(loc = 'upper right',fontsize=10)\n",
    "\n",
    "plt.savefig('20180903-20180930 ' + png_name + ' Distribution.png')\n",
    "plt.show()"
   ]
  },
  {
   "cell_type": "markdown",
   "metadata": {},
   "source": [
    "## Correlation Relationship"
   ]
  },
  {
   "cell_type": "code",
   "execution_count": 25,
   "metadata": {},
   "outputs": [
    {
     "data": {
      "image/png": "[encoded data removed]",
      "text/plain": [
       "<Figure size 1152x576 with 5 Axes>"
      ]
     },
     "metadata": {
      "needs_background": "light"
     },
     "output_type": "display_data"
    },
    {
     "data": {
      "image/png": "[encoded data removed]",
      "text/plain": [
       "<Figure size 1152x576 with 5 Axes>"
      ]
     },
     "metadata": {
      "needs_background": "light"
     },
     "output_type": "display_data"
    }
   ],
   "source": [
    "x_label_list = ['visit', 'warehouse_daily_avg']\n",
    "y_label_list = ['order', 'order']\n",
    "\n",
    "for x_label, y_label in zip(x_label_list, y_label_list):\n",
    "    fig = plt.figure(figsize=(16, 8))\n",
    "    ax1 = fig.add_subplot(231)\n",
    "    ax1.scatter(user_df[user_df['user_type'] == 1][x_label],\\\n",
    "                user_df[user_df['user_type'] == 1][y_label], color='#539caf')\n",
    "    ax1.set_ylabel(y_label,fontsize=12)\n",
    "    #ax1.set_ylim([0, 10])\n",
    "    ax1.set_title(user_type_map_reverse[1])\n",
    "    #ax1.legend(loc = 'upper right',fontsize=10)\n",
    "\n",
    "    ax2 = fig.add_subplot(232)\n",
    "    ax2.scatter(user_df[user_df['user_type'] == 2][x_label],\\\n",
    "                user_df[user_df['user_type'] == 2][y_label], color='#539caf')\n",
    "    ax2.set_ylabel(y_label,fontsize=12)\n",
    "    #ax2.set_ylim([0, 10])\n",
    "    ax2.set_title(user_type_map_reverse[2])\n",
    "    #ax2.legend(loc = 'upper right',fontsize=10)\n",
    "\n",
    "    ax3 = fig.add_subplot(233)\n",
    "    ax3.scatter(user_df[user_df['user_type'] == 3][x_label],\\\n",
    "                user_df[user_df['user_type'] == 3][y_label], color='#539caf')\n",
    "    ax3.set_ylabel(y_label,fontsize=12)\n",
    "    ax3.set_xlabel(x_label,fontsize=12)\n",
    "    #ax3.set_ylim([0, 10])\n",
    "    ax3.set_title(user_type_map_reverse[3])\n",
    "    #ax3.legend(loc = 'upper right',fontsize=10)\n",
    "\n",
    "    ax4 = fig.add_subplot(234)\n",
    "    ax4.scatter(user_df[user_df['user_type'] == 4][x_label],\\\n",
    "                user_df[user_df['user_type'] == 4][y_label], color='#539caf')\n",
    "    ax4.set_ylabel(y_label,fontsize=12)\n",
    "    ax4.set_xlabel(x_label,fontsize=12)\n",
    "    #ax4.set_ylim([0, 10])\n",
    "    ax4.set_title(user_type_map_reverse[4])\n",
    "    #ax4.legend(loc = 'upper right',fontsize=10)\n",
    "\n",
    "    ax5 = fig.add_subplot(235)\n",
    "    ax5.scatter(user_df[user_df['user_type'] == 5][x_label],\\\n",
    "                user_df[user_df['user_type'] == 5][y_label], color='#539caf')\n",
    "    ax5.set_ylabel(y_label,fontsize=12)\n",
    "    ax5.set_xlabel(x_label,fontsize=12)\n",
    "    #ax5.set_ylim([0, 10])\n",
    "    ax5.set_title(user_type_map_reverse[5])\n",
    "    #ax5.legend(loc = 'upper right',fontsize=10)\n",
    "\n",
    "    plt.savefig('20180903-20180930 ' + y_label + ' vs ' + x_label + ' .png')\n",
    "    plt.show()"
   ]
  },
  {
   "cell_type": "markdown",
   "metadata": {},
   "source": [
    "## Any Signal From Lost Deliveries With Visits/Orders"
   ]
  },
  {
   "cell_type": "code",
   "execution_count": 26,
   "metadata": {},
   "outputs": [],
   "source": [
    "df_explore = user_df.merge(label_df, on=['user_id'], how='left')"
   ]
  },
  {
   "cell_type": "code",
   "execution_count": 27,
   "metadata": {},
   "outputs": [
    {
     "data": {
      "image/png": "[encoded data removed]",
      "text/plain": [
       "<Figure size 1152x432 with 2 Axes>"
      ]
     },
     "metadata": {
      "needs_background": "light"
     },
     "output_type": "display_data"
    }
   ],
   "source": [
    "ind_width = 0.02\n",
    "\n",
    "x = [0.05, 0.1, 0.15, 0.2, 0.25, 0.3, 0.35, 0.4, 0.45, 0.5]\n",
    "x1 = [a - 0.01 for a in x]\n",
    "x2 = [a + 0.01 for a in x]\n",
    "\n",
    "t_type1 = 2\n",
    "y1, division1 = np.histogram(df_explore[(df_explore['label_visit'] == 0)\\\n",
    "           & (df_explore['user_type'] == t_type1)\\\n",
    "           & (df_explore['lost_estimate'] <= 0.5)]['lost_estimate'])\n",
    "t_num_visit1 = len(df_explore[(df_explore['label_visit'] == 0)\\\n",
    "           & (df_explore['user_type'] == t_type1)])\n",
    "y1 = [i / float(t_num_visit1) for i in y1]\n",
    "\n",
    "y2, division1 = np.histogram(df_explore[(df_explore['label_visit'] != 0)\\\n",
    "           & (df_explore['user_type'] == t_type1)\\\n",
    "           & (df_explore['lost_estimate'] <= 0.5)]['lost_estimate'])\n",
    "t_num_visit2 = len(df_explore[(df_explore['label_visit'] != 0)\\\n",
    "           & (df_explore['user_type'] == t_type1)])\n",
    "y2 = [i / float(t_num_visit2) for i in y2]\n",
    "\n",
    "fig = plt.figure(figsize=(16, 6))\n",
    "ax1 = fig.add_subplot(121)\n",
    "ax1.bar(x1, y1, align='center', color='#539caf',label='No Visit', width=ind_width)\n",
    "ax1.bar(x2, y2, align='center', color='#7663b0', label='Visit', width=ind_width)\n",
    "#ax1.plot(x1, y1, color='#539caf')\n",
    "#ax1.plot(x1, y2, color='#7663b0')\n",
    "ax1.set_xlabel('Lost Delivery',fontsize=12)\n",
    "ax1.set_ylabel('Customer Percent',fontsize=12)\n",
    "ax1.set_title('Lost Delivery Diff None Express')\n",
    "ax1.legend(loc = 'upper right',fontsize=10)\n",
    "ax1.set_xticklabels(('', '0.1', '0.2', '0.3', '0.4', '0.5'))\n",
    "ax1.grid(True, color='grey', linestyle=':', linewidth=2, alpha=0.3)\n",
    "\n",
    "t_type2 = 5\n",
    "y3, division1 = np.histogram(df_explore[(df_explore['label_visit'] == 0)\\\n",
    "           & (df_explore['user_type'] == t_type2)\\\n",
    "           & (df_explore['lost_estimate'] <= 0.5)]['lost_estimate'])\n",
    "t_num_visit3 = len(df_explore[(df_explore['label_visit'] == 0)\\\n",
    "           & (df_explore['user_type'] == t_type2)])\n",
    "y3 = [i / float(t_num_visit3) for i in y3]\n",
    "\n",
    "y4, division1 = np.histogram(df_explore[(df_explore['label_visit'] != 0)\\\n",
    "           & (df_explore['user_type'] == t_type2)\\\n",
    "           & (df_explore['lost_estimate'] <= 0.5)]['lost_estimate'])\n",
    "t_num_visit4 = len(df_explore[(df_explore['label_visit'] != 0)\\\n",
    "           & (df_explore['user_type'] == t_type2)])\n",
    "y4 = [i / float(t_num_visit4) for i in y4]\n",
    "\n",
    "ax2 = fig.add_subplot(122)\n",
    "ax2.bar(x1, y3, align='center', color='#539caf',label='No Visit', width=ind_width)\n",
    "ax2.bar(x2, y4, align='center', color='#7663b0', label='Visit', width=ind_width)\n",
    "#ax2.plot(x1, y3, color='#539caf')\n",
    "#ax2.plot(x1, y4, color='#7663b0')\n",
    "ax2.set_xlabel('Lost Delivery',fontsize=12)\n",
    "ax2.set_ylabel('Customer Percent',fontsize=12)\n",
    "ax2.set_title('Lost Delivery Diff Paid Express')\n",
    "ax2.legend(loc = 'upper right',fontsize=10)\n",
    "ax2.set_xticklabels(('', '0.1', '0.2', '0.3', '0.4', '0.5'))\n",
    "ax2.grid(True, color='grey', linestyle=':', linewidth=2, alpha=0.3)\n",
    "\n",
    "plt.savefig('20180903-20180930 Lost Deliveries Diff.png')\n",
    "plt.show()"
   ]
  },
  {
   "cell_type": "code",
   "execution_count": 28,
   "metadata": {},
   "outputs": [
    {
     "name": "stdout",
     "output_type": "stream",
     "text": [
      "                            OLS Regression Results                            \n",
      "==============================================================================\n",
      "Dep. Variable:            label_visit   R-squared:                       0.140\n",
      "Model:                            OLS   Adj. R-squared:                  0.140\n",
      "Method:                 Least Squares   F-statistic:                 5.608e+04\n",
      "Date:                Tue, 05 Feb 2019   Prob (F-statistic):               0.00\n",
      "Time:                        16:33:07   Log-Likelihood:            -9.8815e+05\n",
      "No. Observations:              344016   AIC:                         1.976e+06\n",
      "Df Residuals:                  344014   BIC:                         1.976e+06\n",
      "Df Model:                           1                                         \n",
      "Covariance Type:            nonrobust                                         \n",
      "=================================================================================\n",
      "                    coef    std err          t      P>|t|      [0.025      0.975]\n",
      "---------------------------------------------------------------------------------\n",
      "const             3.6779      0.009    423.254      0.000       3.661       3.695\n",
      "lost_estimate     5.8198      0.025    236.820      0.000       5.772       5.868\n",
      "==============================================================================\n",
      "Omnibus:                    77565.709   Durbin-Watson:                   1.964\n",
      "Prob(Omnibus):                  0.000   Jarque-Bera (JB):           191409.178\n",
      "Skew:                           1.247   Prob(JB):                         0.00\n",
      "Kurtosis:                       5.670   Cond. No.                         3.51\n",
      "==============================================================================\n",
      "\n",
      "Warnings:\n",
      "[1] Standard Errors assume that the covariance matrix of the errors is correctly specified.\n"
     ]
    }
   ],
   "source": [
    "# sm.OLS() Can Fit Negative Line?\n",
    "\n",
    "for u_type in [5]:\n",
    "    \n",
    "    train_X = df_explore[df_explore['user_type'] == u_type]['lost_estimate']\n",
    "    train_y = df_explore[df_explore['user_type'] == u_type]['label_visit']\n",
    "    X2 = sm.add_constant(train_X)\n",
    "    est = sm.OLS(train_y, X2)\n",
    "    est2 = est.fit()\n",
    "    print(est2.summary())"
   ]
  },
  {
   "cell_type": "markdown",
   "metadata": {},
   "source": [
    "## Feature Engineering For User Infos"
   ]
  },
  {
   "cell_type": "code",
   "execution_count": 29,
   "metadata": {},
   "outputs": [],
   "source": [
    "def get_email_type(x):\n",
    "    \n",
    "    m = re.search(r'(\\S+)@(\\S+)', x)\n",
    "    \n",
    "    return m.group(2)\n",
    "\n",
    "user_infos['email_type'] = user_infos['email'].map(lambda x: get_email_type(x))\n",
    "user_infos['has_phone'] = user_infos['phone'].notnull().map(lambda x: 1 if x else 0)\n",
    "\n",
    "user_infos.rename(columns={'id':'user_id'}, inplace=True)\n",
    "user_infos = user_infos.merge(user_ids, on=['user_id'])\n",
    "user_infos['life_days'] = user_infos[['created_at', 'last_date']]\\\n",
    "    .apply(lambda x: (x[1] - x[0]).days, axis=1)\n",
    "\n",
    "user_info_df = user_infos[['user_id', 'has_phone', 'gender',\\\n",
    "                           'receive_emails', 'life_days']].copy()"
   ]
  },
  {
   "cell_type": "code",
   "execution_count": 30,
   "metadata": {},
   "outputs": [
    {
     "data": {
      "text/html": [
       "<div>\n",
       "<style scoped>\n",
       "    .dataframe tbody tr th:only-of-type {\n",
       "        vertical-align: middle;\n",
       "    }\n",
       "\n",
       "    .dataframe tbody tr th {\n",
       "        vertical-align: top;\n",
       "    }\n",
       "\n",
       "    .dataframe thead th {\n",
       "        text-align: right;\n",
       "    }\n",
       "</style>\n",
       "<table border=\"1\" class=\"dataframe\">\n",
       "  <thead>\n",
       "    <tr style=\"text-align: right;\">\n",
       "      <th></th>\n",
       "      <th>user_id</th>\n",
       "      <th>name</th>\n",
       "      <th>email</th>\n",
       "      <th>phone</th>\n",
       "      <th>became_express_member_on</th>\n",
       "      <th>sign_in_count</th>\n",
       "      <th>active</th>\n",
       "      <th>gender</th>\n",
       "      <th>receive_emails</th>\n",
       "      <th>household_income</th>\n",
       "      <th>...</th>\n",
       "      <th>converted_to_id</th>\n",
       "      <th>first_name</th>\n",
       "      <th>last_name</th>\n",
       "      <th>created_at</th>\n",
       "      <th>email_type</th>\n",
       "      <th>has_phone</th>\n",
       "      <th>first_date</th>\n",
       "      <th>last_date</th>\n",
       "      <th>label_date</th>\n",
       "      <th>life_days</th>\n",
       "    </tr>\n",
       "  </thead>\n",
       "  <tbody>\n",
       "    <tr>\n",
       "      <th>0</th>\n",
       "      <td>35322</td>\n",
       "      <td>Meredith Zappert</td>\n",
       "      <td>meredith.story@gmail.com</td>\n",
       "      <td>4109910716</td>\n",
       "      <td>NaT</td>\n",
       "      <td>74</td>\n",
       "      <td>True</td>\n",
       "      <td>female</td>\n",
       "      <td>True</td>\n",
       "      <td>None</td>\n",
       "      <td>...</td>\n",
       "      <td>None</td>\n",
       "      <td>Meredith</td>\n",
       "      <td>Zappert</td>\n",
       "      <td>2013-07-03 19:25:09.000000</td>\n",
       "      <td>gmail.com</td>\n",
       "      <td>1</td>\n",
       "      <td>2018-09-04</td>\n",
       "      <td>2018-10-02</td>\n",
       "      <td>2018-10-30</td>\n",
       "      <td>1916</td>\n",
       "    </tr>\n",
       "    <tr>\n",
       "      <th>1</th>\n",
       "      <td>38936</td>\n",
       "      <td>Yi</td>\n",
       "      <td>zhengyi8341@gmail.com</td>\n",
       "      <td>6503538692</td>\n",
       "      <td>NaT</td>\n",
       "      <td>10</td>\n",
       "      <td>True</td>\n",
       "      <td>male</td>\n",
       "      <td>False</td>\n",
       "      <td>None</td>\n",
       "      <td>...</td>\n",
       "      <td>None</td>\n",
       "      <td>Yi</td>\n",
       "      <td>None</td>\n",
       "      <td>2013-07-24 03:12:22.000000</td>\n",
       "      <td>gmail.com</td>\n",
       "      <td>1</td>\n",
       "      <td>2018-09-16</td>\n",
       "      <td>2018-10-14</td>\n",
       "      <td>2018-11-11</td>\n",
       "      <td>1907</td>\n",
       "    </tr>\n",
       "    <tr>\n",
       "      <th>2</th>\n",
       "      <td>71321</td>\n",
       "      <td>None</td>\n",
       "      <td>jentosic@sbcglobal.net</td>\n",
       "      <td>7734809198</td>\n",
       "      <td>NaT</td>\n",
       "      <td>5</td>\n",
       "      <td>True</td>\n",
       "      <td>None</td>\n",
       "      <td>True</td>\n",
       "      <td>None</td>\n",
       "      <td>...</td>\n",
       "      <td>None</td>\n",
       "      <td>Jen</td>\n",
       "      <td>Kudesh</td>\n",
       "      <td>2013-12-06 01:15:12.625791</td>\n",
       "      <td>sbcglobal.net</td>\n",
       "      <td>1</td>\n",
       "      <td>2018-09-04</td>\n",
       "      <td>2018-10-02</td>\n",
       "      <td>2018-10-30</td>\n",
       "      <td>1760</td>\n",
       "    </tr>\n",
       "  </tbody>\n",
       "</table>\n",
       "<p>3 rows × 29 columns</p>\n",
       "</div>"
      ],
      "text/plain": [
       "   user_id              name                     email       phone  \\\n",
       "0    35322  Meredith Zappert  meredith.story@gmail.com  4109910716   \n",
       "1    38936                Yi     zhengyi8341@gmail.com  6503538692   \n",
       "2    71321              None    jentosic@sbcglobal.net  7734809198   \n",
       "\n",
       "  became_express_member_on  sign_in_count  active  gender  receive_emails  \\\n",
       "0                      NaT             74    True  female            True   \n",
       "1                      NaT             10    True    male           False   \n",
       "2                      NaT              5    True    None            True   \n",
       "\n",
       "  household_income    ...    converted_to_id  first_name  last_name  \\\n",
       "0             None    ...               None    Meredith    Zappert   \n",
       "1             None    ...               None          Yi       None   \n",
       "2             None    ...               None         Jen     Kudesh   \n",
       "\n",
       "                  created_at     email_type has_phone first_date  last_date  \\\n",
       "0 2013-07-03 19:25:09.000000      gmail.com         1 2018-09-04 2018-10-02   \n",
       "1 2013-07-24 03:12:22.000000      gmail.com         1 2018-09-16 2018-10-14   \n",
       "2 2013-12-06 01:15:12.625791  sbcglobal.net         1 2018-09-04 2018-10-02   \n",
       "\n",
       "  label_date life_days  \n",
       "0 2018-10-30      1916  \n",
       "1 2018-11-11      1907  \n",
       "2 2018-10-30      1760  \n",
       "\n",
       "[3 rows x 29 columns]"
      ]
     },
     "execution_count": 30,
     "metadata": {},
     "output_type": "execute_result"
    }
   ],
   "source": [
    "user_infos.head(3)"
   ]
  },
  {
   "cell_type": "code",
   "execution_count": 31,
   "metadata": {},
   "outputs": [
    {
     "data": {
      "text/plain": [
       "user_id                           0\n",
       "name                        1427542\n",
       "email                             0\n",
       "phone                        612482\n",
       "became_express_member_on    2046006\n",
       "sign_in_count                     0\n",
       "active                            0\n",
       "gender                      1885066\n",
       "receive_emails                    0\n",
       "household_income            2045741\n",
       "occupation                  2046059\n",
       "vip                               0\n",
       "orders_count                      0\n",
       "twilio_number_id             795699\n",
       "fraud_kind                  1544687\n",
       "phone_type                  2024785\n",
       "phone_provider              2039727\n",
       "deleted_ind                       0\n",
       "converted_from_id           2046082\n",
       "converted_to_id             2043533\n",
       "first_name                        0\n",
       "last_name                    154761\n",
       "created_at                        0\n",
       "email_type                        0\n",
       "has_phone                         0\n",
       "first_date                        0\n",
       "last_date                         0\n",
       "label_date                        0\n",
       "life_days                         0\n",
       "dtype: int64"
      ]
     },
     "execution_count": 31,
     "metadata": {},
     "output_type": "execute_result"
    }
   ],
   "source": [
    "user_infos.isnull().sum()"
   ]
  },
  {
   "cell_type": "markdown",
   "metadata": {},
   "source": [
    "## Feature Engineering: Interaction Feature"
   ]
  },
  {
   "cell_type": "code",
   "execution_count": 32,
   "metadata": {},
   "outputs": [],
   "source": [
    "user_df['lost_x_visit'] = user_df['lost_estimate'] * user_df['visit']"
   ]
  },
  {
   "cell_type": "markdown",
   "metadata": {},
   "source": [
    "## Model Train\n",
    "\n",
    "Features considered: 'lost_estimate', 'visit', 'has_phone', 'life_days', 'gender_male', 'gender_female', 'warehouse_daily_avg', 'receive_emails', 'life_days'"
   ]
  },
  {
   "cell_type": "code",
   "execution_count": 33,
   "metadata": {},
   "outputs": [],
   "source": [
    "df = user_df.merge(user_info_df, on=['user_id'])\n",
    "df = df.merge(label_df, on=['user_id'])\n",
    "df['gender'] = df['gender'].map(lambda x: 'male' if x == 'male (hidden)'\\\n",
    "                                else 'female' if x == 'female (hidden)' else x)\n",
    "df = df.join(pd.get_dummies(df.gender, prefix='gender'))\n",
    "df['receive_emails'] = df['receive_emails'].map(lambda x: 1 if x else 0)\n",
    "df.rename(columns={\"gender_female (hidden)\":\"gender_female_hidden\",\\\n",
    "                   \"gender_male (hidden)\":\"gender_male_hidden\"}, inplace=True)"
   ]
  },
  {
   "cell_type": "code",
   "execution_count": 34,
   "metadata": {},
   "outputs": [
    {
     "data": {
      "text/plain": [
       "Index([            u'user_id',       u'lost_estimate',               u'order',\n",
       "                     u'visit', u'warehouse_daily_avg',      u'visit_interval',\n",
       "             u'num_warehouse',           u'user_type',        u'lost_x_visit',\n",
       "                 u'has_phone',              u'gender',      u'receive_emails',\n",
       "                 u'life_days',         u'label_visit',         u'label_order',\n",
       "             u'gender_female',         u'gender_male'],\n",
       "      dtype='object')"
      ]
     },
     "execution_count": 34,
     "metadata": {},
     "output_type": "execute_result"
    }
   ],
   "source": [
    "df.columns"
   ]
  },
  {
   "cell_type": "code",
   "execution_count": 35,
   "metadata": {},
   "outputs": [
    {
     "data": {
      "text/html": [
       "<div>\n",
       "<style scoped>\n",
       "    .dataframe tbody tr th:only-of-type {\n",
       "        vertical-align: middle;\n",
       "    }\n",
       "\n",
       "    .dataframe tbody tr th {\n",
       "        vertical-align: top;\n",
       "    }\n",
       "\n",
       "    .dataframe thead th {\n",
       "        text-align: right;\n",
       "    }\n",
       "</style>\n",
       "<table border=\"1\" class=\"dataframe\">\n",
       "  <thead>\n",
       "    <tr style=\"text-align: right;\">\n",
       "      <th></th>\n",
       "      <th>user_id</th>\n",
       "      <th>lost_estimate</th>\n",
       "      <th>order</th>\n",
       "      <th>visit</th>\n",
       "      <th>warehouse_daily_avg</th>\n",
       "      <th>visit_interval</th>\n",
       "      <th>num_warehouse</th>\n",
       "      <th>user_type</th>\n",
       "      <th>lost_x_visit</th>\n",
       "      <th>has_phone</th>\n",
       "      <th>gender</th>\n",
       "      <th>receive_emails</th>\n",
       "      <th>life_days</th>\n",
       "      <th>label_visit</th>\n",
       "      <th>label_order</th>\n",
       "      <th>gender_female</th>\n",
       "      <th>gender_male</th>\n",
       "    </tr>\n",
       "  </thead>\n",
       "  <tbody>\n",
       "    <tr>\n",
       "      <th>0</th>\n",
       "      <td>11</td>\n",
       "      <td>0.060055</td>\n",
       "      <td>1.0</td>\n",
       "      <td>1</td>\n",
       "      <td>1.000000</td>\n",
       "      <td>28.000000</td>\n",
       "      <td>1</td>\n",
       "      <td>2</td>\n",
       "      <td>0.060055</td>\n",
       "      <td>1</td>\n",
       "      <td>male</td>\n",
       "      <td>1</td>\n",
       "      <td>2319</td>\n",
       "      <td>0.0</td>\n",
       "      <td>0.0</td>\n",
       "      <td>0</td>\n",
       "      <td>1</td>\n",
       "    </tr>\n",
       "    <tr>\n",
       "      <th>1</th>\n",
       "      <td>22</td>\n",
       "      <td>0.209654</td>\n",
       "      <td>1.0</td>\n",
       "      <td>6</td>\n",
       "      <td>3.333333</td>\n",
       "      <td>8.666667</td>\n",
       "      <td>13</td>\n",
       "      <td>3</td>\n",
       "      <td>1.257927</td>\n",
       "      <td>1</td>\n",
       "      <td>male</td>\n",
       "      <td>1</td>\n",
       "      <td>2317</td>\n",
       "      <td>5.0</td>\n",
       "      <td>0.0</td>\n",
       "      <td>0</td>\n",
       "      <td>1</td>\n",
       "    </tr>\n",
       "    <tr>\n",
       "      <th>2</th>\n",
       "      <td>52</td>\n",
       "      <td>0.000000</td>\n",
       "      <td>0.0</td>\n",
       "      <td>1</td>\n",
       "      <td>1.000000</td>\n",
       "      <td>28.000000</td>\n",
       "      <td>1</td>\n",
       "      <td>2</td>\n",
       "      <td>0.000000</td>\n",
       "      <td>1</td>\n",
       "      <td>male</td>\n",
       "      <td>0</td>\n",
       "      <td>2292</td>\n",
       "      <td>2.0</td>\n",
       "      <td>0.0</td>\n",
       "      <td>0</td>\n",
       "      <td>1</td>\n",
       "    </tr>\n",
       "  </tbody>\n",
       "</table>\n",
       "</div>"
      ],
      "text/plain": [
       "   user_id  lost_estimate  order  visit  warehouse_daily_avg  visit_interval  \\\n",
       "0       11       0.060055    1.0      1             1.000000       28.000000   \n",
       "1       22       0.209654    1.0      6             3.333333        8.666667   \n",
       "2       52       0.000000    0.0      1             1.000000       28.000000   \n",
       "\n",
       "   num_warehouse  user_type  lost_x_visit  has_phone gender  receive_emails  \\\n",
       "0              1          2      0.060055          1   male               1   \n",
       "1             13          3      1.257927          1   male               1   \n",
       "2              1          2      0.000000          1   male               0   \n",
       "\n",
       "   life_days  label_visit  label_order  gender_female  gender_male  \n",
       "0       2319          0.0          0.0              0            1  \n",
       "1       2317          5.0          0.0              0            1  \n",
       "2       2292          2.0          0.0              0            1  "
      ]
     },
     "execution_count": 35,
     "metadata": {},
     "output_type": "execute_result"
    }
   ],
   "source": [
    "df.head(3)"
   ]
  },
  {
   "cell_type": "markdown",
   "metadata": {},
   "source": [
    "## Explore Correlation Between Features\n",
    "\n",
    "  - For Non-express:\n",
    "    - lost = 2.38 + 6.96 * visit, R^2 = 0.22\n",
    "    - lost = 0.86 + 2.86 * order, R^2 = 0.14\n",
    "    - lost = 20.2 - 16.9 * visit_interval, R^2 = 0.15\n",
    "    - lost = 1.40 + 2.11 * num_warehouse, R^2 = 0.10\n",
    "    - lost = 1.22 + 0.49 * warehouse_daily_avg, R^2 = 0.03\n",
    "    \n",
    "    \n",
    "  - For Paid-express:\n",
    "    - lost = 4.47 + 7.24 * visit, R^2 = 0.23\n",
    "    - lost = 2.37 + 3.32 * order, R^2 = 0.14\n",
    "    - lost = 14.5 - 9.90 * visit_interval, R^2 = 0.14\n",
    "    - lost = 1.75 + 2.67 * num_warehouse, R^2 = 0.19\n",
    "    - lost = 1.26 + 0.54 * warehouse_daily_avg, R^2 = 0.09"
   ]
  },
  {
   "cell_type": "code",
   "execution_count": 36,
   "metadata": {},
   "outputs": [
    {
     "name": "stdout",
     "output_type": "stream",
     "text": [
      "                             OLS Regression Results                            \n",
      "===============================================================================\n",
      "Dep. Variable:     warehouse_daily_avg   R-squared:                       0.025\n",
      "Model:                             OLS   Adj. R-squared:                  0.025\n",
      "Method:                  Least Squares   F-statistic:                 2.018e+04\n",
      "Date:                 Tue, 05 Feb 2019   Prob (F-statistic):               0.00\n",
      "Time:                         16:34:57   Log-Likelihood:            -6.4414e+05\n",
      "No. Observations:               777617   AIC:                         1.288e+06\n",
      "Df Residuals:                   777615   BIC:                         1.288e+06\n",
      "Df Model:                            1                                         \n",
      "Covariance Type:             nonrobust                                         \n",
      "=================================================================================\n",
      "                    coef    std err          t      P>|t|      [0.025      0.975]\n",
      "---------------------------------------------------------------------------------\n",
      "const             1.2221      0.001   1659.165      0.000       1.221       1.224\n",
      "lost_estimate     0.4696      0.003    142.061      0.000       0.463       0.476\n",
      "==============================================================================\n",
      "Omnibus:                   628760.691   Durbin-Watson:                   1.956\n",
      "Prob(Omnibus):                  0.000   Jarque-Bera (JB):         22160809.154\n",
      "Skew:                           3.683   Prob(JB):                         0.00\n",
      "Kurtosis:                      28.094   Cond. No.                         5.34\n",
      "==============================================================================\n",
      "\n",
      "Warnings:\n",
      "[1] Standard Errors assume that the covariance matrix of the errors is correctly specified.\n"
     ]
    }
   ],
   "source": [
    "t_type = 2\n",
    "corr_X = df[df['user_type'] == t_type]['lost_estimate']\n",
    "corr_y = df[df['user_type'] == t_type]['warehouse_daily_avg']\n",
    "\n",
    "X1 = sm.add_constant(corr_X)\n",
    "est = sm.OLS(corr_y, X1)\n",
    "est2 = est.fit()\n",
    "print(est2.summary())"
   ]
  },
  {
   "cell_type": "markdown",
   "metadata": {},
   "source": [
    "## Classification\n",
    "\n",
    "### Churn Logistic Regression"
   ]
  },
  {
   "cell_type": "code",
   "execution_count": 37,
   "metadata": {},
   "outputs": [
    {
     "name": "stdout",
     "output_type": "stream",
     "text": [
      "0.858\n"
     ]
    }
   ],
   "source": [
    "from sklearn.linear_model import LogisticRegressionCV\n",
    "\n",
    "# Get train, test and predict DataFrame\n",
    "user_type_model = 5\n",
    "\n",
    "data = df[df['user_type'] == user_type_model].copy().reset_index().drop(['index'], axis=1)\n",
    "\n",
    "data['label_visit'] = data['label_visit'].map(lambda x: 0 if x == 0 else 1)\n",
    "\n",
    "clf_features = ['lost_estimate', 'visit', 'order',\\\n",
    "                'visit_interval', 'num_warehouse',\\\n",
    "                'warehouse_daily_avg',\\\n",
    "                'has_phone', 'gender_male',\\\n",
    "                'gender_female']\n",
    "\n",
    "data_Y = np.array(data['label_visit'])\n",
    "# Normalize Features\n",
    "t_data = data[clf_features].copy()\n",
    "normalized_data = (t_data - t_data.mean()) / t_data.std()\n",
    "data_X = np.array(normalized_data)\n",
    "\n",
    "sss = StratifiedShuffleSplit(data_Y, 1, test_size=0.1, random_state=0)\n",
    "for train_index, test_index in sss:\n",
    "    train_X, test_X = data_X[train_index], data_X[test_index]\n",
    "    train_y, test_y = data_Y[train_index], data_Y[test_index]\n",
    "\n",
    "clf = LogisticRegressionCV(cv=5).fit(train_X, train_y)\n",
    "print(\"%.3f\"%(clf.score(test_X, test_y)))"
   ]
  },
  {
   "cell_type": "code",
   "execution_count": 38,
   "metadata": {},
   "outputs": [
    {
     "data": {
      "image/png": "[encoded data removed]",
      "text/plain": [
       "<Figure size 576x432 with 1 Axes>"
      ]
     },
     "metadata": {
      "needs_background": "light"
     },
     "output_type": "display_data"
    }
   ],
   "source": [
    "predict_y = clf.predict_proba(test_X)\n",
    "metric_df = pd.DataFrame({'predict':predict_y[:,1], 'label_visit':test_y})\n",
    "\n",
    "ind_width = 0.02\n",
    "\n",
    "x = [0.1, 0.2, 0.3, 0.4, 0.5, 0.6, 0.7, 0.8, 0.9, 1.0]\n",
    "x1 = [a - 0.01 for a in x]\n",
    "x2 = [a + 0.01 for a in x]\n",
    "\n",
    "y1, division1 = np.histogram(metric_df[(metric_df['label_visit'] == 0)]\\\n",
    "                             ['predict'])\n",
    "t_num_visit1 = len(metric_df[(metric_df['label_visit'] == 0)])\n",
    "y1 = [i / float(t_num_visit1) for i in y1]\n",
    "\n",
    "y2, division2 = np.histogram(metric_df[(metric_df['label_visit'] == 1)]\\\n",
    "                             ['predict'])\n",
    "t_num_visit2 = len(metric_df[(metric_df['label_visit'] == 1)])\n",
    "y2 = [i / float(t_num_visit2) for i in y2]\n",
    "\n",
    "fig = plt.figure(figsize=(8, 6))\n",
    "ax1 = fig.add_subplot(111)\n",
    "ax1.bar(x1, y1, align='center', color='#539caf',label='No Visit', width=ind_width)\n",
    "ax1.bar(x2, y2, align='center', color='#7663b0', label='Visit', width=ind_width)\n",
    "ax1.set_xlabel('Predicted Probability',fontsize=12)\n",
    "ax1.set_ylabel('Percent',fontsize=12)\n",
    "ax1.set_title(user_type_map_reverse[user_type_model] + ': Stay')\n",
    "ax1.legend(loc = 'upper left',fontsize=10)\n",
    "ax1.grid(True, color='grey', linestyle=':', linewidth=2, alpha=0.3)\n",
    "#ax1.set_xticklabels(('', '0.1', '0.2', '0.3', '0.4', '0.5'))\n",
    "plt.savefig('20180903-20180930 LR Churn Prediction' + user_type_map_reverse[user_type_model] + '.png')\n",
    "plt.show()"
   ]
  },
  {
   "cell_type": "markdown",
   "metadata": {},
   "source": [
    "## Regression\n",
    "\n",
    "### User Linear Regression"
   ]
  },
  {
   "cell_type": "code",
   "execution_count": 39,
   "metadata": {},
   "outputs": [
    {
     "name": "stderr",
     "output_type": "stream",
     "text": [
      "/Users/jianhuitian/.virtualenvs/staffing/lib/python2.7/site-packages/sklearn/linear_model/base.py:424: FutureWarning: elementwise comparison failed; returning scalar instead, but in the future will perform elementwise comparison\n",
      "  if precompute == 'auto':\n"
     ]
    }
   ],
   "source": [
    "# Get train, test and predict DataFrame\n",
    "model_type = 'elasticnet' # 'ridge', 'lasso', 'elasticnet'\n",
    "user_type_model = 5 \n",
    "\n",
    "clf_features = ['lost_estimate', 'visit', 'order',\\\n",
    "                'visit_interval', 'num_warehouse',\\\n",
    "                'warehouse_daily_avg',\\\n",
    "                'has_phone', 'gender_male',\\\n",
    "                'gender_female']\n",
    "\n",
    "data = df[df['user_type'] == user_type_model].copy().reset_index().drop(['index'], axis=1)\n",
    "data_Y = data['label_visit'].copy()\n",
    "\n",
    "# Normalize Features\n",
    "t_data = data[clf_features].copy()\n",
    "data_X = (t_data - t_data.mean()) / t_data.std()\n",
    "\n",
    "train_X, test_X, train_y, test_y = train_test_split(data_X, data_Y, test_size=.1)\n",
    "\n",
    "alpha_list = [0.0001, 0.0003, 0.0006, 0.001, 0.003,\\\n",
    "              0.006, 0.01, 0.03, 0.06, 0.1, 0.3, 0.6, 1]\n",
    "if model_type == \"ridge\":\n",
    "    clf = linear_model.RidgeCV(alphas = alpha_list, cv = 10)\n",
    "elif model_type == \"lasso\":\n",
    "    clf = linear_model.LassoCV(alphas = alpha_list, max_iter = 5000, cv = 10)\n",
    "elif model_type == \"elasticnet\":\n",
    "    clf = linear_model.ElasticNetCV(l1_ratio = [.1, .5, .7, .9, .95, .99, 1],\\\n",
    "                                     alphas = alpha_list,\\\n",
    "                                     max_iter = 1000, cv = 3)\n",
    "\n",
    "clf.fit(train_X, train_y)\n",
    "predict_y = clf.predict(test_X)\n",
    "\n",
    "compare_df = pd.DataFrame({'order':test_y, 'predict':predict_y})\n",
    "\n",
    "if False:\n",
    "    fig, ax = plt.subplots(figsize=(8,6))\n",
    "    ax.scatter(compare_df['order'], compare_df['predict'], color='#539caf')\n",
    "    ax.set_xlabel('Order',fontsize=12)\n",
    "    ax.set_ylabel('Predict',fontsize=12)\n",
    "    ax.set_title('%s Result'%(model_type))\n",
    "    plt.savefig('20180903-20180930 LassoCV Result.png')\n",
    "    plt.show()"
   ]
  },
  {
   "cell_type": "code",
   "execution_count": 40,
   "metadata": {},
   "outputs": [
    {
     "name": "stdout",
     "output_type": "stream",
     "text": [
      "Regularization 0.00.\n",
      "\n",
      "elasticnet paid_express:\n",
      "\n",
      "{'visit_interval': 0.31, 'visit': 3.338, 'warehouse_daily_avg': 0.214, 'lost_estimate': -0.048, 'gender_female': 0.022, 'num_warehouse': -0.084, 'gender_male': -0.019, 'has_phone': 0.05, 'order': 0.653}\n"
     ]
    }
   ],
   "source": [
    "print('Regularization %.2f.\\n'%(clf.alpha_))\n",
    "coef_dict = {}\n",
    "for coef, feat in zip(clf.coef_, clf_features):\n",
    "    coef_dict[feat] = round(coef, 3)\n",
    "\n",
    "print('%s %s:\\n'%(model_type, user_type_map_reverse[user_type_model]))\n",
    "print(coef_dict)"
   ]
  },
  {
   "cell_type": "markdown",
   "metadata": {},
   "source": [
    "#### Estimate Lost Demand Impact\n",
    "\n",
    "Get deltaOrder for 0.1, 0.2, 0.3, 0.4, 0.5 deltaLD."
   ]
  },
  {
   "cell_type": "code",
   "execution_count": 41,
   "metadata": {},
   "outputs": [
    {
     "name": "stdout",
     "output_type": "stream",
     "text": [
      "        lost_estimate     visit\n",
      "136435       1.241065 -0.420186\n",
      "        lost_estimate     visit\n",
      "136435       1.578004 -0.420186\n",
      "        lost_estimate     visit\n",
      "136435       1.914943 -0.420186\n",
      "        lost_estimate     visit\n",
      "136435       2.251882 -0.420186\n",
      "        lost_estimate     visit\n",
      "136435       2.588821 -0.420186\n",
      "        lost_estimate     visit\n",
      "136435        2.92576 -0.420186\n",
      "deltaLD , order_mean, predicted_mean\n",
      "(0, 4.82, 4.79)\n",
      "(0.1, 4.82, 4.77)\n",
      "(0.2, 4.82, 4.76)\n",
      "(0.3, 4.82, 4.74)\n",
      "(0.4, 4.82, 4.72)\n",
      "(0.5, 4.82, 4.71)\n"
     ]
    }
   ],
   "source": [
    "deltaLD_d = []\n",
    "t_std = t_data['lost_estimate'].std()\n",
    "delta_list = [0, 0.1, 0.2, 0.3, 0.4, 0.5]\n",
    "for deltaLD in delta_list:\n",
    "    \n",
    "    # Add deltaLD   \n",
    "    t = []\n",
    "    for i in range(len(test_X)):\n",
    "        t.append([deltaLD / t_std, 0, 0, 0, 0, 0, 0, 0, 0])\n",
    "    X2 = np.add(test_X, np.array(t))\n",
    "\n",
    "    t_predict = clf.predict(X2)\n",
    "    print(X2[['lost_estimate', 'visit']].head(1))\n",
    "    deltaLD_d.append((deltaLD, round(np.mean(test_y), 2),\\\n",
    "                      round(np.mean(t_predict), 2)))\n",
    "                     \n",
    "print(\"deltaLD , order_mean, predicted_mean\")\n",
    "for i in range(len(deltaLD_d)):\n",
    "    print(deltaLD_d[i])"
   ]
  },
  {
   "cell_type": "markdown",
   "metadata": {},
   "source": [
    "### Use statsmodel"
   ]
  },
  {
   "cell_type": "code",
   "execution_count": 42,
   "metadata": {},
   "outputs": [
    {
     "name": "stdout",
     "output_type": "stream",
     "text": [
      "['lost_estimate', 'visit', 'order', 'visit_interval', 'num_warehouse', 'warehouse_daily_avg', 'has_phone', 'gender_male', 'gender_female']\n",
      "                            OLS Regression Results                            \n",
      "==============================================================================\n",
      "Dep. Variable:            label_visit   R-squared:                       0.607\n",
      "Model:                            OLS   Adj. R-squared:                  0.607\n",
      "Method:                 Least Squares   F-statistic:                 5.308e+04\n",
      "Date:                Tue, 05 Feb 2019   Prob (F-statistic):               0.00\n",
      "Time:                        16:35:11   Log-Likelihood:            -7.6818e+05\n",
      "No. Observations:              309614   AIC:                         1.536e+06\n",
      "Df Residuals:                  309604   BIC:                         1.536e+06\n",
      "Df Model:                           9                                         \n",
      "Covariance Type:            nonrobust                                         \n",
      "=======================================================================================\n",
      "                          coef    std err          t      P>|t|      [0.025      0.975]\n",
      "---------------------------------------------------------------------------------------\n",
      "const                   4.7932      0.005    922.026      0.000       4.783       4.803\n",
      "lost_estimate          -0.0486      0.006     -7.800      0.000      -0.061      -0.036\n",
      "visit                   3.3388      0.011    312.983      0.000       3.318       3.360\n",
      "order                   0.6528      0.008     82.562      0.000       0.637       0.668\n",
      "visit_interval          0.3108      0.009     36.014      0.000       0.294       0.328\n",
      "num_warehouse          -0.0850      0.010     -8.283      0.000      -0.105      -0.065\n",
      "warehouse_daily_avg     0.2148      0.009     23.173      0.000       0.197       0.233\n",
      "has_phone               0.0499      0.005      9.561      0.000       0.040       0.060\n",
      "gender_male            -0.0190      0.005     -3.652      0.000      -0.029      -0.009\n",
      "gender_female           0.0218      0.005      4.181      0.000       0.012       0.032\n",
      "==============================================================================\n",
      "Omnibus:                    33694.638   Durbin-Watson:                   2.000\n",
      "Prob(Omnibus):                  0.000   Jarque-Bera (JB):            92851.539\n",
      "Skew:                           0.608   Prob(JB):                         0.00\n",
      "Kurtosis:                       5.391   Cond. No.                         4.76\n",
      "==============================================================================\n",
      "\n",
      "Warnings:\n",
      "[1] Standard Errors assume that the covariance matrix of the errors is correctly specified.\n"
     ]
    }
   ],
   "source": [
    "# Use the same train_X and test_X as Lasso.\n",
    "\n",
    "X2 = sm.add_constant(train_X)\n",
    "est = sm.OLS(train_y, X2)\n",
    "est2 = est.fit()\n",
    "print(clf_features)\n",
    "print(est2.summary())"
   ]
  },
  {
   "cell_type": "markdown",
   "metadata": {},
   "source": [
    "#### Estimate Lost Demand Impact"
   ]
  },
  {
   "cell_type": "code",
   "execution_count": 43,
   "metadata": {},
   "outputs": [
    {
     "name": "stdout",
     "output_type": "stream",
     "text": [
      "        lost_estimate     visit\n",
      "136435       1.241065 -0.420186\n",
      "        lost_estimate     visit\n",
      "136435       1.578004 -0.420186\n",
      "        lost_estimate     visit\n",
      "136435       1.914943 -0.420186\n",
      "        lost_estimate     visit\n",
      "136435       2.251882 -0.420186\n",
      "        lost_estimate     visit\n",
      "136435       2.588821 -0.420186\n",
      "        lost_estimate     visit\n",
      "136435        2.92576 -0.420186\n",
      "deltaLD , order_mean, predicted_mean\n",
      "(0, 4.82, 4.79)\n",
      "(0.1, 4.82, 4.77)\n",
      "(0.2, 4.82, 4.76)\n",
      "(0.3, 4.82, 4.74)\n",
      "(0.4, 4.82, 4.72)\n",
      "(0.5, 4.82, 4.71)\n"
     ]
    }
   ],
   "source": [
    "deltaLD_d = []\n",
    "t_std = t_data['lost_estimate'].std()\n",
    "delta_list = [0, 0.1, 0.2, 0.3, 0.4, 0.5]\n",
    "for deltaLD in delta_list:\n",
    "    \n",
    "    # Add deltaLD   \n",
    "    t = []\n",
    "    for i in range(len(test_X)):\n",
    "        t.append([deltaLD / t_std, 0, 0, 0, 0, 0, 0, 0, 0])\n",
    "    X2 = np.add(test_X, np.array(t))\n",
    "\n",
    "    X2 = sm.add_constant(X2)\n",
    "    t_predict = est2.predict(X2)\n",
    "    print(X2[['lost_estimate', 'visit']].head(1))\n",
    "    deltaLD_d.append((deltaLD, round(np.mean(test_y), 2),\\\n",
    "                      round(np.mean(t_predict), 2)))\n",
    "                     \n",
    "print(\"deltaLD , order_mean, predicted_mean\")\n",
    "for i in range(len(deltaLD_d)):\n",
    "    print(deltaLD_d[i])"
   ]
  },
  {
   "cell_type": "markdown",
   "metadata": {},
   "source": [
    "### Use Random Forest"
   ]
  },
  {
   "cell_type": "code",
   "execution_count": 44,
   "metadata": {},
   "outputs": [],
   "source": [
    "from sklearn.ensemble import RandomForestRegressor\n",
    "filename = 'random_forest_' + str(user_type_map_reverse[user_type_model]) + '.sav'\n",
    "\n",
    "if False:\n",
    "    rf = RandomForestRegressor(n_jobs=-1) \n",
    "\n",
    "    model = rf\n",
    "    params_grid = {\n",
    "    \"n_estimators\" : [40, 60, 80, 100, 120, 140, 160, 180],\n",
    "    \"max_depth\" : [3, 4, 5, 6, 7, 8],\n",
    "    \"min_samples_leaf\" : [1, 2, 4],\n",
    "    \"criterion\":['mse']  # 'mae'\n",
    "     }\n",
    "    params_random = {\n",
    "    \"n_estimators\" : [40, 50, 60, 70, 80, 90, 100, 100, 120, 130, 140, 150, 160, 170, 180],\n",
    "    \"max_depth\" : [3, 4, 5, 6, 7, 8],\n",
    "    \"min_samples_leaf\" : [1, 2, 3, 4, 5],\n",
    "    \"criterion\":['mse']  # 'mae'\n",
    "     }\n",
    "\n",
    "    grid = GridSearchCV(estimator=rf, param_grid=params_grid, cv=4)\n",
    "\n",
    "    grid.fit(train_X, train_y)\n",
    "\n",
    "    predict_y = grid.best_estimator_.predict(test_X)\n",
    "\n",
    "    compare_df = pd.DataFrame({'order':test_y, 'predict':predict_y})\n",
    "\n",
    "    fig, ax = plt.subplots(figsize=(8,6))\n",
    "    ax.scatter(compare_df['order'], compare_df['predict'], color='#539caf')\n",
    "    ax.set_xlabel('Order',fontsize=12)\n",
    "    ax.set_ylabel('Predict',fontsize=12)\n",
    "    ax.set_title('Random Forest Result')\n",
    "    # ax.legend(loc = 'upper right', fontsize=10)\n",
    "    plt.savefig('20180903-20180930 Random Forest Result.png')\n",
    "    plt.show()\n",
    "    \n",
    "    print(grid.best_params_)\n",
    "    pickle.dump(grid, open(filename, 'wb'))"
   ]
  },
  {
   "cell_type": "markdown",
   "metadata": {},
   "source": [
    "#### Estimate Lost Deliveries Impact"
   ]
  },
  {
   "cell_type": "code",
   "execution_count": 45,
   "metadata": {},
   "outputs": [
    {
     "name": "stdout",
     "output_type": "stream",
     "text": [
      "        lost_estimate     visit\n",
      "136435       1.241065 -0.420186\n",
      "        lost_estimate     visit\n",
      "136435       1.578004 -0.420186\n",
      "        lost_estimate     visit\n",
      "136435       1.914943 -0.420186\n",
      "        lost_estimate     visit\n",
      "136435       2.251882 -0.420186\n",
      "        lost_estimate     visit\n",
      "136435       2.588821 -0.420186\n",
      "        lost_estimate     visit\n",
      "136435        2.92576 -0.420186\n",
      "deltaLD , order_mean, predicted_mean\n",
      "(0, 4.82, 0.57)\n",
      "(0.1, 4.82, 0.57)\n",
      "(0.2, 4.82, 0.57)\n",
      "(0.3, 4.82, 0.6)\n",
      "(0.4, 4.82, 0.65)\n",
      "(0.5, 4.82, 0.65)\n"
     ]
    }
   ],
   "source": [
    "# load the model from disk\n",
    "grid = pickle.load(open(filename, 'rb'))\n",
    "\n",
    "deltaLD_d = []\n",
    "t_std = t_data['lost_estimate'].std()\n",
    "delta_list = [0, 0.1, 0.2, 0.3, 0.4, 0.5]\n",
    "for deltaLD in delta_list:\n",
    "    \n",
    "    # Add deltaLD   \n",
    "    t = []\n",
    "    for i in range(len(test_X)):\n",
    "        t.append([deltaLD / t_std, 0, 0, 0, 0, 0, 0, 0, 0])\n",
    "    X2 = np.add(test_X, np.array(t))\n",
    "\n",
    "    t_predict = grid.best_estimator_.predict(X2)\n",
    "    print(X2[['lost_estimate', 'visit']].head(1))\n",
    "    deltaLD_d.append((deltaLD, round(np.mean(test_y), 2),\\\n",
    "                      round(np.mean(t_predict), 2)))\n",
    "                     \n",
    "print(\"deltaLD , order_mean, predicted_mean\")\n",
    "for i in range(len(deltaLD_d)):\n",
    "    print(deltaLD_d[i])"
   ]
  },
  {
   "cell_type": "code",
   "execution_count": null,
   "metadata": {},
   "outputs": [],
   "source": []
  }
 ],
 "metadata": {
  "kernelspec": {
   "display_name": "staffing",
   "language": "python",
   "name": "staffing"
  },
  "language_info": {
   "codemirror_mode": {
    "name": "ipython",
    "version": 2
   },
   "file_extension": ".py",
   "mimetype": "text/x-python",
   "name": "python",
   "nbconvert_exporter": "python",
   "pygments_lexer": "ipython2",
   "version": "2.7.15"
  }
 },
 "nbformat": 4,
 "nbformat_minor": 2
}
