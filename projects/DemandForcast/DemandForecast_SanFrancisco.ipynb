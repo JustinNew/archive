{
 "cells": [
  {
   "cell_type": "markdown",
   "metadata": {},
   "source": [
    "Demand Forecast For San Francisco\n",
    "--"
   ]
  },
  {
   "cell_type": "code",
   "execution_count": 1,
   "metadata": {},
   "outputs": [],
   "source": [
    "import pandas as pd\n",
    "import numpy as np\n",
    "from xgboost import XGBRegressor\n",
    "from xgboost import plot_importance\n",
    "from datetime import datetime\n",
    "from sklearn.ensemble import RandomForestRegressor\n",
    "from sklearn.model_selection import GridSearchCV, RandomizedSearchCV\n",
    "from sklearn.model_selection import train_test_split\n",
    "import math\n",
    "from matplotlib import pyplot as plt\n",
    "%matplotlib inline"
   ]
  },
  {
   "cell_type": "code",
   "execution_count": 2,
   "metadata": {},
   "outputs": [],
   "source": [
    "# Solve problem with xgb error\n",
    "\n",
    "import os\n",
    "os.environ['KMP_DUPLICATE_LIB_OK']='True'"
   ]
  },
  {
   "cell_type": "code",
   "execution_count": 3,
   "metadata": {},
   "outputs": [],
   "source": [
    "calendar = pd.read_csv('HolidaysForForecastAdjustments.csv')\n",
    "calendar.dropna(inplace=True, axis=1, how='all')\n",
    "calendar.dropna(inplace=True, axis=0, how='all')\n",
    "calendar_BAK = calendar.copy()"
   ]
  },
  {
   "cell_type": "code",
   "execution_count": 4,
   "metadata": {},
   "outputs": [
    {
     "data": {
      "text/html": [
       "<div>\n",
       "<style scoped>\n",
       "    .dataframe tbody tr th:only-of-type {\n",
       "        vertical-align: middle;\n",
       "    }\n",
       "\n",
       "    .dataframe tbody tr th {\n",
       "        vertical-align: top;\n",
       "    }\n",
       "\n",
       "    .dataframe thead th {\n",
       "        text-align: right;\n",
       "    }\n",
       "</style>\n",
       "<table border=\"1\" class=\"dataframe\">\n",
       "  <thead>\n",
       "    <tr style=\"text-align: right;\">\n",
       "      <th></th>\n",
       "      <th>Holiday</th>\n",
       "      <th>2016</th>\n",
       "      <th>2017</th>\n",
       "      <th>2018</th>\n",
       "      <th>2019</th>\n",
       "      <th>2020</th>\n",
       "    </tr>\n",
       "  </thead>\n",
       "  <tbody>\n",
       "    <tr>\n",
       "      <th>0</th>\n",
       "      <td>NewYearsDay</td>\n",
       "      <td>1/1/16</td>\n",
       "      <td>1/1/17</td>\n",
       "      <td>1/1/18</td>\n",
       "      <td>1/1/19</td>\n",
       "      <td>1/1/20</td>\n",
       "    </tr>\n",
       "    <tr>\n",
       "      <th>1</th>\n",
       "      <td>MartinLurtherKingDay</td>\n",
       "      <td>1/18/16</td>\n",
       "      <td>1/16/17</td>\n",
       "      <td>1/15/18</td>\n",
       "      <td>1/21/19</td>\n",
       "      <td>1/20/20</td>\n",
       "    </tr>\n",
       "    <tr>\n",
       "      <th>2</th>\n",
       "      <td>SuperBowl</td>\n",
       "      <td>2/7/16</td>\n",
       "      <td>2/5/17</td>\n",
       "      <td>2/4/18</td>\n",
       "      <td>2/3/19</td>\n",
       "      <td>2/2/20</td>\n",
       "    </tr>\n",
       "    <tr>\n",
       "      <th>3</th>\n",
       "      <td>ValentinesDay</td>\n",
       "      <td>2/14/16</td>\n",
       "      <td>2/14/17</td>\n",
       "      <td>2/14/18</td>\n",
       "      <td>2/14/19</td>\n",
       "      <td>2/14/20</td>\n",
       "    </tr>\n",
       "    <tr>\n",
       "      <th>4</th>\n",
       "      <td>PresidentsDay</td>\n",
       "      <td>2/15/16</td>\n",
       "      <td>2/20/17</td>\n",
       "      <td>2/19/18</td>\n",
       "      <td>2/18/19</td>\n",
       "      <td>2/17/20</td>\n",
       "    </tr>\n",
       "    <tr>\n",
       "      <th>5</th>\n",
       "      <td>Easter</td>\n",
       "      <td>3/27/16</td>\n",
       "      <td>4/16/20</td>\n",
       "      <td>4/1/18</td>\n",
       "      <td>4/21/19</td>\n",
       "      <td>4/12/20</td>\n",
       "    </tr>\n",
       "    <tr>\n",
       "      <th>6</th>\n",
       "      <td>MothersDay</td>\n",
       "      <td>5/8/16</td>\n",
       "      <td>5/14/17</td>\n",
       "      <td>5/13/18</td>\n",
       "      <td>5/12/19</td>\n",
       "      <td>5/10/20</td>\n",
       "    </tr>\n",
       "    <tr>\n",
       "      <th>7</th>\n",
       "      <td>MemorialDay</td>\n",
       "      <td>5/30/16</td>\n",
       "      <td>5/29/17</td>\n",
       "      <td>5/28/18</td>\n",
       "      <td>5/27/19</td>\n",
       "      <td>5/25/20</td>\n",
       "    </tr>\n",
       "    <tr>\n",
       "      <th>8</th>\n",
       "      <td>IndependenceDay</td>\n",
       "      <td>7/4/16</td>\n",
       "      <td>7/4/17</td>\n",
       "      <td>7/4/18</td>\n",
       "      <td>7/4/19</td>\n",
       "      <td>7/4/20</td>\n",
       "    </tr>\n",
       "    <tr>\n",
       "      <th>9</th>\n",
       "      <td>LaborDay</td>\n",
       "      <td>9/5/16</td>\n",
       "      <td>9/4/17</td>\n",
       "      <td>9/3/18</td>\n",
       "      <td>9/2/19</td>\n",
       "      <td>9/7/20</td>\n",
       "    </tr>\n",
       "    <tr>\n",
       "      <th>10</th>\n",
       "      <td>ColumbusDay</td>\n",
       "      <td>10/10/16</td>\n",
       "      <td>10/9/17</td>\n",
       "      <td>10/8/18</td>\n",
       "      <td>10/14/19</td>\n",
       "      <td>10/12/20</td>\n",
       "    </tr>\n",
       "    <tr>\n",
       "      <th>11</th>\n",
       "      <td>VeteransDay</td>\n",
       "      <td>11/11/16</td>\n",
       "      <td>11/11/17</td>\n",
       "      <td>11/11/18</td>\n",
       "      <td>11/11/19</td>\n",
       "      <td>11/11/20</td>\n",
       "    </tr>\n",
       "    <tr>\n",
       "      <th>12</th>\n",
       "      <td>ThanksgivingDay</td>\n",
       "      <td>11/24/16</td>\n",
       "      <td>11/23/17</td>\n",
       "      <td>11/22/18</td>\n",
       "      <td>11/28/19</td>\n",
       "      <td>11/26/20</td>\n",
       "    </tr>\n",
       "    <tr>\n",
       "      <th>13</th>\n",
       "      <td>ChristmasDay</td>\n",
       "      <td>12/25/16</td>\n",
       "      <td>12/25/17</td>\n",
       "      <td>12/25/18</td>\n",
       "      <td>12/25/19</td>\n",
       "      <td>12/25/20</td>\n",
       "    </tr>\n",
       "    <tr>\n",
       "      <th>14</th>\n",
       "      <td>New YearsEve</td>\n",
       "      <td>12/31/16</td>\n",
       "      <td>12/31/17</td>\n",
       "      <td>12/31/18</td>\n",
       "      <td>12/31/19</td>\n",
       "      <td>12/31/20</td>\n",
       "    </tr>\n",
       "  </tbody>\n",
       "</table>\n",
       "</div>"
      ],
      "text/plain": [
       "                 Holiday      2016      2017      2018      2019      2020\n",
       "0            NewYearsDay    1/1/16    1/1/17    1/1/18    1/1/19    1/1/20\n",
       "1   MartinLurtherKingDay   1/18/16   1/16/17   1/15/18   1/21/19   1/20/20\n",
       "2              SuperBowl    2/7/16    2/5/17    2/4/18    2/3/19    2/2/20\n",
       "3          ValentinesDay   2/14/16   2/14/17   2/14/18   2/14/19   2/14/20\n",
       "4          PresidentsDay   2/15/16   2/20/17   2/19/18   2/18/19   2/17/20\n",
       "5                 Easter   3/27/16   4/16/20    4/1/18   4/21/19   4/12/20\n",
       "6             MothersDay    5/8/16   5/14/17   5/13/18   5/12/19   5/10/20\n",
       "7            MemorialDay   5/30/16   5/29/17   5/28/18   5/27/19   5/25/20\n",
       "8        IndependenceDay    7/4/16    7/4/17    7/4/18    7/4/19    7/4/20\n",
       "9               LaborDay    9/5/16    9/4/17    9/3/18    9/2/19    9/7/20\n",
       "10           ColumbusDay  10/10/16   10/9/17   10/8/18  10/14/19  10/12/20\n",
       "11           VeteransDay  11/11/16  11/11/17  11/11/18  11/11/19  11/11/20\n",
       "12       ThanksgivingDay  11/24/16  11/23/17  11/22/18  11/28/19  11/26/20\n",
       "13          ChristmasDay  12/25/16  12/25/17  12/25/18  12/25/19  12/25/20\n",
       "14          New YearsEve  12/31/16  12/31/17  12/31/18  12/31/19  12/31/20"
      ]
     },
     "execution_count": 4,
     "metadata": {},
     "output_type": "execute_result"
    }
   ],
   "source": [
    "calendar_BAK"
   ]
  },
  {
   "cell_type": "code",
   "execution_count": 5,
   "metadata": {},
   "outputs": [],
   "source": [
    "df_2016 = calendar_BAK[['2016', 'Holiday']].copy().rename(columns={'2016':'date'})\n",
    "df_2017 = calendar_BAK[['2017', 'Holiday']].copy().rename(columns={'2017':'date'})\n",
    "df_2018 = calendar_BAK[['2018', 'Holiday']].copy().rename(columns={'2018':'date'})\n",
    "df_2019 = calendar_BAK[['2019', 'Holiday']].copy().rename(columns={'2019':'date'})\n",
    "df_2020 = calendar_BAK[['2020', 'Holiday']].copy().rename(columns={'2020':'date'})\n",
    "calendar = pd.concat([df_2016, df_2017, df_2018, df_2019, df_2020])\n",
    "calendar['date'] = pd.to_datetime(calendar['date'], infer_datetime_format=True)\n",
    "calendar['date'] = calendar['date'].map(lambda x: x.date())"
   ]
  },
  {
   "cell_type": "code",
   "execution_count": 6,
   "metadata": {},
   "outputs": [],
   "source": [
    "demand = pd.read_csv('SanFrancisco_Demands.csv').rename(columns={'DEMAND':'demand'})\n",
    "forecast = pd.read_csv('SanFrancisco_Forecasts.csv').rename(columns={'DEMAND':'forecast'})\n",
    "df = demand.merge(forecast, on='DATE', how='left').rename(columns={'DATE':'date'})\n",
    "df['date'] = pd.to_datetime(df['date'], infer_datetime_format=True)\n",
    "first_date = datetime(2016,1,1,0,0).date()\n",
    "df['first_date'] = pd.DataFrame([first_date for i in range(len(df))])\n",
    "df['date'] = df['date'].map(lambda x: x.date())\n",
    "df['days'] = df['date'] - df['first_date']\n",
    "df['days'] = df['days'].map(lambda x: x.days)\n",
    "df_BAK = df.copy()\n",
    "df = df_BAK[df_BAK['date'] >= first_date].copy()\\\n",
    "    .reset_index().drop(columns=['index'], axis=1)\n",
    "df = df.merge(calendar, on='date', how='left')"
   ]
  },
  {
   "cell_type": "code",
   "execution_count": 7,
   "metadata": {},
   "outputs": [
    {
     "data": {
      "text/html": [
       "<div>\n",
       "<style scoped>\n",
       "    .dataframe tbody tr th:only-of-type {\n",
       "        vertical-align: middle;\n",
       "    }\n",
       "\n",
       "    .dataframe tbody tr th {\n",
       "        vertical-align: top;\n",
       "    }\n",
       "\n",
       "    .dataframe thead th {\n",
       "        text-align: right;\n",
       "    }\n",
       "</style>\n",
       "<table border=\"1\" class=\"dataframe\">\n",
       "  <thead>\n",
       "    <tr style=\"text-align: right;\">\n",
       "      <th></th>\n",
       "      <th>date</th>\n",
       "      <th>demand</th>\n",
       "      <th>forecast</th>\n",
       "      <th>first_date</th>\n",
       "      <th>days</th>\n",
       "      <th>Holiday</th>\n",
       "    </tr>\n",
       "  </thead>\n",
       "  <tbody>\n",
       "    <tr>\n",
       "      <th>0</th>\n",
       "      <td>2016-01-01</td>\n",
       "      <td>712.358926</td>\n",
       "      <td>NaN</td>\n",
       "      <td>2016-01-01</td>\n",
       "      <td>0</td>\n",
       "      <td>NewYearsDay</td>\n",
       "    </tr>\n",
       "    <tr>\n",
       "      <th>1</th>\n",
       "      <td>2016-01-02</td>\n",
       "      <td>1735.837215</td>\n",
       "      <td>NaN</td>\n",
       "      <td>2016-01-01</td>\n",
       "      <td>1</td>\n",
       "      <td>NaN</td>\n",
       "    </tr>\n",
       "    <tr>\n",
       "      <th>2</th>\n",
       "      <td>2016-01-03</td>\n",
       "      <td>2848.295065</td>\n",
       "      <td>NaN</td>\n",
       "      <td>2016-01-01</td>\n",
       "      <td>2</td>\n",
       "      <td>NaN</td>\n",
       "    </tr>\n",
       "  </tbody>\n",
       "</table>\n",
       "</div>"
      ],
      "text/plain": [
       "         date       demand  forecast  first_date  days      Holiday\n",
       "0  2016-01-01   712.358926       NaN  2016-01-01     0  NewYearsDay\n",
       "1  2016-01-02  1735.837215       NaN  2016-01-01     1          NaN\n",
       "2  2016-01-03  2848.295065       NaN  2016-01-01     2          NaN"
      ]
     },
     "execution_count": 7,
     "metadata": {},
     "output_type": "execute_result"
    }
   ],
   "source": [
    "df.head(3)"
   ]
  },
  {
   "cell_type": "code",
   "execution_count": 8,
   "metadata": {},
   "outputs": [
    {
     "data": {
      "image/png": "[encoded data removed]",
      "text/plain": [
       "<Figure size 432x288 with 1 Axes>"
      ]
     },
     "metadata": {
      "needs_background": "light"
     },
     "output_type": "display_data"
    }
   ],
   "source": [
    "plt.plot(df['date'], df['demand'])\n",
    "plt.show()"
   ]
  },
  {
   "cell_type": "code",
   "execution_count": 9,
   "metadata": {},
   "outputs": [
    {
     "data": {
      "text/html": [
       "<div>\n",
       "<style scoped>\n",
       "    .dataframe tbody tr th:only-of-type {\n",
       "        vertical-align: middle;\n",
       "    }\n",
       "\n",
       "    .dataframe tbody tr th {\n",
       "        vertical-align: top;\n",
       "    }\n",
       "\n",
       "    .dataframe thead th {\n",
       "        text-align: right;\n",
       "    }\n",
       "</style>\n",
       "<table border=\"1\" class=\"dataframe\">\n",
       "  <thead>\n",
       "    <tr style=\"text-align: right;\">\n",
       "      <th></th>\n",
       "      <th>date</th>\n",
       "      <th>demand</th>\n",
       "      <th>forecast</th>\n",
       "      <th>first_date</th>\n",
       "      <th>days</th>\n",
       "      <th>Holiday</th>\n",
       "    </tr>\n",
       "  </thead>\n",
       "  <tbody>\n",
       "    <tr>\n",
       "      <th>0</th>\n",
       "      <td>2016-01-01</td>\n",
       "      <td>712.358926</td>\n",
       "      <td>NaN</td>\n",
       "      <td>2016-01-01</td>\n",
       "      <td>0</td>\n",
       "      <td>NewYearsDay</td>\n",
       "    </tr>\n",
       "    <tr>\n",
       "      <th>1</th>\n",
       "      <td>2016-01-02</td>\n",
       "      <td>1735.837215</td>\n",
       "      <td>NaN</td>\n",
       "      <td>2016-01-01</td>\n",
       "      <td>1</td>\n",
       "      <td>NaN</td>\n",
       "    </tr>\n",
       "    <tr>\n",
       "      <th>2</th>\n",
       "      <td>2016-01-03</td>\n",
       "      <td>2848.295065</td>\n",
       "      <td>NaN</td>\n",
       "      <td>2016-01-01</td>\n",
       "      <td>2</td>\n",
       "      <td>NaN</td>\n",
       "    </tr>\n",
       "  </tbody>\n",
       "</table>\n",
       "</div>"
      ],
      "text/plain": [
       "         date       demand  forecast  first_date  days      Holiday\n",
       "0  2016-01-01   712.358926       NaN  2016-01-01     0  NewYearsDay\n",
       "1  2016-01-02  1735.837215       NaN  2016-01-01     1          NaN\n",
       "2  2016-01-03  2848.295065       NaN  2016-01-01     2          NaN"
      ]
     },
     "execution_count": 9,
     "metadata": {},
     "output_type": "execute_result"
    }
   ],
   "source": [
    "df.head(3)"
   ]
  },
  {
   "cell_type": "code",
   "execution_count": 10,
   "metadata": {},
   "outputs": [
    {
     "data": {
      "text/plain": [
       "date          1177\n",
       "demand        1177\n",
       "forecast       821\n",
       "first_date    1177\n",
       "days          1177\n",
       "Holiday         47\n",
       "dtype: int64"
      ]
     },
     "execution_count": 10,
     "metadata": {},
     "output_type": "execute_result"
    }
   ],
   "source": [
    "df.notnull().sum()"
   ]
  },
  {
   "cell_type": "code",
   "execution_count": 11,
   "metadata": {},
   "outputs": [],
   "source": [
    "from sklearn import linear_model\n",
    "X = np.array(df['days']).reshape(-1, 1)\n",
    "y = np.array(df['demand'])\n",
    "\n",
    "lr = linear_model.LinearRegression()\n",
    "lr.fit(X, y)\n",
    "predict = lr.predict(X)\n",
    "df['lineardemand'] = pd.DataFrame(predict)"
   ]
  },
  {
   "cell_type": "code",
   "execution_count": 12,
   "metadata": {},
   "outputs": [
    {
     "data": {
      "image/png": "[encoded data removed]",
      "text/plain": [
       "<Figure size 432x288 with 1 Axes>"
      ]
     },
     "metadata": {
      "needs_background": "light"
     },
     "output_type": "display_data"
    }
   ],
   "source": [
    "plt.plot(df['date'], df['demand'], color='red')\n",
    "plt.plot(df['date'], df['lineardemand'], color='black')\n",
    "plt.show()"
   ]
  },
  {
   "cell_type": "code",
   "execution_count": 13,
   "metadata": {},
   "outputs": [],
   "source": [
    "df['demand_m'] = df['demand'] - df['lineardemand']\n",
    "df['forecast_m'] = df['forecast'] - df['lineardemand']"
   ]
  },
  {
   "cell_type": "code",
   "execution_count": 14,
   "metadata": {},
   "outputs": [
    {
     "data": {
      "image/png": "[encoded data removed]",
      "text/plain": [
       "<Figure size 432x288 with 1 Axes>"
      ]
     },
     "metadata": {
      "needs_background": "light"
     },
     "output_type": "display_data"
    }
   ],
   "source": [
    "plt.plot(df['date'], df['demand_m'])\n",
    "plt.show()"
   ]
  },
  {
   "cell_type": "code",
   "execution_count": 15,
   "metadata": {},
   "outputs": [],
   "source": [
    "df['error'] = abs(df['forecast'] - df['demand']) / df['demand']"
   ]
  },
  {
   "cell_type": "code",
   "execution_count": 16,
   "metadata": {},
   "outputs": [
    {
     "data": {
      "image/png": "[encoded data removed]",
      "text/plain": [
       "<Figure size 432x288 with 1 Axes>"
      ]
     },
     "metadata": {
      "needs_background": "light"
     },
     "output_type": "display_data"
    }
   ],
   "source": [
    "plt.plot(df['date'], df['error'])\n",
    "plt.show()"
   ]
  },
  {
   "cell_type": "code",
   "execution_count": 17,
   "metadata": {},
   "outputs": [
    {
     "name": "stdout",
     "output_type": "stream",
     "text": [
      "Predict mean error:    0.108\n",
      "Predict median error:    0.064\n"
     ]
    }
   ],
   "source": [
    "print('Predict mean error: %8.3f'%(df['error'].mean()))\n",
    "print('Predict median error: %8.3f'%(df['error'].median()))"
   ]
  },
  {
   "cell_type": "code",
   "execution_count": 18,
   "metadata": {},
   "outputs": [
    {
     "data": {
      "image/png": "[encoded data removed]",
      "text/plain": [
       "<Figure size 576x432 with 1 Axes>"
      ]
     },
     "metadata": {
      "needs_background": "light"
     },
     "output_type": "display_data"
    }
   ],
   "source": [
    "tot = df['error'].notnull().sum()\n",
    "bins=[0,0.05, 0.1, 0.15, 0.2, 0.25, 0.3, 0.35, 0.4,\\\n",
    "      0.45, 0.5, 0.5, 0.55, 0.6, 0.7, 0.8, 0.9, 1.0,\\\n",
    "      1.2, 1.4, 1.6, 1.8, 2.0, 3.0, 4.0, 5.0]\n",
    "bins2=[0, 0.05, 0.1, 0.15, 0.2, 0.25, 0.3, 0.35, 0.4,\\\n",
    "      0.45, 0.5, 0.5, 0.55, 0.6, 0.7, 0.8, 0.9, 1.0]\n",
    "y, divisions = np.histogram(df['error'], bins=bins2)\n",
    "y = [round(i / float(tot), 3) * 100 for i in y]\n",
    "\n",
    "fig = plt.figure(figsize=(8, 6))\n",
    "ax1 = fig.add_subplot(111)\n",
    "ax1.bar(bins2[1:], y, align='center', color='#7663b0', width=0.03)\n",
    "ax1.set_xlabel('Prediction Error',fontsize=12)\n",
    "ax1.set_ylabel('Fraction of Predictions',fontsize=12)\n",
    "ax1.set_title('Prediction Error Distribution')\n",
    "ax1.grid(True, color='grey', linestyle=':', linewidth=2, alpha=0.3)\n",
    "plt.show()"
   ]
  },
  {
   "cell_type": "code",
   "execution_count": 19,
   "metadata": {},
   "outputs": [],
   "source": [
    "df['weekday'] = df['date'].map(lambda x: x.weekday())\n",
    "df['month'] = df['date'].map(lambda x: x.month)"
   ]
  },
  {
   "cell_type": "code",
   "execution_count": 20,
   "metadata": {},
   "outputs": [
    {
     "data": {
      "text/html": [
       "<div>\n",
       "<style scoped>\n",
       "    .dataframe tbody tr th:only-of-type {\n",
       "        vertical-align: middle;\n",
       "    }\n",
       "\n",
       "    .dataframe tbody tr th {\n",
       "        vertical-align: top;\n",
       "    }\n",
       "\n",
       "    .dataframe thead th {\n",
       "        text-align: right;\n",
       "    }\n",
       "</style>\n",
       "<table border=\"1\" class=\"dataframe\">\n",
       "  <thead>\n",
       "    <tr style=\"text-align: right;\">\n",
       "      <th></th>\n",
       "      <th>date</th>\n",
       "      <th>demand</th>\n",
       "      <th>forecast</th>\n",
       "      <th>first_date</th>\n",
       "      <th>days</th>\n",
       "      <th>Holiday</th>\n",
       "      <th>lineardemand</th>\n",
       "      <th>demand_m</th>\n",
       "      <th>forecast_m</th>\n",
       "      <th>error</th>\n",
       "      <th>weekday</th>\n",
       "      <th>month</th>\n",
       "    </tr>\n",
       "  </thead>\n",
       "  <tbody>\n",
       "    <tr>\n",
       "      <th>692</th>\n",
       "      <td>2017-11-23</td>\n",
       "      <td>253.682863</td>\n",
       "      <td>537.39</td>\n",
       "      <td>2016-01-01</td>\n",
       "      <td>692</td>\n",
       "      <td>ThanksgivingDay</td>\n",
       "      <td>2230.353563</td>\n",
       "      <td>-1976.670700</td>\n",
       "      <td>-1692.963563</td>\n",
       "      <td>1.118354</td>\n",
       "      <td>3</td>\n",
       "      <td>11</td>\n",
       "    </tr>\n",
       "    <tr>\n",
       "      <th>1055</th>\n",
       "      <td>2018-11-22</td>\n",
       "      <td>330.164681</td>\n",
       "      <td>2187.86</td>\n",
       "      <td>2016-01-01</td>\n",
       "      <td>1056</td>\n",
       "      <td>ThanksgivingDay</td>\n",
       "      <td>2442.859316</td>\n",
       "      <td>-2112.694635</td>\n",
       "      <td>-254.999316</td>\n",
       "      <td>5.626572</td>\n",
       "      <td>3</td>\n",
       "      <td>11</td>\n",
       "    </tr>\n",
       "    <tr>\n",
       "      <th>1087</th>\n",
       "      <td>2018-12-24</td>\n",
       "      <td>1345.436927</td>\n",
       "      <td>3252.72</td>\n",
       "      <td>2016-01-01</td>\n",
       "      <td>1088</td>\n",
       "      <td>NaN</td>\n",
       "      <td>2461.541140</td>\n",
       "      <td>-1116.104213</td>\n",
       "      <td>791.178860</td>\n",
       "      <td>1.417594</td>\n",
       "      <td>0</td>\n",
       "      <td>12</td>\n",
       "    </tr>\n",
       "    <tr>\n",
       "      <th>1094</th>\n",
       "      <td>2019-01-01</td>\n",
       "      <td>1205.415375</td>\n",
       "      <td>2732.59</td>\n",
       "      <td>2016-01-01</td>\n",
       "      <td>1096</td>\n",
       "      <td>NewYearsDay</td>\n",
       "      <td>2466.211597</td>\n",
       "      <td>-1260.796222</td>\n",
       "      <td>266.378403</td>\n",
       "      <td>1.266928</td>\n",
       "      <td>1</td>\n",
       "      <td>1</td>\n",
       "    </tr>\n",
       "  </tbody>\n",
       "</table>\n",
       "</div>"
      ],
      "text/plain": [
       "            date       demand  forecast  first_date  days          Holiday  \\\n",
       "692   2017-11-23   253.682863    537.39  2016-01-01   692  ThanksgivingDay   \n",
       "1055  2018-11-22   330.164681   2187.86  2016-01-01  1056  ThanksgivingDay   \n",
       "1087  2018-12-24  1345.436927   3252.72  2016-01-01  1088              NaN   \n",
       "1094  2019-01-01  1205.415375   2732.59  2016-01-01  1096      NewYearsDay   \n",
       "\n",
       "      lineardemand     demand_m   forecast_m     error  weekday  month  \n",
       "692    2230.353563 -1976.670700 -1692.963563  1.118354        3     11  \n",
       "1055   2442.859316 -2112.694635  -254.999316  5.626572        3     11  \n",
       "1087   2461.541140 -1116.104213   791.178860  1.417594        0     12  \n",
       "1094   2466.211597 -1260.796222   266.378403  1.266928        1      1  "
      ]
     },
     "execution_count": 20,
     "metadata": {},
     "output_type": "execute_result"
    }
   ],
   "source": [
    "df[df['error'] > 1]"
   ]
  },
  {
   "cell_type": "markdown",
   "metadata": {},
   "source": [
    "## Feature Engineerings"
   ]
  },
  {
   "cell_type": "code",
   "execution_count": 21,
   "metadata": {},
   "outputs": [],
   "source": [
    "# Holidays\n",
    "holidays = df[df['Holiday'].notnull()]['Holiday'].unique().tolist()\n",
    "for i in holidays:\n",
    "    df[i] = df['Holiday'].map(lambda x: 1 if x == i else 0)\n",
    "\n",
    "# To Thanksgiving    \n",
    "txgv_2016 = datetime(2016,11,24,0,0).date()\n",
    "txgv_2017 = datetime(2017,11,23,0,0).date()\n",
    "txgv_2018 = datetime(2018,11,22,0,0).date()\n",
    "txgv_2019 = datetime(2019,11,28,0,0).date()\n",
    "df['to_thanksgiving'] = df['date'].map(lambda x: (x - txgv_2016).days if x.year == 2016 else\\\n",
    "                                      (x - txgv_2017).days if x.year == 2017 else\n",
    "                                      (x - txgv_2018).days if x.year == 2018 else \n",
    "                                      (x - txgv_2019).days if x.year == 2019 else\n",
    "                                       0)"
   ]
  },
  {
   "cell_type": "code",
   "execution_count": 22,
   "metadata": {},
   "outputs": [],
   "source": [
    "features = ['weekday', 'month', 'to_thanksgiving'] + holidays"
   ]
  },
  {
   "cell_type": "markdown",
   "metadata": {},
   "source": [
    "## Hyperparameter Tuning"
   ]
  },
  {
   "cell_type": "code",
   "execution_count": 23,
   "metadata": {},
   "outputs": [],
   "source": [
    "# Utility functions\n",
    "\n",
    "def Prior_Month(fscl_mn_id):\n",
    "    year = int(fscl_mn_id / 100)\n",
    "    mn = fscl_mn_id % 100\n",
    "    \n",
    "    if mn == 1:\n",
    "        return (year - 1) * 100 + 11\n",
    "    elif mn == 2:\n",
    "        return (year - 1) * 100 + 12\n",
    "    else:\n",
    "        return year * 100 + mn - 2\n",
    "    \n",
    "def One_Month(fscl_mn_id):\n",
    "    year = int(fscl_mn_id / 100)\n",
    "    mn = fscl_mn_id % 100\n",
    "    \n",
    "    if mn == 1:\n",
    "        return (year - 1) * 100 + 12\n",
    "    else:\n",
    "        return year * 100 + mn - 1"
   ]
  },
  {
   "cell_type": "code",
   "execution_count": 24,
   "metadata": {},
   "outputs": [],
   "source": [
    "# Reset index, otherwise there is problem with my own CViterator\n",
    "df['fscl_mn_id'] = df['date'].map(lambda x: x.year * 100 + x.month)\n",
    "\n",
    "myCViterator = []\n",
    "for time_filter in [201807, 201808, 201809, 201810, 201811, 201812]:\n",
    "    prior_mn = One_Month(time_filter)\n",
    "    trainIndices = df[df.fscl_mn_id <= prior_mn].index.values.astype(int)\n",
    "    testIndices =  df[df.fscl_mn_id == time_filter].index.values.astype(int)\n",
    "    myCViterator.append( (trainIndices, testIndices) )"
   ]
  },
  {
   "cell_type": "code",
   "execution_count": 25,
   "metadata": {},
   "outputs": [
    {
     "name": "stderr",
     "output_type": "stream",
     "text": [
      "/Users/jianhuitian/Documents/Programs/Anaconda3/anaconda3/lib/python3.7/site-packages/xgboost/core.py:587: FutureWarning: Series.base is deprecated and will be removed in a future version\n",
      "  if getattr(data, 'base', None) is not None and \\\n",
      "/Users/jianhuitian/Documents/Programs/Anaconda3/anaconda3/lib/python3.7/site-packages/xgboost/core.py:587: FutureWarning: Series.base is deprecated and will be removed in a future version\n",
      "  if getattr(data, 'base', None) is not None and \\\n",
      "/Users/jianhuitian/Documents/Programs/Anaconda3/anaconda3/lib/python3.7/site-packages/xgboost/core.py:587: FutureWarning: Series.base is deprecated and will be removed in a future version\n",
      "  if getattr(data, 'base', None) is not None and \\\n",
      "/Users/jianhuitian/Documents/Programs/Anaconda3/anaconda3/lib/python3.7/site-packages/xgboost/core.py:587: FutureWarning: Series.base is deprecated and will be removed in a future version\n",
      "  if getattr(data, 'base', None) is not None and \\\n",
      "/Users/jianhuitian/Documents/Programs/Anaconda3/anaconda3/lib/python3.7/site-packages/xgboost/core.py:587: FutureWarning: Series.base is deprecated and will be removed in a future version\n",
      "  if getattr(data, 'base', None) is not None and \\\n",
      "/Users/jianhuitian/Documents/Programs/Anaconda3/anaconda3/lib/python3.7/site-packages/xgboost/core.py:587: FutureWarning: Series.base is deprecated and will be removed in a future version\n",
      "  if getattr(data, 'base', None) is not None and \\\n",
      "/Users/jianhuitian/Documents/Programs/Anaconda3/anaconda3/lib/python3.7/site-packages/xgboost/core.py:587: FutureWarning: Series.base is deprecated and will be removed in a future version\n",
      "  if getattr(data, 'base', None) is not None and \\\n",
      "/Users/jianhuitian/Documents/Programs/Anaconda3/anaconda3/lib/python3.7/site-packages/xgboost/core.py:587: FutureWarning: Series.base is deprecated and will be removed in a future version\n",
      "  if getattr(data, 'base', None) is not None and \\\n",
      "/Users/jianhuitian/Documents/Programs/Anaconda3/anaconda3/lib/python3.7/site-packages/xgboost/core.py:587: FutureWarning: Series.base is deprecated and will be removed in a future version\n",
      "  if getattr(data, 'base', None) is not None and \\\n",
      "/Users/jianhuitian/Documents/Programs/Anaconda3/anaconda3/lib/python3.7/site-packages/xgboost/core.py:587: FutureWarning: Series.base is deprecated and will be removed in a future version\n",
      "  if getattr(data, 'base', None) is not None and \\\n",
      "/Users/jianhuitian/Documents/Programs/Anaconda3/anaconda3/lib/python3.7/site-packages/xgboost/core.py:587: FutureWarning: Series.base is deprecated and will be removed in a future version\n",
      "  if getattr(data, 'base', None) is not None and \\\n",
      "/Users/jianhuitian/Documents/Programs/Anaconda3/anaconda3/lib/python3.7/site-packages/xgboost/core.py:587: FutureWarning: Series.base is deprecated and will be removed in a future version\n",
      "  if getattr(data, 'base', None) is not None and \\\n",
      "/Users/jianhuitian/Documents/Programs/Anaconda3/anaconda3/lib/python3.7/site-packages/xgboost/core.py:587: FutureWarning: Series.base is deprecated and will be removed in a future version\n",
      "  if getattr(data, 'base', None) is not None and \\\n",
      "/Users/jianhuitian/Documents/Programs/Anaconda3/anaconda3/lib/python3.7/site-packages/xgboost/core.py:587: FutureWarning: Series.base is deprecated and will be removed in a future version\n",
      "  if getattr(data, 'base', None) is not None and \\\n",
      "/Users/jianhuitian/Documents/Programs/Anaconda3/anaconda3/lib/python3.7/site-packages/xgboost/core.py:587: FutureWarning: Series.base is deprecated and will be removed in a future version\n",
      "  if getattr(data, 'base', None) is not None and \\\n",
      "/Users/jianhuitian/Documents/Programs/Anaconda3/anaconda3/lib/python3.7/site-packages/xgboost/core.py:587: FutureWarning: Series.base is deprecated and will be removed in a future version\n",
      "  if getattr(data, 'base', None) is not None and \\\n",
      "/Users/jianhuitian/Documents/Programs/Anaconda3/anaconda3/lib/python3.7/site-packages/xgboost/core.py:587: FutureWarning: Series.base is deprecated and will be removed in a future version\n",
      "  if getattr(data, 'base', None) is not None and \\\n",
      "/Users/jianhuitian/Documents/Programs/Anaconda3/anaconda3/lib/python3.7/site-packages/xgboost/core.py:587: FutureWarning: Series.base is deprecated and will be removed in a future version\n",
      "  if getattr(data, 'base', None) is not None and \\\n",
      "/Users/jianhuitian/Documents/Programs/Anaconda3/anaconda3/lib/python3.7/site-packages/xgboost/core.py:587: FutureWarning: Series.base is deprecated and will be removed in a future version\n",
      "  if getattr(data, 'base', None) is not None and \\\n",
      "/Users/jianhuitian/Documents/Programs/Anaconda3/anaconda3/lib/python3.7/site-packages/xgboost/core.py:587: FutureWarning: Series.base is deprecated and will be removed in a future version\n",
      "  if getattr(data, 'base', None) is not None and \\\n",
      "/Users/jianhuitian/Documents/Programs/Anaconda3/anaconda3/lib/python3.7/site-packages/xgboost/core.py:587: FutureWarning: Series.base is deprecated and will be removed in a future version\n",
      "  if getattr(data, 'base', None) is not None and \\\n",
      "/Users/jianhuitian/Documents/Programs/Anaconda3/anaconda3/lib/python3.7/site-packages/xgboost/core.py:587: FutureWarning: Series.base is deprecated and will be removed in a future version\n",
      "  if getattr(data, 'base', None) is not None and \\\n",
      "/Users/jianhuitian/Documents/Programs/Anaconda3/anaconda3/lib/python3.7/site-packages/xgboost/core.py:587: FutureWarning: Series.base is deprecated and will be removed in a future version\n",
      "  if getattr(data, 'base', None) is not None and \\\n",
      "/Users/jianhuitian/Documents/Programs/Anaconda3/anaconda3/lib/python3.7/site-packages/xgboost/core.py:587: FutureWarning: Series.base is deprecated and will be removed in a future version\n",
      "  if getattr(data, 'base', None) is not None and \\\n",
      "/Users/jianhuitian/Documents/Programs/Anaconda3/anaconda3/lib/python3.7/site-packages/xgboost/core.py:587: FutureWarning: Series.base is deprecated and will be removed in a future version\n",
      "  if getattr(data, 'base', None) is not None and \\\n",
      "/Users/jianhuitian/Documents/Programs/Anaconda3/anaconda3/lib/python3.7/site-packages/xgboost/core.py:587: FutureWarning: Series.base is deprecated and will be removed in a future version\n",
      "  if getattr(data, 'base', None) is not None and \\\n",
      "/Users/jianhuitian/Documents/Programs/Anaconda3/anaconda3/lib/python3.7/site-packages/xgboost/core.py:587: FutureWarning: Series.base is deprecated and will be removed in a future version\n",
      "  if getattr(data, 'base', None) is not None and \\\n",
      "/Users/jianhuitian/Documents/Programs/Anaconda3/anaconda3/lib/python3.7/site-packages/xgboost/core.py:587: FutureWarning: Series.base is deprecated and will be removed in a future version\n",
      "  if getattr(data, 'base', None) is not None and \\\n",
      "/Users/jianhuitian/Documents/Programs/Anaconda3/anaconda3/lib/python3.7/site-packages/xgboost/core.py:587: FutureWarning: Series.base is deprecated and will be removed in a future version\n",
      "  if getattr(data, 'base', None) is not None and \\\n",
      "/Users/jianhuitian/Documents/Programs/Anaconda3/anaconda3/lib/python3.7/site-packages/xgboost/core.py:587: FutureWarning: Series.base is deprecated and will be removed in a future version\n",
      "  if getattr(data, 'base', None) is not None and \\\n",
      "/Users/jianhuitian/Documents/Programs/Anaconda3/anaconda3/lib/python3.7/site-packages/xgboost/core.py:587: FutureWarning: Series.base is deprecated and will be removed in a future version\n",
      "  if getattr(data, 'base', None) is not None and \\\n",
      "/Users/jianhuitian/Documents/Programs/Anaconda3/anaconda3/lib/python3.7/site-packages/xgboost/core.py:587: FutureWarning: Series.base is deprecated and will be removed in a future version\n",
      "  if getattr(data, 'base', None) is not None and \\\n",
      "/Users/jianhuitian/Documents/Programs/Anaconda3/anaconda3/lib/python3.7/site-packages/xgboost/core.py:587: FutureWarning: Series.base is deprecated and will be removed in a future version\n",
      "  if getattr(data, 'base', None) is not None and \\\n",
      "/Users/jianhuitian/Documents/Programs/Anaconda3/anaconda3/lib/python3.7/site-packages/xgboost/core.py:587: FutureWarning: Series.base is deprecated and will be removed in a future version\n",
      "  if getattr(data, 'base', None) is not None and \\\n",
      "/Users/jianhuitian/Documents/Programs/Anaconda3/anaconda3/lib/python3.7/site-packages/xgboost/core.py:587: FutureWarning: Series.base is deprecated and will be removed in a future version\n",
      "  if getattr(data, 'base', None) is not None and \\\n",
      "/Users/jianhuitian/Documents/Programs/Anaconda3/anaconda3/lib/python3.7/site-packages/xgboost/core.py:587: FutureWarning: Series.base is deprecated and will be removed in a future version\n",
      "  if getattr(data, 'base', None) is not None and \\\n"
     ]
    },
    {
     "name": "stderr",
     "output_type": "stream",
     "text": [
      "/Users/jianhuitian/Documents/Programs/Anaconda3/anaconda3/lib/python3.7/site-packages/xgboost/core.py:587: FutureWarning: Series.base is deprecated and will be removed in a future version\n",
      "  if getattr(data, 'base', None) is not None and \\\n",
      "/Users/jianhuitian/Documents/Programs/Anaconda3/anaconda3/lib/python3.7/site-packages/xgboost/core.py:587: FutureWarning: Series.base is deprecated and will be removed in a future version\n",
      "  if getattr(data, 'base', None) is not None and \\\n",
      "/Users/jianhuitian/Documents/Programs/Anaconda3/anaconda3/lib/python3.7/site-packages/xgboost/core.py:587: FutureWarning: Series.base is deprecated and will be removed in a future version\n",
      "  if getattr(data, 'base', None) is not None and \\\n",
      "/Users/jianhuitian/Documents/Programs/Anaconda3/anaconda3/lib/python3.7/site-packages/xgboost/core.py:587: FutureWarning: Series.base is deprecated and will be removed in a future version\n",
      "  if getattr(data, 'base', None) is not None and \\\n",
      "/Users/jianhuitian/Documents/Programs/Anaconda3/anaconda3/lib/python3.7/site-packages/xgboost/core.py:587: FutureWarning: Series.base is deprecated and will be removed in a future version\n",
      "  if getattr(data, 'base', None) is not None and \\\n",
      "/Users/jianhuitian/Documents/Programs/Anaconda3/anaconda3/lib/python3.7/site-packages/xgboost/core.py:587: FutureWarning: Series.base is deprecated and will be removed in a future version\n",
      "  if getattr(data, 'base', None) is not None and \\\n",
      "/Users/jianhuitian/Documents/Programs/Anaconda3/anaconda3/lib/python3.7/site-packages/xgboost/core.py:587: FutureWarning: Series.base is deprecated and will be removed in a future version\n",
      "  if getattr(data, 'base', None) is not None and \\\n",
      "/Users/jianhuitian/Documents/Programs/Anaconda3/anaconda3/lib/python3.7/site-packages/xgboost/core.py:587: FutureWarning: Series.base is deprecated and will be removed in a future version\n",
      "  if getattr(data, 'base', None) is not None and \\\n",
      "/Users/jianhuitian/Documents/Programs/Anaconda3/anaconda3/lib/python3.7/site-packages/xgboost/core.py:587: FutureWarning: Series.base is deprecated and will be removed in a future version\n",
      "  if getattr(data, 'base', None) is not None and \\\n",
      "/Users/jianhuitian/Documents/Programs/Anaconda3/anaconda3/lib/python3.7/site-packages/xgboost/core.py:587: FutureWarning: Series.base is deprecated and will be removed in a future version\n",
      "  if getattr(data, 'base', None) is not None and \\\n",
      "/Users/jianhuitian/Documents/Programs/Anaconda3/anaconda3/lib/python3.7/site-packages/xgboost/core.py:587: FutureWarning: Series.base is deprecated and will be removed in a future version\n",
      "  if getattr(data, 'base', None) is not None and \\\n",
      "/Users/jianhuitian/Documents/Programs/Anaconda3/anaconda3/lib/python3.7/site-packages/xgboost/core.py:587: FutureWarning: Series.base is deprecated and will be removed in a future version\n",
      "  if getattr(data, 'base', None) is not None and \\\n",
      "/Users/jianhuitian/Documents/Programs/Anaconda3/anaconda3/lib/python3.7/site-packages/xgboost/core.py:587: FutureWarning: Series.base is deprecated and will be removed in a future version\n",
      "  if getattr(data, 'base', None) is not None and \\\n",
      "/Users/jianhuitian/Documents/Programs/Anaconda3/anaconda3/lib/python3.7/site-packages/xgboost/core.py:587: FutureWarning: Series.base is deprecated and will be removed in a future version\n",
      "  if getattr(data, 'base', None) is not None and \\\n",
      "/Users/jianhuitian/Documents/Programs/Anaconda3/anaconda3/lib/python3.7/site-packages/xgboost/core.py:587: FutureWarning: Series.base is deprecated and will be removed in a future version\n",
      "  if getattr(data, 'base', None) is not None and \\\n",
      "/Users/jianhuitian/Documents/Programs/Anaconda3/anaconda3/lib/python3.7/site-packages/xgboost/core.py:587: FutureWarning: Series.base is deprecated and will be removed in a future version\n",
      "  if getattr(data, 'base', None) is not None and \\\n",
      "/Users/jianhuitian/Documents/Programs/Anaconda3/anaconda3/lib/python3.7/site-packages/xgboost/core.py:587: FutureWarning: Series.base is deprecated and will be removed in a future version\n",
      "  if getattr(data, 'base', None) is not None and \\\n",
      "/Users/jianhuitian/Documents/Programs/Anaconda3/anaconda3/lib/python3.7/site-packages/xgboost/core.py:587: FutureWarning: Series.base is deprecated and will be removed in a future version\n",
      "  if getattr(data, 'base', None) is not None and \\\n",
      "/Users/jianhuitian/Documents/Programs/Anaconda3/anaconda3/lib/python3.7/site-packages/xgboost/core.py:587: FutureWarning: Series.base is deprecated and will be removed in a future version\n",
      "  if getattr(data, 'base', None) is not None and \\\n",
      "/Users/jianhuitian/Documents/Programs/Anaconda3/anaconda3/lib/python3.7/site-packages/xgboost/core.py:587: FutureWarning: Series.base is deprecated and will be removed in a future version\n",
      "  if getattr(data, 'base', None) is not None and \\\n",
      "/Users/jianhuitian/Documents/Programs/Anaconda3/anaconda3/lib/python3.7/site-packages/xgboost/core.py:587: FutureWarning: Series.base is deprecated and will be removed in a future version\n",
      "  if getattr(data, 'base', None) is not None and \\\n",
      "/Users/jianhuitian/Documents/Programs/Anaconda3/anaconda3/lib/python3.7/site-packages/xgboost/core.py:587: FutureWarning: Series.base is deprecated and will be removed in a future version\n",
      "  if getattr(data, 'base', None) is not None and \\\n"
     ]
    },
    {
     "name": "stdout",
     "output_type": "stream",
     "text": [
      "{'n_estimators': 120, 'min_child_weight': 2, 'max_depth': 6, 'gamma': 0.3}\n"
     ]
    },
    {
     "name": "stderr",
     "output_type": "stream",
     "text": [
      "/Users/jianhuitian/Documents/Programs/Anaconda3/anaconda3/lib/python3.7/site-packages/xgboost/core.py:587: FutureWarning: Series.base is deprecated and will be removed in a future version\n",
      "  if getattr(data, 'base', None) is not None and \\\n",
      "/Users/jianhuitian/Documents/Programs/Anaconda3/anaconda3/lib/python3.7/site-packages/xgboost/core.py:587: FutureWarning: Series.base is deprecated and will be removed in a future version\n",
      "  if getattr(data, 'base', None) is not None and \\\n",
      "/Users/jianhuitian/Documents/Programs/Anaconda3/anaconda3/lib/python3.7/site-packages/sklearn/model_selection/_search.py:841: DeprecationWarning: The default of the `iid` parameter will change from True to False in version 0.22 and will be removed in 0.24. This will change numeric results when test-set sizes are unequal.\n",
      "  DeprecationWarning)\n",
      "/Users/jianhuitian/Documents/Programs/Anaconda3/anaconda3/lib/python3.7/site-packages/xgboost/core.py:587: FutureWarning: Series.base is deprecated and will be removed in a future version\n",
      "  if getattr(data, 'base', None) is not None and \\\n"
     ]
    }
   ],
   "source": [
    "flag_model = 'xgb' # 'xgb' or 'rf'\n",
    "flag_search = 'random' # 'grid' or 'random'\n",
    "\n",
    "time_filter = 201901\n",
    "\n",
    "# Get train, test and predict DataFrame\n",
    "train_data = df[features].copy()\n",
    "predict_data = df[df.fscl_mn_id >= time_filter][features].copy()\n",
    "\n",
    "train_label = df['demand_m'].copy()\n",
    "predict_label = df[df.fscl_mn_id >= time_filter]\\\n",
    "    [['date', 'demand', 'demand_m', 'lineardemand', 'forecast', 'fscl_mn_id', 'error']].copy()\n",
    "\n",
    "# Define Model Parameters    \n",
    "xgb = XGBRegressor(n_jobs=-1, silent=1, subsample=0.9, eval_metric='rmse')    \n",
    "rf = RandomForestRegressor(n_jobs=-1)\n",
    "\n",
    "if flag_model == 'xgb': \n",
    "    model = xgb\n",
    "    params_grid = {\n",
    "        \"max_depth\" : [3, 4, 5, 6, 7],\n",
    "        \"n_estimators\": [20, 40, 60, 80, 100, 120, 140],\n",
    "        \"min_child_weight\": [1, 3, 5],\n",
    "        \"gamma\": [i/10.0 for i in range(3,6)]\n",
    "         }\n",
    "    params_random = {\n",
    "        \"max_depth\" : [2, 3, 4, 5, 6, 7, 8, 9],\n",
    "        \"n_estimators\": [20, 30, 40, 50, 60, 70, 80, 90, 100, 110, 120, 130, 140],\n",
    "        \"min_child_weight\": [1, 2, 3, 4, 5, 6],\n",
    "        \"gamma\": [i/10.0 for i in range(3,6)]\n",
    "         }\n",
    "else:\n",
    "    model = rf\n",
    "    params_grid = {\n",
    "    \"n_estimators\" : [40, 60, 80, 100, 120, 140, 160, 180],\n",
    "    \"max_depth\" : [3, 4, 5, 6, 7, 8],\n",
    "    \"min_samples_leaf\" : [1, 2, 4],\n",
    "    \"criterion\":['mse']  # 'mae'\n",
    "     }\n",
    "    params_random = {\n",
    "    \"n_estimators\" : [40, 50, 60, 70, 80, 90, 100, 100, 120, 130, 140, 150, 160, 170, 180],\n",
    "    \"max_depth\" : [3, 4, 5, 6, 7, 8],\n",
    "    \"min_samples_leaf\" : [1, 2, 3, 4, 5],\n",
    "    \"criterion\":['mse']  # 'mae'\n",
    "     }\n",
    "    \n",
    "if flag_search == 'grid':\n",
    "    grid = GridSearchCV(estimator=model, param_grid=params_grid, cv=myCViterator)\n",
    "else:\n",
    "    grid = RandomizedSearchCV(estimator=model, param_distributions=params_random, cv=myCViterator)\n",
    "\n",
    "grid.fit(train_data, train_label)\n",
    "print(grid.best_params_)"
   ]
  },
  {
   "cell_type": "code",
   "execution_count": 26,
   "metadata": {},
   "outputs": [
    {
     "name": "stdout",
     "output_type": "stream",
     "text": [
      "   fscl_mn_id   abs_ape   abs_err\n",
      "0      201901  0.060279  0.169869\n",
      "1      201902  0.065544  0.081011\n",
      "2      201903  0.063503  0.076462\n"
     ]
    }
   ],
   "source": [
    "# Get prediction for each of the month\n",
    "ypred = grid.best_estimator_.predict(predict_data)\n",
    "df_pred = predict_label.copy()\n",
    "df_pred = df_pred.assign(pred=list(ypred))\n",
    "df_pred['pred'] = df_pred['pred'] + df_pred['lineardemand']\n",
    "    \n",
    "# After prediction for all the month, get all APE and MAPE.\n",
    "df_pred['ape'] = (df_pred['pred'] - df_pred['demand']) / df_pred['demand']\n",
    "df_pred['abs_ape'] = df_pred['ape'].map(lambda x: abs(x))\n",
    "df_pred['abs_err'] = df_pred['error'].map(lambda x: abs(x))\n",
    "\n",
    "\n",
    "df_mape = df_pred[['fscl_mn_id', 'abs_ape', 'abs_err']].groupby('fscl_mn_id')\\\n",
    "    .agg({'abs_ape':np.mean, 'abs_err':np.mean}).reset_index()\n",
    "\n",
    "print(df_mape)"
   ]
  },
  {
   "cell_type": "code",
   "execution_count": 27,
   "metadata": {},
   "outputs": [
    {
     "data": {
      "image/png": "[encoded data removed]",
      "text/plain": [
       "<Figure size 576x432 with 1 Axes>"
      ]
     },
     "metadata": {
      "needs_background": "light"
     },
     "output_type": "display_data"
    }
   ],
   "source": [
    "fig = plt.figure(figsize=(8, 6))\n",
    "ax1 = fig.add_subplot(111)\n",
    "ax1.plot(df_pred['date'], df_pred['abs_ape'], color='#539caf', label='XGB')\n",
    "ax1.plot(df_pred['date'], df_pred['abs_err'], color='#7663b0', label='Production')\n",
    "ax1.set_xlabel('Date',fontsize=12)\n",
    "ax1.set_ylabel('Prediction Error',fontsize=12)\n",
    "ax1.set_title('Prediction Error Distribution')\n",
    "ax1.legend(loc='upper right', fontsize=12)\n",
    "ax1.grid(True, color='grey', linestyle=':', linewidth=2, alpha=0.3)\n",
    "plt.show()"
   ]
  },
  {
   "cell_type": "code",
   "execution_count": null,
   "metadata": {},
   "outputs": [],
   "source": []
  }
 ],
 "metadata": {
  "kernelspec": {
   "display_name": "Python 3",
   "language": "python",
   "name": "python3"
  },
  "language_info": {
   "codemirror_mode": {
    "name": "ipython",
    "version": 3
   },
   "file_extension": ".py",
   "mimetype": "text/x-python",
   "name": "python",
   "nbconvert_exporter": "python",
   "pygments_lexer": "ipython3",
   "version": "3.7.2"
  }
 },
 "nbformat": 4,
 "nbformat_minor": 2
}
