{
 "cells": [
  {
   "cell_type": "markdown",
   "metadata": {},
   "source": [
    "Instacart Challenge -- JT 20180929\n",
    "--"
   ]
  },
  {
   "cell_type": "markdown",
   "metadata": {},
   "source": [
    "## Summary\n",
    "\n",
    "The data challenge is to predict shopping time. I have train_trips.csv, test_trips.csv and order_items.csv. In the order_items.csv, there are information about items, department and quantity for each trip. These information in order_items.csv need to be joined with train_trips.csv and test_trips.csv. After exploring and understanding the data, I joined order_items.csv with train_trips.csv and test_trips.csv. Then I did feature engineering to create some useful features. Next, I did model training and prediction. This is a regression problem. I tried Random Forest and XGBoost models here with hyperparamter tuning. For the final results, I used XGBoost as it gave better results. \n",
    "\n",
    "## Steps\n",
    "\n",
    "### Read in data, explore data and understand data\n",
    "\n",
    "  - Read in the three csv files, understand number of records, features, missing values, distributions, etc.\n",
    "\n",
    "  - There is no missing value. \n",
    "  \n",
    "  - There is -0.75 and -0.5 for item quantity in order_items.csv, I assume it should be 1 and do data imputation. \n",
    "\n",
    "### Feature engineering\n",
    "\n",
    "  - Get number of types of items, number of types of departments and total quantities of items for each of the trips in order_items.csv.\n",
    "  \n",
    "    - Total number of item types. How many types of items each trip includes will affect shopping time.\n",
    "    - Total number of department types. The assumption is that the shopper shops at one department will spend less time compared to another shopper who shops at 5 departments.\n",
    "    - Total quantity of items. \n",
    "\n",
    "  - Do feature engineering for train_trips.csv and test_trips.csv for fulfillment_mode, store_id, and shopping_started_at.\n",
    "  \n",
    "    - Weekday and Hour. What day of the week and what hour of the day will be important features to determine the shopping time.\n",
    "    - fulfillment_mode, dummy variables for each model \n",
    "    - store_id, dummy variables for each store\n",
    "\n",
    "  - Join datasets between train_trips.csv/test_trips.csv and order_items.csv.\n",
    "\n",
    "### Model training, hyperparameter tuning and prediction\n",
    " \n",
    "This is a regression problem. Two models are tried here: random forest regression and XGBoost regression. Random forest regression is a good out of box model for regression which can include interactions among features. XGBoost is a more powerful ensemble based tree model which has been shown to be very powerful for a lot of macchine learning problems. As we goal here is to predict shopping_time more accurately, XGBoost has been chosen to do the final hyperparameter tuning and prediction. Randomized search is conducted with cross validation to do hyperparamter tuning. The best tuned model is used for prediction.\n",
    "\n",
    "## Notes\n",
    "\n",
    "### Choose of metric\n",
    "\n",
    "This is a regression problem. I can choose 'MSE' or 'MAE' as the metric. RMSE should be more useful when large errors are particularly undesirable. When we predict shopping time, we do not want to have large errors, so I choose to use MSE here as my metric.\n",
    "\n",
    "### Estimation of shopping time\n",
    "\n",
    "Just like estimation of time of arrival for rides of Uber or Lyft, the estimation of shopping time is very hard to be accurate. More data and more information about each of the shopping trip will help to improve the model accuracy."
   ]
  },
  {
   "cell_type": "code",
   "execution_count": 1,
   "metadata": {
    "collapsed": true
   },
   "outputs": [],
   "source": [
    "import pandas as pd\n",
    "import numpy as np\n",
    "from matplotlib import pyplot as plt\n",
    "%matplotlib inline"
   ]
  },
  {
   "cell_type": "markdown",
   "metadata": {},
   "source": [
    "### Read in data, explore data and understand data"
   ]
  },
  {
   "cell_type": "code",
   "execution_count": 2,
   "metadata": {
    "collapsed": true
   },
   "outputs": [],
   "source": [
    "# Read in dataset\n",
    "\n",
    "train = pd.read_csv('./instacart-picking-time-challenge-data/train_trips.csv')\n",
    "order = pd.read_csv('./instacart-picking-time-challenge-data/order_items.csv')\n",
    "test = pd.read_csv('./instacart-picking-time-challenge-data/test_trips.csv')"
   ]
  },
  {
   "cell_type": "code",
   "execution_count": 3,
   "metadata": {},
   "outputs": [
    {
     "data": {
      "text/html": [
       "<div>\n",
       "<style>\n",
       "    .dataframe thead tr:only-child th {\n",
       "        text-align: right;\n",
       "    }\n",
       "\n",
       "    .dataframe thead th {\n",
       "        text-align: left;\n",
       "    }\n",
       "\n",
       "    .dataframe tbody tr th {\n",
       "        vertical-align: top;\n",
       "    }\n",
       "</style>\n",
       "<table border=\"1\" class=\"dataframe\">\n",
       "  <thead>\n",
       "    <tr style=\"text-align: right;\">\n",
       "      <th></th>\n",
       "      <th>trip_id</th>\n",
       "      <th>shopper_id</th>\n",
       "      <th>fulfillment_model</th>\n",
       "      <th>store_id</th>\n",
       "      <th>shopping_started_at</th>\n",
       "      <th>shopping_ended_at</th>\n",
       "    </tr>\n",
       "  </thead>\n",
       "  <tbody>\n",
       "    <tr>\n",
       "      <th>0</th>\n",
       "      <td>3119519</td>\n",
       "      <td>48539</td>\n",
       "      <td>model_1</td>\n",
       "      <td>6</td>\n",
       "      <td>2015-09-01 07:03:56</td>\n",
       "      <td>2015-09-01 07:30:56</td>\n",
       "    </tr>\n",
       "    <tr>\n",
       "      <th>1</th>\n",
       "      <td>3119513</td>\n",
       "      <td>3775</td>\n",
       "      <td>model_1</td>\n",
       "      <td>1</td>\n",
       "      <td>2015-09-01 07:04:33</td>\n",
       "      <td>2015-09-01 07:40:33</td>\n",
       "    </tr>\n",
       "    <tr>\n",
       "      <th>2</th>\n",
       "      <td>3119516</td>\n",
       "      <td>4362</td>\n",
       "      <td>model_1</td>\n",
       "      <td>1</td>\n",
       "      <td>2015-09-01 07:23:21</td>\n",
       "      <td>2015-09-01 07:41:21</td>\n",
       "    </tr>\n",
       "  </tbody>\n",
       "</table>\n",
       "</div>"
      ],
      "text/plain": [
       "   trip_id  shopper_id fulfillment_model  store_id  shopping_started_at  \\\n",
       "0  3119519       48539           model_1         6  2015-09-01 07:03:56   \n",
       "1  3119513        3775           model_1         1  2015-09-01 07:04:33   \n",
       "2  3119516        4362           model_1         1  2015-09-01 07:23:21   \n",
       "\n",
       "     shopping_ended_at  \n",
       "0  2015-09-01 07:30:56  \n",
       "1  2015-09-01 07:40:33  \n",
       "2  2015-09-01 07:41:21  "
      ]
     },
     "execution_count": 3,
     "metadata": {},
     "output_type": "execute_result"
    }
   ],
   "source": [
    "train.head(3)"
   ]
  },
  {
   "cell_type": "code",
   "execution_count": 4,
   "metadata": {},
   "outputs": [
    {
     "data": {
      "text/html": [
       "<div>\n",
       "<style>\n",
       "    .dataframe thead tr:only-child th {\n",
       "        text-align: right;\n",
       "    }\n",
       "\n",
       "    .dataframe thead th {\n",
       "        text-align: left;\n",
       "    }\n",
       "\n",
       "    .dataframe tbody tr th {\n",
       "        vertical-align: top;\n",
       "    }\n",
       "</style>\n",
       "<table border=\"1\" class=\"dataframe\">\n",
       "  <thead>\n",
       "    <tr style=\"text-align: right;\">\n",
       "      <th></th>\n",
       "      <th>trip_id</th>\n",
       "      <th>item_id</th>\n",
       "      <th>department_name</th>\n",
       "      <th>quantity</th>\n",
       "    </tr>\n",
       "  </thead>\n",
       "  <tbody>\n",
       "    <tr>\n",
       "      <th>0</th>\n",
       "      <td>3119513</td>\n",
       "      <td>368671</td>\n",
       "      <td>Produce</td>\n",
       "      <td>10.0</td>\n",
       "    </tr>\n",
       "    <tr>\n",
       "      <th>1</th>\n",
       "      <td>3120462</td>\n",
       "      <td>368671</td>\n",
       "      <td>Produce</td>\n",
       "      <td>10.0</td>\n",
       "    </tr>\n",
       "    <tr>\n",
       "      <th>2</th>\n",
       "      <td>3120473</td>\n",
       "      <td>368671</td>\n",
       "      <td>Produce</td>\n",
       "      <td>10.0</td>\n",
       "    </tr>\n",
       "  </tbody>\n",
       "</table>\n",
       "</div>"
      ],
      "text/plain": [
       "   trip_id  item_id department_name  quantity\n",
       "0  3119513   368671         Produce      10.0\n",
       "1  3120462   368671         Produce      10.0\n",
       "2  3120473   368671         Produce      10.0"
      ]
     },
     "execution_count": 4,
     "metadata": {},
     "output_type": "execute_result"
    }
   ],
   "source": [
    "order.head(3)"
   ]
  },
  {
   "cell_type": "code",
   "execution_count": 5,
   "metadata": {},
   "outputs": [
    {
     "data": {
      "text/html": [
       "<div>\n",
       "<style>\n",
       "    .dataframe thead tr:only-child th {\n",
       "        text-align: right;\n",
       "    }\n",
       "\n",
       "    .dataframe thead th {\n",
       "        text-align: left;\n",
       "    }\n",
       "\n",
       "    .dataframe tbody tr th {\n",
       "        vertical-align: top;\n",
       "    }\n",
       "</style>\n",
       "<table border=\"1\" class=\"dataframe\">\n",
       "  <thead>\n",
       "    <tr style=\"text-align: right;\">\n",
       "      <th></th>\n",
       "      <th>trip_id</th>\n",
       "      <th>shopper_id</th>\n",
       "      <th>fulfillment_model</th>\n",
       "      <th>store_id</th>\n",
       "      <th>shopping_started_at</th>\n",
       "    </tr>\n",
       "  </thead>\n",
       "  <tbody>\n",
       "    <tr>\n",
       "      <th>0</th>\n",
       "      <td>4310899</td>\n",
       "      <td>60930</td>\n",
       "      <td>model_2</td>\n",
       "      <td>123</td>\n",
       "      <td>2015-11-16 07:00:12</td>\n",
       "    </tr>\n",
       "    <tr>\n",
       "      <th>1</th>\n",
       "      <td>4310904</td>\n",
       "      <td>59815</td>\n",
       "      <td>model_2</td>\n",
       "      <td>123</td>\n",
       "      <td>2015-11-16 07:00:12</td>\n",
       "    </tr>\n",
       "    <tr>\n",
       "      <th>2</th>\n",
       "      <td>4310907</td>\n",
       "      <td>60878</td>\n",
       "      <td>model_2</td>\n",
       "      <td>123</td>\n",
       "      <td>2015-11-16 07:00:13</td>\n",
       "    </tr>\n",
       "  </tbody>\n",
       "</table>\n",
       "</div>"
      ],
      "text/plain": [
       "   trip_id  shopper_id fulfillment_model  store_id  shopping_started_at\n",
       "0  4310899       60930           model_2       123  2015-11-16 07:00:12\n",
       "1  4310904       59815           model_2       123  2015-11-16 07:00:12\n",
       "2  4310907       60878           model_2       123  2015-11-16 07:00:13"
      ]
     },
     "execution_count": 5,
     "metadata": {},
     "output_type": "execute_result"
    }
   ],
   "source": [
    "test.head(3)"
   ]
  },
  {
   "cell_type": "code",
   "execution_count": 6,
   "metadata": {},
   "outputs": [
    {
     "data": {
      "text/html": [
       "<div>\n",
       "<style>\n",
       "    .dataframe thead tr:only-child th {\n",
       "        text-align: right;\n",
       "    }\n",
       "\n",
       "    .dataframe thead th {\n",
       "        text-align: left;\n",
       "    }\n",
       "\n",
       "    .dataframe tbody tr th {\n",
       "        vertical-align: top;\n",
       "    }\n",
       "</style>\n",
       "<table border=\"1\" class=\"dataframe\">\n",
       "  <thead>\n",
       "    <tr style=\"text-align: right;\">\n",
       "      <th></th>\n",
       "      <th>trip_id</th>\n",
       "      <th>shopper_id</th>\n",
       "      <th>store_id</th>\n",
       "    </tr>\n",
       "  </thead>\n",
       "  <tbody>\n",
       "    <tr>\n",
       "      <th>count</th>\n",
       "      <td>1.170630e+05</td>\n",
       "      <td>117063.000000</td>\n",
       "      <td>117063.000000</td>\n",
       "    </tr>\n",
       "    <tr>\n",
       "      <th>mean</th>\n",
       "      <td>3.687758e+06</td>\n",
       "      <td>39220.905641</td>\n",
       "      <td>17.690483</td>\n",
       "    </tr>\n",
       "    <tr>\n",
       "      <th>std</th>\n",
       "      <td>3.441384e+05</td>\n",
       "      <td>18675.539653</td>\n",
       "      <td>34.216640</td>\n",
       "    </tr>\n",
       "    <tr>\n",
       "      <th>min</th>\n",
       "      <td>3.119513e+06</td>\n",
       "      <td>52.000000</td>\n",
       "      <td>1.000000</td>\n",
       "    </tr>\n",
       "    <tr>\n",
       "      <th>25%</th>\n",
       "      <td>3.387622e+06</td>\n",
       "      <td>21646.000000</td>\n",
       "      <td>3.000000</td>\n",
       "    </tr>\n",
       "    <tr>\n",
       "      <th>50%</th>\n",
       "      <td>3.671491e+06</td>\n",
       "      <td>47146.000000</td>\n",
       "      <td>3.000000</td>\n",
       "    </tr>\n",
       "    <tr>\n",
       "      <th>75%</th>\n",
       "      <td>3.981117e+06</td>\n",
       "      <td>51402.000000</td>\n",
       "      <td>5.000000</td>\n",
       "    </tr>\n",
       "    <tr>\n",
       "      <th>max</th>\n",
       "      <td>4.309209e+06</td>\n",
       "      <td>69766.000000</td>\n",
       "      <td>148.000000</td>\n",
       "    </tr>\n",
       "  </tbody>\n",
       "</table>\n",
       "</div>"
      ],
      "text/plain": [
       "            trip_id     shopper_id       store_id\n",
       "count  1.170630e+05  117063.000000  117063.000000\n",
       "mean   3.687758e+06   39220.905641      17.690483\n",
       "std    3.441384e+05   18675.539653      34.216640\n",
       "min    3.119513e+06      52.000000       1.000000\n",
       "25%    3.387622e+06   21646.000000       3.000000\n",
       "50%    3.671491e+06   47146.000000       3.000000\n",
       "75%    3.981117e+06   51402.000000       5.000000\n",
       "max    4.309209e+06   69766.000000     148.000000"
      ]
     },
     "execution_count": 6,
     "metadata": {},
     "output_type": "execute_result"
    }
   ],
   "source": [
    "train.describe()"
   ]
  },
  {
   "cell_type": "code",
   "execution_count": 7,
   "metadata": {},
   "outputs": [
    {
     "data": {
      "text/html": [
       "<div>\n",
       "<style>\n",
       "    .dataframe thead tr:only-child th {\n",
       "        text-align: right;\n",
       "    }\n",
       "\n",
       "    .dataframe thead th {\n",
       "        text-align: left;\n",
       "    }\n",
       "\n",
       "    .dataframe tbody tr th {\n",
       "        vertical-align: top;\n",
       "    }\n",
       "</style>\n",
       "<table border=\"1\" class=\"dataframe\">\n",
       "  <thead>\n",
       "    <tr style=\"text-align: right;\">\n",
       "      <th></th>\n",
       "      <th>trip_id</th>\n",
       "      <th>shopper_id</th>\n",
       "      <th>store_id</th>\n",
       "    </tr>\n",
       "  </thead>\n",
       "  <tbody>\n",
       "    <tr>\n",
       "      <th>count</th>\n",
       "      <td>1.164700e+04</td>\n",
       "      <td>11647.000000</td>\n",
       "      <td>11647.000000</td>\n",
       "    </tr>\n",
       "    <tr>\n",
       "      <th>mean</th>\n",
       "      <td>4.376328e+06</td>\n",
       "      <td>45031.425002</td>\n",
       "      <td>23.204945</td>\n",
       "    </tr>\n",
       "    <tr>\n",
       "      <th>std</th>\n",
       "      <td>3.725312e+04</td>\n",
       "      <td>20025.902342</td>\n",
       "      <td>40.292476</td>\n",
       "    </tr>\n",
       "    <tr>\n",
       "      <th>min</th>\n",
       "      <td>4.310303e+06</td>\n",
       "      <td>89.000000</td>\n",
       "      <td>1.000000</td>\n",
       "    </tr>\n",
       "    <tr>\n",
       "      <th>25%</th>\n",
       "      <td>4.344012e+06</td>\n",
       "      <td>41636.000000</td>\n",
       "      <td>3.000000</td>\n",
       "    </tr>\n",
       "    <tr>\n",
       "      <th>50%</th>\n",
       "      <td>4.375845e+06</td>\n",
       "      <td>50401.000000</td>\n",
       "      <td>3.000000</td>\n",
       "    </tr>\n",
       "    <tr>\n",
       "      <th>75%</th>\n",
       "      <td>4.407772e+06</td>\n",
       "      <td>59047.000000</td>\n",
       "      <td>29.000000</td>\n",
       "    </tr>\n",
       "    <tr>\n",
       "      <th>max</th>\n",
       "      <td>4.440838e+06</td>\n",
       "      <td>73649.000000</td>\n",
       "      <td>126.000000</td>\n",
       "    </tr>\n",
       "  </tbody>\n",
       "</table>\n",
       "</div>"
      ],
      "text/plain": [
       "            trip_id    shopper_id      store_id\n",
       "count  1.164700e+04  11647.000000  11647.000000\n",
       "mean   4.376328e+06  45031.425002     23.204945\n",
       "std    3.725312e+04  20025.902342     40.292476\n",
       "min    4.310303e+06     89.000000      1.000000\n",
       "25%    4.344012e+06  41636.000000      3.000000\n",
       "50%    4.375845e+06  50401.000000      3.000000\n",
       "75%    4.407772e+06  59047.000000     29.000000\n",
       "max    4.440838e+06  73649.000000    126.000000"
      ]
     },
     "execution_count": 7,
     "metadata": {},
     "output_type": "execute_result"
    }
   ],
   "source": [
    "test.describe()"
   ]
  },
  {
   "cell_type": "code",
   "execution_count": 8,
   "metadata": {},
   "outputs": [
    {
     "data": {
      "text/plain": [
       "trip_id                0\n",
       "shopper_id             0\n",
       "fulfillment_model      0\n",
       "store_id               0\n",
       "shopping_started_at    0\n",
       "shopping_ended_at      0\n",
       "dtype: int64"
      ]
     },
     "execution_count": 8,
     "metadata": {},
     "output_type": "execute_result"
    }
   ],
   "source": [
    "# Check missing values\n",
    "\n",
    "train.isnull().sum()"
   ]
  },
  {
   "cell_type": "code",
   "execution_count": 9,
   "metadata": {},
   "outputs": [
    {
     "data": {
      "text/plain": [
       "trip_id                0\n",
       "shopper_id             0\n",
       "fulfillment_model      0\n",
       "store_id               0\n",
       "shopping_started_at    0\n",
       "dtype: int64"
      ]
     },
     "execution_count": 9,
     "metadata": {},
     "output_type": "execute_result"
    }
   ],
   "source": [
    "# Check missing values\n",
    "\n",
    "test.isnull().sum()"
   ]
  },
  {
   "cell_type": "code",
   "execution_count": 10,
   "metadata": {},
   "outputs": [
    {
     "name": "stdout",
     "output_type": "stream",
     "text": [
      "For fulfillment_model\n",
      "For train:  ['model_1', 'model_2']\n",
      "For test:  ['model_1', 'model_2']\n",
      "For store_id\n",
      "For train:  [1, 3, 5, 6, 29, 31, 54, 78, 90, 105, 115, 123, 126, 148]\n",
      "For test:  [1, 3, 5, 6, 29, 31, 54, 90, 105, 115, 123, 126]\n"
     ]
    }
   ],
   "source": [
    "# Check the unique values for two features.\n",
    "\n",
    "for col in ['fulfillment_model', 'store_id']:\n",
    "    print('For %s'%(col))\n",
    "    print('For train: ', sorted(train[col].unique().tolist()))\n",
    "    print('For test: ', sorted(test[col].unique().tolist()))"
   ]
  },
  {
   "cell_type": "code",
   "execution_count": 11,
   "metadata": {},
   "outputs": [
    {
     "data": {
      "image/png": "[encoded data removed]",
      "text/plain": [
       "<Figure size 1008x288 with 1 Axes>"
      ]
     },
     "metadata": {},
     "output_type": "display_data"
    }
   ],
   "source": [
    "# Quantity histograms\n",
    "\n",
    "bins = [-1,0,2,5,10,20,50,100,200,500]\n",
    "fig = plt.figure(figsize=(14,4))\n",
    "ax1 = fig.add_subplot(111)\n",
    "ax1.hist(order.quantity, bins=bins)\n",
    "plt.show()"
   ]
  },
  {
   "cell_type": "code",
   "execution_count": 12,
   "metadata": {},
   "outputs": [
    {
     "name": "stdout",
     "output_type": "stream",
     "text": [
      "There are total 29 trips have quantity larger than 100.\n"
     ]
    }
   ],
   "source": [
    "print('There are total %d trips have quantity larger than 100.'%(len(order[order.quantity > 100])))"
   ]
  },
  {
   "cell_type": "code",
   "execution_count": 13,
   "metadata": {},
   "outputs": [
    {
     "data": {
      "text/html": [
       "<div>\n",
       "<style>\n",
       "    .dataframe thead tr:only-child th {\n",
       "        text-align: right;\n",
       "    }\n",
       "\n",
       "    .dataframe thead th {\n",
       "        text-align: left;\n",
       "    }\n",
       "\n",
       "    .dataframe tbody tr th {\n",
       "        vertical-align: top;\n",
       "    }\n",
       "</style>\n",
       "<table border=\"1\" class=\"dataframe\">\n",
       "  <thead>\n",
       "    <tr style=\"text-align: right;\">\n",
       "      <th></th>\n",
       "      <th>trip_id</th>\n",
       "      <th>item_id</th>\n",
       "      <th>department_name</th>\n",
       "      <th>quantity</th>\n",
       "    </tr>\n",
       "  </thead>\n",
       "  <tbody>\n",
       "    <tr>\n",
       "      <th>195334</th>\n",
       "      <td>4172377</td>\n",
       "      <td>1436444</td>\n",
       "      <td>Popular</td>\n",
       "      <td>-0.75</td>\n",
       "    </tr>\n",
       "    <tr>\n",
       "      <th>403643</th>\n",
       "      <td>3208781</td>\n",
       "      <td>354189</td>\n",
       "      <td>Produce</td>\n",
       "      <td>-0.50</td>\n",
       "    </tr>\n",
       "  </tbody>\n",
       "</table>\n",
       "</div>"
      ],
      "text/plain": [
       "        trip_id  item_id department_name  quantity\n",
       "195334  4172377  1436444         Popular     -0.75\n",
       "403643  3208781   354189         Produce     -0.50"
      ]
     },
     "execution_count": 13,
     "metadata": {},
     "output_type": "execute_result"
    }
   ],
   "source": [
    "order[order.quantity < 0]"
   ]
  },
  {
   "cell_type": "code",
   "execution_count": 14,
   "metadata": {},
   "outputs": [],
   "source": [
    "# Data imputation\n",
    "# Fix smaller than 0 quantity\n",
    "\n",
    "order.loc[order.quantity < 0, ['quantity']] = 1"
   ]
  },
  {
   "cell_type": "markdown",
   "metadata": {},
   "source": [
    "### Feature engineering"
   ]
  },
  {
   "cell_type": "code",
   "execution_count": 15,
   "metadata": {},
   "outputs": [],
   "source": [
    "# Get the total types of items, visited department types and total quantity for each trip.\n",
    "\n",
    "order_t1 = order.groupby('trip_id')['item_id', 'department_name'].nunique().reset_index()\n",
    "order_t2 = order.groupby('trip_id').quantity.sum().reset_index()\n",
    "order_sum = order_t1.merge(order_t2, on='trip_id')\n",
    "order_sum.rename(columns={'item_id':'item_types', 'department_name':'department_types'}, inplace=True)"
   ]
  },
  {
   "cell_type": "code",
   "execution_count": 16,
   "metadata": {},
   "outputs": [],
   "source": [
    "# Feature engineering for train_trips and test_trips\n",
    "\n",
    "train['shopping_started_at'] = pd.to_datetime(train['shopping_started_at'], infer_datetime_format=True)\n",
    "train['shopping_ended_at'] = pd.to_datetime(train['shopping_ended_at'], infer_datetime_format=True)\n",
    "test['shopping_started_at'] = pd.to_datetime(test['shopping_started_at'], infer_datetime_format=True)\n",
    "\n",
    "train['Weekday'] = train['shopping_started_at'].dt.weekday\n",
    "test['Weekday'] = test['shopping_started_at'].dt.weekday\n",
    "train['Hour'] = train['shopping_started_at'].dt.hour\n",
    "test['Hour'] = test['shopping_started_at'].dt.hour\n",
    "\n",
    "train = train.join(pd.get_dummies(train.Weekday, prefix='Weekday'))\n",
    "train = train.join(pd.get_dummies(train.Hour, prefix='Hour'))\n",
    "\n",
    "test = test.join(pd.get_dummies(test.Weekday, prefix='Weekday'))\n",
    "test = test.join(pd.get_dummies(test.Hour, prefix='Hour'))\n",
    "\n",
    "train = train.join(pd.get_dummies(train.fulfillment_model, prefix='M'))\n",
    "test = test.join(pd.get_dummies(test.fulfillment_model, prefix='M'))\n",
    "\n",
    "train = train.join(pd.get_dummies(train.store_id, prefix='Store'))\n",
    "test = test.join(pd.get_dummies(test.store_id, prefix='Store'))"
   ]
  },
  {
   "cell_type": "code",
   "execution_count": 17,
   "metadata": {
    "collapsed": true
   },
   "outputs": [],
   "source": [
    "# Get training label\n",
    "\n",
    "def GetDuration(x0, x1):\n",
    "    \n",
    "    t = pd.Timedelta(x0 - x1).seconds\n",
    "    return t\n",
    "\n",
    "train['Duration'] = train[['shopping_ended_at', 'shopping_started_at']].apply(lambda x: GetDuration(x[0], x[1]), axis = 1)"
   ]
  },
  {
   "cell_type": "code",
   "execution_count": 18,
   "metadata": {
    "collapsed": true
   },
   "outputs": [],
   "source": [
    "# Merge to get full dataset for train and test\n",
    "\n",
    "train = train.merge(order_sum, on='trip_id', how='left')\n",
    "test = test.merge(order_sum, on='trip_id', how='left')"
   ]
  },
  {
   "cell_type": "code",
   "execution_count": 19,
   "metadata": {},
   "outputs": [
    {
     "data": {
      "image/png": "[encoded data removed]",
      "text/plain": [
       "<Figure size 432x288 with 1 Axes>"
      ]
     },
     "metadata": {},
     "output_type": "display_data"
    }
   ],
   "source": [
    "# Get distribution of Duration\n",
    "\n",
    "counts, bins, fig = plt.hist(train.Duration)"
   ]
  },
  {
   "cell_type": "code",
   "execution_count": 20,
   "metadata": {},
   "outputs": [
    {
     "data": {
      "image/png": "[encoded data removed]",
      "text/plain": [
       "<Figure size 432x288 with 1 Axes>"
      ]
     },
     "metadata": {},
     "output_type": "display_data"
    }
   ],
   "source": [
    "# See whether Duration distribution will be different depending on fulfillment_model.\n",
    "\n",
    "counts, bins, fig = plt.hist(train[train.fulfillment_model == 'model_1'].Duration)"
   ]
  },
  {
   "cell_type": "code",
   "execution_count": 21,
   "metadata": {},
   "outputs": [
    {
     "data": {
      "image/png": "[encoded data removed]",
      "text/plain": [
       "<Figure size 432x288 with 1 Axes>"
      ]
     },
     "metadata": {},
     "output_type": "display_data"
    }
   ],
   "source": [
    "# Explore rationship between quantity and duration\n",
    "\n",
    "plt.scatter(train.quantity, train.Duration)\n",
    "plt.show()"
   ]
  },
  {
   "cell_type": "code",
   "execution_count": 22,
   "metadata": {},
   "outputs": [
    {
     "data": {
      "image/png": "[encoded data removed]",
      "text/plain": [
       "<Figure size 432x288 with 1 Axes>"
      ]
     },
     "metadata": {},
     "output_type": "display_data"
    }
   ],
   "source": [
    "# Explore rationship between item_types and duration\n",
    "\n",
    "plt.scatter(train.item_types, train.Duration)\n",
    "plt.show()"
   ]
  },
  {
   "cell_type": "code",
   "execution_count": 23,
   "metadata": {},
   "outputs": [
    {
     "name": "stdout",
     "output_type": "stream",
     "text": [
      "For train, min and max time:\n",
      "2015-09-01 07:03:56 2015-11-15 22:17:32\n",
      "For test, min and max time:\n",
      "2015-11-16 07:00:12 2015-11-22 22:09:33\n"
     ]
    }
   ],
   "source": [
    "# Date duration of the train and test data.\n",
    "\n",
    "print('For train, min and max time:')\n",
    "print(train.shopping_started_at.min(), train.shopping_started_at.max())\n",
    "\n",
    "print('For test, min and max time:')\n",
    "print(test.shopping_started_at.min(), test.shopping_started_at.max())"
   ]
  },
  {
   "cell_type": "code",
   "execution_count": 24,
   "metadata": {},
   "outputs": [],
   "source": [
    "# Add coloumns which are not in test_trips but in train_trips.csv\n",
    "\n",
    "test['Store_78'] = pd.DataFrame([0 for i in range(len(test))])\n",
    "test['Store_148'] = pd.DataFrame([0 for i in range(len(test))])\n",
    "test['Hour_23'] = pd.DataFrame([0 for i in range(len(test))])"
   ]
  },
  {
   "cell_type": "code",
   "execution_count": 25,
   "metadata": {},
   "outputs": [
    {
     "data": {
      "text/plain": [
       "Index(['trip_id', 'shopper_id', 'fulfillment_model', 'store_id',\n",
       "       'shopping_started_at', 'shopping_ended_at', 'Weekday', 'Hour',\n",
       "       'Weekday_0', 'Weekday_1', 'Weekday_2', 'Weekday_3', 'Weekday_4',\n",
       "       'Weekday_5', 'Weekday_6', 'Hour_7', 'Hour_8', 'Hour_9', 'Hour_10',\n",
       "       'Hour_11', 'Hour_12', 'Hour_13', 'Hour_14', 'Hour_15', 'Hour_16',\n",
       "       'Hour_17', 'Hour_18', 'Hour_19', 'Hour_20', 'Hour_21', 'Hour_22',\n",
       "       'Hour_23', 'M_model_1', 'M_model_2', 'Store_1', 'Store_3', 'Store_5',\n",
       "       'Store_6', 'Store_29', 'Store_31', 'Store_54', 'Store_78', 'Store_90',\n",
       "       'Store_105', 'Store_115', 'Store_123', 'Store_126', 'Store_148',\n",
       "       'Duration', 'item_types', 'department_types', 'quantity'],\n",
       "      dtype='object')"
      ]
     },
     "execution_count": 25,
     "metadata": {},
     "output_type": "execute_result"
    }
   ],
   "source": [
    "train.columns"
   ]
  },
  {
   "cell_type": "code",
   "execution_count": 26,
   "metadata": {
    "collapsed": true
   },
   "outputs": [],
   "source": [
    "# Feature to use\n",
    "\n",
    "feature_cols = ['Weekday_0', 'Weekday_1', 'Weekday_2', 'Weekday_3', 'Weekday_4',\n",
    "       'Weekday_5', 'Weekday_6', 'Hour_7', 'Hour_8', 'Hour_9', 'Hour_10',\n",
    "       'Hour_11', 'Hour_12', 'Hour_13', 'Hour_14', 'Hour_15', 'Hour_16',\n",
    "       'Hour_17', 'Hour_18', 'Hour_19', 'Hour_20', 'Hour_21', 'Hour_22',\n",
    "       'Hour_23', 'M_model_1', 'M_model_2', 'Store_1', 'Store_3', 'Store_5',\n",
    "       'Store_6', 'Store_29', 'Store_31', 'Store_54', 'Store_78', 'Store_90',\n",
    "       'Store_105', 'Store_115', 'Store_123', 'Store_126', 'Store_148', \n",
    "                'item_types', 'department_types', 'quantity']"
   ]
  },
  {
   "cell_type": "markdown",
   "metadata": {},
   "source": [
    "### Model training, hyperparameter tuning and prediction"
   ]
  },
  {
   "cell_type": "code",
   "execution_count": 27,
   "metadata": {
    "collapsed": true
   },
   "outputs": [],
   "source": [
    "from xgboost import XGBRegressor\n",
    "from sklearn.ensemble import RandomForestRegressor\n",
    "from sklearn.model_selection import GridSearchCV, RandomizedSearchCV\n",
    "from sklearn.model_selection import train_test_split"
   ]
  },
  {
   "cell_type": "code",
   "execution_count": 28,
   "metadata": {},
   "outputs": [],
   "source": [
    "train_data = train[['Duration'] + feature_cols]\n",
    "train_data, test_data = train_test_split(train_data, test_size=0.1)\n",
    "\n",
    "train_data, train_label = train_data[feature_cols], train_data['Duration']\n",
    "\n",
    "test_data, test_label = test_data[feature_cols], test_data['Duration']"
   ]
  },
  {
   "cell_type": "code",
   "execution_count": 29,
   "metadata": {
    "collapsed": true
   },
   "outputs": [],
   "source": [
    "# Solve problem with xgb error\n",
    "\n",
    "import os\n",
    "os.environ['KMP_DUPLICATE_LIB_OK']='True'"
   ]
  },
  {
   "cell_type": "code",
   "execution_count": 30,
   "metadata": {},
   "outputs": [
    {
     "name": "stdout",
     "output_type": "stream",
     "text": [
      "{'n_estimators': 150, 'min_child_weight': 4, 'max_depth': 6, 'gamma': 0.4}\n"
     ]
    }
   ],
   "source": [
    "# Define model parameters and hyperparamter tuning\n",
    "\n",
    "flag_model = 'xgb'\n",
    "flag_search = 'random'\n",
    "\n",
    "xgb = XGBRegressor(n_jobs=-1, silent=1, subsample=0.9, eval_metric='rmse')    \n",
    "rf = RandomForestRegressor(n_jobs=-1)\n",
    "\n",
    "if flag_model == 'xgb': \n",
    "    model = xgb\n",
    "    params_grid = {\n",
    "        \"max_depth\" : [3, 4, 5, 6, 7],\n",
    "        \"n_estimators\": [20, 40, 60, 80, 100, 120, 140],\n",
    "        \"min_child_weight\": [1, 3, 5],\n",
    "        \"gamma\": [i/10.0 for i in range(3,6)]\n",
    "         }\n",
    "    params_random = {\n",
    "        \"max_depth\" : [2, 3, 4, 5, 6, 7, 8],\n",
    "        \"n_estimators\": [20, 30, 40, 50, 60, 70, 80, 90, 100, 110, 120, 130, 140, 150, 160],\n",
    "        \"min_child_weight\": [1, 2, 3, 4, 5],\n",
    "        \"gamma\": [i/10.0 for i in range(3,6)]\n",
    "         }\n",
    "else:\n",
    "    model = rf\n",
    "    params_grid = {\n",
    "    \"n_estimators\" : [40, 60, 80, 100, 120, 140, 160, 180],\n",
    "    \"max_depth\" : [3, 4, 5, 6, 7, 8],\n",
    "    \"min_samples_leaf\" : [1, 2, 4],\n",
    "    \"criterion\":['mse']  # 'mae' or 'mse'\n",
    "     }\n",
    "    params_random = {\n",
    "    \"n_estimators\" : [40, 50, 60, 70, 80, 90, 100, 100, 120, 130, 140, 150, 160, 170, 180],\n",
    "    \"max_depth\" : [3, 4, 5, 6, 7, 8],\n",
    "    \"min_samples_leaf\" : [1, 2, 3, 4, 5],\n",
    "    \"criterion\":['mse']  # 'mae' or 'mse'\n",
    "     }\n",
    "    \n",
    "if flag_search == 'grid':\n",
    "    grid = GridSearchCV(estimator=model, param_grid=params_grid, cv=8)\n",
    "else:\n",
    "    grid = RandomizedSearchCV(estimator=model, param_distributions=params_random, cv=8)\n",
    "\n",
    "grid.fit(train_data, train_label)\n",
    "\n",
    "print(grid.best_params_)"
   ]
  },
  {
   "cell_type": "code",
   "execution_count": 54,
   "metadata": {
    "collapsed": true
   },
   "outputs": [],
   "source": [
    "# Model validation\n",
    "\n",
    "ypred = grid.best_estimator_.predict(test_data)\n",
    "df_pred = pd.DataFrame(test_label)\n",
    "df_pred = df_pred.assign(pred=list(ypred))"
   ]
  },
  {
   "cell_type": "code",
   "execution_count": 55,
   "metadata": {},
   "outputs": [
    {
     "name": "stdout",
     "output_type": "stream",
     "text": [
      "Mean Squared Error is: 1319709.031.\n",
      "r2 score is: 0.355.\n"
     ]
    },
    {
     "data": {
      "text/html": [
       "<div>\n",
       "<style>\n",
       "    .dataframe thead tr:only-child th {\n",
       "        text-align: right;\n",
       "    }\n",
       "\n",
       "    .dataframe thead th {\n",
       "        text-align: left;\n",
       "    }\n",
       "\n",
       "    .dataframe tbody tr th {\n",
       "        vertical-align: top;\n",
       "    }\n",
       "</style>\n",
       "<table border=\"1\" class=\"dataframe\">\n",
       "  <thead>\n",
       "    <tr style=\"text-align: right;\">\n",
       "      <th></th>\n",
       "      <th>Duration</th>\n",
       "      <th>pred</th>\n",
       "    </tr>\n",
       "  </thead>\n",
       "  <tbody>\n",
       "    <tr>\n",
       "      <th>53502</th>\n",
       "      <td>3840</td>\n",
       "      <td>2061.622559</td>\n",
       "    </tr>\n",
       "    <tr>\n",
       "      <th>12345</th>\n",
       "      <td>1560</td>\n",
       "      <td>3568.772217</td>\n",
       "    </tr>\n",
       "    <tr>\n",
       "      <th>44858</th>\n",
       "      <td>6480</td>\n",
       "      <td>4492.636230</td>\n",
       "    </tr>\n",
       "  </tbody>\n",
       "</table>\n",
       "</div>"
      ],
      "text/plain": [
       "       Duration         pred\n",
       "53502      3840  2061.622559\n",
       "12345      1560  3568.772217\n",
       "44858      6480  4492.636230"
      ]
     },
     "execution_count": 55,
     "metadata": {},
     "output_type": "execute_result"
    }
   ],
   "source": [
    "from sklearn.metrics import mean_squared_error, r2_score\n",
    "\n",
    "mse = mean_squared_error(df_pred.Duration, df_pred.pred)\n",
    "print('Mean Squared Error is: %.3f.'%(mse))\n",
    "r2 = r2_score(df_pred.Duration, df_pred.pred)\n",
    "print('r2 score is: %.3f.'%(r2))\n",
    "\n",
    "df_pred.head(3)"
   ]
  },
  {
   "cell_type": "code",
   "execution_count": 56,
   "metadata": {},
   "outputs": [
    {
     "data": {
      "image/png": "[encoded data removed]",
      "text/plain": [
       "<Figure size 720x720 with 1 Axes>"
      ]
     },
     "metadata": {},
     "output_type": "display_data"
    }
   ],
   "source": [
    "fig = plt.figure(figsize=(10, 10))\n",
    "ax1 = fig.add_subplot(111)\n",
    "ax1.scatter(df_pred.Duration, df_pred.pred)\n",
    "plt.show()"
   ]
  },
  {
   "cell_type": "code",
   "execution_count": 57,
   "metadata": {
    "collapsed": true
   },
   "outputs": [],
   "source": [
    "df_pred['diff'] = df_pred['pred'] - df_pred['Duration']\n",
    "df_pred['abs_diff'] = df_pred['diff'].map(lambda x: abs(x))"
   ]
  },
  {
   "cell_type": "code",
   "execution_count": 58,
   "metadata": {},
   "outputs": [
    {
     "name": "stdout",
     "output_type": "stream",
     "text": [
      "Percentage larger than 20 mins:  0.2169642094473392\n"
     ]
    }
   ],
   "source": [
    "print('Percentage larger than 20 mins: ', len(df_pred[df_pred['abs_diff'] > 1200]) / len(df_pred))"
   ]
  },
  {
   "cell_type": "code",
   "execution_count": 59,
   "metadata": {},
   "outputs": [
    {
     "data": {
      "text/html": [
       "<div>\n",
       "<style>\n",
       "    .dataframe thead tr:only-child th {\n",
       "        text-align: right;\n",
       "    }\n",
       "\n",
       "    .dataframe thead th {\n",
       "        text-align: left;\n",
       "    }\n",
       "\n",
       "    .dataframe tbody tr th {\n",
       "        vertical-align: top;\n",
       "    }\n",
       "</style>\n",
       "<table border=\"1\" class=\"dataframe\">\n",
       "  <thead>\n",
       "    <tr style=\"text-align: right;\">\n",
       "      <th></th>\n",
       "      <th>trip_id</th>\n",
       "      <th>fulfillment_model</th>\n",
       "      <th>store_id</th>\n",
       "      <th>item_types</th>\n",
       "      <th>department_types</th>\n",
       "      <th>quantity</th>\n",
       "      <th>shopping_time</th>\n",
       "    </tr>\n",
       "  </thead>\n",
       "  <tbody>\n",
       "    <tr>\n",
       "      <th>0</th>\n",
       "      <td>4310899</td>\n",
       "      <td>model_2</td>\n",
       "      <td>123</td>\n",
       "      <td>16</td>\n",
       "      <td>9</td>\n",
       "      <td>28.0</td>\n",
       "      <td>2634.754639</td>\n",
       "    </tr>\n",
       "    <tr>\n",
       "      <th>1</th>\n",
       "      <td>4310904</td>\n",
       "      <td>model_2</td>\n",
       "      <td>123</td>\n",
       "      <td>39</td>\n",
       "      <td>15</td>\n",
       "      <td>48.0</td>\n",
       "      <td>3480.924561</td>\n",
       "    </tr>\n",
       "    <tr>\n",
       "      <th>2</th>\n",
       "      <td>4310907</td>\n",
       "      <td>model_2</td>\n",
       "      <td>123</td>\n",
       "      <td>18</td>\n",
       "      <td>8</td>\n",
       "      <td>21.0</td>\n",
       "      <td>2582.205078</td>\n",
       "    </tr>\n",
       "  </tbody>\n",
       "</table>\n",
       "</div>"
      ],
      "text/plain": [
       "   trip_id fulfillment_model  store_id  item_types  department_types  \\\n",
       "0  4310899           model_2       123          16                 9   \n",
       "1  4310904           model_2       123          39                15   \n",
       "2  4310907           model_2       123          18                 8   \n",
       "\n",
       "   quantity  shopping_time  \n",
       "0      28.0    2634.754639  \n",
       "1      48.0    3480.924561  \n",
       "2      21.0    2582.205078  "
      ]
     },
     "execution_count": 59,
     "metadata": {},
     "output_type": "execute_result"
    }
   ],
   "source": [
    "# Get prediction\n",
    "\n",
    "final_pred = grid.best_estimator_.predict(test[feature_cols])\n",
    "final_df = test[['trip_id', 'fulfillment_model', 'store_id', 'item_types', 'department_types', 'quantity']]\n",
    "final_df = final_df.assign(shopping_time=list(final_pred))\n",
    "final_df[['trip_id', 'shopping_time']].to_csv('result_submit.csv', index=False)\n",
    "\n",
    "final_df.head(3)"
   ]
  },
  {
   "cell_type": "markdown",
   "metadata": {},
   "source": [
    "### Thank You"
   ]
  },
  {
   "cell_type": "code",
   "execution_count": 60,
   "metadata": {
    "collapsed": true
   },
   "outputs": [],
   "source": [
    "final_df['shopping_time'] = final_df['shopping_time'].astype('int64')"
   ]
  },
  {
   "cell_type": "code",
   "execution_count": 61,
   "metadata": {},
   "outputs": [],
   "source": [
    "final_df[['trip_id', 'shopping_time']].to_csv('result_submit.csv', index=False)"
   ]
  }
 ],
 "metadata": {
  "kernelspec": {
   "display_name": "Python 3",
   "language": "python",
   "name": "python3"
  },
  "language_info": {
   "codemirror_mode": {
    "name": "ipython",
    "version": 3
   },
   "file_extension": ".py",
   "mimetype": "text/x-python",
   "name": "python",
   "nbconvert_exporter": "python",
   "pygments_lexer": "ipython3",
   "version": "3.6.3"
  }
 },
 "nbformat": 4,
 "nbformat_minor": 2
}
