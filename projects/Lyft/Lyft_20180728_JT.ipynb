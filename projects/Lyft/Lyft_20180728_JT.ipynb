{
 "cells": [
  {
   "cell_type": "markdown",
   "metadata": {},
   "source": [
    "# Travel Time Estimate\n",
    "\n",
    "## Question: Build a model to predict the travel time given start position, end position and start timestamp. \n",
    "\n",
    "The datasets include start positions (start_lng, start_lat), end positions (end_lng, end_lat), start timestamp and durations of the rides. \n",
    "\n",
    "First I did some exploration analysis for the start positions and end positions. Start positions and end positions are in longitude and latitude numbers, those numbers are in Manhattan region. The longitude and latitude numbers are in six decimal places. Since there are about 12.9 M records in train dataset and over 1.4 M records in test dataset, it is really heavy calculation in a laptop without big data framework. \n",
    "\n",
    "Next I did some exploration analysis for the start timestamps. The start timestamps are between 1/1/2015 and 1/1/2016. It spans a year in time period. For the timestamp, I differentiated them by is_holiday, is_weekend and is_rushhour. I believe the traffic in holiday and not in holiday are different, the traffic in weekend and not in weekend are different and the traffic in rushhour and not rushhour are different. \n",
    "\n",
    "### The first approach\n",
    "\n",
    "After that, I can use the start positions, end positions, is_holiday, is_weekend, and is_rushhour as features to build a K-Nearest Neighbors Regression model to prediction the new travel time for a travel. The assumption of this model is the travel time from the same/close start position to the same/close end position during similar time (in the sense of holiday, weekend, rushhour) will be the same.\n",
    "\n",
    "This calculation is really time consuming. It did not finish training for about 1.0 M train data after about 1.5 hours. Due to the time limit, I considered the second approach.   \n",
    "\n",
    "### The second approach\n",
    "\n",
    "Then I tried to use RandomForestRegressor to do the prediction. For this, I added two additional features, diff_lng and diff_lat to indicate the difference in longitude between start and end position and the difference between start and end latitude between the start and end position.\n",
    "\n",
    "This calculation is also really time consuming. It did not finish training for about 1.0 M data after 1.5 hours. Due to the time limit, I considered the third approach.\n",
    "\n",
    "### The third approach\n",
    "\n",
    "Due to the large data set and time limit, KNNRegressor and RandomForestRegressor did not work in the situation to finish the work. I switched to Linear Regression as it is the least computional intensive approach.\n",
    "\n",
    "In order to have good predictions, I created dummy variables after round longitude and latitude numbers into two decimal places. Then I created a dummy variable for each of the longitude and latitude numbers in the dataset. In total I have hundreds of features, such as is_holiday, is_weekend, is_rushhour, start_lng_-7401, start_lat_4074, ... I dropped the start_lng, start_lat, end_lng and end_lat after creating these dummy features.\n",
    "\n",
    "I first used the Linear Regression to have a base line for the estimate using just diff_lng, diff_lat, is_holiday, is_weekend, and is_rushhour. After that, I used 20% of the train data with all the dummy position features and is_holiday, is_weekend, and is_rushhour to train a linear model. The 20% training data are splitted to train_data and validation_data. With this benchmark, I have MAE of 280 seconds for estimated arrival time for the validation_data.  \n",
    "\n",
    "20% of the train data is the limit for my computational power. I can not do RidgeCV or use more train data for the prediction. In order to have better prediction, I tried to have an ensemble of estimates by running 20% of the train data and splitted them to train_data and validation_data multiply times. As ensemble methods will reduce the variance of the predictions, the final results are the averages of these estimates. \n",
    "\n",
    "Due to time limitation and computational power limitation, I did not do regularization and cross validation to have better predictions with RidgeCV.\n",
    "\n",
    "### Remark\n",
    "\n",
    "Due to the large dataset, contrained time limit and laptop computational power, the results I reported are not the best results I will achieve. There are a lot of more things which can be done if I had more time, such as better better cross validation and feature selection using RidgeCV.\n",
    "\n",
    "If I can have other resources, I can map the start positions, end positions to understand more about these positions and to create more meaningful features. I can also do more analysis about the start time of the ride, such as special days, events, etc. \n",
    "\n",
    "This problem with over 12.9 M records is a problem need to be solved in a Spark cluster."
   ]
  },
  {
   "cell_type": "code",
   "execution_count": 1,
   "metadata": {
    "collapsed": true
   },
   "outputs": [],
   "source": [
    "import pandas as pd\n",
    "import numpy as np\n",
    "from matplotlib import pyplot as plt\n",
    "%matplotlib inline"
   ]
  },
  {
   "cell_type": "markdown",
   "metadata": {},
   "source": [
    "#### Read in data"
   ]
  },
  {
   "cell_type": "code",
   "execution_count": 2,
   "metadata": {
    "collapsed": true
   },
   "outputs": [],
   "source": [
    "train = pd.read_csv('train.csv')\n",
    "test = pd.read_csv('test.csv')"
   ]
  },
  {
   "cell_type": "code",
   "execution_count": 3,
   "metadata": {},
   "outputs": [
    {
     "name": "stdout",
     "output_type": "stream",
     "text": [
      "Records in train 12905715.\n",
      "Records in test 1434344.\n"
     ]
    }
   ],
   "source": [
    "print('Records in train %d.'%len(train))\n",
    "print('Records in test %d.'%len(test))"
   ]
  },
  {
   "cell_type": "code",
   "execution_count": 4,
   "metadata": {},
   "outputs": [
    {
     "data": {
      "text/html": [
       "<div>\n",
       "<style>\n",
       "    .dataframe thead tr:only-child th {\n",
       "        text-align: right;\n",
       "    }\n",
       "\n",
       "    .dataframe thead th {\n",
       "        text-align: left;\n",
       "    }\n",
       "\n",
       "    .dataframe tbody tr th {\n",
       "        vertical-align: top;\n",
       "    }\n",
       "</style>\n",
       "<table border=\"1\" class=\"dataframe\">\n",
       "  <thead>\n",
       "    <tr style=\"text-align: right;\">\n",
       "      <th></th>\n",
       "      <th>row_id</th>\n",
       "      <th>start_lng</th>\n",
       "      <th>start_lat</th>\n",
       "      <th>end_lng</th>\n",
       "      <th>end_lat</th>\n",
       "      <th>start_timestamp</th>\n",
       "      <th>duration</th>\n",
       "    </tr>\n",
       "  </thead>\n",
       "  <tbody>\n",
       "    <tr>\n",
       "      <th>0</th>\n",
       "      <td>0</td>\n",
       "      <td>-74.009087</td>\n",
       "      <td>40.713818</td>\n",
       "      <td>-74.004326</td>\n",
       "      <td>40.719986</td>\n",
       "      <td>1420950819</td>\n",
       "      <td>112</td>\n",
       "    </tr>\n",
       "    <tr>\n",
       "      <th>1</th>\n",
       "      <td>1</td>\n",
       "      <td>-73.971176</td>\n",
       "      <td>40.762428</td>\n",
       "      <td>-74.004181</td>\n",
       "      <td>40.742653</td>\n",
       "      <td>1420950819</td>\n",
       "      <td>1159</td>\n",
       "    </tr>\n",
       "    <tr>\n",
       "      <th>2</th>\n",
       "      <td>2</td>\n",
       "      <td>-73.994957</td>\n",
       "      <td>40.745079</td>\n",
       "      <td>-73.999939</td>\n",
       "      <td>40.734650</td>\n",
       "      <td>1421377541</td>\n",
       "      <td>281</td>\n",
       "    </tr>\n",
       "  </tbody>\n",
       "</table>\n",
       "</div>"
      ],
      "text/plain": [
       "   row_id  start_lng  start_lat    end_lng    end_lat  start_timestamp  \\\n",
       "0       0 -74.009087  40.713818 -74.004326  40.719986       1420950819   \n",
       "1       1 -73.971176  40.762428 -74.004181  40.742653       1420950819   \n",
       "2       2 -73.994957  40.745079 -73.999939  40.734650       1421377541   \n",
       "\n",
       "   duration  \n",
       "0       112  \n",
       "1      1159  \n",
       "2       281  "
      ]
     },
     "execution_count": 4,
     "metadata": {},
     "output_type": "execute_result"
    }
   ],
   "source": [
    "train.head(3)"
   ]
  },
  {
   "cell_type": "markdown",
   "metadata": {},
   "source": [
    "#### Change start time from timestamp to datetime"
   ]
  },
  {
   "cell_type": "code",
   "execution_count": 5,
   "metadata": {
    "collapsed": true
   },
   "outputs": [],
   "source": [
    "train['start_timestamp'] = pd.to_datetime(train['start_timestamp'],unit='s')\\\n",
    ".dt.tz_localize('UTC' )\\\n",
    ".dt.tz_convert('America/New_York')\n",
    "test['start_timestamp'] = pd.to_datetime(test['start_timestamp'],unit='s')\\\n",
    ".dt.tz_localize('UTC')\\\n",
    ".dt.tz_convert('America/New_York')"
   ]
  },
  {
   "cell_type": "code",
   "execution_count": 6,
   "metadata": {},
   "outputs": [
    {
     "data": {
      "text/plain": [
       "0"
      ]
     },
     "execution_count": 6,
     "metadata": {},
     "output_type": "execute_result"
    }
   ],
   "source": [
    "train.duplicated().sum()"
   ]
  },
  {
   "cell_type": "code",
   "execution_count": 7,
   "metadata": {},
   "outputs": [
    {
     "data": {
      "text/plain": [
       "row_id             0\n",
       "start_lng          0\n",
       "start_lat          0\n",
       "end_lng            0\n",
       "end_lat            0\n",
       "start_timestamp    0\n",
       "duration           0\n",
       "dtype: int64"
      ]
     },
     "execution_count": 7,
     "metadata": {},
     "output_type": "execute_result"
    }
   ],
   "source": [
    "train.isnull().sum()"
   ]
  },
  {
   "cell_type": "code",
   "execution_count": 8,
   "metadata": {},
   "outputs": [
    {
     "name": "stdout",
     "output_type": "stream",
     "text": [
      "Very short time travels number 75399.\n"
     ]
    }
   ],
   "source": [
    "# The travel with duration less or equal to 60 seconds. \n",
    "\n",
    "print('Very short time travels number %d.'%len(train[train['duration'] <= 60]))"
   ]
  },
  {
   "cell_type": "markdown",
   "metadata": {},
   "source": [
    "### Feature Engineering"
   ]
  },
  {
   "cell_type": "code",
   "execution_count": 9,
   "metadata": {},
   "outputs": [
    {
     "name": "stdout",
     "output_type": "stream",
     "text": [
      "For Train:\n",
      "Travel time min is 2015-01-01\n",
      "Travel time max is 2016-01-01\n",
      "For Test:\n",
      "Travel time min is 2015-01-01\n",
      "Travel time max is 2016-01-01\n"
     ]
    }
   ],
   "source": [
    "# Travel time min and max.\n",
    "\n",
    "print('For Train:')\n",
    "print('Travel time min is %s'%train.start_timestamp.min().date())\n",
    "print('Travel time max is %s'%train.start_timestamp.max().date())\n",
    "print('For Test:')\n",
    "print('Travel time min is %s'%train.start_timestamp.min().date())\n",
    "print('Travel time max is %s'%train.start_timestamp.max().date())"
   ]
  },
  {
   "cell_type": "code",
   "execution_count": 10,
   "metadata": {},
   "outputs": [
    {
     "name": "stdout",
     "output_type": "stream",
     "text": [
      "2016-01-01 02:57:04-05:00\n",
      "4\n",
      "2\n",
      "2015-01-01 03:00:03-05:00\n",
      "3\n",
      "3\n"
     ]
    }
   ],
   "source": [
    "# Monday is 0, Saturday is 5 and Sunday is 6.\n",
    "\n",
    "print(train.start_timestamp.max())\n",
    "print(train.start_timestamp.max().weekday())\n",
    "print(train.start_timestamp.max().hour)\n",
    "\n",
    "print(train.start_timestamp.min())\n",
    "print(train.start_timestamp.min().weekday())\n",
    "print(train.start_timestamp.min().hour)"
   ]
  },
  {
   "cell_type": "code",
   "execution_count": 11,
   "metadata": {},
   "outputs": [
    {
     "data": {
      "text/plain": [
       "True"
      ]
     },
     "execution_count": 11,
     "metadata": {},
     "output_type": "execute_result"
    }
   ],
   "source": [
    "us_holidays = ['2015-01-01', '2015-01-19', '2015-02-16', '2015-05-25', '2015-07-03', '2015-09-07', \n",
    "               '2015-10-12', '2015-11-11', '2015-11-26', '2015-12-25', '2016-01-01']\n",
    "\n",
    "str(train.start_timestamp.max().date()) in us_holidays"
   ]
  },
  {
   "cell_type": "code",
   "execution_count": 12,
   "metadata": {
    "collapsed": true
   },
   "outputs": [],
   "source": [
    "# Create a feature to indicate whether it is a holiday\n",
    "\n",
    "train['is_holiday'] = train['start_timestamp'].map(lambda x: 1 if str(x.date()) in us_holidays else 0)\n",
    "test['is_holiday'] = test['start_timestamp'].map(lambda x: 1 if str(x.date()) in us_holidays else 0)"
   ]
  },
  {
   "cell_type": "code",
   "execution_count": 13,
   "metadata": {},
   "outputs": [
    {
     "data": {
      "text/html": [
       "<div>\n",
       "<style>\n",
       "    .dataframe thead tr:only-child th {\n",
       "        text-align: right;\n",
       "    }\n",
       "\n",
       "    .dataframe thead th {\n",
       "        text-align: left;\n",
       "    }\n",
       "\n",
       "    .dataframe tbody tr th {\n",
       "        vertical-align: top;\n",
       "    }\n",
       "</style>\n",
       "<table border=\"1\" class=\"dataframe\">\n",
       "  <thead>\n",
       "    <tr style=\"text-align: right;\">\n",
       "      <th></th>\n",
       "      <th>row_id</th>\n",
       "      <th>start_lng</th>\n",
       "      <th>start_lat</th>\n",
       "      <th>end_lng</th>\n",
       "      <th>end_lat</th>\n",
       "      <th>start_timestamp</th>\n",
       "      <th>duration</th>\n",
       "      <th>is_holiday</th>\n",
       "    </tr>\n",
       "  </thead>\n",
       "  <tbody>\n",
       "    <tr>\n",
       "      <th>36</th>\n",
       "      <td>36</td>\n",
       "      <td>-73.995110</td>\n",
       "      <td>40.769432</td>\n",
       "      <td>-73.983688</td>\n",
       "      <td>40.766708</td>\n",
       "      <td>2015-01-01 04:08:55-05:00</td>\n",
       "      <td>625</td>\n",
       "      <td>1</td>\n",
       "    </tr>\n",
       "    <tr>\n",
       "      <th>37</th>\n",
       "      <td>37</td>\n",
       "      <td>-73.957237</td>\n",
       "      <td>40.764111</td>\n",
       "      <td>-73.984352</td>\n",
       "      <td>40.774876</td>\n",
       "      <td>2015-01-01 04:08:55-05:00</td>\n",
       "      <td>680</td>\n",
       "      <td>1</td>\n",
       "    </tr>\n",
       "    <tr>\n",
       "      <th>38</th>\n",
       "      <td>38</td>\n",
       "      <td>-73.986511</td>\n",
       "      <td>40.766926</td>\n",
       "      <td>-73.976685</td>\n",
       "      <td>40.682938</td>\n",
       "      <td>2015-01-01 04:08:56-05:00</td>\n",
       "      <td>3038</td>\n",
       "      <td>1</td>\n",
       "    </tr>\n",
       "  </tbody>\n",
       "</table>\n",
       "</div>"
      ],
      "text/plain": [
       "    row_id  start_lng  start_lat    end_lng    end_lat  \\\n",
       "36      36 -73.995110  40.769432 -73.983688  40.766708   \n",
       "37      37 -73.957237  40.764111 -73.984352  40.774876   \n",
       "38      38 -73.986511  40.766926 -73.976685  40.682938   \n",
       "\n",
       "             start_timestamp  duration  is_holiday  \n",
       "36 2015-01-01 04:08:55-05:00       625           1  \n",
       "37 2015-01-01 04:08:55-05:00       680           1  \n",
       "38 2015-01-01 04:08:56-05:00      3038           1  "
      ]
     },
     "execution_count": 13,
     "metadata": {},
     "output_type": "execute_result"
    }
   ],
   "source": [
    "train[train['is_holiday'] == 1].head(3)"
   ]
  },
  {
   "cell_type": "code",
   "execution_count": 14,
   "metadata": {
    "collapsed": true
   },
   "outputs": [],
   "source": [
    "# Create a feature to indicate whether it is weekend.\n",
    "\n",
    "train['is_weekend'] = train['start_timestamp'].map(lambda x: 1 if x.weekday() in [5,6] else 0)\n",
    "test['is_weekend'] = test['start_timestamp'].map(lambda x: 1 if x.weekday() in [5,6] else 0)"
   ]
  },
  {
   "cell_type": "code",
   "execution_count": 15,
   "metadata": {},
   "outputs": [
    {
     "data": {
      "text/html": [
       "<div>\n",
       "<style>\n",
       "    .dataframe thead tr:only-child th {\n",
       "        text-align: right;\n",
       "    }\n",
       "\n",
       "    .dataframe thead th {\n",
       "        text-align: left;\n",
       "    }\n",
       "\n",
       "    .dataframe tbody tr th {\n",
       "        vertical-align: top;\n",
       "    }\n",
       "</style>\n",
       "<table border=\"1\" class=\"dataframe\">\n",
       "  <thead>\n",
       "    <tr style=\"text-align: right;\">\n",
       "      <th></th>\n",
       "      <th>row_id</th>\n",
       "      <th>start_lng</th>\n",
       "      <th>start_lat</th>\n",
       "      <th>end_lng</th>\n",
       "      <th>end_lat</th>\n",
       "      <th>start_timestamp</th>\n",
       "      <th>duration</th>\n",
       "      <th>is_holiday</th>\n",
       "      <th>is_weekend</th>\n",
       "    </tr>\n",
       "  </thead>\n",
       "  <tbody>\n",
       "    <tr>\n",
       "      <th>0</th>\n",
       "      <td>0</td>\n",
       "      <td>-74.009087</td>\n",
       "      <td>40.713818</td>\n",
       "      <td>-74.004326</td>\n",
       "      <td>40.719986</td>\n",
       "      <td>2015-01-10 23:33:39-05:00</td>\n",
       "      <td>112</td>\n",
       "      <td>0</td>\n",
       "      <td>1</td>\n",
       "    </tr>\n",
       "    <tr>\n",
       "      <th>1</th>\n",
       "      <td>1</td>\n",
       "      <td>-73.971176</td>\n",
       "      <td>40.762428</td>\n",
       "      <td>-74.004181</td>\n",
       "      <td>40.742653</td>\n",
       "      <td>2015-01-10 23:33:39-05:00</td>\n",
       "      <td>1159</td>\n",
       "      <td>0</td>\n",
       "      <td>1</td>\n",
       "    </tr>\n",
       "    <tr>\n",
       "      <th>4</th>\n",
       "      <td>4</td>\n",
       "      <td>-73.945511</td>\n",
       "      <td>40.773724</td>\n",
       "      <td>-73.987434</td>\n",
       "      <td>40.755707</td>\n",
       "      <td>2015-01-25 03:13:06-05:00</td>\n",
       "      <td>705</td>\n",
       "      <td>0</td>\n",
       "      <td>1</td>\n",
       "    </tr>\n",
       "  </tbody>\n",
       "</table>\n",
       "</div>"
      ],
      "text/plain": [
       "   row_id  start_lng  start_lat    end_lng    end_lat  \\\n",
       "0       0 -74.009087  40.713818 -74.004326  40.719986   \n",
       "1       1 -73.971176  40.762428 -74.004181  40.742653   \n",
       "4       4 -73.945511  40.773724 -73.987434  40.755707   \n",
       "\n",
       "            start_timestamp  duration  is_holiday  is_weekend  \n",
       "0 2015-01-10 23:33:39-05:00       112           0           1  \n",
       "1 2015-01-10 23:33:39-05:00      1159           0           1  \n",
       "4 2015-01-25 03:13:06-05:00       705           0           1  "
      ]
     },
     "execution_count": 15,
     "metadata": {},
     "output_type": "execute_result"
    }
   ],
   "source": [
    "train[train['is_weekend'] == 1].head(3)"
   ]
  },
  {
   "cell_type": "code",
   "execution_count": 16,
   "metadata": {
    "collapsed": true
   },
   "outputs": [],
   "source": [
    "# Create a feature to indicate whether it is rushhour.\n",
    "\n",
    "rush_hours = [5,6,7,8,15,16,17,18]\n",
    "    \n",
    "train['is_rushhour'] = train['start_timestamp'].map(lambda x: 1 if x.hour in rush_hours else 0)                      \n",
    "test['is_rushhour'] = test['start_timestamp'].map(lambda x: 1 if x.hour in rush_hours else 0)"
   ]
  },
  {
   "cell_type": "code",
   "execution_count": 17,
   "metadata": {},
   "outputs": [
    {
     "data": {
      "text/html": [
       "<div>\n",
       "<style>\n",
       "    .dataframe thead tr:only-child th {\n",
       "        text-align: right;\n",
       "    }\n",
       "\n",
       "    .dataframe thead th {\n",
       "        text-align: left;\n",
       "    }\n",
       "\n",
       "    .dataframe tbody tr th {\n",
       "        vertical-align: top;\n",
       "    }\n",
       "</style>\n",
       "<table border=\"1\" class=\"dataframe\">\n",
       "  <thead>\n",
       "    <tr style=\"text-align: right;\">\n",
       "      <th></th>\n",
       "      <th>row_id</th>\n",
       "      <th>start_lng</th>\n",
       "      <th>start_lat</th>\n",
       "      <th>end_lng</th>\n",
       "      <th>end_lat</th>\n",
       "      <th>start_timestamp</th>\n",
       "      <th>duration</th>\n",
       "      <th>is_holiday</th>\n",
       "      <th>is_weekend</th>\n",
       "      <th>is_rushhour</th>\n",
       "    </tr>\n",
       "  </thead>\n",
       "  <tbody>\n",
       "    <tr>\n",
       "      <th>7</th>\n",
       "      <td>7</td>\n",
       "      <td>-73.991249</td>\n",
       "      <td>40.765461</td>\n",
       "      <td>-73.987534</td>\n",
       "      <td>40.768410</td>\n",
       "      <td>2015-01-04 16:44:52-05:00</td>\n",
       "      <td>106</td>\n",
       "      <td>0</td>\n",
       "      <td>1</td>\n",
       "      <td>1</td>\n",
       "    </tr>\n",
       "    <tr>\n",
       "      <th>8</th>\n",
       "      <td>8</td>\n",
       "      <td>-73.870819</td>\n",
       "      <td>40.773701</td>\n",
       "      <td>-73.968697</td>\n",
       "      <td>40.762680</td>\n",
       "      <td>2015-01-15 17:00:41-05:00</td>\n",
       "      <td>1861</td>\n",
       "      <td>0</td>\n",
       "      <td>0</td>\n",
       "      <td>1</td>\n",
       "    </tr>\n",
       "    <tr>\n",
       "      <th>9</th>\n",
       "      <td>9</td>\n",
       "      <td>-73.971817</td>\n",
       "      <td>40.756901</td>\n",
       "      <td>-73.974548</td>\n",
       "      <td>40.751736</td>\n",
       "      <td>2015-01-26 15:41:11-05:00</td>\n",
       "      <td>210</td>\n",
       "      <td>0</td>\n",
       "      <td>0</td>\n",
       "      <td>1</td>\n",
       "    </tr>\n",
       "  </tbody>\n",
       "</table>\n",
       "</div>"
      ],
      "text/plain": [
       "   row_id  start_lng  start_lat    end_lng    end_lat  \\\n",
       "7       7 -73.991249  40.765461 -73.987534  40.768410   \n",
       "8       8 -73.870819  40.773701 -73.968697  40.762680   \n",
       "9       9 -73.971817  40.756901 -73.974548  40.751736   \n",
       "\n",
       "            start_timestamp  duration  is_holiday  is_weekend  is_rushhour  \n",
       "7 2015-01-04 16:44:52-05:00       106           0           1            1  \n",
       "8 2015-01-15 17:00:41-05:00      1861           0           0            1  \n",
       "9 2015-01-26 15:41:11-05:00       210           0           0            1  "
      ]
     },
     "execution_count": 17,
     "metadata": {},
     "output_type": "execute_result"
    }
   ],
   "source": [
    "train[train['is_rushhour'] == 1].head(3)"
   ]
  },
  {
   "cell_type": "code",
   "execution_count": 18,
   "metadata": {
    "collapsed": true
   },
   "outputs": [],
   "source": [
    "train_saved = train.copy(deep=True)\n",
    "test_saved = test.copy(deep=True)"
   ]
  },
  {
   "cell_type": "markdown",
   "metadata": {},
   "source": [
    "### Exploration Analysis of Start Positions and End Positions\n",
    "\n",
    "For latitude 40.8 longitude -74.0, it is Mahattan Region."
   ]
  },
  {
   "cell_type": "code",
   "execution_count": 19,
   "metadata": {
    "collapsed": true
   },
   "outputs": [],
   "source": [
    "# For train dataset\n",
    "if False:\n",
    "    fig = plt.figure(figsize=(18, 6))\n",
    "    ax1 = fig.add_subplot(121)\n",
    "    ax1.scatter(train.start_lng, train.start_lat)\n",
    "    ax1.set_title('Start')\n",
    "\n",
    "    ax2 = fig.add_subplot(122)\n",
    "    ax2.scatter(train.end_lng, train.end_lat)\n",
    "    ax2.set_title('End')\n",
    "    plt.show()"
   ]
  },
  {
   "cell_type": "code",
   "execution_count": 20,
   "metadata": {
    "collapsed": true
   },
   "outputs": [],
   "source": [
    "# For test dataset\n",
    "if False:\n",
    "    fig = plt.figure(figsize=(18, 6))\n",
    "    ax1 = fig.add_subplot(121)\n",
    "    ax1.scatter(test.start_lng, test.start_lat)\n",
    "    ax1.set_title('Start')\n",
    "\n",
    "    ax2 = fig.add_subplot(122)\n",
    "    ax2.scatter(test.end_lng, test.end_lat)\n",
    "    ax2.set_title('End')\n",
    "    plt.show()"
   ]
  },
  {
   "cell_type": "markdown",
   "metadata": {},
   "source": [
    "#### Round up the latitude and longitude"
   ]
  },
  {
   "cell_type": "code",
   "execution_count": 21,
   "metadata": {},
   "outputs": [
    {
     "name": "stdout",
     "output_type": "stream",
     "text": [
      "Before rouding:\n",
      "Unique longitude: 36409\n",
      "Unique latitude: 63167\n"
     ]
    }
   ],
   "source": [
    "print('Before rouding:')\n",
    "print('Unique longitude: %d'%len(train.start_lng.unique().tolist()))\n",
    "print('Unique latitude: %d'%len(train.start_lat.unique().tolist()))"
   ]
  },
  {
   "cell_type": "code",
   "execution_count": 22,
   "metadata": {
    "collapsed": true
   },
   "outputs": [],
   "source": [
    "train['diff_lng'] = train['end_lng'] - train['start_lng']\n",
    "train['diff_lat'] = train['end_lat'] - train['start_lat']\n",
    "\n",
    "test['diff_lng'] = test['end_lng'] - test['start_lng']\n",
    "test['diff_lat'] = test['end_lat'] - test['start_lat']"
   ]
  },
  {
   "cell_type": "code",
   "execution_count": 23,
   "metadata": {
    "collapsed": true
   },
   "outputs": [],
   "source": [
    "train['diff_lng'] = train['diff_lng'].map(lambda x: abs(x))\n",
    "train['diff_lat'] = train['diff_lat'].map(lambda x: abs(x))\n",
    "\n",
    "test['diff_lng'] = test['diff_lng'].map(lambda x: abs(x))\n",
    "test['diff_lat'] = test['diff_lat'].map(lambda x: abs(x))"
   ]
  },
  {
   "cell_type": "code",
   "execution_count": 24,
   "metadata": {
    "collapsed": true
   },
   "outputs": [],
   "source": [
    "if True:\n",
    "    train = train.round({'start_lng':2, 'end_lng':2, 'start_lat':2, 'end_lat':2})\n",
    "    test = test.round({'start_lng':2, 'end_lng':2, 'start_lat':2, 'end_lat':2})"
   ]
  },
  {
   "cell_type": "code",
   "execution_count": 25,
   "metadata": {
    "collapsed": true
   },
   "outputs": [],
   "source": [
    "train['start_lng'] = train['start_lng'].map(lambda x: int(x * 100))\n",
    "train['start_lat'] = train['start_lat'].map(lambda x: int(x * 100))\n",
    "train['end_lng'] = train['end_lng'].map(lambda x: int(x * 100))\n",
    "train['end_lat'] = train['end_lat'].map(lambda x: int(x * 100))\n",
    "\n",
    "test['start_lng'] = test['start_lng'].map(lambda x: int(x * 100))\n",
    "test['start_lat'] = test['start_lat'].map(lambda x: int(x * 100))\n",
    "test['end_lng'] = test['end_lng'].map(lambda x: int(x * 100))\n",
    "test['end_lat'] = test['end_lat'].map(lambda x: int(x * 100))"
   ]
  },
  {
   "cell_type": "code",
   "execution_count": 26,
   "metadata": {},
   "outputs": [
    {
     "name": "stdout",
     "output_type": "stream",
     "text": [
      "After rouding:\n",
      "Unique longitude: 93\n",
      "Unique latitude: 58\n"
     ]
    }
   ],
   "source": [
    "print('After rouding:')\n",
    "print('Unique longitude: %d'%len(train.start_lng.unique().tolist()))\n",
    "print('Unique latitude: %d'%len(train.start_lat.unique().tolist()))"
   ]
  },
  {
   "cell_type": "code",
   "execution_count": 27,
   "metadata": {
    "collapsed": true
   },
   "outputs": [],
   "source": [
    "if False:\n",
    "    fig = plt.figure(figsize=(18, 6))\n",
    "    ax1 = fig.add_subplot(121)\n",
    "    ax1.scatter(train.start_lng, train.start_lat)\n",
    "    ax1.set_title('Start')\n",
    "\n",
    "    ax2 = fig.add_subplot(122)\n",
    "    ax2.scatter(train.end_lng, train.end_lat)\n",
    "    ax2.set_title('End')\n",
    "    plt.show()"
   ]
  },
  {
   "cell_type": "code",
   "execution_count": 28,
   "metadata": {},
   "outputs": [
    {
     "data": {
      "text/html": [
       "<div>\n",
       "<style>\n",
       "    .dataframe thead tr:only-child th {\n",
       "        text-align: right;\n",
       "    }\n",
       "\n",
       "    .dataframe thead th {\n",
       "        text-align: left;\n",
       "    }\n",
       "\n",
       "    .dataframe tbody tr th {\n",
       "        vertical-align: top;\n",
       "    }\n",
       "</style>\n",
       "<table border=\"1\" class=\"dataframe\">\n",
       "  <thead>\n",
       "    <tr style=\"text-align: right;\">\n",
       "      <th></th>\n",
       "      <th>row_id</th>\n",
       "      <th>start_lng</th>\n",
       "      <th>start_lat</th>\n",
       "      <th>end_lng</th>\n",
       "      <th>end_lat</th>\n",
       "      <th>start_timestamp</th>\n",
       "      <th>duration</th>\n",
       "      <th>is_holiday</th>\n",
       "      <th>is_weekend</th>\n",
       "      <th>is_rushhour</th>\n",
       "      <th>diff_lng</th>\n",
       "      <th>diff_lat</th>\n",
       "    </tr>\n",
       "  </thead>\n",
       "  <tbody>\n",
       "    <tr>\n",
       "      <th>0</th>\n",
       "      <td>0</td>\n",
       "      <td>-7401</td>\n",
       "      <td>4071</td>\n",
       "      <td>-7400</td>\n",
       "      <td>4072</td>\n",
       "      <td>2015-01-10 23:33:39-05:00</td>\n",
       "      <td>112</td>\n",
       "      <td>0</td>\n",
       "      <td>1</td>\n",
       "      <td>0</td>\n",
       "      <td>0.004761</td>\n",
       "      <td>0.006168</td>\n",
       "    </tr>\n",
       "    <tr>\n",
       "      <th>1</th>\n",
       "      <td>1</td>\n",
       "      <td>-7397</td>\n",
       "      <td>4076</td>\n",
       "      <td>-7400</td>\n",
       "      <td>4074</td>\n",
       "      <td>2015-01-10 23:33:39-05:00</td>\n",
       "      <td>1159</td>\n",
       "      <td>0</td>\n",
       "      <td>1</td>\n",
       "      <td>0</td>\n",
       "      <td>0.033005</td>\n",
       "      <td>0.019775</td>\n",
       "    </tr>\n",
       "    <tr>\n",
       "      <th>2</th>\n",
       "      <td>2</td>\n",
       "      <td>-7398</td>\n",
       "      <td>4075</td>\n",
       "      <td>-7400</td>\n",
       "      <td>4072</td>\n",
       "      <td>2015-01-15 22:05:41-05:00</td>\n",
       "      <td>281</td>\n",
       "      <td>0</td>\n",
       "      <td>0</td>\n",
       "      <td>0</td>\n",
       "      <td>0.004982</td>\n",
       "      <td>0.010429</td>\n",
       "    </tr>\n",
       "  </tbody>\n",
       "</table>\n",
       "</div>"
      ],
      "text/plain": [
       "   row_id  start_lng  start_lat  end_lng  end_lat           start_timestamp  \\\n",
       "0       0      -7401       4071    -7400     4072 2015-01-10 23:33:39-05:00   \n",
       "1       1      -7397       4076    -7400     4074 2015-01-10 23:33:39-05:00   \n",
       "2       2      -7398       4075    -7400     4072 2015-01-15 22:05:41-05:00   \n",
       "\n",
       "   duration  is_holiday  is_weekend  is_rushhour  diff_lng  diff_lat  \n",
       "0       112           0           1            0  0.004761  0.006168  \n",
       "1      1159           0           1            0  0.033005  0.019775  \n",
       "2       281           0           0            0  0.004982  0.010429  "
      ]
     },
     "execution_count": 28,
     "metadata": {},
     "output_type": "execute_result"
    }
   ],
   "source": [
    "train.head(3)"
   ]
  },
  {
   "cell_type": "markdown",
   "metadata": {},
   "source": [
    "### Exploration Analysis About Duration"
   ]
  },
  {
   "cell_type": "code",
   "execution_count": 29,
   "metadata": {},
   "outputs": [
    {
     "data": {
      "image/png": "[encoded data removed]",
      "text/plain": [
       "<Figure size 1296x432 with 1 Axes>"
      ]
     },
     "metadata": {},
     "output_type": "display_data"
    }
   ],
   "source": [
    "fig = plt.figure(figsize=(18, 6))\n",
    "ax1 = fig.add_subplot(111)\n",
    "bins =[0,1,5,10,60,120,180,240,300,600,1200,1800,2400,3000,3600,7200,10800,21600,43200]\n",
    "counts, bins, fig = ax1.hist(train.duration, bins=bins)"
   ]
  },
  {
   "cell_type": "code",
   "execution_count": 30,
   "metadata": {
    "collapsed": true
   },
   "outputs": [],
   "source": [
    "if False:\n",
    "    plt.scatter(train.diff_lng, train.duration)\n",
    "    plt.show()"
   ]
  },
  {
   "cell_type": "code",
   "execution_count": 31,
   "metadata": {
    "collapsed": true
   },
   "outputs": [],
   "source": [
    "if False:\n",
    "    plt.scatter(train.diff_lat, train.duration)\n",
    "    plt.show()"
   ]
  },
  {
   "cell_type": "code",
   "execution_count": 32,
   "metadata": {
    "collapsed": true
   },
   "outputs": [],
   "source": [
    "old_features = train.columns.tolist()"
   ]
  },
  {
   "cell_type": "code",
   "execution_count": 33,
   "metadata": {
    "collapsed": true
   },
   "outputs": [],
   "source": [
    "# Create dummy variables for longitutde and latitude\n",
    "\n",
    "train = train.join(pd.get_dummies(train.start_lng, prefix='start_lng', prefix_sep='_'))\n",
    "train = train.join(pd.get_dummies(train.start_lat, prefix='start_lat', prefix_sep='_'))\n",
    "train = train.join(pd.get_dummies(train.end_lng, prefix='end_lng', prefix_sep='_'))\n",
    "train = train.join(pd.get_dummies(train.end_lat, prefix='end_lat', prefix_sep='_'))\n",
    "\n",
    "test = test.join(pd.get_dummies(test.start_lng, prefix='start_lng', prefix_sep='_'))\n",
    "test = test.join(pd.get_dummies(test.start_lat, prefix='start_lat', prefix_sep='_'))\n",
    "test = test.join(pd.get_dummies(test.end_lng, prefix='end_lng', prefix_sep='_'))\n",
    "test = test.join(pd.get_dummies(test.end_lat, prefix='end_lat', prefix_sep='_'))"
   ]
  },
  {
   "cell_type": "code",
   "execution_count": 34,
   "metadata": {
    "collapsed": true
   },
   "outputs": [],
   "source": [
    "all_columns = train.columns.tolist()\n",
    "dummy_features = [i for i in all_columns if i not in old_features]\n",
    "dummy_features_test = [i for i in test.columns.tolist() if i not in old_features]"
   ]
  },
  {
   "cell_type": "code",
   "execution_count": 35,
   "metadata": {
    "collapsed": true
   },
   "outputs": [],
   "source": [
    "# Features need to normalize\n",
    "\n",
    "norm_features = ['diff_lng', 'diff_lat']"
   ]
  },
  {
   "cell_type": "markdown",
   "metadata": {},
   "source": [
    "### Model Bulding"
   ]
  },
  {
   "cell_type": "code",
   "execution_count": 36,
   "metadata": {},
   "outputs": [
    {
     "name": "stdout",
     "output_type": "stream",
     "text": [
      "23 dummy_features in train not in test.\n"
     ]
    }
   ],
   "source": [
    "# Check all features in train is in test\n",
    "\n",
    "l = [i for i in dummy_features if i not in test.columns.tolist()]\n",
    "print('%d dummy_features in train not in test.'%len(l))"
   ]
  },
  {
   "cell_type": "code",
   "execution_count": 37,
   "metadata": {},
   "outputs": [
    {
     "name": "stdout",
     "output_type": "stream",
     "text": [
      "0 dummy_features in test not in train.\n"
     ]
    }
   ],
   "source": [
    "# Check all features in test is in train\n",
    "\n",
    "l_t = [i for i in dummy_features_test if i not in train.columns.tolist()]\n",
    "print('%d dummy_features in test not in train.'%len(l_t))"
   ]
  },
  {
   "cell_type": "code",
   "execution_count": 38,
   "metadata": {
    "collapsed": true
   },
   "outputs": [],
   "source": [
    "from sklearn import preprocessing\n",
    "\n",
    "train.reset_index(inplace=True)\n",
    "test.reset_index(inplace=True)\n",
    "train_features = train[norm_features]\n",
    "min_max_scaler = preprocessing.MinMaxScaler()\n",
    "min_max_scaler.fit(train_features)\n",
    "train_scaled = min_max_scaler.transform(train_features)\n",
    "test_scaled = min_max_scaler.transform(test[norm_features])\n",
    "train_norm = pd.DataFrame(train_scaled, columns=norm_features)\n",
    "test_norm = pd.DataFrame(test_scaled, columns=norm_features)"
   ]
  },
  {
   "cell_type": "code",
   "execution_count": 39,
   "metadata": {},
   "outputs": [
    {
     "data": {
      "text/html": [
       "<div>\n",
       "<style>\n",
       "    .dataframe thead tr:only-child th {\n",
       "        text-align: right;\n",
       "    }\n",
       "\n",
       "    .dataframe thead th {\n",
       "        text-align: left;\n",
       "    }\n",
       "\n",
       "    .dataframe tbody tr th {\n",
       "        vertical-align: top;\n",
       "    }\n",
       "</style>\n",
       "<table border=\"1\" class=\"dataframe\">\n",
       "  <thead>\n",
       "    <tr style=\"text-align: right;\">\n",
       "      <th></th>\n",
       "      <th>diff_lng</th>\n",
       "      <th>diff_lat</th>\n",
       "    </tr>\n",
       "  </thead>\n",
       "  <tbody>\n",
       "    <tr>\n",
       "      <th>0</th>\n",
       "      <td>0.006507</td>\n",
       "      <td>0.013845</td>\n",
       "    </tr>\n",
       "    <tr>\n",
       "      <th>1</th>\n",
       "      <td>0.045108</td>\n",
       "      <td>0.044387</td>\n",
       "    </tr>\n",
       "    <tr>\n",
       "      <th>2</th>\n",
       "      <td>0.006809</td>\n",
       "      <td>0.023409</td>\n",
       "    </tr>\n",
       "  </tbody>\n",
       "</table>\n",
       "</div>"
      ],
      "text/plain": [
       "   diff_lng  diff_lat\n",
       "0  0.006507  0.013845\n",
       "1  0.045108  0.044387\n",
       "2  0.006809  0.023409"
      ]
     },
     "execution_count": 39,
     "metadata": {},
     "output_type": "execute_result"
    }
   ],
   "source": [
    "train_norm.head(3)"
   ]
  },
  {
   "cell_type": "code",
   "execution_count": 40,
   "metadata": {
    "collapsed": true
   },
   "outputs": [],
   "source": [
    "train_norm = train_norm.join(train[['duration', 'is_holiday', 'is_weekend', 'is_rushhour'] + dummy_features_test])\n",
    "test_norm = test_norm.join(test[['row_id', 'is_holiday', 'is_weekend', 'is_rushhour'] + dummy_features_test])"
   ]
  },
  {
   "cell_type": "markdown",
   "metadata": {},
   "source": [
    "### Rum multiple times with 20% of train data"
   ]
  },
  {
   "cell_type": "code",
   "execution_count": 41,
   "metadata": {
    "collapsed": true
   },
   "outputs": [],
   "source": [
    "if True:\n",
    "    from sklearn.model_selection import train_test_split\n",
    "    train_model, validation_model = train_test_split(train_norm, test_size=0.2, random_state=73777)\n",
    "    train_model = validation_model.copy(deep=True)"
   ]
  },
  {
   "cell_type": "code",
   "execution_count": 42,
   "metadata": {},
   "outputs": [
    {
     "data": {
      "text/html": [
       "<div>\n",
       "<style>\n",
       "    .dataframe thead tr:only-child th {\n",
       "        text-align: right;\n",
       "    }\n",
       "\n",
       "    .dataframe thead th {\n",
       "        text-align: left;\n",
       "    }\n",
       "\n",
       "    .dataframe tbody tr th {\n",
       "        vertical-align: top;\n",
       "    }\n",
       "</style>\n",
       "<table border=\"1\" class=\"dataframe\">\n",
       "  <thead>\n",
       "    <tr style=\"text-align: right;\">\n",
       "      <th></th>\n",
       "      <th>diff_lng</th>\n",
       "      <th>diff_lat</th>\n",
       "      <th>row_id</th>\n",
       "      <th>is_holiday</th>\n",
       "      <th>is_weekend</th>\n",
       "      <th>is_rushhour</th>\n",
       "      <th>start_lng_-7448</th>\n",
       "      <th>start_lng_-7445</th>\n",
       "      <th>start_lng_-7444</th>\n",
       "      <th>start_lng_-7443</th>\n",
       "      <th>...</th>\n",
       "      <th>end_lat_4094</th>\n",
       "      <th>end_lat_4095</th>\n",
       "      <th>end_lat_4096</th>\n",
       "      <th>end_lat_4097</th>\n",
       "      <th>end_lat_4098</th>\n",
       "      <th>end_lat_4099</th>\n",
       "      <th>end_lat_4100</th>\n",
       "      <th>end_lat_4101</th>\n",
       "      <th>end_lat_4102</th>\n",
       "      <th>end_lat_4103</th>\n",
       "    </tr>\n",
       "  </thead>\n",
       "  <tbody>\n",
       "    <tr>\n",
       "      <th>0</th>\n",
       "      <td>0.010750</td>\n",
       "      <td>0.024540</td>\n",
       "      <td>0</td>\n",
       "      <td>0</td>\n",
       "      <td>1</td>\n",
       "      <td>0</td>\n",
       "      <td>0</td>\n",
       "      <td>0</td>\n",
       "      <td>0</td>\n",
       "      <td>0</td>\n",
       "      <td>...</td>\n",
       "      <td>0</td>\n",
       "      <td>0</td>\n",
       "      <td>0</td>\n",
       "      <td>0</td>\n",
       "      <td>0</td>\n",
       "      <td>0</td>\n",
       "      <td>0</td>\n",
       "      <td>0</td>\n",
       "      <td>0</td>\n",
       "      <td>0</td>\n",
       "    </tr>\n",
       "    <tr>\n",
       "      <th>1</th>\n",
       "      <td>0.008509</td>\n",
       "      <td>0.019479</td>\n",
       "      <td>1</td>\n",
       "      <td>0</td>\n",
       "      <td>0</td>\n",
       "      <td>0</td>\n",
       "      <td>0</td>\n",
       "      <td>0</td>\n",
       "      <td>0</td>\n",
       "      <td>0</td>\n",
       "      <td>...</td>\n",
       "      <td>0</td>\n",
       "      <td>0</td>\n",
       "      <td>0</td>\n",
       "      <td>0</td>\n",
       "      <td>0</td>\n",
       "      <td>0</td>\n",
       "      <td>0</td>\n",
       "      <td>0</td>\n",
       "      <td>0</td>\n",
       "      <td>0</td>\n",
       "    </tr>\n",
       "    <tr>\n",
       "      <th>2</th>\n",
       "      <td>0.000552</td>\n",
       "      <td>0.014897</td>\n",
       "      <td>2</td>\n",
       "      <td>0</td>\n",
       "      <td>0</td>\n",
       "      <td>0</td>\n",
       "      <td>0</td>\n",
       "      <td>0</td>\n",
       "      <td>0</td>\n",
       "      <td>0</td>\n",
       "      <td>...</td>\n",
       "      <td>0</td>\n",
       "      <td>0</td>\n",
       "      <td>0</td>\n",
       "      <td>0</td>\n",
       "      <td>0</td>\n",
       "      <td>0</td>\n",
       "      <td>0</td>\n",
       "      <td>0</td>\n",
       "      <td>0</td>\n",
       "      <td>0</td>\n",
       "    </tr>\n",
       "  </tbody>\n",
       "</table>\n",
       "<p>3 rows × 286 columns</p>\n",
       "</div>"
      ],
      "text/plain": [
       "   diff_lng  diff_lat  row_id  is_holiday  is_weekend  is_rushhour  \\\n",
       "0  0.010750  0.024540       0           0           1            0   \n",
       "1  0.008509  0.019479       1           0           0            0   \n",
       "2  0.000552  0.014897       2           0           0            0   \n",
       "\n",
       "   start_lng_-7448  start_lng_-7445  start_lng_-7444  start_lng_-7443  \\\n",
       "0                0                0                0                0   \n",
       "1                0                0                0                0   \n",
       "2                0                0                0                0   \n",
       "\n",
       "       ...       end_lat_4094  end_lat_4095  end_lat_4096  end_lat_4097  \\\n",
       "0      ...                  0             0             0             0   \n",
       "1      ...                  0             0             0             0   \n",
       "2      ...                  0             0             0             0   \n",
       "\n",
       "   end_lat_4098  end_lat_4099  end_lat_4100  end_lat_4101  end_lat_4102  \\\n",
       "0             0             0             0             0             0   \n",
       "1             0             0             0             0             0   \n",
       "2             0             0             0             0             0   \n",
       "\n",
       "   end_lat_4103  \n",
       "0             0  \n",
       "1             0  \n",
       "2             0  \n",
       "\n",
       "[3 rows x 286 columns]"
      ]
     },
     "execution_count": 42,
     "metadata": {},
     "output_type": "execute_result"
    }
   ],
   "source": [
    "test_norm.head(3)"
   ]
  },
  {
   "cell_type": "code",
   "execution_count": 43,
   "metadata": {},
   "outputs": [
    {
     "data": {
      "text/html": [
       "<div>\n",
       "<style>\n",
       "    .dataframe thead tr:only-child th {\n",
       "        text-align: right;\n",
       "    }\n",
       "\n",
       "    .dataframe thead th {\n",
       "        text-align: left;\n",
       "    }\n",
       "\n",
       "    .dataframe tbody tr th {\n",
       "        vertical-align: top;\n",
       "    }\n",
       "</style>\n",
       "<table border=\"1\" class=\"dataframe\">\n",
       "  <thead>\n",
       "    <tr style=\"text-align: right;\">\n",
       "      <th></th>\n",
       "      <th>diff_lng</th>\n",
       "      <th>diff_lat</th>\n",
       "      <th>duration</th>\n",
       "      <th>is_holiday</th>\n",
       "      <th>is_weekend</th>\n",
       "      <th>is_rushhour</th>\n",
       "      <th>start_lng_-7448</th>\n",
       "      <th>start_lng_-7445</th>\n",
       "      <th>start_lng_-7444</th>\n",
       "      <th>start_lng_-7443</th>\n",
       "      <th>...</th>\n",
       "      <th>end_lat_4094</th>\n",
       "      <th>end_lat_4095</th>\n",
       "      <th>end_lat_4096</th>\n",
       "      <th>end_lat_4097</th>\n",
       "      <th>end_lat_4098</th>\n",
       "      <th>end_lat_4099</th>\n",
       "      <th>end_lat_4100</th>\n",
       "      <th>end_lat_4101</th>\n",
       "      <th>end_lat_4102</th>\n",
       "      <th>end_lat_4103</th>\n",
       "    </tr>\n",
       "  </thead>\n",
       "  <tbody>\n",
       "    <tr>\n",
       "      <th>0</th>\n",
       "      <td>0.006507</td>\n",
       "      <td>0.013845</td>\n",
       "      <td>112</td>\n",
       "      <td>0</td>\n",
       "      <td>1</td>\n",
       "      <td>0</td>\n",
       "      <td>0</td>\n",
       "      <td>0</td>\n",
       "      <td>0</td>\n",
       "      <td>0</td>\n",
       "      <td>...</td>\n",
       "      <td>0</td>\n",
       "      <td>0</td>\n",
       "      <td>0</td>\n",
       "      <td>0</td>\n",
       "      <td>0</td>\n",
       "      <td>0</td>\n",
       "      <td>0</td>\n",
       "      <td>0</td>\n",
       "      <td>0</td>\n",
       "      <td>0</td>\n",
       "    </tr>\n",
       "    <tr>\n",
       "      <th>1</th>\n",
       "      <td>0.045108</td>\n",
       "      <td>0.044387</td>\n",
       "      <td>1159</td>\n",
       "      <td>0</td>\n",
       "      <td>1</td>\n",
       "      <td>0</td>\n",
       "      <td>0</td>\n",
       "      <td>0</td>\n",
       "      <td>0</td>\n",
       "      <td>0</td>\n",
       "      <td>...</td>\n",
       "      <td>0</td>\n",
       "      <td>0</td>\n",
       "      <td>0</td>\n",
       "      <td>0</td>\n",
       "      <td>0</td>\n",
       "      <td>0</td>\n",
       "      <td>0</td>\n",
       "      <td>0</td>\n",
       "      <td>0</td>\n",
       "      <td>0</td>\n",
       "    </tr>\n",
       "    <tr>\n",
       "      <th>2</th>\n",
       "      <td>0.006809</td>\n",
       "      <td>0.023409</td>\n",
       "      <td>281</td>\n",
       "      <td>0</td>\n",
       "      <td>0</td>\n",
       "      <td>0</td>\n",
       "      <td>0</td>\n",
       "      <td>0</td>\n",
       "      <td>0</td>\n",
       "      <td>0</td>\n",
       "      <td>...</td>\n",
       "      <td>0</td>\n",
       "      <td>0</td>\n",
       "      <td>0</td>\n",
       "      <td>0</td>\n",
       "      <td>0</td>\n",
       "      <td>0</td>\n",
       "      <td>0</td>\n",
       "      <td>0</td>\n",
       "      <td>0</td>\n",
       "      <td>0</td>\n",
       "    </tr>\n",
       "  </tbody>\n",
       "</table>\n",
       "<p>3 rows × 286 columns</p>\n",
       "</div>"
      ],
      "text/plain": [
       "   diff_lng  diff_lat  duration  is_holiday  is_weekend  is_rushhour  \\\n",
       "0  0.006507  0.013845       112           0           1            0   \n",
       "1  0.045108  0.044387      1159           0           1            0   \n",
       "2  0.006809  0.023409       281           0           0            0   \n",
       "\n",
       "   start_lng_-7448  start_lng_-7445  start_lng_-7444  start_lng_-7443  \\\n",
       "0                0                0                0                0   \n",
       "1                0                0                0                0   \n",
       "2                0                0                0                0   \n",
       "\n",
       "       ...       end_lat_4094  end_lat_4095  end_lat_4096  end_lat_4097  \\\n",
       "0      ...                  0             0             0             0   \n",
       "1      ...                  0             0             0             0   \n",
       "2      ...                  0             0             0             0   \n",
       "\n",
       "   end_lat_4098  end_lat_4099  end_lat_4100  end_lat_4101  end_lat_4102  \\\n",
       "0             0             0             0             0             0   \n",
       "1             0             0             0             0             0   \n",
       "2             0             0             0             0             0   \n",
       "\n",
       "   end_lat_4103  \n",
       "0             0  \n",
       "1             0  \n",
       "2             0  \n",
       "\n",
       "[3 rows x 286 columns]"
      ]
     },
     "execution_count": 43,
     "metadata": {},
     "output_type": "execute_result"
    }
   ],
   "source": [
    "train_norm.head(3)"
   ]
  },
  {
   "cell_type": "markdown",
   "metadata": {},
   "source": [
    "### Create features"
   ]
  },
  {
   "cell_type": "code",
   "execution_count": 44,
   "metadata": {
    "collapsed": true
   },
   "outputs": [],
   "source": [
    "features = [i for i in train_norm.columns.tolist() if i != 'duration']"
   ]
  },
  {
   "cell_type": "code",
   "execution_count": 45,
   "metadata": {
    "collapsed": true
   },
   "outputs": [],
   "source": [
    "# First tried KNN\n",
    "\n",
    "from sklearn.neighbors import KNeighborsRegressor\n",
    "\n",
    "if False:\n",
    "    train_norm, validation_norm = train_test_split(train_norm, test_size=0.2)\n",
    "    knr = KNeighborsRegressor()\n",
    "    knr.fit(train_norm[features], train_norm['duration'])\n",
    "    predictions = knr.predict(validation_norm[features])"
   ]
  },
  {
   "cell_type": "code",
   "execution_count": 46,
   "metadata": {
    "collapsed": true
   },
   "outputs": [],
   "source": [
    "# Second tried RandomForestRegressor\n",
    "\n",
    "from sklearn.ensemble import RandomForestRegressor\n",
    "from sklearn.model_selection import GridSearchCV\n",
    "\n",
    "if False:\n",
    "    model = RandomForestRegressor(n_jobs=-1, criterion='mae')\n",
    "    model.fit(train_norm[features], train_norm['duration'])\n",
    "    predictions = model.predict(validation_norm[features])"
   ]
  },
  {
   "cell_type": "code",
   "execution_count": 47,
   "metadata": {
    "collapsed": true
   },
   "outputs": [],
   "source": [
    "from sklearn.linear_model import LinearRegression\n",
    "from sklearn.model_selection import train_test_split\n",
    "\n",
    "if True:\n",
    "    train_model, validation_model = train_test_split(train_model, test_size=0.1)\n",
    "\n",
    "    lr = LinearRegression()\n",
    "    lr.fit(train_model[features], train_model['duration'])\n",
    "    predictions = lr.predict(validation_model[features])\n",
    "    results = lr.predict(test_norm[features])\n",
    "    final = test_norm[['row_id', 'is_holiday']].join(pd.DataFrame(results, columns=['duration']))\n",
    "    final.to_csv('ETA_test_lr_0.2_6.csv')"
   ]
  },
  {
   "cell_type": "code",
   "execution_count": 48,
   "metadata": {
    "collapsed": true
   },
   "outputs": [],
   "source": [
    "from sklearn.linear_model import RidgeCV\n",
    "\n",
    "if False:\n",
    "    \n",
    "    rcv = RidgeCV(alphas=(0.01, 0.1, 1.0, 10.0), scoring='neg_mean_absolute_error', cv=8)\n",
    "    train_model, validation_model = train_test_split(train_model, test_size=0.1)\n",
    "\n",
    "    rcv_fit = rcv.fit(train_norm[features], train_norm['duration'])\n",
    "    predictions = rcv_fit.predict(validation_norm[features])\n",
    "    results = rcv_fit.predict(test_norm[features])\n",
    "    final = test_norm[['row_id', 'is_holiday']].join(pd.DataFrame(results, columns=['duration']))\n",
    "final.to_csv('ETA_test_cv_0.2.csv')"
   ]
  },
  {
   "cell_type": "code",
   "execution_count": 49,
   "metadata": {},
   "outputs": [
    {
     "name": "stdout",
     "output_type": "stream",
     "text": [
      "Metric for error l1: 287.306.\n"
     ]
    }
   ],
   "source": [
    "s = 0\n",
    "count = 0\n",
    "for i, j in zip(predictions, validation_model['duration']):\n",
    "    count += 1\n",
    "    s += abs(i - j)\n",
    "    \n",
    "print('Metric for error l1: %.3f.'%(s / count))"
   ]
  },
  {
   "cell_type": "markdown",
   "metadata": {
    "collapsed": true
   },
   "source": [
    "### Thank you.\n",
    "### Have a great day."
   ]
  }
 ],
 "metadata": {
  "kernelspec": {
   "display_name": "Python 3",
   "language": "python",
   "name": "python3"
  },
  "language_info": {
   "codemirror_mode": {
    "name": "ipython",
    "version": 3
   },
   "file_extension": ".py",
   "mimetype": "text/x-python",
   "name": "python",
   "nbconvert_exporter": "python",
   "pygments_lexer": "ipython3",
   "version": "3.6.3"
  }
 },
 "nbformat": 4,
 "nbformat_minor": 2
}
